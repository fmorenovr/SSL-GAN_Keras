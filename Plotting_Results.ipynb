{
 "cells": [
  {
   "cell_type": "markdown",
   "id": "5c01b668",
   "metadata": {},
   "source": [
    "## Plotting"
   ]
  },
  {
   "cell_type": "code",
   "execution_count": null,
   "id": "22927eb7",
   "metadata": {},
   "outputs": [],
   "source": [
    "import pandas as pd"
   ]
  },
  {
   "cell_type": "code",
   "execution_count": null,
   "id": "3841306d",
   "metadata": {},
   "outputs": [],
   "source": [
    "from utils import verifyDir"
   ]
  },
  {
   "cell_type": "code",
   "execution_count": null,
   "id": "f74f186c",
   "metadata": {},
   "outputs": [],
   "source": [
    "dataset_name=\"CIFAR10\"\n",
    "labeled_samples=4000"
   ]
  },
  {
   "cell_type": "code",
   "execution_count": null,
   "id": "400df1aa",
   "metadata": {},
   "outputs": [],
   "source": [
    "LOG_PATH = f\"Logs/SSGAN_{dataset_name}/Classifier_{labeled_samples}/\"\n",
    "verifyDir(LOG_PATH)"
   ]
  },
  {
   "cell_type": "code",
   "execution_count": null,
   "id": "d40d2d60",
   "metadata": {},
   "outputs": [],
   "source": [
    "results_file = pd.read_csv(f\"{LOG_PATH}SSL_GAN.csv\", sep=\";\")"
   ]
  },
  {
   "cell_type": "code",
   "execution_count": null,
   "id": "879a3dc4",
   "metadata": {},
   "outputs": [],
   "source": [
    "log_file = results_file.iloc[:,1:]\n",
    "log_file"
   ]
  },
  {
   "cell_type": "code",
   "execution_count": null,
   "id": "39bb0e46",
   "metadata": {},
   "outputs": [],
   "source": [
    "last_step=log_file.shape[0]\n",
    "last_step"
   ]
  },
  {
   "cell_type": "code",
   "execution_count": null,
   "id": "63e8680f",
   "metadata": {},
   "outputs": [],
   "source": [
    "# log_file[[\"unsupervised_real_acc\",\"unsupervised_fake_loss\"]] = log_file[\"unsupervised_real_acc\"].str.split(\"                          \",expand=True,)"
   ]
  },
  {
   "cell_type": "code",
   "execution_count": null,
   "id": "628a7d15",
   "metadata": {},
   "outputs": [],
   "source": [
    "fig = log_file[[\"train_acc\", \"test_acc\"]].plot(figsize=(16,12), ylim=(0,100), yticks=range(0,110,5), xticks=range(0,last_step,5000), rot=45).get_figure()\n",
    "fig.savefig(f'{LOG_PATH}GAN_train_test_acc.png')"
   ]
  },
  {
   "cell_type": "code",
   "execution_count": null,
   "id": "8a6d17e0",
   "metadata": {},
   "outputs": [],
   "source": [
    "fig = log_file[[\"generator_loss\", \"unsupervised_real_loss\", \"unsupervised_fake_loss\", \"supervised_loss\"]].plot(figsize=(16,12)).get_figure()\n",
    "fig.savefig(f'{LOG_PATH}GAN_loss.png')"
   ]
  },
  {
   "cell_type": "code",
   "execution_count": null,
   "id": "22f1e20b",
   "metadata": {},
   "outputs": [],
   "source": [
    "fig = log_file[[\"train_loss\", \"test_loss\"]].plot(figsize=(16,12)).get_figure()\n",
    "fig.savefig(f'{LOG_PATH}GAN_train_test_loss.png')"
   ]
  },
  {
   "cell_type": "code",
   "execution_count": null,
   "id": "1392ad5f",
   "metadata": {},
   "outputs": [],
   "source": [
    "fig = log_file[[\"unsupervised_real_acc\", \"unsupervised_fake_acc\"]].plot(figsize=(16,12), ylim=(0,100), yticks=range(0,110,10)).get_figure()\n",
    "fig.savefig(f'{LOG_PATH}GAN_unsupervised_real_fake_acc.png')"
   ]
  }
 ],
 "metadata": {
  "kernelspec": {
   "display_name": "Python 3",
   "language": "python",
   "name": "python3"
  },
  "language_info": {
   "codemirror_mode": {
    "name": "ipython",
    "version": 3
   },
   "file_extension": ".py",
   "mimetype": "text/x-python",
   "name": "python",
   "nbconvert_exporter": "python",
   "pygments_lexer": "ipython3",
   "version": "3.7.10"
  }
 },
 "nbformat": 4,
 "nbformat_minor": 5
}
