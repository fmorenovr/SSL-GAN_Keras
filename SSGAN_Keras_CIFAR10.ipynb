{
 "cells": [
  {
   "cell_type": "code",
   "execution_count": 1,
   "id": "a09e486c",
   "metadata": {},
   "outputs": [],
   "source": [
    "import numpy as np\n",
    "import os\n",
    "import time"
   ]
  },
  {
   "cell_type": "code",
   "execution_count": 2,
   "id": "a5077c4a",
   "metadata": {},
   "outputs": [],
   "source": [
    "import keras"
   ]
  },
  {
   "cell_type": "code",
   "execution_count": 3,
   "id": "957f15a3",
   "metadata": {},
   "outputs": [
    {
     "data": {
      "text/plain": [
       "'2.4.3'"
      ]
     },
     "execution_count": 3,
     "metadata": {},
     "output_type": "execute_result"
    }
   ],
   "source": [
    "keras.__version__"
   ]
  },
  {
   "cell_type": "code",
   "execution_count": 4,
   "id": "e479c473",
   "metadata": {},
   "outputs": [],
   "source": [
    "# os.environ[\"CUDA_VISIBLE_DEVICES\"]=\"1\""
   ]
  },
  {
   "cell_type": "code",
   "execution_count": 5,
   "id": "3a207473",
   "metadata": {},
   "outputs": [],
   "source": [
    "#!pip install -q -U tensorflow-addons==0.11.2"
   ]
  },
  {
   "cell_type": "markdown",
   "id": "ac806c7a",
   "metadata": {},
   "source": [
    "### Utilities"
   ]
  },
  {
   "cell_type": "code",
   "execution_count": 6,
   "id": "2c569491",
   "metadata": {},
   "outputs": [],
   "source": [
    "from utils import verifyDir\n",
    "from utils.networks import normalize, unnormalize, plot_data"
   ]
  },
  {
   "cell_type": "markdown",
   "id": "9af3c765",
   "metadata": {},
   "source": [
    "### Dataset"
   ]
  },
  {
   "cell_type": "code",
   "execution_count": 7,
   "id": "4e460c23",
   "metadata": {},
   "outputs": [],
   "source": [
    "from utils.CIFAR10 import load_real_samples"
   ]
  },
  {
   "cell_type": "markdown",
   "id": "ffcc42eb",
   "metadata": {},
   "source": [
    "### Discriminator & Generator"
   ]
  },
  {
   "cell_type": "code",
   "execution_count": 8,
   "id": "da029db6",
   "metadata": {},
   "outputs": [],
   "source": [
    "from utils.CIFAR10 import define_discriminator\n",
    "from utils.CIFAR10 import define_generator"
   ]
  },
  {
   "cell_type": "markdown",
   "id": "7417a6ca",
   "metadata": {},
   "source": [
    "### Semi-Supervised GAN"
   ]
  },
  {
   "cell_type": "code",
   "execution_count": 9,
   "id": "0c5cec06",
   "metadata": {},
   "outputs": [],
   "source": [
    "from utils.networks import define_gan"
   ]
  },
  {
   "cell_type": "markdown",
   "id": "e6ea76a5",
   "metadata": {},
   "source": [
    "### Selecting sub-set "
   ]
  },
  {
   "cell_type": "code",
   "execution_count": 10,
   "id": "9fb6580e",
   "metadata": {},
   "outputs": [],
   "source": [
    "from utils.networks import select_supervised_samples, generate_real_samples\n",
    "from utils.networks import generate_fake_samples, generate_latent_points"
   ]
  },
  {
   "cell_type": "markdown",
   "id": "f9408523",
   "metadata": {},
   "source": [
    "### Training"
   ]
  },
  {
   "cell_type": "code",
   "execution_count": 11,
   "id": "7e26395d",
   "metadata": {},
   "outputs": [],
   "source": [
    "# train the generator and discriminator\n",
    "def train(generator_model, unsupervised_model, supervised_model, gan_model, dataset, dataset_test, \n",
    "          latent_dim=100, n_epochs=20, n_batch=100, percent_samples=1.0):\n",
    "    \n",
    "    # select supervised dataset\n",
    "    X_sup, y_sup = select_supervised_samples(dataset, percent_samples=percent_samples)\n",
    "    print(\"Sup samples:\", X_sup.shape, y_sup.shape)\n",
    "    \n",
    "    # calculate the number of batches per training epoch\n",
    "    bat_per_epo = int(dataset[0].shape[0] / n_batch)\n",
    "    \n",
    "    # calculate the number of training iterations\n",
    "    n_steps = bat_per_epo * n_epochs\n",
    "    print('n_epochs=%d, n_batch=%d, batch/epoch=%d, steps=%d' % (n_epochs, n_batch, bat_per_epo, n_steps))\n",
    "    \n",
    "    # manually enumerate epochs\n",
    "    f_history = open(f\"{LOG_PATH}SSL_GAN.csv\", \"w\")\n",
    "    f_history.write(\"step,generator_loss,unsupervised_real_loss,unsupervised_fake_loss,supervised_loss,supervised_acc,train_loss,test_loss,train_acc,test_acc\\n\")\n",
    "    \n",
    "    #for epoch in n_epochs:\n",
    "    #    for batch in range(bat_per_epo):\n",
    "    for step in range(1,n_steps+1):\n",
    "#         t_start = time.time()\n",
    "        # update supervised discriminator (c)\n",
    "        [Xsup_real, ysup_real], _ = generate_real_samples([X_sup, y_sup], n_batch)\n",
    "        c_loss, c_acc = supervised_model.train_on_batch(Xsup_real, ysup_real)\n",
    "        \n",
    "        # update unsupervised discriminator (d)\n",
    "        [X_real, _], y_real = generate_real_samples(dataset, n_batch)\n",
    "        d_loss1, real_acc = unsupervised_model.train_on_batch(X_real, y_real)\n",
    "        \n",
    "        X_fake, y_fake = generate_fake_samples(generator_model, latent_dim, n_batch)\n",
    "        d_loss2, fake_acc = unsupervised_model.train_on_batch(X_fake, y_fake)\n",
    "        \n",
    "        # update generator (g)\n",
    "        X_gan, y_gan = generate_latent_points(latent_dim, n_batch), np.ones((n_batch, 1))\n",
    "        g_loss = gan_model.train_on_batch(X_gan, y_gan)\n",
    "#         t_total = (time.time() - t_start)\n",
    "        # summarize loss on this batch\n",
    "    \n",
    "        # Train - Test\n",
    "        X_train, y_train = dataset\n",
    "        loss_train, acc_train = supervised_model.evaluate(X_train, y_train, verbose=0)\n",
    "\n",
    "        # evaluate the test classifier model\n",
    "        X_test, y_test = dataset_test\n",
    "        loss_test, acc_test = supervised_model.evaluate(X_test, y_test, verbose=0)\n",
    "        \n",
    "        # Log\n",
    "        print('epoch: %d | step: %d | Train: G_Loss: %.3f, ' \\\n",
    "              'D_unsup_loss_real: %.3f, D_unsup_acc_real:  %.2f, ' \\\n",
    "              'D_unsup_loss_fake: %.3f, D_unsup_acc_fake: %.2f, ' \\\n",
    "              'D_sup_loss: %.3f, D_sup_acc: %.2f ' \\\n",
    "              'Train acc: %.3f Test acc: %.3f ' %(int(step/bat_per_epo), step, g_loss,\n",
    "                                                d_loss1, real_acc*100,\n",
    "                                                d_loss2, fake_acc*100,\n",
    "                                                c_loss, c_acc*100,\n",
    "                                                 acc_train*100, acc_test*100))#, end = '\\r')\n",
    "        f_history.write(f\"{step},{g_loss},{d_loss1},{d_loss2},{c_loss},{c_acc*100},{loss_train},{loss_test},{acc_train*100},{acc_test*100}\\n\")\n",
    "        \n",
    "        if step==1:\n",
    "            plot_data(unnormalize(X_test).astype(int), 0, \"test\", grid_size = [10, 10], OUT_PATH=LOG_PATH)\n",
    "        # evaluate the model performance every so often\n",
    "        if (step) % (100) == 0 or step == 1:\n",
    "            #summarize_performance(step, generator_model, supervised_model, latent_dim, dataset, dataset_test)\n",
    "            # prepare fake examples\n",
    "            X_generated, _ = generate_fake_samples(generator_model, latent_dim, n_samples=100)\n",
    "            # scale from [-1,1] to [0,255]\n",
    "            plot_data(unnormalize(X_generated).astype(int), step, \"generated\", grid_size = [10, 10], OUT_PATH=LOG_PATH)\n",
    "            \n",
    "            X_train, y_train = dataset\n",
    "            _, acc = supervised_model.evaluate(X_train, y_train, verbose=0)\n",
    "            print('Train Classifier Accuracy: %.3f%%\\n' % (acc * 100))\n",
    "            \n",
    "            # evaluate the test classifier model\n",
    "            X_test, y_test = dataset_test\n",
    "            _, acc = supervised_model.evaluate(X_test, y_test, verbose=0)\n",
    "            print('Test Classifier Accuracy: %.3f%%\\n' % (acc * 100))\n",
    "            # save the generator model\n",
    "            filename2 = f'{LOG_PATH}generator_model_{step}.h5'\n",
    "            generator_model.save(filename2)\n",
    "            # save the classifier model\n",
    "            filename3 = f'{LOG_PATH}supervised_model_{step}.h5'\n",
    "            supervised_model.save(filename3)\n",
    "            print('>Saving models Generator: %s and Supervised: %s' % (filename2, filename3))\n",
    "    \n",
    "    f_history.close()"
   ]
  },
  {
   "cell_type": "markdown",
   "id": "bb4d9f44",
   "metadata": {},
   "source": [
    "### Parameters"
   ]
  },
  {
   "cell_type": "code",
   "execution_count": 12,
   "id": "1389eb41",
   "metadata": {},
   "outputs": [],
   "source": [
    "input_shape = (32, 32, 3)\n",
    "num_classes = 10\n",
    "\n",
    "learning_rate =  0.0002\n",
    "\n",
    "labeled_rate = 1.0\n",
    "labeled_samples = 50000*labeled_rate"
   ]
  },
  {
   "cell_type": "code",
   "execution_count": 13,
   "id": "45e13f6c",
   "metadata": {},
   "outputs": [],
   "source": [
    "LOG_PATH = f\"Logs/SSGAN_CIFAR10/Classifier_{int(labeled_samples)}/\"\n",
    "verifyDir(LOG_PATH)"
   ]
  },
  {
   "cell_type": "markdown",
   "id": "182bb54a",
   "metadata": {},
   "source": [
    "### Creating models"
   ]
  },
  {
   "cell_type": "code",
   "execution_count": 14,
   "id": "ad0b4edd",
   "metadata": {
    "scrolled": true
   },
   "outputs": [],
   "source": [
    "# create the discriminator models\n",
    "unsupervised_model, supervised_model = define_discriminator(in_shape=input_shape, n_classes=num_classes, learning_rate = learning_rate)\n",
    "# create the generator\n",
    "generator_model = define_generator(latent_dim=100)"
   ]
  },
  {
   "cell_type": "code",
   "execution_count": 15,
   "id": "a7c16f0d",
   "metadata": {},
   "outputs": [
    {
     "name": "stdout",
     "output_type": "stream",
     "text": [
      "Model: \"model\"\n",
      "_________________________________________________________________\n",
      "Layer (type)                 Output Shape              Param #   \n",
      "=================================================================\n",
      "input_1 (InputLayer)         [(None, 32, 32, 3)]       0         \n",
      "_________________________________________________________________\n",
      "conv2d (Conv2D)              (None, 32, 32, 64)        1792      \n",
      "_________________________________________________________________\n",
      "leaky_re_lu (LeakyReLU)      (None, 32, 32, 64)        0         \n",
      "_________________________________________________________________\n",
      "conv2d_1 (Conv2D)            (None, 16, 16, 128)       73856     \n",
      "_________________________________________________________________\n",
      "leaky_re_lu_1 (LeakyReLU)    (None, 16, 16, 128)       0         \n",
      "_________________________________________________________________\n",
      "conv2d_2 (Conv2D)            (None, 8, 8, 128)         147584    \n",
      "_________________________________________________________________\n",
      "leaky_re_lu_2 (LeakyReLU)    (None, 8, 8, 128)         0         \n",
      "_________________________________________________________________\n",
      "conv2d_3 (Conv2D)            (None, 4, 4, 256)         295168    \n",
      "_________________________________________________________________\n",
      "leaky_re_lu_3 (LeakyReLU)    (None, 4, 4, 256)         0         \n",
      "_________________________________________________________________\n",
      "flatten (Flatten)            (None, 4096)              0         \n",
      "_________________________________________________________________\n",
      "dropout (Dropout)            (None, 4096)              0         \n",
      "_________________________________________________________________\n",
      "dense (Dense)                (None, 10)                40970     \n",
      "_________________________________________________________________\n",
      "activation (Activation)      (None, 10)                0         \n",
      "=================================================================\n",
      "Total params: 559,370\n",
      "Trainable params: 559,370\n",
      "Non-trainable params: 0\n",
      "_________________________________________________________________\n"
     ]
    }
   ],
   "source": [
    "supervised_model.summary()"
   ]
  },
  {
   "cell_type": "code",
   "execution_count": 16,
   "id": "2e3a9e50",
   "metadata": {},
   "outputs": [
    {
     "name": "stdout",
     "output_type": "stream",
     "text": [
      "Model: \"model_1\"\n",
      "_________________________________________________________________\n",
      "Layer (type)                 Output Shape              Param #   \n",
      "=================================================================\n",
      "input_1 (InputLayer)         [(None, 32, 32, 3)]       0         \n",
      "_________________________________________________________________\n",
      "conv2d (Conv2D)              (None, 32, 32, 64)        1792      \n",
      "_________________________________________________________________\n",
      "leaky_re_lu (LeakyReLU)      (None, 32, 32, 64)        0         \n",
      "_________________________________________________________________\n",
      "conv2d_1 (Conv2D)            (None, 16, 16, 128)       73856     \n",
      "_________________________________________________________________\n",
      "leaky_re_lu_1 (LeakyReLU)    (None, 16, 16, 128)       0         \n",
      "_________________________________________________________________\n",
      "conv2d_2 (Conv2D)            (None, 8, 8, 128)         147584    \n",
      "_________________________________________________________________\n",
      "leaky_re_lu_2 (LeakyReLU)    (None, 8, 8, 128)         0         \n",
      "_________________________________________________________________\n",
      "conv2d_3 (Conv2D)            (None, 4, 4, 256)         295168    \n",
      "_________________________________________________________________\n",
      "leaky_re_lu_3 (LeakyReLU)    (None, 4, 4, 256)         0         \n",
      "_________________________________________________________________\n",
      "flatten (Flatten)            (None, 4096)              0         \n",
      "_________________________________________________________________\n",
      "dropout (Dropout)            (None, 4096)              0         \n",
      "_________________________________________________________________\n",
      "dense (Dense)                (None, 10)                40970     \n",
      "_________________________________________________________________\n",
      "lambda (Lambda)              (None, 1)                 0         \n",
      "=================================================================\n",
      "Total params: 559,370\n",
      "Trainable params: 559,370\n",
      "Non-trainable params: 0\n",
      "_________________________________________________________________\n"
     ]
    }
   ],
   "source": [
    "unsupervised_model.summary()"
   ]
  },
  {
   "cell_type": "code",
   "execution_count": 17,
   "id": "3a2c913e",
   "metadata": {},
   "outputs": [
    {
     "name": "stdout",
     "output_type": "stream",
     "text": [
      "Model: \"model_2\"\n",
      "_________________________________________________________________\n",
      "Layer (type)                 Output Shape              Param #   \n",
      "=================================================================\n",
      "input_2 (InputLayer)         [(None, 100)]             0         \n",
      "_________________________________________________________________\n",
      "dense_1 (Dense)              (None, 4096)              413696    \n",
      "_________________________________________________________________\n",
      "leaky_re_lu_4 (LeakyReLU)    (None, 4096)              0         \n",
      "_________________________________________________________________\n",
      "reshape (Reshape)            (None, 4, 4, 256)         0         \n",
      "_________________________________________________________________\n",
      "conv2d_transpose (Conv2DTran (None, 8, 8, 128)         524416    \n",
      "_________________________________________________________________\n",
      "leaky_re_lu_5 (LeakyReLU)    (None, 8, 8, 128)         0         \n",
      "_________________________________________________________________\n",
      "conv2d_transpose_1 (Conv2DTr (None, 16, 16, 128)       262272    \n",
      "_________________________________________________________________\n",
      "leaky_re_lu_6 (LeakyReLU)    (None, 16, 16, 128)       0         \n",
      "_________________________________________________________________\n",
      "conv2d_transpose_2 (Conv2DTr (None, 32, 32, 128)       262272    \n",
      "_________________________________________________________________\n",
      "leaky_re_lu_7 (LeakyReLU)    (None, 32, 32, 128)       0         \n",
      "_________________________________________________________________\n",
      "conv2d_4 (Conv2D)            (None, 32, 32, 3)         3459      \n",
      "=================================================================\n",
      "Total params: 1,466,115\n",
      "Trainable params: 1,466,115\n",
      "Non-trainable params: 0\n",
      "_________________________________________________________________\n"
     ]
    }
   ],
   "source": [
    "generator_model.summary()"
   ]
  },
  {
   "cell_type": "code",
   "execution_count": 18,
   "id": "9b591f12",
   "metadata": {},
   "outputs": [],
   "source": [
    "# create the gan\n",
    "gan_model = define_gan(generator_model, unsupervised_model, learning_rate = learning_rate)"
   ]
  },
  {
   "cell_type": "code",
   "execution_count": 19,
   "id": "187649bc",
   "metadata": {
    "scrolled": true
   },
   "outputs": [
    {
     "name": "stdout",
     "output_type": "stream",
     "text": [
      "Model: \"model_3\"\n",
      "_________________________________________________________________\n",
      "Layer (type)                 Output Shape              Param #   \n",
      "=================================================================\n",
      "input_2 (InputLayer)         [(None, 100)]             0         \n",
      "_________________________________________________________________\n",
      "dense_1 (Dense)              (None, 4096)              413696    \n",
      "_________________________________________________________________\n",
      "leaky_re_lu_4 (LeakyReLU)    (None, 4096)              0         \n",
      "_________________________________________________________________\n",
      "reshape (Reshape)            (None, 4, 4, 256)         0         \n",
      "_________________________________________________________________\n",
      "conv2d_transpose (Conv2DTran (None, 8, 8, 128)         524416    \n",
      "_________________________________________________________________\n",
      "leaky_re_lu_5 (LeakyReLU)    (None, 8, 8, 128)         0         \n",
      "_________________________________________________________________\n",
      "conv2d_transpose_1 (Conv2DTr (None, 16, 16, 128)       262272    \n",
      "_________________________________________________________________\n",
      "leaky_re_lu_6 (LeakyReLU)    (None, 16, 16, 128)       0         \n",
      "_________________________________________________________________\n",
      "conv2d_transpose_2 (Conv2DTr (None, 32, 32, 128)       262272    \n",
      "_________________________________________________________________\n",
      "leaky_re_lu_7 (LeakyReLU)    (None, 32, 32, 128)       0         \n",
      "_________________________________________________________________\n",
      "conv2d_4 (Conv2D)            (None, 32, 32, 3)         3459      \n",
      "_________________________________________________________________\n",
      "model_1 (Model)              (None, 1)                 559370    \n",
      "=================================================================\n",
      "Total params: 2,025,485\n",
      "Trainable params: 1,466,115\n",
      "Non-trainable params: 559,370\n",
      "_________________________________________________________________\n"
     ]
    }
   ],
   "source": [
    "gan_model.summary()"
   ]
  },
  {
   "cell_type": "markdown",
   "id": "44673ab8",
   "metadata": {},
   "source": [
    "### Loading Dataset"
   ]
  },
  {
   "cell_type": "code",
   "execution_count": 20,
   "id": "a000953d",
   "metadata": {},
   "outputs": [
    {
     "name": "stdout",
     "output_type": "stream",
     "text": [
      "(50000, 32, 32, 3) (50000,) (10000, 32, 32, 3) (10000,)\n"
     ]
    }
   ],
   "source": [
    "# load image data\n",
    "dataset, dataset_test = load_real_samples()"
   ]
  },
  {
   "cell_type": "markdown",
   "id": "a680572f",
   "metadata": {},
   "source": [
    "### Training"
   ]
  },
  {
   "cell_type": "code",
   "execution_count": null,
   "id": "ec0ab1f9",
   "metadata": {
    "scrolled": true
   },
   "outputs": [
    {
     "name": "stdout",
     "output_type": "stream",
     "text": [
      "Sup samples: (50000, 32, 32, 3) (50000,)\n",
      "n_epochs=300, n_batch=128, batch/epoch=390, steps=117000\n",
      "epoch: 0 | step: 1 | Train: G_Loss: 0.095, D_unsup_loss_real: 0.094, D_unsup_acc_real:  100.00, D_unsup_loss_fake: 2.400, D_unsup_acc_fake: 0.00, D_sup_loss: 2.312, D_sup_acc: 7.81 Train acc: 10.798 Test acc: 10.570 \n",
      "Train Classifier Accuracy: 10.798%\n",
      "\n",
      "Test Classifier Accuracy: 10.570%\n",
      "\n",
      ">Saving models Generator: Logs/SSGAN_CIFAR10/Classifier_50000/generator_model_1.h5 and Supervised: Logs/SSGAN_CIFAR10/Classifier_50000/supervised_model_1.h5\n",
      "epoch: 0 | step: 2 | Train: G_Loss: 0.095, D_unsup_loss_real: 0.091, D_unsup_acc_real:  100.00, D_unsup_loss_fake: 2.399, D_unsup_acc_fake: 0.00, D_sup_loss: 2.301, D_sup_acc: 10.54 Train acc: 13.200 Test acc: 13.400 \n",
      "epoch: 0 | step: 3 | Train: G_Loss: 0.096, D_unsup_loss_real: 0.088, D_unsup_acc_real:  100.00, D_unsup_loss_fake: 2.398, D_unsup_acc_fake: 0.00, D_sup_loss: 2.294, D_sup_acc: 13.42 Train acc: 14.500 Test acc: 14.190 \n",
      "epoch: 0 | step: 4 | Train: G_Loss: 0.096, D_unsup_loss_real: 0.083, D_unsup_acc_real:  100.00, D_unsup_loss_fake: 2.396, D_unsup_acc_fake: 0.00, D_sup_loss: 2.287, D_sup_acc: 14.13 Train acc: 14.846 Test acc: 14.770 \n",
      "epoch: 0 | step: 5 | Train: G_Loss: 0.096, D_unsup_loss_real: 0.075, D_unsup_acc_real:  100.00, D_unsup_loss_fake: 2.394, D_unsup_acc_fake: 0.00, D_sup_loss: 2.276, D_sup_acc: 14.73 Train acc: 15.046 Test acc: 15.340 \n",
      "epoch: 0 | step: 6 | Train: G_Loss: 0.097, D_unsup_loss_real: 0.063, D_unsup_acc_real:  100.00, D_unsup_loss_fake: 2.394, D_unsup_acc_fake: 0.00, D_sup_loss: 2.263, D_sup_acc: 15.31 Train acc: 16.678 Test acc: 17.070 \n",
      "epoch: 0 | step: 7 | Train: G_Loss: 0.098, D_unsup_loss_real: 0.047, D_unsup_acc_real:  100.00, D_unsup_loss_fake: 2.397, D_unsup_acc_fake: 0.00, D_sup_loss: 2.242, D_sup_acc: 17.10 Train acc: 17.944 Test acc: 18.410 \n",
      "epoch: 0 | step: 8 | Train: G_Loss: 0.099, D_unsup_loss_real: 0.033, D_unsup_acc_real:  100.00, D_unsup_loss_fake: 2.393, D_unsup_acc_fake: 0.00, D_sup_loss: 2.223, D_sup_acc: 18.42 Train acc: 14.472 Test acc: 14.470 \n",
      "epoch: 0 | step: 9 | Train: G_Loss: 0.103, D_unsup_loss_real: 0.031, D_unsup_acc_real:  100.00, D_unsup_loss_fake: 2.363, D_unsup_acc_fake: 0.00, D_sup_loss: 2.228, D_sup_acc: 14.51 Train acc: 13.536 Test acc: 13.650 \n",
      "epoch: 0 | step: 10 | Train: G_Loss: 0.108, D_unsup_loss_real: 0.027, D_unsup_acc_real:  100.00, D_unsup_loss_fake: 2.326, D_unsup_acc_fake: 0.00, D_sup_loss: 2.265, D_sup_acc: 13.67 Train acc: 15.122 Test acc: 15.320 \n",
      "epoch: 0 | step: 11 | Train: G_Loss: 0.112, D_unsup_loss_real: 0.025, D_unsup_acc_real:  100.00, D_unsup_loss_fake: 2.292, D_unsup_acc_fake: 0.00, D_sup_loss: 2.235, D_sup_acc: 15.23 Train acc: 20.410 Test acc: 20.420 \n",
      "epoch: 0 | step: 12 | Train: G_Loss: 0.115, D_unsup_loss_real: 0.019, D_unsup_acc_real:  100.00, D_unsup_loss_fake: 2.267, D_unsup_acc_fake: 0.00, D_sup_loss: 2.176, D_sup_acc: 20.42 Train acc: 20.814 Test acc: 20.560 \n",
      "epoch: 0 | step: 13 | Train: G_Loss: 0.120, D_unsup_loss_real: 0.012, D_unsup_acc_real:  100.00, D_unsup_loss_fake: 2.243, D_unsup_acc_fake: 0.00, D_sup_loss: 2.176, D_sup_acc: 20.52 Train acc: 21.614 Test acc: 21.810 \n",
      "epoch: 0 | step: 14 | Train: G_Loss: 0.127, D_unsup_loss_real: 0.007, D_unsup_acc_real:  100.00, D_unsup_loss_fake: 2.236, D_unsup_acc_fake: 0.00, D_sup_loss: 2.148, D_sup_acc: 21.77 Train acc: 23.424 Test acc: 24.220 \n",
      "epoch: 0 | step: 15 | Train: G_Loss: 0.144, D_unsup_loss_real: 0.006, D_unsup_acc_real:  100.00, D_unsup_loss_fake: 2.265, D_unsup_acc_fake: 0.00, D_sup_loss: 2.148, D_sup_acc: 24.24 Train acc: 21.396 Test acc: 21.280 \n",
      "epoch: 0 | step: 16 | Train: G_Loss: 0.210, D_unsup_loss_real: 0.009, D_unsup_acc_real:  100.00, D_unsup_loss_fake: 2.130, D_unsup_acc_fake: 0.00, D_sup_loss: 2.166, D_sup_acc: 21.25 Train acc: 17.072 Test acc: 17.010 \n",
      "epoch: 0 | step: 17 | Train: G_Loss: 0.317, D_unsup_loss_real: 0.022, D_unsup_acc_real:  100.00, D_unsup_loss_fake: 1.716, D_unsup_acc_fake: 0.00, D_sup_loss: 2.231, D_sup_acc: 17.05 Train acc: 14.534 Test acc: 14.330 \n",
      "epoch: 0 | step: 18 | Train: G_Loss: 0.338, D_unsup_loss_real: 0.046, D_unsup_acc_real:  100.00, D_unsup_loss_fake: 1.553, D_unsup_acc_fake: 0.00, D_sup_loss: 2.256, D_sup_acc: 14.26 Train acc: 21.768 Test acc: 21.650 \n",
      "epoch: 0 | step: 19 | Train: G_Loss: 0.433, D_unsup_loss_real: 0.023, D_unsup_acc_real:  100.00, D_unsup_loss_fake: 1.335, D_unsup_acc_fake: 0.00, D_sup_loss: 2.177, D_sup_acc: 21.59 Train acc: 23.206 Test acc: 23.280 \n",
      "epoch: 0 | step: 20 | Train: G_Loss: 0.703, D_unsup_loss_real: 0.013, D_unsup_acc_real:  100.00, D_unsup_loss_fake: 0.968, D_unsup_acc_fake: 0.00, D_sup_loss: 2.123, D_sup_acc: 23.28 Train acc: 24.096 Test acc: 24.250 \n",
      "epoch: 0 | step: 21 | Train: G_Loss: 1.213, D_unsup_loss_real: 0.011, D_unsup_acc_real:  100.00, D_unsup_loss_fake: 0.565, D_unsup_acc_fake: 100.00, D_sup_loss: 2.092, D_sup_acc: 24.24 Train acc: 24.244 Test acc: 24.570 \n",
      "epoch: 0 | step: 22 | Train: G_Loss: 1.857, D_unsup_loss_real: 0.032, D_unsup_acc_real:  99.22, D_unsup_loss_fake: 0.274, D_unsup_acc_fake: 100.00, D_sup_loss: 2.076, D_sup_acc: 24.56 Train acc: 22.186 Test acc: 22.830 \n",
      "epoch: 0 | step: 23 | Train: G_Loss: 2.449, D_unsup_loss_real: 0.059, D_unsup_acc_real:  97.66, D_unsup_loss_fake: 0.131, D_unsup_acc_fake: 100.00, D_sup_loss: 2.098, D_sup_acc: 22.81 Train acc: 23.504 Test acc: 23.810 \n",
      "epoch: 0 | step: 24 | Train: G_Loss: 3.023, D_unsup_loss_real: 0.017, D_unsup_acc_real:  100.00, D_unsup_loss_fake: 0.068, D_unsup_acc_fake: 100.00, D_sup_loss: 2.087, D_sup_acc: 23.81 Train acc: 25.068 Test acc: 25.660 \n",
      "epoch: 0 | step: 25 | Train: G_Loss: 3.382, D_unsup_loss_real: 0.007, D_unsup_acc_real:  100.00, D_unsup_loss_fake: 0.047, D_unsup_acc_fake: 100.00, D_sup_loss: 2.060, D_sup_acc: 25.58 Train acc: 26.430 Test acc: 26.880 \n",
      "epoch: 0 | step: 26 | Train: G_Loss: 3.255, D_unsup_loss_real: 0.118, D_unsup_acc_real:  94.53, D_unsup_loss_fake: 0.097, D_unsup_acc_fake: 100.00, D_sup_loss: 2.037, D_sup_acc: 26.82 Train acc: 23.356 Test acc: 23.730 \n",
      "epoch: 0 | step: 27 | Train: G_Loss: 5.581, D_unsup_loss_real: 0.004, D_unsup_acc_real:  100.00, D_unsup_loss_fake: 0.256, D_unsup_acc_fake: 100.00, D_sup_loss: 2.106, D_sup_acc: 23.66 Train acc: 24.780 Test acc: 25.670 \n",
      "epoch: 0 | step: 28 | Train: G_Loss: 3.945, D_unsup_loss_real: 0.353, D_unsup_acc_real:  85.94, D_unsup_loss_fake: 0.094, D_unsup_acc_fake: 100.00, D_sup_loss: 2.065, D_sup_acc: 25.67 Train acc: 25.276 Test acc: 25.520 \n",
      "epoch: 0 | step: 29 | Train: G_Loss: 10.167, D_unsup_loss_real: 0.007, D_unsup_acc_real:  100.00, D_unsup_loss_fake: 0.331, D_unsup_acc_fake: 94.53, D_sup_loss: 2.064, D_sup_acc: 25.43 Train acc: 23.518 Test acc: 24.350 \n",
      "epoch: 0 | step: 30 | Train: G_Loss: 10.659, D_unsup_loss_real: 0.307, D_unsup_acc_real:  91.41, D_unsup_loss_fake: 0.000, D_unsup_acc_fake: 100.00, D_sup_loss: 2.086, D_sup_acc: 24.29 Train acc: 23.690 Test acc: 24.430 \n",
      "epoch: 0 | step: 31 | Train: G_Loss: 4.935, D_unsup_loss_real: 0.178, D_unsup_acc_real:  92.97, D_unsup_loss_fake: 0.003, D_unsup_acc_fake: 100.00, D_sup_loss: 2.087, D_sup_acc: 24.46 Train acc: 25.304 Test acc: 25.670 \n",
      "epoch: 0 | step: 32 | Train: G_Loss: 12.863, D_unsup_loss_real: 0.077, D_unsup_acc_real:  96.88, D_unsup_loss_fake: 2.392, D_unsup_acc_fake: 4.69, D_sup_loss: 2.065, D_sup_acc: 25.57 Train acc: 21.434 Test acc: 22.010 \n",
      "epoch: 0 | step: 33 | Train: G_Loss: 12.738, D_unsup_loss_real: 0.368, D_unsup_acc_real:  89.06, D_unsup_loss_fake: 0.000, D_unsup_acc_fake: 100.00, D_sup_loss: 2.164, D_sup_acc: 21.99 Train acc: 24.720 Test acc: 25.230 \n",
      "epoch: 0 | step: 34 | Train: G_Loss: 7.687, D_unsup_loss_real: 0.185, D_unsup_acc_real:  92.19, D_unsup_loss_fake: 0.001, D_unsup_acc_fake: 100.00, D_sup_loss: 2.113, D_sup_acc: 25.29 Train acc: 26.556 Test acc: 27.600 \n",
      "epoch: 0 | step: 35 | Train: G_Loss: 3.736, D_unsup_loss_real: 0.210, D_unsup_acc_real:  89.84, D_unsup_loss_fake: 0.045, D_unsup_acc_fake: 100.00, D_sup_loss: 2.098, D_sup_acc: 27.55 Train acc: 26.046 Test acc: 26.810 \n",
      "epoch: 0 | step: 36 | Train: G_Loss: 6.759, D_unsup_loss_real: 0.148, D_unsup_acc_real:  92.97, D_unsup_loss_fake: 2.766, D_unsup_acc_fake: 6.25, D_sup_loss: 2.107, D_sup_acc: 26.75 Train acc: 27.332 Test acc: 28.270 \n"
     ]
    },
    {
     "name": "stdout",
     "output_type": "stream",
     "text": [
      "epoch: 0 | step: 37 | Train: G_Loss: 8.009, D_unsup_loss_real: 0.418, D_unsup_acc_real:  85.16, D_unsup_loss_fake: 0.003, D_unsup_acc_fake: 100.00, D_sup_loss: 2.034, D_sup_acc: 28.24 Train acc: 26.538 Test acc: 27.190 \n",
      "epoch: 0 | step: 38 | Train: G_Loss: 9.048, D_unsup_loss_real: 0.431, D_unsup_acc_real:  85.94, D_unsup_loss_fake: 0.487, D_unsup_acc_fake: 75.78, D_sup_loss: 2.010, D_sup_acc: 27.09 Train acc: 27.200 Test acc: 27.850 \n",
      "epoch: 0 | step: 39 | Train: G_Loss: 7.645, D_unsup_loss_real: 0.488, D_unsup_acc_real:  82.03, D_unsup_loss_fake: 0.004, D_unsup_acc_fake: 100.00, D_sup_loss: 1.994, D_sup_acc: 27.80 Train acc: 27.622 Test acc: 28.250 \n",
      "epoch: 0 | step: 40 | Train: G_Loss: 13.886, D_unsup_loss_real: 0.402, D_unsup_acc_real:  86.72, D_unsup_loss_fake: 0.511, D_unsup_acc_fake: 73.44, D_sup_loss: 1.983, D_sup_acc: 28.21 Train acc: 27.174 Test acc: 27.610 \n",
      "epoch: 0 | step: 41 | Train: G_Loss: 13.396, D_unsup_loss_real: 0.717, D_unsup_acc_real:  79.69, D_unsup_loss_fake: 0.000, D_unsup_acc_fake: 100.00, D_sup_loss: 1.991, D_sup_acc: 27.49 Train acc: 28.164 Test acc: 28.530 \n",
      "epoch: 0 | step: 42 | Train: G_Loss: 4.989, D_unsup_loss_real: 0.464, D_unsup_acc_real:  82.81, D_unsup_loss_fake: 0.006, D_unsup_acc_fake: 100.00, D_sup_loss: 1.984, D_sup_acc: 28.49 Train acc: 29.280 Test acc: 29.980 \n",
      "epoch: 0 | step: 43 | Train: G_Loss: 10.600, D_unsup_loss_real: 0.212, D_unsup_acc_real:  90.62, D_unsup_loss_fake: 5.326, D_unsup_acc_fake: 0.78, D_sup_loss: 1.973, D_sup_acc: 29.99 Train acc: 22.826 Test acc: 23.190 \n",
      "epoch: 0 | step: 44 | Train: G_Loss: 10.416, D_unsup_loss_real: 0.418, D_unsup_acc_real:  83.59, D_unsup_loss_fake: 0.000, D_unsup_acc_fake: 100.00, D_sup_loss: 2.072, D_sup_acc: 23.13 Train acc: 22.634 Test acc: 22.880 \n",
      "epoch: 0 | step: 45 | Train: G_Loss: 6.165, D_unsup_loss_real: 0.376, D_unsup_acc_real:  85.16, D_unsup_loss_fake: 0.372, D_unsup_acc_fake: 93.75, D_sup_loss: 2.077, D_sup_acc: 22.82 Train acc: 24.898 Test acc: 25.690 \n",
      "epoch: 0 | step: 46 | Train: G_Loss: 8.605, D_unsup_loss_real: 0.210, D_unsup_acc_real:  89.84, D_unsup_loss_fake: 1.767, D_unsup_acc_fake: 6.25, D_sup_loss: 2.022, D_sup_acc: 25.66 Train acc: 18.312 Test acc: 18.330 \n",
      "epoch: 0 | step: 47 | Train: G_Loss: 5.360, D_unsup_loss_real: 0.572, D_unsup_acc_real:  70.31, D_unsup_loss_fake: 0.067, D_unsup_acc_fake: 100.00, D_sup_loss: 2.120, D_sup_acc: 18.41 Train acc: 20.852 Test acc: 21.390 \n",
      "epoch: 0 | step: 48 | Train: G_Loss: 4.282, D_unsup_loss_real: 0.130, D_unsup_acc_real:  96.09, D_unsup_loss_fake: 3.630, D_unsup_acc_fake: 0.78, D_sup_loss: 2.073, D_sup_acc: 21.48 Train acc: 23.104 Test acc: 23.460 \n",
      "epoch: 0 | step: 49 | Train: G_Loss: 6.061, D_unsup_loss_real: 0.266, D_unsup_acc_real:  88.28, D_unsup_loss_fake: 0.813, D_unsup_acc_fake: 35.94, D_sup_loss: 2.054, D_sup_acc: 23.39 Train acc: 23.244 Test acc: 23.890 \n",
      "epoch: 0 | step: 50 | Train: G_Loss: 4.170, D_unsup_loss_real: 0.600, D_unsup_acc_real:  68.75, D_unsup_loss_fake: 0.323, D_unsup_acc_fake: 100.00, D_sup_loss: 2.060, D_sup_acc: 23.83 Train acc: 26.622 Test acc: 27.020 \n",
      "epoch: 0 | step: 51 | Train: G_Loss: 3.961, D_unsup_loss_real: 0.497, D_unsup_acc_real:  70.31, D_unsup_loss_fake: 0.713, D_unsup_acc_fake: 44.53, D_sup_loss: 2.021, D_sup_acc: 26.96 Train acc: 27.902 Test acc: 28.360 \n",
      "epoch: 0 | step: 52 | Train: G_Loss: 3.702, D_unsup_loss_real: 0.376, D_unsup_acc_real:  85.16, D_unsup_loss_fake: 0.181, D_unsup_acc_fake: 100.00, D_sup_loss: 2.004, D_sup_acc: 28.35 Train acc: 28.922 Test acc: 29.030 \n",
      "epoch: 0 | step: 53 | Train: G_Loss: 3.592, D_unsup_loss_real: 0.242, D_unsup_acc_real:  90.62, D_unsup_loss_fake: 0.250, D_unsup_acc_fake: 100.00, D_sup_loss: 1.994, D_sup_acc: 28.95 Train acc: 29.582 Test acc: 29.740 \n",
      "epoch: 0 | step: 54 | Train: G_Loss: 3.599, D_unsup_loss_real: 0.306, D_unsup_acc_real:  85.94, D_unsup_loss_fake: 0.175, D_unsup_acc_fake: 100.00, D_sup_loss: 1.979, D_sup_acc: 29.74 Train acc: 29.850 Test acc: 30.290 \n",
      "epoch: 0 | step: 55 | Train: G_Loss: 3.743, D_unsup_loss_real: 0.311, D_unsup_acc_real:  85.94, D_unsup_loss_fake: 0.239, D_unsup_acc_fake: 100.00, D_sup_loss: 1.968, D_sup_acc: 30.19 Train acc: 30.394 Test acc: 30.940 \n",
      "epoch: 0 | step: 56 | Train: G_Loss: 3.784, D_unsup_loss_real: 0.289, D_unsup_acc_real:  87.50, D_unsup_loss_fake: 0.151, D_unsup_acc_fake: 100.00, D_sup_loss: 1.962, D_sup_acc: 30.90 Train acc: 30.708 Test acc: 31.610 \n",
      "epoch: 0 | step: 57 | Train: G_Loss: 3.654, D_unsup_loss_real: 0.455, D_unsup_acc_real:  78.91, D_unsup_loss_fake: 0.159, D_unsup_acc_fake: 100.00, D_sup_loss: 1.955, D_sup_acc: 31.55 Train acc: 31.306 Test acc: 31.690 \n",
      "epoch: 0 | step: 58 | Train: G_Loss: 3.650, D_unsup_loss_real: 0.302, D_unsup_acc_real:  85.94, D_unsup_loss_fake: 0.181, D_unsup_acc_fake: 100.00, D_sup_loss: 1.952, D_sup_acc: 31.64 Train acc: 31.588 Test acc: 32.360 \n",
      "epoch: 0 | step: 59 | Train: G_Loss: 3.829, D_unsup_loss_real: 0.428, D_unsup_acc_real:  80.47, D_unsup_loss_fake: 0.228, D_unsup_acc_fake: 100.00, D_sup_loss: 1.947, D_sup_acc: 32.21 Train acc: 32.422 Test acc: 33.100 \n",
      "epoch: 0 | step: 60 | Train: G_Loss: 3.559, D_unsup_loss_real: 0.403, D_unsup_acc_real:  77.34, D_unsup_loss_fake: 0.110, D_unsup_acc_fake: 100.00, D_sup_loss: 1.940, D_sup_acc: 33.02 Train acc: 32.558 Test acc: 33.240 \n",
      "epoch: 0 | step: 61 | Train: G_Loss: 3.329, D_unsup_loss_real: 0.470, D_unsup_acc_real:  75.78, D_unsup_loss_fake: 0.176, D_unsup_acc_fake: 100.00, D_sup_loss: 1.932, D_sup_acc: 33.25 Train acc: 32.760 Test acc: 33.500 \n",
      "epoch: 0 | step: 62 | Train: G_Loss: 3.556, D_unsup_loss_real: 0.257, D_unsup_acc_real:  85.94, D_unsup_loss_fake: 0.112, D_unsup_acc_fake: 100.00, D_sup_loss: 1.923, D_sup_acc: 33.46 Train acc: 32.642 Test acc: 33.410 \n",
      "epoch: 0 | step: 63 | Train: G_Loss: 3.511, D_unsup_loss_real: 0.286, D_unsup_acc_real:  84.38, D_unsup_loss_fake: 0.136, D_unsup_acc_fake: 100.00, D_sup_loss: 1.918, D_sup_acc: 33.31 Train acc: 32.638 Test acc: 33.400 \n",
      "epoch: 0 | step: 64 | Train: G_Loss: 3.582, D_unsup_loss_real: 0.224, D_unsup_acc_real:  90.62, D_unsup_loss_fake: 0.117, D_unsup_acc_fake: 100.00, D_sup_loss: 1.914, D_sup_acc: 33.37 Train acc: 32.382 Test acc: 33.270 \n",
      "epoch: 0 | step: 65 | Train: G_Loss: 3.975, D_unsup_loss_real: 0.324, D_unsup_acc_real:  87.50, D_unsup_loss_fake: 0.230, D_unsup_acc_fake: 100.00, D_sup_loss: 1.908, D_sup_acc: 33.31 Train acc: 32.802 Test acc: 33.720 \n",
      "epoch: 0 | step: 66 | Train: G_Loss: 4.211, D_unsup_loss_real: 0.266, D_unsup_acc_real:  86.72, D_unsup_loss_fake: 0.178, D_unsup_acc_fake: 100.00, D_sup_loss: 1.904, D_sup_acc: 33.68 Train acc: 32.842 Test acc: 33.510 \n",
      "epoch: 0 | step: 67 | Train: G_Loss: 4.462, D_unsup_loss_real: 0.314, D_unsup_acc_real:  85.16, D_unsup_loss_fake: 0.212, D_unsup_acc_fake: 100.00, D_sup_loss: 1.906, D_sup_acc: 33.60 Train acc: 32.124 Test acc: 32.700 \n",
      "epoch: 0 | step: 68 | Train: G_Loss: 5.490, D_unsup_loss_real: 0.576, D_unsup_acc_real:  71.88, D_unsup_loss_fake: 0.335, D_unsup_acc_fake: 96.88, D_sup_loss: 1.918, D_sup_acc: 32.61 Train acc: 31.172 Test acc: 31.650 \n",
      "epoch: 0 | step: 69 | Train: G_Loss: 4.572, D_unsup_loss_real: 0.801, D_unsup_acc_real:  67.19, D_unsup_loss_fake: 0.188, D_unsup_acc_fake: 100.00, D_sup_loss: 1.921, D_sup_acc: 31.62 Train acc: 31.442 Test acc: 32.080 \n",
      "epoch: 0 | step: 70 | Train: G_Loss: 7.636, D_unsup_loss_real: 0.674, D_unsup_acc_real:  71.09, D_unsup_loss_fake: 0.822, D_unsup_acc_fake: 42.19, D_sup_loss: 1.914, D_sup_acc: 32.09 Train acc: 30.272 Test acc: 30.780 \n",
      "epoch: 0 | step: 71 | Train: G_Loss: 6.398, D_unsup_loss_real: 1.169, D_unsup_acc_real:  56.25, D_unsup_loss_fake: 0.003, D_unsup_acc_fake: 100.00, D_sup_loss: 1.926, D_sup_acc: 30.75 Train acc: 30.882 Test acc: 31.100 \n",
      "epoch: 0 | step: 72 | Train: G_Loss: 3.423, D_unsup_loss_real: 0.716, D_unsup_acc_real:  74.22, D_unsup_loss_fake: 0.240, D_unsup_acc_fake: 100.00, D_sup_loss: 1.922, D_sup_acc: 31.11 Train acc: 32.838 Test acc: 33.510 \n",
      "epoch: 0 | step: 73 | Train: G_Loss: 5.327, D_unsup_loss_real: 0.677, D_unsup_acc_real:  68.75, D_unsup_loss_fake: 0.690, D_unsup_acc_fake: 58.59, D_sup_loss: 1.902, D_sup_acc: 33.44 Train acc: 31.290 Test acc: 32.160 \n",
      "epoch: 0 | step: 74 | Train: G_Loss: 4.418, D_unsup_loss_real: 0.668, D_unsup_acc_real:  70.31, D_unsup_loss_fake: 0.024, D_unsup_acc_fake: 100.00, D_sup_loss: 1.920, D_sup_acc: 32.14 Train acc: 30.650 Test acc: 31.370 \n"
     ]
    },
    {
     "name": "stdout",
     "output_type": "stream",
     "text": [
      "epoch: 0 | step: 75 | Train: G_Loss: 2.923, D_unsup_loss_real: 0.500, D_unsup_acc_real:  75.00, D_unsup_loss_fake: 0.191, D_unsup_acc_fake: 100.00, D_sup_loss: 1.925, D_sup_acc: 31.46 Train acc: 31.562 Test acc: 32.090 \n",
      "epoch: 0 | step: 76 | Train: G_Loss: 3.450, D_unsup_loss_real: 0.207, D_unsup_acc_real:  91.41, D_unsup_loss_fake: 0.198, D_unsup_acc_fake: 100.00, D_sup_loss: 1.906, D_sup_acc: 32.07 Train acc: 31.144 Test acc: 32.100 \n",
      "epoch: 0 | step: 77 | Train: G_Loss: 3.616, D_unsup_loss_real: 0.380, D_unsup_acc_real:  80.47, D_unsup_loss_fake: 0.165, D_unsup_acc_fake: 100.00, D_sup_loss: 1.911, D_sup_acc: 32.00 Train acc: 31.258 Test acc: 31.970 \n",
      "epoch: 0 | step: 78 | Train: G_Loss: 3.318, D_unsup_loss_real: 0.443, D_unsup_acc_real:  71.09, D_unsup_loss_fake: 0.108, D_unsup_acc_fake: 100.00, D_sup_loss: 1.902, D_sup_acc: 31.90 Train acc: 31.700 Test acc: 32.380 \n",
      "epoch: 0 | step: 79 | Train: G_Loss: 3.380, D_unsup_loss_real: 0.242, D_unsup_acc_real:  92.19, D_unsup_loss_fake: 0.138, D_unsup_acc_fake: 100.00, D_sup_loss: 1.900, D_sup_acc: 32.37 Train acc: 31.814 Test acc: 32.490 \n",
      "epoch: 0 | step: 80 | Train: G_Loss: 4.152, D_unsup_loss_real: 0.121, D_unsup_acc_real:  97.66, D_unsup_loss_fake: 0.195, D_unsup_acc_fake: 100.00, D_sup_loss: 1.900, D_sup_acc: 32.42 Train acc: 32.814 Test acc: 33.550 \n",
      "epoch: 0 | step: 81 | Train: G_Loss: 3.994, D_unsup_loss_real: 0.263, D_unsup_acc_real:  86.72, D_unsup_loss_fake: 0.030, D_unsup_acc_fake: 100.00, D_sup_loss: 1.887, D_sup_acc: 33.49 Train acc: 33.756 Test acc: 34.210 \n",
      "epoch: 0 | step: 82 | Train: G_Loss: 3.365, D_unsup_loss_real: 0.189, D_unsup_acc_real:  95.31, D_unsup_loss_fake: 0.043, D_unsup_acc_fake: 100.00, D_sup_loss: 1.884, D_sup_acc: 34.15 Train acc: 33.882 Test acc: 34.130 \n",
      "epoch: 0 | step: 83 | Train: G_Loss: 3.211, D_unsup_loss_real: 0.107, D_unsup_acc_real:  99.22, D_unsup_loss_fake: 0.104, D_unsup_acc_fake: 100.00, D_sup_loss: 1.880, D_sup_acc: 34.04 Train acc: 33.952 Test acc: 34.390 \n",
      "epoch: 0 | step: 84 | Train: G_Loss: 3.348, D_unsup_loss_real: 0.165, D_unsup_acc_real:  94.53, D_unsup_loss_fake: 0.064, D_unsup_acc_fake: 100.00, D_sup_loss: 1.880, D_sup_acc: 34.32 Train acc: 34.042 Test acc: 34.620 \n",
      "epoch: 0 | step: 85 | Train: G_Loss: 3.267, D_unsup_loss_real: 0.119, D_unsup_acc_real:  97.66, D_unsup_loss_fake: 0.129, D_unsup_acc_fake: 100.00, D_sup_loss: 1.876, D_sup_acc: 34.58 Train acc: 34.104 Test acc: 34.450 \n",
      "epoch: 0 | step: 86 | Train: G_Loss: 3.442, D_unsup_loss_real: 0.120, D_unsup_acc_real:  96.88, D_unsup_loss_fake: 0.118, D_unsup_acc_fake: 100.00, D_sup_loss: 1.873, D_sup_acc: 34.41 Train acc: 34.488 Test acc: 35.090 \n",
      "epoch: 0 | step: 87 | Train: G_Loss: 3.036, D_unsup_loss_real: 0.232, D_unsup_acc_real:  90.62, D_unsup_loss_fake: 0.124, D_unsup_acc_fake: 100.00, D_sup_loss: 1.866, D_sup_acc: 35.05 Train acc: 34.056 Test acc: 34.510 \n",
      "epoch: 0 | step: 88 | Train: G_Loss: 2.923, D_unsup_loss_real: 0.221, D_unsup_acc_real:  91.41, D_unsup_loss_fake: 0.190, D_unsup_acc_fake: 100.00, D_sup_loss: 1.864, D_sup_acc: 34.49 Train acc: 33.560 Test acc: 33.940 \n",
      "epoch: 0 | step: 89 | Train: G_Loss: 3.198, D_unsup_loss_real: 0.123, D_unsup_acc_real:  96.88, D_unsup_loss_fake: 0.203, D_unsup_acc_fake: 100.00, D_sup_loss: 1.867, D_sup_acc: 33.92 Train acc: 33.372 Test acc: 33.720 \n",
      "epoch: 0 | step: 90 | Train: G_Loss: 2.764, D_unsup_loss_real: 0.262, D_unsup_acc_real:  87.50, D_unsup_loss_fake: 0.147, D_unsup_acc_fake: 100.00, D_sup_loss: 1.867, D_sup_acc: 33.78 Train acc: 33.192 Test acc: 34.170 \n",
      "epoch: 0 | step: 91 | Train: G_Loss: 2.251, D_unsup_loss_real: 0.239, D_unsup_acc_real:  90.62, D_unsup_loss_fake: 0.305, D_unsup_acc_fake: 100.00, D_sup_loss: 1.878, D_sup_acc: 34.11 Train acc: 33.048 Test acc: 33.540 \n",
      "epoch: 0 | step: 92 | Train: G_Loss: 1.813, D_unsup_loss_real: 0.308, D_unsup_acc_real:  83.59, D_unsup_loss_fake: 0.347, D_unsup_acc_fake: 100.00, D_sup_loss: 1.888, D_sup_acc: 33.57 Train acc: 33.866 Test acc: 34.620 \n",
      "epoch: 0 | step: 93 | Train: G_Loss: 1.539, D_unsup_loss_real: 0.345, D_unsup_acc_real:  81.25, D_unsup_loss_fake: 0.455, D_unsup_acc_fake: 100.00, D_sup_loss: 1.867, D_sup_acc: 34.58 Train acc: 34.632 Test acc: 35.130 \n",
      "epoch: 0 | step: 94 | Train: G_Loss: 1.169, D_unsup_loss_real: 0.442, D_unsup_acc_real:  78.12, D_unsup_loss_fake: 0.594, D_unsup_acc_fake: 94.53, D_sup_loss: 1.846, D_sup_acc: 35.08 Train acc: 34.890 Test acc: 35.470 \n",
      "epoch: 0 | step: 95 | Train: G_Loss: 1.231, D_unsup_loss_real: 0.260, D_unsup_acc_real:  87.50, D_unsup_loss_fake: 0.579, D_unsup_acc_fake: 79.69, D_sup_loss: 1.838, D_sup_acc: 35.50 Train acc: 34.114 Test acc: 34.800 \n",
      "epoch: 0 | step: 96 | Train: G_Loss: 1.402, D_unsup_loss_real: 0.251, D_unsup_acc_real:  86.72, D_unsup_loss_fake: 0.479, D_unsup_acc_fake: 93.75, D_sup_loss: 1.856, D_sup_acc: 34.77 Train acc: 33.478 Test acc: 33.930 \n",
      "epoch: 0 | step: 97 | Train: G_Loss: 1.763, D_unsup_loss_real: 0.303, D_unsup_acc_real:  84.38, D_unsup_loss_fake: 0.359, D_unsup_acc_fake: 98.44, D_sup_loss: 1.877, D_sup_acc: 33.90 Train acc: 34.614 Test acc: 34.900 \n",
      "epoch: 0 | step: 98 | Train: G_Loss: 1.894, D_unsup_loss_real: 0.481, D_unsup_acc_real:  74.22, D_unsup_loss_fake: 0.299, D_unsup_acc_fake: 99.22, D_sup_loss: 1.838, D_sup_acc: 34.91 Train acc: 34.862 Test acc: 34.960 \n",
      "epoch: 0 | step: 99 | Train: G_Loss: 2.049, D_unsup_loss_real: 0.402, D_unsup_acc_real:  78.12, D_unsup_loss_fake: 0.282, D_unsup_acc_fake: 100.00, D_sup_loss: 1.827, D_sup_acc: 34.99 Train acc: 35.104 Test acc: 35.350 \n",
      "epoch: 0 | step: 100 | Train: G_Loss: 2.309, D_unsup_loss_real: 0.415, D_unsup_acc_real:  78.91, D_unsup_loss_fake: 0.264, D_unsup_acc_fake: 100.00, D_sup_loss: 1.822, D_sup_acc: 35.34 Train acc: 35.384 Test acc: 35.620 \n",
      "Train Classifier Accuracy: 35.384%\n",
      "\n",
      "Test Classifier Accuracy: 35.620%\n",
      "\n",
      ">Saving models Generator: Logs/SSGAN_CIFAR10/Classifier_50000/generator_model_100.h5 and Supervised: Logs/SSGAN_CIFAR10/Classifier_50000/supervised_model_100.h5\n",
      "epoch: 0 | step: 101 | Train: G_Loss: 2.617, D_unsup_loss_real: 0.291, D_unsup_acc_real:  84.38, D_unsup_loss_fake: 0.163, D_unsup_acc_fake: 100.00, D_sup_loss: 1.819, D_sup_acc: 35.53 Train acc: 35.454 Test acc: 35.710 \n",
      "epoch: 0 | step: 102 | Train: G_Loss: 2.738, D_unsup_loss_real: 0.230, D_unsup_acc_real:  91.41, D_unsup_loss_fake: 0.159, D_unsup_acc_fake: 100.00, D_sup_loss: 1.818, D_sup_acc: 35.67 Train acc: 35.570 Test acc: 36.140 \n",
      "epoch: 0 | step: 103 | Train: G_Loss: 2.997, D_unsup_loss_real: 0.287, D_unsup_acc_real:  82.81, D_unsup_loss_fake: 0.104, D_unsup_acc_fake: 100.00, D_sup_loss: 1.809, D_sup_acc: 36.16 Train acc: 35.358 Test acc: 35.790 \n",
      "epoch: 0 | step: 104 | Train: G_Loss: 3.024, D_unsup_loss_real: 0.231, D_unsup_acc_real:  89.06, D_unsup_loss_fake: 0.106, D_unsup_acc_fake: 100.00, D_sup_loss: 1.813, D_sup_acc: 35.66 Train acc: 35.656 Test acc: 36.320 \n",
      "epoch: 0 | step: 105 | Train: G_Loss: 3.166, D_unsup_loss_real: 0.269, D_unsup_acc_real:  85.94, D_unsup_loss_fake: 0.114, D_unsup_acc_fake: 100.00, D_sup_loss: 1.804, D_sup_acc: 36.21 Train acc: 36.138 Test acc: 36.900 \n",
      "epoch: 0 | step: 106 | Train: G_Loss: 3.706, D_unsup_loss_real: 0.194, D_unsup_acc_real:  91.41, D_unsup_loss_fake: 0.193, D_unsup_acc_fake: 100.00, D_sup_loss: 1.801, D_sup_acc: 36.85 Train acc: 36.036 Test acc: 37.340 \n",
      "epoch: 0 | step: 107 | Train: G_Loss: 3.615, D_unsup_loss_real: 0.322, D_unsup_acc_real:  85.16, D_unsup_loss_fake: 0.050, D_unsup_acc_fake: 100.00, D_sup_loss: 1.804, D_sup_acc: 37.31 Train acc: 36.418 Test acc: 37.240 \n",
      "epoch: 0 | step: 108 | Train: G_Loss: 3.181, D_unsup_loss_real: 0.253, D_unsup_acc_real:  86.72, D_unsup_loss_fake: 0.073, D_unsup_acc_fake: 100.00, D_sup_loss: 1.802, D_sup_acc: 37.18 Train acc: 36.382 Test acc: 37.140 \n",
      "epoch: 0 | step: 109 | Train: G_Loss: 3.003, D_unsup_loss_real: 0.576, D_unsup_acc_real:  71.88, D_unsup_loss_fake: 0.216, D_unsup_acc_fake: 100.00, D_sup_loss: 1.799, D_sup_acc: 37.14 Train acc: 36.354 Test acc: 37.090 \n",
      "epoch: 0 | step: 110 | Train: G_Loss: 3.342, D_unsup_loss_real: 0.342, D_unsup_acc_real:  81.25, D_unsup_loss_fake: 0.123, D_unsup_acc_fake: 100.00, D_sup_loss: 1.790, D_sup_acc: 37.15 Train acc: 36.000 Test acc: 36.590 \n",
      "epoch: 0 | step: 111 | Train: G_Loss: 3.084, D_unsup_loss_real: 0.357, D_unsup_acc_real:  79.69, D_unsup_loss_fake: 0.099, D_unsup_acc_fake: 100.00, D_sup_loss: 1.791, D_sup_acc: 36.55 Train acc: 35.088 Test acc: 35.820 \n"
     ]
    },
    {
     "name": "stdout",
     "output_type": "stream",
     "text": [
      "epoch: 0 | step: 112 | Train: G_Loss: 3.036, D_unsup_loss_real: 0.436, D_unsup_acc_real:  78.12, D_unsup_loss_fake: 0.195, D_unsup_acc_fake: 100.00, D_sup_loss: 1.793, D_sup_acc: 35.81 Train acc: 35.478 Test acc: 36.470 \n",
      "epoch: 0 | step: 113 | Train: G_Loss: 3.287, D_unsup_loss_real: 0.210, D_unsup_acc_real:  86.72, D_unsup_loss_fake: 0.180, D_unsup_acc_fake: 100.00, D_sup_loss: 1.788, D_sup_acc: 36.41 Train acc: 36.304 Test acc: 36.850 \n",
      "epoch: 0 | step: 114 | Train: G_Loss: 3.549, D_unsup_loss_real: 0.261, D_unsup_acc_real:  85.94, D_unsup_loss_fake: 0.216, D_unsup_acc_fake: 100.00, D_sup_loss: 1.785, D_sup_acc: 36.79 Train acc: 36.380 Test acc: 36.900 \n",
      "epoch: 0 | step: 115 | Train: G_Loss: 3.350, D_unsup_loss_real: 0.215, D_unsup_acc_real:  89.84, D_unsup_loss_fake: 0.090, D_unsup_acc_fake: 100.00, D_sup_loss: 1.787, D_sup_acc: 36.86 Train acc: 36.570 Test acc: 37.050 \n",
      "epoch: 0 | step: 116 | Train: G_Loss: 3.077, D_unsup_loss_real: 0.340, D_unsup_acc_real:  85.16, D_unsup_loss_fake: 0.117, D_unsup_acc_fake: 100.00, D_sup_loss: 1.787, D_sup_acc: 36.99 Train acc: 36.622 Test acc: 37.100 \n",
      "epoch: 0 | step: 117 | Train: G_Loss: 3.210, D_unsup_loss_real: 0.238, D_unsup_acc_real:  88.28, D_unsup_loss_fake: 0.171, D_unsup_acc_fake: 100.00, D_sup_loss: 1.784, D_sup_acc: 37.08 Train acc: 36.840 Test acc: 37.250 \n",
      "epoch: 0 | step: 118 | Train: G_Loss: 3.130, D_unsup_loss_real: 0.271, D_unsup_acc_real:  86.72, D_unsup_loss_fake: 0.125, D_unsup_acc_fake: 100.00, D_sup_loss: 1.778, D_sup_acc: 37.14 Train acc: 37.380 Test acc: 37.600 \n",
      "epoch: 0 | step: 119 | Train: G_Loss: 2.921, D_unsup_loss_real: 0.621, D_unsup_acc_real:  75.78, D_unsup_loss_fake: 0.190, D_unsup_acc_fake: 100.00, D_sup_loss: 1.769, D_sup_acc: 37.49 Train acc: 37.294 Test acc: 37.110 \n",
      "epoch: 0 | step: 120 | Train: G_Loss: 3.662, D_unsup_loss_real: 0.581, D_unsup_acc_real:  73.44, D_unsup_loss_fake: 0.298, D_unsup_acc_fake: 96.88, D_sup_loss: 1.772, D_sup_acc: 37.06 Train acc: 37.082 Test acc: 37.200 \n",
      "epoch: 0 | step: 121 | Train: G_Loss: 3.359, D_unsup_loss_real: 0.422, D_unsup_acc_real:  77.34, D_unsup_loss_fake: 0.091, D_unsup_acc_fake: 100.00, D_sup_loss: 1.774, D_sup_acc: 37.22 Train acc: 36.492 Test acc: 36.390 \n",
      "epoch: 0 | step: 122 | Train: G_Loss: 4.240, D_unsup_loss_real: 0.311, D_unsup_acc_real:  82.81, D_unsup_loss_fake: 0.382, D_unsup_acc_fake: 89.84, D_sup_loss: 1.786, D_sup_acc: 36.40 Train acc: 36.164 Test acc: 36.290 \n",
      "epoch: 0 | step: 123 | Train: G_Loss: 3.363, D_unsup_loss_real: 0.593, D_unsup_acc_real:  70.31, D_unsup_loss_fake: 0.055, D_unsup_acc_fake: 100.00, D_sup_loss: 1.788, D_sup_acc: 36.32 Train acc: 36.502 Test acc: 36.420 \n",
      "epoch: 0 | step: 124 | Train: G_Loss: 3.352, D_unsup_loss_real: 0.242, D_unsup_acc_real:  88.28, D_unsup_loss_fake: 0.334, D_unsup_acc_fake: 94.53, D_sup_loss: 1.778, D_sup_acc: 36.37 Train acc: 36.292 Test acc: 36.480 \n",
      "epoch: 0 | step: 125 | Train: G_Loss: 3.218, D_unsup_loss_real: 0.252, D_unsup_acc_real:  88.28, D_unsup_loss_fake: 0.085, D_unsup_acc_fake: 100.00, D_sup_loss: 1.775, D_sup_acc: 36.46 Train acc: 36.776 Test acc: 36.820 \n",
      "epoch: 0 | step: 126 | Train: G_Loss: 2.738, D_unsup_loss_real: 0.234, D_unsup_acc_real:  87.50, D_unsup_loss_fake: 0.157, D_unsup_acc_fake: 100.00, D_sup_loss: 1.769, D_sup_acc: 36.84 Train acc: 37.180 Test acc: 37.260 \n",
      "epoch: 0 | step: 127 | Train: G_Loss: 2.723, D_unsup_loss_real: 0.154, D_unsup_acc_real:  95.31, D_unsup_loss_fake: 0.196, D_unsup_acc_fake: 100.00, D_sup_loss: 1.763, D_sup_acc: 37.10 Train acc: 37.800 Test acc: 37.810 \n",
      "epoch: 0 | step: 128 | Train: G_Loss: 2.626, D_unsup_loss_real: 0.220, D_unsup_acc_real:  88.28, D_unsup_loss_fake: 0.141, D_unsup_acc_fake: 100.00, D_sup_loss: 1.752, D_sup_acc: 37.84 Train acc: 38.036 Test acc: 37.980 \n",
      "epoch: 0 | step: 129 | Train: G_Loss: 2.553, D_unsup_loss_real: 0.123, D_unsup_acc_real:  95.31, D_unsup_loss_fake: 0.380, D_unsup_acc_fake: 100.00, D_sup_loss: 1.751, D_sup_acc: 37.87 Train acc: 38.118 Test acc: 37.900 \n",
      "epoch: 0 | step: 130 | Train: G_Loss: 2.456, D_unsup_loss_real: 0.165, D_unsup_acc_real:  92.97, D_unsup_loss_fake: 0.232, D_unsup_acc_fake: 100.00, D_sup_loss: 1.747, D_sup_acc: 37.92 Train acc: 38.132 Test acc: 38.440 \n",
      "epoch: 0 | step: 131 | Train: G_Loss: 2.698, D_unsup_loss_real: 0.385, D_unsup_acc_real:  76.56, D_unsup_loss_fake: 1.502, D_unsup_acc_fake: 13.28, D_sup_loss: 1.745, D_sup_acc: 38.49 Train acc: 37.424 Test acc: 38.230 \n",
      "epoch: 0 | step: 132 | Train: G_Loss: 3.406, D_unsup_loss_real: 0.257, D_unsup_acc_real:  88.28, D_unsup_loss_fake: 0.158, D_unsup_acc_fake: 100.00, D_sup_loss: 1.759, D_sup_acc: 38.10 Train acc: 36.396 Test acc: 36.400 \n",
      "epoch: 0 | step: 133 | Train: G_Loss: 3.212, D_unsup_loss_real: 0.308, D_unsup_acc_real:  85.94, D_unsup_loss_fake: 0.145, D_unsup_acc_fake: 100.00, D_sup_loss: 1.787, D_sup_acc: 36.38 Train acc: 36.956 Test acc: 36.890 \n",
      "epoch: 0 | step: 134 | Train: G_Loss: 4.073, D_unsup_loss_real: 0.195, D_unsup_acc_real:  90.62, D_unsup_loss_fake: 0.286, D_unsup_acc_fake: 100.00, D_sup_loss: 1.781, D_sup_acc: 36.82 Train acc: 36.988 Test acc: 37.220 \n",
      "epoch: 0 | step: 135 | Train: G_Loss: 3.920, D_unsup_loss_real: 0.124, D_unsup_acc_real:  95.31, D_unsup_loss_fake: 0.182, D_unsup_acc_fake: 100.00, D_sup_loss: 1.769, D_sup_acc: 37.20 Train acc: 36.794 Test acc: 37.430 \n",
      "epoch: 0 | step: 136 | Train: G_Loss: 3.509, D_unsup_loss_real: 0.117, D_unsup_acc_real:  94.53, D_unsup_loss_fake: 0.159, D_unsup_acc_fake: 100.00, D_sup_loss: 1.777, D_sup_acc: 37.40 Train acc: 36.158 Test acc: 36.660 \n",
      "epoch: 0 | step: 137 | Train: G_Loss: 3.115, D_unsup_loss_real: 0.229, D_unsup_acc_real:  88.28, D_unsup_loss_fake: 0.264, D_unsup_acc_fake: 98.44, D_sup_loss: 1.791, D_sup_acc: 36.64 Train acc: 37.630 Test acc: 38.060 \n",
      "epoch: 0 | step: 138 | Train: G_Loss: 2.730, D_unsup_loss_real: 0.336, D_unsup_acc_real:  85.16, D_unsup_loss_fake: 0.161, D_unsup_acc_fake: 100.00, D_sup_loss: 1.756, D_sup_acc: 37.96 Train acc: 37.554 Test acc: 38.180 \n",
      "epoch: 0 | step: 139 | Train: G_Loss: 2.401, D_unsup_loss_real: 0.418, D_unsup_acc_real:  78.12, D_unsup_loss_fake: 0.277, D_unsup_acc_fake: 99.22, D_sup_loss: 1.747, D_sup_acc: 38.08 Train acc: 36.444 Test acc: 36.970 \n",
      "epoch: 0 | step: 140 | Train: G_Loss: 2.700, D_unsup_loss_real: 0.227, D_unsup_acc_real:  89.06, D_unsup_loss_fake: 0.230, D_unsup_acc_fake: 98.44, D_sup_loss: 1.766, D_sup_acc: 36.86 Train acc: 37.968 Test acc: 38.690 \n",
      "epoch: 0 | step: 141 | Train: G_Loss: 2.907, D_unsup_loss_real: 0.143, D_unsup_acc_real:  94.53, D_unsup_loss_fake: 0.140, D_unsup_acc_fake: 100.00, D_sup_loss: 1.743, D_sup_acc: 38.77 Train acc: 38.298 Test acc: 39.280 \n",
      "epoch: 0 | step: 142 | Train: G_Loss: 2.845, D_unsup_loss_real: 0.194, D_unsup_acc_real:  92.19, D_unsup_loss_fake: 0.133, D_unsup_acc_fake: 100.00, D_sup_loss: 1.739, D_sup_acc: 39.27 Train acc: 38.342 Test acc: 39.170 \n",
      "epoch: 0 | step: 143 | Train: G_Loss: 3.245, D_unsup_loss_real: 0.134, D_unsup_acc_real:  95.31, D_unsup_loss_fake: 0.243, D_unsup_acc_fake: 99.22, D_sup_loss: 1.730, D_sup_acc: 39.15 Train acc: 38.192 Test acc: 38.770 \n",
      "epoch: 0 | step: 144 | Train: G_Loss: 3.478, D_unsup_loss_real: 0.126, D_unsup_acc_real:  95.31, D_unsup_loss_fake: 0.144, D_unsup_acc_fake: 100.00, D_sup_loss: 1.735, D_sup_acc: 38.72 Train acc: 38.828 Test acc: 39.490 \n",
      "epoch: 0 | step: 145 | Train: G_Loss: 3.245, D_unsup_loss_real: 0.252, D_unsup_acc_real:  90.62, D_unsup_loss_fake: 0.132, D_unsup_acc_fake: 100.00, D_sup_loss: 1.729, D_sup_acc: 39.38 Train acc: 38.862 Test acc: 39.400 \n",
      "epoch: 0 | step: 146 | Train: G_Loss: 3.572, D_unsup_loss_real: 0.177, D_unsup_acc_real:  94.53, D_unsup_loss_fake: 0.267, D_unsup_acc_fake: 97.66, D_sup_loss: 1.727, D_sup_acc: 39.39 Train acc: 38.176 Test acc: 38.300 \n",
      "epoch: 0 | step: 147 | Train: G_Loss: 3.565, D_unsup_loss_real: 0.134, D_unsup_acc_real:  95.31, D_unsup_loss_fake: 0.151, D_unsup_acc_fake: 100.00, D_sup_loss: 1.743, D_sup_acc: 38.34 Train acc: 38.724 Test acc: 38.800 \n",
      "epoch: 0 | step: 148 | Train: G_Loss: 3.323, D_unsup_loss_real: 0.109, D_unsup_acc_real:  96.09, D_unsup_loss_fake: 0.149, D_unsup_acc_fake: 100.00, D_sup_loss: 1.731, D_sup_acc: 38.81 Train acc: 38.730 Test acc: 38.740 \n",
      "epoch: 0 | step: 149 | Train: G_Loss: 3.215, D_unsup_loss_real: 0.095, D_unsup_acc_real:  96.88, D_unsup_loss_fake: 0.238, D_unsup_acc_fake: 95.31, D_sup_loss: 1.725, D_sup_acc: 38.66 Train acc: 38.834 Test acc: 39.160 \n"
     ]
    },
    {
     "name": "stdout",
     "output_type": "stream",
     "text": [
      "epoch: 0 | step: 150 | Train: G_Loss: 3.082, D_unsup_loss_real: 0.151, D_unsup_acc_real:  94.53, D_unsup_loss_fake: 0.157, D_unsup_acc_fake: 98.44, D_sup_loss: 1.721, D_sup_acc: 39.12 Train acc: 38.730 Test acc: 39.020 \n",
      "epoch: 0 | step: 151 | Train: G_Loss: 3.430, D_unsup_loss_real: 0.153, D_unsup_acc_real:  95.31, D_unsup_loss_fake: 0.430, D_unsup_acc_fake: 81.25, D_sup_loss: 1.716, D_sup_acc: 39.00 Train acc: 38.216 Test acc: 38.260 \n",
      "epoch: 0 | step: 152 | Train: G_Loss: 3.393, D_unsup_loss_real: 0.357, D_unsup_acc_real:  78.91, D_unsup_loss_fake: 0.283, D_unsup_acc_fake: 90.62, D_sup_loss: 1.725, D_sup_acc: 38.24 Train acc: 37.928 Test acc: 37.910 \n",
      "epoch: 0 | step: 153 | Train: G_Loss: 4.004, D_unsup_loss_real: 0.196, D_unsup_acc_real:  91.41, D_unsup_loss_fake: 0.533, D_unsup_acc_fake: 75.78, D_sup_loss: 1.725, D_sup_acc: 37.93 Train acc: 38.968 Test acc: 39.060 \n",
      "epoch: 0 | step: 154 | Train: G_Loss: 3.222, D_unsup_loss_real: 0.290, D_unsup_acc_real:  85.16, D_unsup_loss_fake: 0.175, D_unsup_acc_fake: 100.00, D_sup_loss: 1.707, D_sup_acc: 39.06 Train acc: 38.308 Test acc: 38.770 \n",
      "epoch: 0 | step: 155 | Train: G_Loss: 2.609, D_unsup_loss_real: 0.526, D_unsup_acc_real:  72.66, D_unsup_loss_fake: 0.279, D_unsup_acc_fake: 100.00, D_sup_loss: 1.752, D_sup_acc: 38.77 Train acc: 38.136 Test acc: 38.570 \n",
      "epoch: 0 | step: 156 | Train: G_Loss: 2.957, D_unsup_loss_real: 0.410, D_unsup_acc_real:  74.22, D_unsup_loss_fake: 0.239, D_unsup_acc_fake: 100.00, D_sup_loss: 1.759, D_sup_acc: 38.58 Train acc: 37.956 Test acc: 38.100 \n",
      "epoch: 0 | step: 157 | Train: G_Loss: 2.938, D_unsup_loss_real: 0.627, D_unsup_acc_real:  61.72, D_unsup_loss_fake: 0.158, D_unsup_acc_fake: 100.00, D_sup_loss: 1.738, D_sup_acc: 38.02 Train acc: 39.302 Test acc: 39.370 \n",
      "epoch: 0 | step: 158 | Train: G_Loss: 3.502, D_unsup_loss_real: 0.330, D_unsup_acc_real:  82.81, D_unsup_loss_fake: 0.190, D_unsup_acc_fake: 100.00, D_sup_loss: 1.703, D_sup_acc: 39.44 Train acc: 39.192 Test acc: 39.020 \n",
      "epoch: 0 | step: 159 | Train: G_Loss: 3.351, D_unsup_loss_real: 0.230, D_unsup_acc_real:  87.50, D_unsup_loss_fake: 0.098, D_unsup_acc_fake: 100.00, D_sup_loss: 1.706, D_sup_acc: 39.02 Train acc: 39.592 Test acc: 39.570 \n",
      "epoch: 0 | step: 160 | Train: G_Loss: 3.316, D_unsup_loss_real: 0.140, D_unsup_acc_real:  96.09, D_unsup_loss_fake: 0.114, D_unsup_acc_fake: 100.00, D_sup_loss: 1.697, D_sup_acc: 39.55 Train acc: 39.810 Test acc: 40.460 \n",
      "epoch: 0 | step: 161 | Train: G_Loss: 3.472, D_unsup_loss_real: 0.122, D_unsup_acc_real:  95.31, D_unsup_loss_fake: 0.076, D_unsup_acc_fake: 100.00, D_sup_loss: 1.696, D_sup_acc: 40.43 Train acc: 39.372 Test acc: 40.120 \n",
      "epoch: 0 | step: 162 | Train: G_Loss: 3.395, D_unsup_loss_real: 0.154, D_unsup_acc_real:  92.19, D_unsup_loss_fake: 0.068, D_unsup_acc_fake: 100.00, D_sup_loss: 1.703, D_sup_acc: 40.16 Train acc: 39.618 Test acc: 40.510 \n",
      "epoch: 0 | step: 163 | Train: G_Loss: 2.990, D_unsup_loss_real: 0.272, D_unsup_acc_real:  86.72, D_unsup_loss_fake: 0.106, D_unsup_acc_fake: 100.00, D_sup_loss: 1.692, D_sup_acc: 40.47 Train acc: 39.824 Test acc: 40.200 \n",
      "epoch: 0 | step: 164 | Train: G_Loss: 2.888, D_unsup_loss_real: 0.313, D_unsup_acc_real:  83.59, D_unsup_loss_fake: 0.190, D_unsup_acc_fake: 100.00, D_sup_loss: 1.684, D_sup_acc: 40.23 Train acc: 39.702 Test acc: 39.950 \n",
      "epoch: 0 | step: 165 | Train: G_Loss: 2.792, D_unsup_loss_real: 0.508, D_unsup_acc_real:  76.56, D_unsup_loss_fake: 0.210, D_unsup_acc_fake: 100.00, D_sup_loss: 1.685, D_sup_acc: 39.88 Train acc: 38.512 Test acc: 38.900 \n",
      "epoch: 0 | step: 166 | Train: G_Loss: 3.031, D_unsup_loss_real: 0.248, D_unsup_acc_real:  87.50, D_unsup_loss_fake: 0.282, D_unsup_acc_fake: 97.66, D_sup_loss: 1.711, D_sup_acc: 38.89 Train acc: 39.588 Test acc: 40.040 \n",
      "epoch: 0 | step: 167 | Train: G_Loss: 3.629, D_unsup_loss_real: 0.275, D_unsup_acc_real:  84.38, D_unsup_loss_fake: 0.324, D_unsup_acc_fake: 92.19, D_sup_loss: 1.688, D_sup_acc: 40.15 Train acc: 40.780 Test acc: 41.020 \n",
      "epoch: 0 | step: 168 | Train: G_Loss: 3.877, D_unsup_loss_real: 0.114, D_unsup_acc_real:  94.53, D_unsup_loss_fake: 0.201, D_unsup_acc_fake: 99.22, D_sup_loss: 1.674, D_sup_acc: 40.94 Train acc: 40.778 Test acc: 40.890 \n",
      "epoch: 0 | step: 169 | Train: G_Loss: 3.488, D_unsup_loss_real: 0.241, D_unsup_acc_real:  87.50, D_unsup_loss_fake: 0.078, D_unsup_acc_fake: 100.00, D_sup_loss: 1.677, D_sup_acc: 40.71 Train acc: 40.076 Test acc: 40.640 \n",
      "epoch: 0 | step: 170 | Train: G_Loss: 2.738, D_unsup_loss_real: 0.492, D_unsup_acc_real:  74.22, D_unsup_loss_fake: 0.158, D_unsup_acc_fake: 100.00, D_sup_loss: 1.687, D_sup_acc: 40.62 Train acc: 40.346 Test acc: 40.680 \n",
      "epoch: 0 | step: 171 | Train: G_Loss: 2.840, D_unsup_loss_real: 0.395, D_unsup_acc_real:  80.47, D_unsup_loss_fake: 0.264, D_unsup_acc_fake: 96.88, D_sup_loss: 1.677, D_sup_acc: 40.62 Train acc: 39.206 Test acc: 39.940 \n",
      "epoch: 0 | step: 172 | Train: G_Loss: 3.563, D_unsup_loss_real: 0.126, D_unsup_acc_real:  96.09, D_unsup_loss_fake: 0.475, D_unsup_acc_fake: 79.69, D_sup_loss: 1.683, D_sup_acc: 39.91 Train acc: 38.082 Test acc: 38.620 \n",
      "epoch: 0 | step: 173 | Train: G_Loss: 2.927, D_unsup_loss_real: 0.189, D_unsup_acc_real:  92.97, D_unsup_loss_fake: 0.186, D_unsup_acc_fake: 100.00, D_sup_loss: 1.708, D_sup_acc: 38.56 Train acc: 39.676 Test acc: 40.400 \n",
      "epoch: 0 | step: 174 | Train: G_Loss: 2.593, D_unsup_loss_real: 0.243, D_unsup_acc_real:  89.06, D_unsup_loss_fake: 0.749, D_unsup_acc_fake: 53.12, D_sup_loss: 1.687, D_sup_acc: 40.42 Train acc: 40.556 Test acc: 40.950 \n",
      "epoch: 0 | step: 175 | Train: G_Loss: 2.621, D_unsup_loss_real: 0.227, D_unsup_acc_real:  87.50, D_unsup_loss_fake: 0.332, D_unsup_acc_fake: 100.00, D_sup_loss: 1.673, D_sup_acc: 40.98 Train acc: 41.076 Test acc: 41.240 \n",
      "epoch: 0 | step: 176 | Train: G_Loss: 2.668, D_unsup_loss_real: 0.162, D_unsup_acc_real:  96.09, D_unsup_loss_fake: 0.263, D_unsup_acc_fake: 100.00, D_sup_loss: 1.673, D_sup_acc: 41.31 Train acc: 40.664 Test acc: 41.380 \n",
      "epoch: 0 | step: 177 | Train: G_Loss: 2.662, D_unsup_loss_real: 0.290, D_unsup_acc_real:  85.16, D_unsup_loss_fake: 0.172, D_unsup_acc_fake: 100.00, D_sup_loss: 1.680, D_sup_acc: 41.38 Train acc: 40.494 Test acc: 41.130 \n",
      "epoch: 0 | step: 178 | Train: G_Loss: 2.526, D_unsup_loss_real: 0.279, D_unsup_acc_real:  86.72, D_unsup_loss_fake: 0.322, D_unsup_acc_fake: 100.00, D_sup_loss: 1.679, D_sup_acc: 41.04 Train acc: 40.564 Test acc: 41.050 \n",
      "epoch: 0 | step: 179 | Train: G_Loss: 2.850, D_unsup_loss_real: 0.273, D_unsup_acc_real:  87.50, D_unsup_loss_fake: 0.489, D_unsup_acc_fake: 82.03, D_sup_loss: 1.677, D_sup_acc: 41.06 Train acc: 39.812 Test acc: 39.700 \n",
      "epoch: 0 | step: 180 | Train: G_Loss: 2.915, D_unsup_loss_real: 0.298, D_unsup_acc_real:  85.16, D_unsup_loss_fake: 0.841, D_unsup_acc_fake: 42.97, D_sup_loss: 1.696, D_sup_acc: 39.69 Train acc: 39.844 Test acc: 39.750 \n",
      "epoch: 0 | step: 181 | Train: G_Loss: 2.704, D_unsup_loss_real: 0.314, D_unsup_acc_real:  84.38, D_unsup_loss_fake: 0.585, D_unsup_acc_fake: 68.75, D_sup_loss: 1.698, D_sup_acc: 39.66 Train acc: 40.856 Test acc: 40.850 \n",
      "epoch: 0 | step: 182 | Train: G_Loss: 2.748, D_unsup_loss_real: 0.235, D_unsup_acc_real:  91.41, D_unsup_loss_fake: 0.347, D_unsup_acc_fake: 100.00, D_sup_loss: 1.673, D_sup_acc: 40.76 Train acc: 40.506 Test acc: 40.390 \n",
      "epoch: 0 | step: 183 | Train: G_Loss: 2.457, D_unsup_loss_real: 0.473, D_unsup_acc_real:  74.22, D_unsup_loss_fake: 0.327, D_unsup_acc_fake: 100.00, D_sup_loss: 1.683, D_sup_acc: 40.31 Train acc: 40.188 Test acc: 40.380 \n",
      "epoch: 0 | step: 184 | Train: G_Loss: 2.515, D_unsup_loss_real: 0.228, D_unsup_acc_real:  90.62, D_unsup_loss_fake: 0.266, D_unsup_acc_fake: 100.00, D_sup_loss: 1.694, D_sup_acc: 40.34 Train acc: 40.326 Test acc: 41.010 \n",
      "epoch: 0 | step: 185 | Train: G_Loss: 2.744, D_unsup_loss_real: 0.205, D_unsup_acc_real:  90.62, D_unsup_loss_fake: 0.171, D_unsup_acc_fake: 100.00, D_sup_loss: 1.692, D_sup_acc: 41.04 Train acc: 40.680 Test acc: 41.020 \n",
      "epoch: 0 | step: 186 | Train: G_Loss: 2.539, D_unsup_loss_real: 0.275, D_unsup_acc_real:  85.94, D_unsup_loss_fake: 0.168, D_unsup_acc_fake: 100.00, D_sup_loss: 1.687, D_sup_acc: 40.92 Train acc: 41.012 Test acc: 41.500 \n",
      "epoch: 0 | step: 187 | Train: G_Loss: 2.591, D_unsup_loss_real: 0.214, D_unsup_acc_real:  91.41, D_unsup_loss_fake: 0.263, D_unsup_acc_fake: 100.00, D_sup_loss: 1.671, D_sup_acc: 41.45 Train acc: 40.782 Test acc: 41.740 \n"
     ]
    },
    {
     "name": "stdout",
     "output_type": "stream",
     "text": [
      "epoch: 0 | step: 188 | Train: G_Loss: 2.885, D_unsup_loss_real: 0.204, D_unsup_acc_real:  91.41, D_unsup_loss_fake: 0.246, D_unsup_acc_fake: 100.00, D_sup_loss: 1.667, D_sup_acc: 41.60 Train acc: 41.304 Test acc: 42.000 \n",
      "epoch: 0 | step: 189 | Train: G_Loss: 3.150, D_unsup_loss_real: 0.380, D_unsup_acc_real:  78.91, D_unsup_loss_fake: 0.258, D_unsup_acc_fake: 100.00, D_sup_loss: 1.663, D_sup_acc: 41.93 Train acc: 41.548 Test acc: 42.270 \n",
      "epoch: 0 | step: 190 | Train: G_Loss: 3.220, D_unsup_loss_real: 0.508, D_unsup_acc_real:  67.97, D_unsup_loss_fake: 0.239, D_unsup_acc_fake: 100.00, D_sup_loss: 1.659, D_sup_acc: 42.30 Train acc: 41.504 Test acc: 42.100 \n",
      "epoch: 0 | step: 191 | Train: G_Loss: 3.362, D_unsup_loss_real: 0.277, D_unsup_acc_real:  84.38, D_unsup_loss_fake: 0.128, D_unsup_acc_fake: 100.00, D_sup_loss: 1.665, D_sup_acc: 42.10 Train acc: 41.196 Test acc: 42.000 \n",
      "epoch: 0 | step: 192 | Train: G_Loss: 3.801, D_unsup_loss_real: 0.242, D_unsup_acc_real:  89.06, D_unsup_loss_fake: 0.153, D_unsup_acc_fake: 100.00, D_sup_loss: 1.669, D_sup_acc: 41.95 Train acc: 40.986 Test acc: 42.090 \n",
      "epoch: 0 | step: 193 | Train: G_Loss: 3.979, D_unsup_loss_real: 0.401, D_unsup_acc_real:  83.59, D_unsup_loss_fake: 0.327, D_unsup_acc_fake: 87.50, D_sup_loss: 1.668, D_sup_acc: 41.98 Train acc: 41.438 Test acc: 42.460 \n",
      "epoch: 0 | step: 194 | Train: G_Loss: 4.855, D_unsup_loss_real: 0.498, D_unsup_acc_real:  77.34, D_unsup_loss_fake: 0.439, D_unsup_acc_fake: 76.56, D_sup_loss: 1.660, D_sup_acc: 42.39 Train acc: 41.482 Test acc: 42.220 \n",
      "epoch: 0 | step: 195 | Train: G_Loss: 4.639, D_unsup_loss_real: 0.958, D_unsup_acc_real:  67.97, D_unsup_loss_fake: 0.443, D_unsup_acc_fake: 78.91, D_sup_loss: 1.654, D_sup_acc: 42.30 Train acc: 40.896 Test acc: 41.740 \n",
      "epoch: 0 | step: 196 | Train: G_Loss: 4.243, D_unsup_loss_real: 0.979, D_unsup_acc_real:  64.06, D_unsup_loss_fake: 0.388, D_unsup_acc_fake: 88.28, D_sup_loss: 1.659, D_sup_acc: 41.72 Train acc: 40.198 Test acc: 41.000 \n",
      "epoch: 0 | step: 197 | Train: G_Loss: 4.812, D_unsup_loss_real: 0.516, D_unsup_acc_real:  78.91, D_unsup_loss_fake: 0.574, D_unsup_acc_fake: 68.75, D_sup_loss: 1.680, D_sup_acc: 41.02 Train acc: 39.834 Test acc: 40.260 \n",
      "epoch: 0 | step: 198 | Train: G_Loss: 4.131, D_unsup_loss_real: 0.586, D_unsup_acc_real:  75.78, D_unsup_loss_fake: 0.033, D_unsup_acc_fake: 100.00, D_sup_loss: 1.697, D_sup_acc: 40.23 Train acc: 40.162 Test acc: 41.060 \n",
      "epoch: 0 | step: 199 | Train: G_Loss: 3.459, D_unsup_loss_real: 0.634, D_unsup_acc_real:  72.66, D_unsup_loss_fake: 0.318, D_unsup_acc_fake: 99.22, D_sup_loss: 1.687, D_sup_acc: 41.04 Train acc: 40.350 Test acc: 41.190 \n",
      "epoch: 0 | step: 200 | Train: G_Loss: 3.317, D_unsup_loss_real: 0.486, D_unsup_acc_real:  75.00, D_unsup_loss_fake: 0.253, D_unsup_acc_fake: 100.00, D_sup_loss: 1.675, D_sup_acc: 41.16 Train acc: 40.610 Test acc: 41.170 \n",
      "Train Classifier Accuracy: 40.610%\n",
      "\n",
      "Test Classifier Accuracy: 41.170%\n",
      "\n",
      ">Saving models Generator: Logs/SSGAN_CIFAR10/Classifier_50000/generator_model_200.h5 and Supervised: Logs/SSGAN_CIFAR10/Classifier_50000/supervised_model_200.h5\n",
      "epoch: 0 | step: 201 | Train: G_Loss: 3.199, D_unsup_loss_real: 0.556, D_unsup_acc_real:  70.31, D_unsup_loss_fake: 0.301, D_unsup_acc_fake: 100.00, D_sup_loss: 1.668, D_sup_acc: 41.19 Train acc: 39.600 Test acc: 40.610 \n",
      "epoch: 0 | step: 202 | Train: G_Loss: 5.567, D_unsup_loss_real: 0.229, D_unsup_acc_real:  88.28, D_unsup_loss_fake: 1.071, D_unsup_acc_fake: 31.25, D_sup_loss: 1.689, D_sup_acc: 40.53 Train acc: 36.802 Test acc: 37.400 \n",
      "epoch: 0 | step: 203 | Train: G_Loss: 3.887, D_unsup_loss_real: 0.538, D_unsup_acc_real:  67.19, D_unsup_loss_fake: 0.053, D_unsup_acc_fake: 100.00, D_sup_loss: 1.784, D_sup_acc: 37.35 Train acc: 38.236 Test acc: 39.010 \n",
      "epoch: 0 | step: 204 | Train: G_Loss: 4.314, D_unsup_loss_real: 0.161, D_unsup_acc_real:  93.75, D_unsup_loss_fake: 1.280, D_unsup_acc_fake: 21.88, D_sup_loss: 1.727, D_sup_acc: 39.05 Train acc: 37.864 Test acc: 38.680 \n",
      "epoch: 0 | step: 205 | Train: G_Loss: 3.686, D_unsup_loss_real: 0.151, D_unsup_acc_real:  96.88, D_unsup_loss_fake: 0.104, D_unsup_acc_fake: 100.00, D_sup_loss: 1.740, D_sup_acc: 38.57 Train acc: 39.204 Test acc: 40.000 \n",
      "epoch: 0 | step: 206 | Train: G_Loss: 2.995, D_unsup_loss_real: 0.283, D_unsup_acc_real:  86.72, D_unsup_loss_fake: 0.578, D_unsup_acc_fake: 78.12, D_sup_loss: 1.713, D_sup_acc: 39.96 Train acc: 40.714 Test acc: 41.600 \n",
      "epoch: 0 | step: 207 | Train: G_Loss: 2.966, D_unsup_loss_real: 0.419, D_unsup_acc_real:  77.34, D_unsup_loss_fake: 0.520, D_unsup_acc_fake: 85.94, D_sup_loss: 1.689, D_sup_acc: 41.59 Train acc: 41.140 Test acc: 41.860 \n",
      "epoch: 0 | step: 208 | Train: G_Loss: 2.807, D_unsup_loss_real: 0.517, D_unsup_acc_real:  71.88, D_unsup_loss_fake: 0.457, D_unsup_acc_fake: 92.97, D_sup_loss: 1.678, D_sup_acc: 41.82 Train acc: 41.020 Test acc: 41.430 \n",
      "epoch: 0 | step: 209 | Train: G_Loss: 2.719, D_unsup_loss_real: 0.359, D_unsup_acc_real:  85.16, D_unsup_loss_fake: 0.313, D_unsup_acc_fake: 100.00, D_sup_loss: 1.675, D_sup_acc: 41.42 Train acc: 40.834 Test acc: 40.980 \n",
      "epoch: 0 | step: 210 | Train: G_Loss: 2.818, D_unsup_loss_real: 0.377, D_unsup_acc_real:  77.34, D_unsup_loss_fake: 0.409, D_unsup_acc_fake: 92.19, D_sup_loss: 1.678, D_sup_acc: 40.98 Train acc: 40.994 Test acc: 40.960 \n",
      "epoch: 0 | step: 211 | Train: G_Loss: 3.030, D_unsup_loss_real: 0.252, D_unsup_acc_real:  89.06, D_unsup_loss_fake: 0.247, D_unsup_acc_fake: 100.00, D_sup_loss: 1.679, D_sup_acc: 40.97 Train acc: 41.372 Test acc: 41.230 \n",
      "epoch: 0 | step: 212 | Train: G_Loss: 2.830, D_unsup_loss_real: 0.432, D_unsup_acc_real:  76.56, D_unsup_loss_fake: 0.282, D_unsup_acc_fake: 99.22, D_sup_loss: 1.674, D_sup_acc: 41.19 Train acc: 41.620 Test acc: 41.690 \n",
      "epoch: 0 | step: 213 | Train: G_Loss: 3.131, D_unsup_loss_real: 0.408, D_unsup_acc_real:  75.78, D_unsup_loss_fake: 0.319, D_unsup_acc_fake: 97.66, D_sup_loss: 1.660, D_sup_acc: 41.63 Train acc: 41.288 Test acc: 41.740 \n",
      "epoch: 0 | step: 214 | Train: G_Loss: 3.228, D_unsup_loss_real: 0.571, D_unsup_acc_real:  71.09, D_unsup_loss_fake: 0.277, D_unsup_acc_fake: 100.00, D_sup_loss: 1.663, D_sup_acc: 41.66 Train acc: 41.084 Test acc: 41.360 \n",
      "epoch: 0 | step: 215 | Train: G_Loss: 3.255, D_unsup_loss_real: 0.747, D_unsup_acc_real:  55.47, D_unsup_loss_fake: 0.363, D_unsup_acc_fake: 94.53, D_sup_loss: 1.665, D_sup_acc: 41.30 Train acc: 41.622 Test acc: 42.220 \n",
      "epoch: 0 | step: 216 | Train: G_Loss: 3.125, D_unsup_loss_real: 0.561, D_unsup_acc_real:  68.75, D_unsup_loss_fake: 0.285, D_unsup_acc_fake: 100.00, D_sup_loss: 1.654, D_sup_acc: 42.16 Train acc: 41.862 Test acc: 42.570 \n",
      "epoch: 0 | step: 217 | Train: G_Loss: 2.826, D_unsup_loss_real: 0.508, D_unsup_acc_real:  70.31, D_unsup_loss_fake: 0.296, D_unsup_acc_fake: 100.00, D_sup_loss: 1.648, D_sup_acc: 42.45 Train acc: 42.170 Test acc: 42.770 \n",
      "epoch: 0 | step: 218 | Train: G_Loss: 2.827, D_unsup_loss_real: 0.326, D_unsup_acc_real:  83.59, D_unsup_loss_fake: 0.219, D_unsup_acc_fake: 100.00, D_sup_loss: 1.645, D_sup_acc: 42.77 Train acc: 41.872 Test acc: 42.740 \n",
      "epoch: 0 | step: 219 | Train: G_Loss: 2.506, D_unsup_loss_real: 0.357, D_unsup_acc_real:  78.12, D_unsup_loss_fake: 0.278, D_unsup_acc_fake: 100.00, D_sup_loss: 1.649, D_sup_acc: 42.69 Train acc: 41.290 Test acc: 42.050 \n",
      "epoch: 0 | step: 220 | Train: G_Loss: 2.496, D_unsup_loss_real: 0.428, D_unsup_acc_real:  77.34, D_unsup_loss_fake: 0.248, D_unsup_acc_fake: 100.00, D_sup_loss: 1.667, D_sup_acc: 42.05 Train acc: 41.456 Test acc: 42.130 \n",
      "epoch: 0 | step: 221 | Train: G_Loss: 2.309, D_unsup_loss_real: 0.633, D_unsup_acc_real:  66.41, D_unsup_loss_fake: 0.249, D_unsup_acc_fake: 100.00, D_sup_loss: 1.647, D_sup_acc: 42.09 Train acc: 41.668 Test acc: 42.210 \n",
      "epoch: 0 | step: 222 | Train: G_Loss: 2.466, D_unsup_loss_real: 0.451, D_unsup_acc_real:  73.44, D_unsup_loss_fake: 0.448, D_unsup_acc_fake: 96.88, D_sup_loss: 1.641, D_sup_acc: 42.19 Train acc: 41.742 Test acc: 42.590 \n",
      "epoch: 0 | step: 223 | Train: G_Loss: 2.404, D_unsup_loss_real: 0.511, D_unsup_acc_real:  73.44, D_unsup_loss_fake: 0.261, D_unsup_acc_fake: 100.00, D_sup_loss: 1.633, D_sup_acc: 42.62 Train acc: 41.710 Test acc: 42.160 \n",
      "epoch: 0 | step: 224 | Train: G_Loss: 2.269, D_unsup_loss_real: 0.514, D_unsup_acc_real:  72.66, D_unsup_loss_fake: 0.277, D_unsup_acc_fake: 99.22, D_sup_loss: 1.632, D_sup_acc: 42.21 Train acc: 41.582 Test acc: 42.300 \n"
     ]
    },
    {
     "name": "stdout",
     "output_type": "stream",
     "text": [
      "epoch: 0 | step: 225 | Train: G_Loss: 2.501, D_unsup_loss_real: 0.305, D_unsup_acc_real:  81.25, D_unsup_loss_fake: 0.314, D_unsup_acc_fake: 98.44, D_sup_loss: 1.635, D_sup_acc: 42.25 Train acc: 41.940 Test acc: 42.800 \n",
      "epoch: 0 | step: 226 | Train: G_Loss: 2.584, D_unsup_loss_real: 0.385, D_unsup_acc_real:  79.69, D_unsup_loss_fake: 0.232, D_unsup_acc_fake: 100.00, D_sup_loss: 1.637, D_sup_acc: 42.80 Train acc: 42.424 Test acc: 42.790 \n",
      "epoch: 0 | step: 227 | Train: G_Loss: 2.635, D_unsup_loss_real: 0.322, D_unsup_acc_real:  79.69, D_unsup_loss_fake: 0.226, D_unsup_acc_fake: 100.00, D_sup_loss: 1.625, D_sup_acc: 42.82 Train acc: 42.454 Test acc: 42.970 \n",
      "epoch: 0 | step: 228 | Train: G_Loss: 2.562, D_unsup_loss_real: 0.429, D_unsup_acc_real:  79.69, D_unsup_loss_fake: 0.170, D_unsup_acc_fake: 100.00, D_sup_loss: 1.629, D_sup_acc: 42.92 Train acc: 42.178 Test acc: 42.820 \n",
      "epoch: 0 | step: 229 | Train: G_Loss: 2.411, D_unsup_loss_real: 0.442, D_unsup_acc_real:  75.00, D_unsup_loss_fake: 0.225, D_unsup_acc_fake: 97.66, D_sup_loss: 1.632, D_sup_acc: 42.71 Train acc: 42.166 Test acc: 42.870 \n",
      "epoch: 0 | step: 230 | Train: G_Loss: 2.662, D_unsup_loss_real: 0.322, D_unsup_acc_real:  85.94, D_unsup_loss_fake: 0.221, D_unsup_acc_fake: 98.44, D_sup_loss: 1.627, D_sup_acc: 42.89 Train acc: 41.362 Test acc: 42.220 \n",
      "epoch: 0 | step: 231 | Train: G_Loss: 2.734, D_unsup_loss_real: 0.287, D_unsup_acc_real:  85.16, D_unsup_loss_fake: 0.275, D_unsup_acc_fake: 96.88, D_sup_loss: 1.642, D_sup_acc: 42.12 Train acc: 41.880 Test acc: 42.640 \n",
      "epoch: 0 | step: 232 | Train: G_Loss: 3.415, D_unsup_loss_real: 0.257, D_unsup_acc_real:  87.50, D_unsup_loss_fake: 0.349, D_unsup_acc_fake: 96.88, D_sup_loss: 1.629, D_sup_acc: 42.62 Train acc: 41.736 Test acc: 42.170 \n",
      "epoch: 0 | step: 233 | Train: G_Loss: 3.034, D_unsup_loss_real: 0.367, D_unsup_acc_real:  82.81, D_unsup_loss_fake: 0.133, D_unsup_acc_fake: 99.22, D_sup_loss: 1.641, D_sup_acc: 42.18 Train acc: 42.294 Test acc: 42.780 \n",
      "epoch: 0 | step: 234 | Train: G_Loss: 3.993, D_unsup_loss_real: 0.223, D_unsup_acc_real:  87.50, D_unsup_loss_fake: 0.409, D_unsup_acc_fake: 96.09, D_sup_loss: 1.627, D_sup_acc: 42.62 Train acc: 41.926 Test acc: 42.670 \n",
      "epoch: 0 | step: 235 | Train: G_Loss: 3.213, D_unsup_loss_real: 0.394, D_unsup_acc_real:  82.03, D_unsup_loss_fake: 0.148, D_unsup_acc_fake: 96.09, D_sup_loss: 1.632, D_sup_acc: 42.56 Train acc: 42.152 Test acc: 42.590 \n",
      "epoch: 0 | step: 236 | Train: G_Loss: 2.434, D_unsup_loss_real: 0.291, D_unsup_acc_real:  86.72, D_unsup_loss_fake: 0.220, D_unsup_acc_fake: 96.09, D_sup_loss: 1.626, D_sup_acc: 42.57 Train acc: 41.968 Test acc: 42.420 \n",
      "epoch: 0 | step: 237 | Train: G_Loss: 2.403, D_unsup_loss_real: 0.198, D_unsup_acc_real:  89.84, D_unsup_loss_fake: 0.384, D_unsup_acc_fake: 89.06, D_sup_loss: 1.626, D_sup_acc: 42.41 Train acc: 41.870 Test acc: 42.430 \n",
      "epoch: 0 | step: 238 | Train: G_Loss: 2.595, D_unsup_loss_real: 0.200, D_unsup_acc_real:  88.28, D_unsup_loss_fake: 0.285, D_unsup_acc_fake: 92.97, D_sup_loss: 1.630, D_sup_acc: 42.38 Train acc: 41.352 Test acc: 41.740 \n",
      "epoch: 0 | step: 239 | Train: G_Loss: 2.535, D_unsup_loss_real: 0.249, D_unsup_acc_real:  86.72, D_unsup_loss_fake: 0.207, D_unsup_acc_fake: 96.09, D_sup_loss: 1.648, D_sup_acc: 41.76 Train acc: 42.304 Test acc: 42.910 \n",
      "epoch: 0 | step: 240 | Train: G_Loss: 2.312, D_unsup_loss_real: 0.250, D_unsup_acc_real:  87.50, D_unsup_loss_fake: 0.315, D_unsup_acc_fake: 95.31, D_sup_loss: 1.623, D_sup_acc: 42.95 Train acc: 42.284 Test acc: 42.770 \n",
      "epoch: 0 | step: 241 | Train: G_Loss: 2.425, D_unsup_loss_real: 0.237, D_unsup_acc_real:  87.50, D_unsup_loss_fake: 0.311, D_unsup_acc_fake: 93.75, D_sup_loss: 1.621, D_sup_acc: 42.71 Train acc: 41.942 Test acc: 42.440 \n",
      "epoch: 0 | step: 242 | Train: G_Loss: 2.365, D_unsup_loss_real: 0.414, D_unsup_acc_real:  77.34, D_unsup_loss_fake: 0.186, D_unsup_acc_fake: 98.44, D_sup_loss: 1.633, D_sup_acc: 42.47 Train acc: 42.382 Test acc: 42.710 \n",
      "epoch: 0 | step: 243 | Train: G_Loss: 2.060, D_unsup_loss_real: 0.328, D_unsup_acc_real:  84.38, D_unsup_loss_fake: 0.461, D_unsup_acc_fake: 82.81, D_sup_loss: 1.621, D_sup_acc: 42.71 Train acc: 42.388 Test acc: 42.670 \n",
      "epoch: 0 | step: 244 | Train: G_Loss: 2.284, D_unsup_loss_real: 0.281, D_unsup_acc_real:  84.38, D_unsup_loss_fake: 0.358, D_unsup_acc_fake: 92.97, D_sup_loss: 1.617, D_sup_acc: 42.68 Train acc: 42.200 Test acc: 42.430 \n",
      "epoch: 0 | step: 245 | Train: G_Loss: 2.179, D_unsup_loss_real: 0.402, D_unsup_acc_real:  80.47, D_unsup_loss_fake: 0.281, D_unsup_acc_fake: 97.66, D_sup_loss: 1.624, D_sup_acc: 42.39 Train acc: 42.662 Test acc: 42.870 \n",
      "epoch: 0 | step: 246 | Train: G_Loss: 2.150, D_unsup_loss_real: 0.324, D_unsup_acc_real:  86.72, D_unsup_loss_fake: 0.313, D_unsup_acc_fake: 93.75, D_sup_loss: 1.611, D_sup_acc: 42.90 Train acc: 42.760 Test acc: 43.390 \n",
      "epoch: 0 | step: 247 | Train: G_Loss: 2.435, D_unsup_loss_real: 0.253, D_unsup_acc_real:  85.94, D_unsup_loss_fake: 0.402, D_unsup_acc_fake: 86.72, D_sup_loss: 1.611, D_sup_acc: 43.30 Train acc: 42.950 Test acc: 43.270 \n",
      "epoch: 0 | step: 248 | Train: G_Loss: 2.636, D_unsup_loss_real: 0.277, D_unsup_acc_real:  86.72, D_unsup_loss_fake: 0.271, D_unsup_acc_fake: 95.31, D_sup_loss: 1.604, D_sup_acc: 43.31 Train acc: 42.760 Test acc: 43.340 \n",
      "epoch: 0 | step: 249 | Train: G_Loss: 2.639, D_unsup_loss_real: 0.350, D_unsup_acc_real:  83.59, D_unsup_loss_fake: 0.306, D_unsup_acc_fake: 96.88, D_sup_loss: 1.612, D_sup_acc: 43.31 Train acc: 42.240 Test acc: 42.830 \n",
      "epoch: 0 | step: 250 | Train: G_Loss: 2.532, D_unsup_loss_real: 0.474, D_unsup_acc_real:  77.34, D_unsup_loss_fake: 0.247, D_unsup_acc_fake: 98.44, D_sup_loss: 1.636, D_sup_acc: 42.69 Train acc: 43.038 Test acc: 43.180 \n",
      "epoch: 0 | step: 251 | Train: G_Loss: 2.911, D_unsup_loss_real: 0.369, D_unsup_acc_real:  82.81, D_unsup_loss_fake: 0.358, D_unsup_acc_fake: 92.19, D_sup_loss: 1.613, D_sup_acc: 43.13 Train acc: 43.256 Test acc: 43.780 \n",
      "epoch: 0 | step: 252 | Train: G_Loss: 2.837, D_unsup_loss_real: 0.475, D_unsup_acc_real:  72.66, D_unsup_loss_fake: 0.229, D_unsup_acc_fake: 100.00, D_sup_loss: 1.607, D_sup_acc: 43.71 Train acc: 43.062 Test acc: 43.480 \n",
      "epoch: 0 | step: 253 | Train: G_Loss: 2.787, D_unsup_loss_real: 0.422, D_unsup_acc_real:  74.22, D_unsup_loss_fake: 0.305, D_unsup_acc_fake: 97.66, D_sup_loss: 1.607, D_sup_acc: 43.47 Train acc: 43.070 Test acc: 43.730 \n",
      "epoch: 0 | step: 254 | Train: G_Loss: 2.712, D_unsup_loss_real: 0.429, D_unsup_acc_real:  75.78, D_unsup_loss_fake: 0.175, D_unsup_acc_fake: 100.00, D_sup_loss: 1.608, D_sup_acc: 43.70 Train acc: 43.224 Test acc: 43.850 \n",
      "epoch: 0 | step: 255 | Train: G_Loss: 2.503, D_unsup_loss_real: 0.463, D_unsup_acc_real:  73.44, D_unsup_loss_fake: 0.294, D_unsup_acc_fake: 100.00, D_sup_loss: 1.604, D_sup_acc: 43.81 Train acc: 43.036 Test acc: 43.560 \n",
      "epoch: 0 | step: 256 | Train: G_Loss: 2.801, D_unsup_loss_real: 0.317, D_unsup_acc_real:  83.59, D_unsup_loss_fake: 0.317, D_unsup_acc_fake: 98.44, D_sup_loss: 1.610, D_sup_acc: 43.44 Train acc: 43.138 Test acc: 43.400 \n",
      "epoch: 0 | step: 257 | Train: G_Loss: 2.497, D_unsup_loss_real: 0.566, D_unsup_acc_real:  65.62, D_unsup_loss_fake: 0.260, D_unsup_acc_fake: 96.88, D_sup_loss: 1.609, D_sup_acc: 43.33 Train acc: 43.430 Test acc: 43.860 \n",
      "epoch: 0 | step: 258 | Train: G_Loss: 2.280, D_unsup_loss_real: 0.449, D_unsup_acc_real:  68.75, D_unsup_loss_fake: 0.215, D_unsup_acc_fake: 97.66, D_sup_loss: 1.603, D_sup_acc: 43.80 Train acc: 43.176 Test acc: 43.580 \n",
      "epoch: 0 | step: 259 | Train: G_Loss: 2.487, D_unsup_loss_real: 0.343, D_unsup_acc_real:  80.47, D_unsup_loss_fake: 0.361, D_unsup_acc_fake: 94.53, D_sup_loss: 1.607, D_sup_acc: 43.51 Train acc: 43.448 Test acc: 43.900 \n",
      "epoch: 0 | step: 260 | Train: G_Loss: 2.875, D_unsup_loss_real: 0.210, D_unsup_acc_real:  85.94, D_unsup_loss_fake: 0.199, D_unsup_acc_fake: 96.09, D_sup_loss: 1.602, D_sup_acc: 43.78 Train acc: 43.108 Test acc: 43.350 \n",
      "epoch: 0 | step: 261 | Train: G_Loss: 2.544, D_unsup_loss_real: 0.263, D_unsup_acc_real:  85.16, D_unsup_loss_fake: 0.238, D_unsup_acc_fake: 97.66, D_sup_loss: 1.616, D_sup_acc: 43.34 Train acc: 42.434 Test acc: 43.080 \n",
      "epoch: 0 | step: 262 | Train: G_Loss: 2.514, D_unsup_loss_real: 0.410, D_unsup_acc_real:  76.56, D_unsup_loss_fake: 0.314, D_unsup_acc_fake: 94.53, D_sup_loss: 1.629, D_sup_acc: 43.02 Train acc: 43.338 Test acc: 43.720 \n"
     ]
    },
    {
     "name": "stdout",
     "output_type": "stream",
     "text": [
      "epoch: 0 | step: 263 | Train: G_Loss: 2.558, D_unsup_loss_real: 0.420, D_unsup_acc_real:  75.00, D_unsup_loss_fake: 0.189, D_unsup_acc_fake: 97.66, D_sup_loss: 1.611, D_sup_acc: 43.59 Train acc: 43.692 Test acc: 44.380 \n",
      "epoch: 0 | step: 264 | Train: G_Loss: 2.099, D_unsup_loss_real: 0.481, D_unsup_acc_real:  69.53, D_unsup_loss_fake: 0.281, D_unsup_acc_fake: 96.88, D_sup_loss: 1.590, D_sup_acc: 44.39 Train acc: 42.236 Test acc: 42.860 \n",
      "epoch: 0 | step: 265 | Train: G_Loss: 2.310, D_unsup_loss_real: 0.263, D_unsup_acc_real:  86.72, D_unsup_loss_fake: 0.326, D_unsup_acc_fake: 99.22, D_sup_loss: 1.608, D_sup_acc: 42.76 Train acc: 42.236 Test acc: 42.910 \n",
      "epoch: 0 | step: 266 | Train: G_Loss: 2.340, D_unsup_loss_real: 0.352, D_unsup_acc_real:  80.47, D_unsup_loss_fake: 0.338, D_unsup_acc_fake: 93.75, D_sup_loss: 1.612, D_sup_acc: 42.90 Train acc: 42.986 Test acc: 43.220 \n",
      "epoch: 0 | step: 267 | Train: G_Loss: 2.470, D_unsup_loss_real: 0.427, D_unsup_acc_real:  77.34, D_unsup_loss_fake: 0.375, D_unsup_acc_fake: 92.97, D_sup_loss: 1.602, D_sup_acc: 43.15 Train acc: 43.496 Test acc: 44.050 \n",
      "epoch: 0 | step: 268 | Train: G_Loss: 2.705, D_unsup_loss_real: 0.377, D_unsup_acc_real:  76.56, D_unsup_loss_fake: 0.240, D_unsup_acc_fake: 97.66, D_sup_loss: 1.595, D_sup_acc: 44.11 Train acc: 43.664 Test acc: 44.010 \n",
      "epoch: 0 | step: 269 | Train: G_Loss: 2.417, D_unsup_loss_real: 0.536, D_unsup_acc_real:  77.34, D_unsup_loss_fake: 0.291, D_unsup_acc_fake: 92.97, D_sup_loss: 1.597, D_sup_acc: 44.02 Train acc: 42.764 Test acc: 42.930 \n",
      "epoch: 0 | step: 270 | Train: G_Loss: 2.680, D_unsup_loss_real: 0.391, D_unsup_acc_real:  75.78, D_unsup_loss_fake: 0.310, D_unsup_acc_fake: 94.53, D_sup_loss: 1.612, D_sup_acc: 42.92 Train acc: 43.524 Test acc: 43.760 \n",
      "epoch: 0 | step: 271 | Train: G_Loss: 2.870, D_unsup_loss_real: 0.373, D_unsup_acc_real:  75.78, D_unsup_loss_fake: 0.243, D_unsup_acc_fake: 92.97, D_sup_loss: 1.599, D_sup_acc: 43.72 Train acc: 43.838 Test acc: 44.010 \n",
      "epoch: 0 | step: 272 | Train: G_Loss: 2.846, D_unsup_loss_real: 0.408, D_unsup_acc_real:  82.03, D_unsup_loss_fake: 0.276, D_unsup_acc_fake: 95.31, D_sup_loss: 1.593, D_sup_acc: 44.05 Train acc: 43.650 Test acc: 44.170 \n",
      "epoch: 0 | step: 273 | Train: G_Loss: 3.265, D_unsup_loss_real: 0.255, D_unsup_acc_real:  87.50, D_unsup_loss_fake: 0.325, D_unsup_acc_fake: 93.75, D_sup_loss: 1.594, D_sup_acc: 44.13 Train acc: 43.502 Test acc: 44.390 \n",
      "epoch: 0 | step: 274 | Train: G_Loss: 3.462, D_unsup_loss_real: 0.295, D_unsup_acc_real:  84.38, D_unsup_loss_fake: 0.128, D_unsup_acc_fake: 97.66, D_sup_loss: 1.600, D_sup_acc: 44.34 Train acc: 43.666 Test acc: 44.360 \n",
      "epoch: 0 | step: 275 | Train: G_Loss: 2.990, D_unsup_loss_real: 0.400, D_unsup_acc_real:  81.25, D_unsup_loss_fake: 0.184, D_unsup_acc_fake: 100.00, D_sup_loss: 1.602, D_sup_acc: 44.29 Train acc: 43.216 Test acc: 43.660 \n",
      "epoch: 0 | step: 276 | Train: G_Loss: 3.092, D_unsup_loss_real: 0.478, D_unsup_acc_real:  74.22, D_unsup_loss_fake: 0.231, D_unsup_acc_fake: 96.88, D_sup_loss: 1.618, D_sup_acc: 43.64 Train acc: 43.256 Test acc: 43.380 \n",
      "epoch: 0 | step: 277 | Train: G_Loss: 3.022, D_unsup_loss_real: 0.410, D_unsup_acc_real:  79.69, D_unsup_loss_fake: 0.169, D_unsup_acc_fake: 99.22, D_sup_loss: 1.607, D_sup_acc: 43.39 Train acc: 42.730 Test acc: 42.990 \n",
      "epoch: 0 | step: 278 | Train: G_Loss: 3.034, D_unsup_loss_real: 0.462, D_unsup_acc_real:  76.56, D_unsup_loss_fake: 0.151, D_unsup_acc_fake: 98.44, D_sup_loss: 1.605, D_sup_acc: 42.89 Train acc: 42.012 Test acc: 42.450 \n",
      "epoch: 0 | step: 279 | Train: G_Loss: 3.926, D_unsup_loss_real: 0.457, D_unsup_acc_real:  76.56, D_unsup_loss_fake: 0.259, D_unsup_acc_fake: 92.97, D_sup_loss: 1.619, D_sup_acc: 42.50 Train acc: 42.774 Test acc: 43.280 \n",
      "epoch: 0 | step: 280 | Train: G_Loss: 3.585, D_unsup_loss_real: 0.410, D_unsup_acc_real:  80.47, D_unsup_loss_fake: 0.097, D_unsup_acc_fake: 100.00, D_sup_loss: 1.611, D_sup_acc: 43.18 Train acc: 43.078 Test acc: 43.490 \n",
      "epoch: 0 | step: 281 | Train: G_Loss: 3.925, D_unsup_loss_real: 0.378, D_unsup_acc_real:  80.47, D_unsup_loss_fake: 0.254, D_unsup_acc_fake: 94.53, D_sup_loss: 1.602, D_sup_acc: 43.55 Train acc: 43.128 Test acc: 43.610 \n",
      "epoch: 0 | step: 282 | Train: G_Loss: 3.910, D_unsup_loss_real: 0.468, D_unsup_acc_real:  78.12, D_unsup_loss_fake: 0.045, D_unsup_acc_fake: 100.00, D_sup_loss: 1.599, D_sup_acc: 43.61 Train acc: 43.160 Test acc: 43.700 \n",
      "epoch: 0 | step: 283 | Train: G_Loss: 3.308, D_unsup_loss_real: 0.310, D_unsup_acc_real:  83.59, D_unsup_loss_fake: 0.060, D_unsup_acc_fake: 100.00, D_sup_loss: 1.599, D_sup_acc: 43.64 Train acc: 42.990 Test acc: 43.600 \n",
      "epoch: 0 | step: 284 | Train: G_Loss: 3.122, D_unsup_loss_real: 0.357, D_unsup_acc_real:  82.81, D_unsup_loss_fake: 0.111, D_unsup_acc_fake: 100.00, D_sup_loss: 1.597, D_sup_acc: 43.57 Train acc: 42.654 Test acc: 43.260 \n",
      "epoch: 0 | step: 285 | Train: G_Loss: 2.950, D_unsup_loss_real: 0.268, D_unsup_acc_real:  87.50, D_unsup_loss_fake: 0.191, D_unsup_acc_fake: 98.44, D_sup_loss: 1.602, D_sup_acc: 43.28 Train acc: 42.634 Test acc: 43.090 \n",
      "epoch: 0 | step: 286 | Train: G_Loss: 2.957, D_unsup_loss_real: 0.323, D_unsup_acc_real:  85.16, D_unsup_loss_fake: 0.180, D_unsup_acc_fake: 96.88, D_sup_loss: 1.615, D_sup_acc: 43.05 Train acc: 42.662 Test acc: 42.970 \n",
      "epoch: 0 | step: 287 | Train: G_Loss: 2.652, D_unsup_loss_real: 0.341, D_unsup_acc_real:  81.25, D_unsup_loss_fake: 0.288, D_unsup_acc_fake: 92.97, D_sup_loss: 1.605, D_sup_acc: 43.02 Train acc: 43.182 Test acc: 43.840 \n",
      "epoch: 0 | step: 288 | Train: G_Loss: 2.890, D_unsup_loss_real: 0.213, D_unsup_acc_real:  86.72, D_unsup_loss_fake: 0.204, D_unsup_acc_fake: 96.88, D_sup_loss: 1.590, D_sup_acc: 43.84 Train acc: 43.510 Test acc: 43.800 \n",
      "epoch: 0 | step: 289 | Train: G_Loss: 2.743, D_unsup_loss_real: 0.323, D_unsup_acc_real:  84.38, D_unsup_loss_fake: 0.159, D_unsup_acc_fake: 100.00, D_sup_loss: 1.587, D_sup_acc: 43.78 Train acc: 44.084 Test acc: 44.200 \n",
      "epoch: 0 | step: 290 | Train: G_Loss: 2.470, D_unsup_loss_real: 0.423, D_unsup_acc_real:  80.47, D_unsup_loss_fake: 0.210, D_unsup_acc_fake: 98.44, D_sup_loss: 1.579, D_sup_acc: 44.21 Train acc: 43.664 Test acc: 44.260 \n",
      "epoch: 0 | step: 291 | Train: G_Loss: 2.630, D_unsup_loss_real: 0.264, D_unsup_acc_real:  86.72, D_unsup_loss_fake: 0.312, D_unsup_acc_fake: 96.88, D_sup_loss: 1.584, D_sup_acc: 44.21 Train acc: 43.670 Test acc: 44.140 \n",
      "epoch: 0 | step: 292 | Train: G_Loss: 2.594, D_unsup_loss_real: 0.320, D_unsup_acc_real:  80.47, D_unsup_loss_fake: 0.188, D_unsup_acc_fake: 100.00, D_sup_loss: 1.580, D_sup_acc: 44.12 Train acc: 43.914 Test acc: 44.560 \n",
      "epoch: 0 | step: 293 | Train: G_Loss: 2.703, D_unsup_loss_real: 0.400, D_unsup_acc_real:  79.69, D_unsup_loss_fake: 0.272, D_unsup_acc_fake: 93.75, D_sup_loss: 1.574, D_sup_acc: 44.66 Train acc: 43.754 Test acc: 44.200 \n",
      "epoch: 0 | step: 294 | Train: G_Loss: 2.833, D_unsup_loss_real: 0.251, D_unsup_acc_real:  85.94, D_unsup_loss_fake: 0.288, D_unsup_acc_fake: 92.97, D_sup_loss: 1.583, D_sup_acc: 44.16 Train acc: 44.558 Test acc: 44.790 \n",
      "epoch: 0 | step: 295 | Train: G_Loss: 2.941, D_unsup_loss_real: 0.455, D_unsup_acc_real:  73.44, D_unsup_loss_fake: 0.335, D_unsup_acc_fake: 90.62, D_sup_loss: 1.569, D_sup_acc: 44.69 Train acc: 43.752 Test acc: 43.880 \n",
      "epoch: 0 | step: 296 | Train: G_Loss: 2.577, D_unsup_loss_real: 0.292, D_unsup_acc_real:  82.03, D_unsup_loss_fake: 0.187, D_unsup_acc_fake: 100.00, D_sup_loss: 1.589, D_sup_acc: 43.85 Train acc: 43.840 Test acc: 43.920 \n",
      "epoch: 0 | step: 297 | Train: G_Loss: 2.652, D_unsup_loss_real: 0.232, D_unsup_acc_real:  87.50, D_unsup_loss_fake: 0.519, D_unsup_acc_fake: 80.47, D_sup_loss: 1.586, D_sup_acc: 43.94 Train acc: 43.834 Test acc: 43.780 \n",
      "epoch: 0 | step: 298 | Train: G_Loss: 2.776, D_unsup_loss_real: 0.271, D_unsup_acc_real:  86.72, D_unsup_loss_fake: 0.338, D_unsup_acc_fake: 96.09, D_sup_loss: 1.585, D_sup_acc: 43.70 Train acc: 44.336 Test acc: 43.970 \n",
      "epoch: 0 | step: 299 | Train: G_Loss: 2.672, D_unsup_loss_real: 0.217, D_unsup_acc_real:  87.50, D_unsup_loss_fake: 0.343, D_unsup_acc_fake: 95.31, D_sup_loss: 1.583, D_sup_acc: 43.99 Train acc: 44.464 Test acc: 43.570 \n",
      "epoch: 0 | step: 300 | Train: G_Loss: 2.646, D_unsup_loss_real: 0.379, D_unsup_acc_real:  80.47, D_unsup_loss_fake: 0.419, D_unsup_acc_fake: 88.28, D_sup_loss: 1.585, D_sup_acc: 43.59 Train acc: 43.158 Test acc: 42.570 \n"
     ]
    },
    {
     "name": "stdout",
     "output_type": "stream",
     "text": [
      "Train Classifier Accuracy: 43.158%\n",
      "\n",
      "Test Classifier Accuracy: 42.570%\n",
      "\n",
      ">Saving models Generator: Logs/SSGAN_CIFAR10/Classifier_50000/generator_model_300.h5 and Supervised: Logs/SSGAN_CIFAR10/Classifier_50000/supervised_model_300.h5\n",
      "epoch: 0 | step: 301 | Train: G_Loss: 3.026, D_unsup_loss_real: 0.272, D_unsup_acc_real:  86.72, D_unsup_loss_fake: 0.445, D_unsup_acc_fake: 82.03, D_sup_loss: 1.608, D_sup_acc: 42.55 Train acc: 41.002 Test acc: 40.220 \n",
      "epoch: 0 | step: 302 | Train: G_Loss: 2.890, D_unsup_loss_real: 0.446, D_unsup_acc_real:  74.22, D_unsup_loss_fake: 0.316, D_unsup_acc_fake: 95.31, D_sup_loss: 1.652, D_sup_acc: 40.27 Train acc: 41.868 Test acc: 41.150 \n",
      "epoch: 0 | step: 303 | Train: G_Loss: 3.103, D_unsup_loss_real: 0.347, D_unsup_acc_real:  83.59, D_unsup_loss_fake: 0.483, D_unsup_acc_fake: 78.91, D_sup_loss: 1.633, D_sup_acc: 41.19 Train acc: 42.548 Test acc: 42.010 \n",
      "epoch: 0 | step: 304 | Train: G_Loss: 3.357, D_unsup_loss_real: 0.237, D_unsup_acc_real:  89.84, D_unsup_loss_fake: 0.241, D_unsup_acc_fake: 96.88, D_sup_loss: 1.622, D_sup_acc: 41.98 Train acc: 42.650 Test acc: 42.060 \n",
      "epoch: 0 | step: 305 | Train: G_Loss: 2.729, D_unsup_loss_real: 0.654, D_unsup_acc_real:  67.97, D_unsup_loss_fake: 0.454, D_unsup_acc_fake: 79.69, D_sup_loss: 1.624, D_sup_acc: 41.97 Train acc: 43.264 Test acc: 42.800 \n",
      "epoch: 0 | step: 306 | Train: G_Loss: 2.774, D_unsup_loss_real: 0.578, D_unsup_acc_real:  68.75, D_unsup_loss_fake: 0.425, D_unsup_acc_fake: 84.38, D_sup_loss: 1.606, D_sup_acc: 42.84 Train acc: 43.358 Test acc: 43.200 \n",
      "epoch: 0 | step: 307 | Train: G_Loss: 3.015, D_unsup_loss_real: 0.557, D_unsup_acc_real:  71.09, D_unsup_loss_fake: 0.441, D_unsup_acc_fake: 83.59, D_sup_loss: 1.599, D_sup_acc: 43.20 Train acc: 43.618 Test acc: 43.870 \n",
      "epoch: 0 | step: 308 | Train: G_Loss: 2.751, D_unsup_loss_real: 0.498, D_unsup_acc_real:  74.22, D_unsup_loss_fake: 0.159, D_unsup_acc_fake: 100.00, D_sup_loss: 1.587, D_sup_acc: 43.83 Train acc: 44.508 Test acc: 44.350 \n",
      "epoch: 0 | step: 309 | Train: G_Loss: 2.452, D_unsup_loss_real: 0.373, D_unsup_acc_real:  78.91, D_unsup_loss_fake: 0.196, D_unsup_acc_fake: 99.22, D_sup_loss: 1.576, D_sup_acc: 44.27 Train acc: 44.296 Test acc: 43.940 \n",
      "epoch: 0 | step: 310 | Train: G_Loss: 2.240, D_unsup_loss_real: 0.575, D_unsup_acc_real:  68.75, D_unsup_loss_fake: 0.262, D_unsup_acc_fake: 99.22, D_sup_loss: 1.574, D_sup_acc: 43.97 Train acc: 44.072 Test acc: 43.730 \n",
      "epoch: 0 | step: 311 | Train: G_Loss: 2.537, D_unsup_loss_real: 0.510, D_unsup_acc_real:  73.44, D_unsup_loss_fake: 0.343, D_unsup_acc_fake: 94.53, D_sup_loss: 1.568, D_sup_acc: 43.72 Train acc: 44.262 Test acc: 43.860 \n",
      "epoch: 0 | step: 312 | Train: G_Loss: 2.652, D_unsup_loss_real: 0.390, D_unsup_acc_real:  78.12, D_unsup_loss_fake: 0.271, D_unsup_acc_fake: 99.22, D_sup_loss: 1.563, D_sup_acc: 43.80 Train acc: 44.232 Test acc: 43.980 \n",
      "epoch: 0 | step: 313 | Train: G_Loss: 2.504, D_unsup_loss_real: 0.327, D_unsup_acc_real:  82.81, D_unsup_loss_fake: 0.209, D_unsup_acc_fake: 100.00, D_sup_loss: 1.564, D_sup_acc: 43.98 Train acc: 44.676 Test acc: 44.230 \n",
      "epoch: 0 | step: 314 | Train: G_Loss: 2.842, D_unsup_loss_real: 0.294, D_unsup_acc_real:  82.03, D_unsup_loss_fake: 0.489, D_unsup_acc_fake: 77.34, D_sup_loss: 1.566, D_sup_acc: 44.22 Train acc: 44.846 Test acc: 44.300 \n",
      "epoch: 0 | step: 315 | Train: G_Loss: 2.923, D_unsup_loss_real: 0.318, D_unsup_acc_real:  82.03, D_unsup_loss_fake: 0.284, D_unsup_acc_fake: 92.19, D_sup_loss: 1.565, D_sup_acc: 44.34 Train acc: 44.730 Test acc: 43.930 \n",
      "epoch: 0 | step: 316 | Train: G_Loss: 2.635, D_unsup_loss_real: 0.546, D_unsup_acc_real:  76.56, D_unsup_loss_fake: 0.199, D_unsup_acc_fake: 96.09, D_sup_loss: 1.565, D_sup_acc: 43.86 Train acc: 44.754 Test acc: 43.740 \n",
      "epoch: 0 | step: 317 | Train: G_Loss: 2.916, D_unsup_loss_real: 0.433, D_unsup_acc_real:  76.56, D_unsup_loss_fake: 0.531, D_unsup_acc_fake: 77.34, D_sup_loss: 1.565, D_sup_acc: 43.70 Train acc: 44.248 Test acc: 43.040 \n",
      "epoch: 0 | step: 318 | Train: G_Loss: 3.183, D_unsup_loss_real: 0.371, D_unsup_acc_real:  78.91, D_unsup_loss_fake: 0.345, D_unsup_acc_fake: 87.50, D_sup_loss: 1.585, D_sup_acc: 43.09 Train acc: 43.588 Test acc: 42.620 \n",
      "epoch: 0 | step: 319 | Train: G_Loss: 3.343, D_unsup_loss_real: 0.289, D_unsup_acc_real:  86.72, D_unsup_loss_fake: 0.519, D_unsup_acc_fake: 78.12, D_sup_loss: 1.597, D_sup_acc: 42.53 Train acc: 42.724 Test acc: 41.930 \n",
      "epoch: 0 | step: 320 | Train: G_Loss: 3.066, D_unsup_loss_real: 0.236, D_unsup_acc_real:  88.28, D_unsup_loss_fake: 0.154, D_unsup_acc_fake: 98.44, D_sup_loss: 1.617, D_sup_acc: 41.84 Train acc: 42.306 Test acc: 41.310 \n",
      "epoch: 0 | step: 321 | Train: G_Loss: 2.639, D_unsup_loss_real: 0.475, D_unsup_acc_real:  72.66, D_unsup_loss_fake: 0.151, D_unsup_acc_fake: 98.44, D_sup_loss: 1.624, D_sup_acc: 41.18 Train acc: 42.788 Test acc: 42.400 \n",
      "epoch: 0 | step: 322 | Train: G_Loss: 2.550, D_unsup_loss_real: 0.254, D_unsup_acc_real:  86.72, D_unsup_loss_fake: 0.463, D_unsup_acc_fake: 81.25, D_sup_loss: 1.601, D_sup_acc: 42.38 Train acc: 43.582 Test acc: 42.810 \n",
      "epoch: 0 | step: 323 | Train: G_Loss: 2.574, D_unsup_loss_real: 0.366, D_unsup_acc_real:  81.25, D_unsup_loss_fake: 0.224, D_unsup_acc_fake: 99.22, D_sup_loss: 1.587, D_sup_acc: 42.83 Train acc: 43.512 Test acc: 42.780 \n",
      "epoch: 0 | step: 324 | Train: G_Loss: 2.883, D_unsup_loss_real: 0.217, D_unsup_acc_real:  92.19, D_unsup_loss_fake: 0.571, D_unsup_acc_fake: 73.44, D_sup_loss: 1.586, D_sup_acc: 42.72 Train acc: 43.618 Test acc: 42.880 \n",
      "epoch: 0 | step: 325 | Train: G_Loss: 2.934, D_unsup_loss_real: 0.349, D_unsup_acc_real:  82.03, D_unsup_loss_fake: 0.222, D_unsup_acc_fake: 96.09, D_sup_loss: 1.576, D_sup_acc: 42.97 Train acc: 43.904 Test acc: 43.530 \n",
      "epoch: 0 | step: 326 | Train: G_Loss: 2.252, D_unsup_loss_real: 0.610, D_unsup_acc_real:  61.72, D_unsup_loss_fake: 0.336, D_unsup_acc_fake: 90.62, D_sup_loss: 1.583, D_sup_acc: 43.39 Train acc: 44.192 Test acc: 43.960 \n",
      "epoch: 0 | step: 327 | Train: G_Loss: 2.207, D_unsup_loss_real: 0.667, D_unsup_acc_real:  64.84, D_unsup_loss_fake: 0.407, D_unsup_acc_fake: 82.03, D_sup_loss: 1.586, D_sup_acc: 43.93 Train acc: 43.704 Test acc: 43.350 \n",
      "epoch: 0 | step: 328 | Train: G_Loss: 2.330, D_unsup_loss_real: 0.555, D_unsup_acc_real:  65.62, D_unsup_loss_fake: 0.448, D_unsup_acc_fake: 85.16, D_sup_loss: 1.584, D_sup_acc: 43.31 Train acc: 43.834 Test acc: 43.530 \n",
      "epoch: 0 | step: 329 | Train: G_Loss: 2.276, D_unsup_loss_real: 0.515, D_unsup_acc_real:  68.75, D_unsup_loss_fake: 0.396, D_unsup_acc_fake: 89.06, D_sup_loss: 1.582, D_sup_acc: 43.48 Train acc: 43.876 Test acc: 43.670 \n",
      "epoch: 0 | step: 330 | Train: G_Loss: 2.136, D_unsup_loss_real: 0.404, D_unsup_acc_real:  77.34, D_unsup_loss_fake: 0.421, D_unsup_acc_fake: 88.28, D_sup_loss: 1.576, D_sup_acc: 43.73 Train acc: 44.092 Test acc: 43.400 \n",
      "epoch: 0 | step: 331 | Train: G_Loss: 2.113, D_unsup_loss_real: 0.494, D_unsup_acc_real:  71.88, D_unsup_loss_fake: 0.318, D_unsup_acc_fake: 94.53, D_sup_loss: 1.573, D_sup_acc: 43.40 Train acc: 44.150 Test acc: 43.330 \n",
      "epoch: 0 | step: 332 | Train: G_Loss: 2.152, D_unsup_loss_real: 0.513, D_unsup_acc_real:  67.19, D_unsup_loss_fake: 0.633, D_unsup_acc_fake: 72.66, D_sup_loss: 1.572, D_sup_acc: 43.25 Train acc: 44.672 Test acc: 44.270 \n",
      "epoch: 0 | step: 333 | Train: G_Loss: 2.025, D_unsup_loss_real: 0.474, D_unsup_acc_real:  71.88, D_unsup_loss_fake: 0.361, D_unsup_acc_fake: 92.19, D_sup_loss: 1.565, D_sup_acc: 44.31 Train acc: 44.518 Test acc: 44.350 \n",
      "epoch: 0 | step: 334 | Train: G_Loss: 1.810, D_unsup_loss_real: 0.666, D_unsup_acc_real:  61.72, D_unsup_loss_fake: 0.393, D_unsup_acc_fake: 88.28, D_sup_loss: 1.567, D_sup_acc: 44.33 Train acc: 44.772 Test acc: 44.530 \n",
      "epoch: 0 | step: 335 | Train: G_Loss: 1.716, D_unsup_loss_real: 0.453, D_unsup_acc_real:  75.00, D_unsup_loss_fake: 0.482, D_unsup_acc_fake: 83.59, D_sup_loss: 1.561, D_sup_acc: 44.51 Train acc: 44.532 Test acc: 44.240 \n",
      "epoch: 0 | step: 336 | Train: G_Loss: 1.811, D_unsup_loss_real: 0.553, D_unsup_acc_real:  67.19, D_unsup_loss_fake: 0.425, D_unsup_acc_fake: 85.94, D_sup_loss: 1.566, D_sup_acc: 44.20 Train acc: 43.988 Test acc: 43.780 \n",
      "epoch: 0 | step: 337 | Train: G_Loss: 1.857, D_unsup_loss_real: 0.464, D_unsup_acc_real:  77.34, D_unsup_loss_fake: 0.407, D_unsup_acc_fake: 83.59, D_sup_loss: 1.576, D_sup_acc: 43.73 Train acc: 44.398 Test acc: 44.280 \n"
     ]
    },
    {
     "name": "stdout",
     "output_type": "stream",
     "text": [
      "epoch: 0 | step: 338 | Train: G_Loss: 1.785, D_unsup_loss_real: 0.615, D_unsup_acc_real:  64.06, D_unsup_loss_fake: 0.499, D_unsup_acc_fake: 81.25, D_sup_loss: 1.558, D_sup_acc: 44.30 Train acc: 45.100 Test acc: 44.680 \n",
      "epoch: 0 | step: 339 | Train: G_Loss: 1.880, D_unsup_loss_real: 0.452, D_unsup_acc_real:  72.66, D_unsup_loss_fake: 0.459, D_unsup_acc_fake: 84.38, D_sup_loss: 1.546, D_sup_acc: 44.75 Train acc: 44.742 Test acc: 44.270 \n",
      "epoch: 0 | step: 340 | Train: G_Loss: 1.876, D_unsup_loss_real: 0.585, D_unsup_acc_real:  60.16, D_unsup_loss_fake: 0.391, D_unsup_acc_fake: 89.06, D_sup_loss: 1.549, D_sup_acc: 44.20 Train acc: 44.802 Test acc: 44.300 \n",
      "epoch: 0 | step: 341 | Train: G_Loss: 1.849, D_unsup_loss_real: 0.433, D_unsup_acc_real:  76.56, D_unsup_loss_fake: 0.490, D_unsup_acc_fake: 83.59, D_sup_loss: 1.546, D_sup_acc: 44.41 Train acc: 44.592 Test acc: 44.520 \n",
      "epoch: 0 | step: 342 | Train: G_Loss: 2.009, D_unsup_loss_real: 0.352, D_unsup_acc_real:  82.81, D_unsup_loss_fake: 0.492, D_unsup_acc_fake: 85.16, D_sup_loss: 1.556, D_sup_acc: 44.49 Train acc: 44.754 Test acc: 44.330 \n",
      "epoch: 0 | step: 343 | Train: G_Loss: 1.965, D_unsup_loss_real: 0.393, D_unsup_acc_real:  80.47, D_unsup_loss_fake: 0.366, D_unsup_acc_fake: 89.06, D_sup_loss: 1.557, D_sup_acc: 44.33 Train acc: 45.096 Test acc: 45.050 \n",
      "epoch: 0 | step: 344 | Train: G_Loss: 1.885, D_unsup_loss_real: 0.284, D_unsup_acc_real:  83.59, D_unsup_loss_fake: 0.403, D_unsup_acc_fake: 88.28, D_sup_loss: 1.543, D_sup_acc: 44.94 Train acc: 44.260 Test acc: 43.870 \n",
      "epoch: 0 | step: 345 | Train: G_Loss: 2.226, D_unsup_loss_real: 0.316, D_unsup_acc_real:  85.16, D_unsup_loss_fake: 0.400, D_unsup_acc_fake: 89.06, D_sup_loss: 1.561, D_sup_acc: 43.91 Train acc: 44.780 Test acc: 44.710 \n",
      "epoch: 0 | step: 346 | Train: G_Loss: 1.936, D_unsup_loss_real: 0.745, D_unsup_acc_real:  53.12, D_unsup_loss_fake: 0.288, D_unsup_acc_fake: 96.09, D_sup_loss: 1.552, D_sup_acc: 44.62 Train acc: 44.162 Test acc: 44.030 \n",
      "epoch: 0 | step: 347 | Train: G_Loss: 1.750, D_unsup_loss_real: 0.489, D_unsup_acc_real:  70.31, D_unsup_loss_fake: 0.423, D_unsup_acc_fake: 90.62, D_sup_loss: 1.561, D_sup_acc: 44.00 Train acc: 44.772 Test acc: 44.670 \n",
      "epoch: 0 | step: 348 | Train: G_Loss: 2.084, D_unsup_loss_real: 0.349, D_unsup_acc_real:  79.69, D_unsup_loss_fake: 0.472, D_unsup_acc_fake: 80.47, D_sup_loss: 1.548, D_sup_acc: 44.68 Train acc: 44.390 Test acc: 44.170 \n",
      "epoch: 0 | step: 349 | Train: G_Loss: 2.242, D_unsup_loss_real: 0.416, D_unsup_acc_real:  77.34, D_unsup_loss_fake: 0.255, D_unsup_acc_fake: 100.00, D_sup_loss: 1.558, D_sup_acc: 44.10 Train acc: 44.522 Test acc: 44.440 \n",
      "epoch: 0 | step: 350 | Train: G_Loss: 2.156, D_unsup_loss_real: 0.390, D_unsup_acc_real:  76.56, D_unsup_loss_fake: 0.312, D_unsup_acc_fake: 96.88, D_sup_loss: 1.545, D_sup_acc: 44.44 Train acc: 44.504 Test acc: 44.530 \n",
      "epoch: 0 | step: 351 | Train: G_Loss: 2.059, D_unsup_loss_real: 0.494, D_unsup_acc_real:  67.19, D_unsup_loss_fake: 0.297, D_unsup_acc_fake: 97.66, D_sup_loss: 1.555, D_sup_acc: 44.48 Train acc: 44.464 Test acc: 44.550 \n",
      "epoch: 0 | step: 352 | Train: G_Loss: 2.255, D_unsup_loss_real: 0.300, D_unsup_acc_real:  85.94, D_unsup_loss_fake: 0.368, D_unsup_acc_fake: 90.62, D_sup_loss: 1.553, D_sup_acc: 44.54 Train acc: 44.542 Test acc: 44.520 \n",
      "epoch: 0 | step: 353 | Train: G_Loss: 2.279, D_unsup_loss_real: 0.442, D_unsup_acc_real:  77.34, D_unsup_loss_fake: 0.229, D_unsup_acc_fake: 98.44, D_sup_loss: 1.549, D_sup_acc: 44.47 Train acc: 44.000 Test acc: 43.950 \n",
      "epoch: 0 | step: 354 | Train: G_Loss: 2.332, D_unsup_loss_real: 0.303, D_unsup_acc_real:  83.59, D_unsup_loss_fake: 0.403, D_unsup_acc_fake: 88.28, D_sup_loss: 1.571, D_sup_acc: 43.85 Train acc: 45.360 Test acc: 45.670 \n",
      "epoch: 0 | step: 355 | Train: G_Loss: 2.462, D_unsup_loss_real: 0.463, D_unsup_acc_real:  72.66, D_unsup_loss_fake: 0.214, D_unsup_acc_fake: 98.44, D_sup_loss: 1.538, D_sup_acc: 45.63 Train acc: 44.760 Test acc: 44.760 \n",
      "epoch: 0 | step: 356 | Train: G_Loss: 2.361, D_unsup_loss_real: 0.562, D_unsup_acc_real:  64.84, D_unsup_loss_fake: 0.205, D_unsup_acc_fake: 100.00, D_sup_loss: 1.554, D_sup_acc: 44.69 Train acc: 44.974 Test acc: 44.960 \n",
      "epoch: 0 | step: 357 | Train: G_Loss: 2.571, D_unsup_loss_real: 0.352, D_unsup_acc_real:  78.91, D_unsup_loss_fake: 0.312, D_unsup_acc_fake: 98.44, D_sup_loss: 1.541, D_sup_acc: 44.95 Train acc: 44.772 Test acc: 44.920 \n",
      "epoch: 0 | step: 358 | Train: G_Loss: 2.544, D_unsup_loss_real: 0.460, D_unsup_acc_real:  72.66, D_unsup_loss_fake: 0.158, D_unsup_acc_fake: 99.22, D_sup_loss: 1.541, D_sup_acc: 44.89 Train acc: 44.560 Test acc: 44.560 \n",
      "epoch: 0 | step: 359 | Train: G_Loss: 2.609, D_unsup_loss_real: 0.266, D_unsup_acc_real:  84.38, D_unsup_loss_fake: 0.308, D_unsup_acc_fake: 95.31, D_sup_loss: 1.547, D_sup_acc: 44.50 Train acc: 44.886 Test acc: 44.970 \n",
      "epoch: 0 | step: 360 | Train: G_Loss: 2.911, D_unsup_loss_real: 0.273, D_unsup_acc_real:  86.72, D_unsup_loss_fake: 0.155, D_unsup_acc_fake: 100.00, D_sup_loss: 1.539, D_sup_acc: 44.95 Train acc: 44.834 Test acc: 45.200 \n"
     ]
    }
   ],
   "source": [
    "train(generator_model, unsupervised_model, supervised_model, gan_model, \n",
    "      dataset, dataset_test, latent_dim=100, \n",
    "      n_epochs=300, n_batch=128, percent_samples=labeled_rate)"
   ]
  },
  {
   "cell_type": "markdown",
   "id": "dff849fc",
   "metadata": {},
   "source": [
    "### Testing"
   ]
  },
  {
   "cell_type": "code",
   "execution_count": null,
   "id": "8e50d5ee",
   "metadata": {},
   "outputs": [],
   "source": [
    "dataset, dataset_test = load_real_samples()"
   ]
  },
  {
   "cell_type": "code",
   "execution_count": null,
   "id": "1db02aaa",
   "metadata": {},
   "outputs": [],
   "source": [
    "X_train, y_train = dataset\n",
    "_, acc = supervised_model.evaluate(X_train, y_train, verbose=0)\n",
    "print('Train Classifier Accuracy: %.3f%%\\n' % (acc * 100))"
   ]
  },
  {
   "cell_type": "code",
   "execution_count": null,
   "id": "6cbae68d",
   "metadata": {},
   "outputs": [],
   "source": [
    "X_test, y_test = dataset_test\n",
    "_, acc = supervised_model.evaluate(X_test, y_test, verbose=0)\n",
    "print('Test Classifier Accuracy: %.3f%%\\n' % (acc * 100))"
   ]
  },
  {
   "cell_type": "markdown",
   "id": "f4af00c9",
   "metadata": {},
   "source": [
    "### Plotting"
   ]
  },
  {
   "cell_type": "code",
   "execution_count": null,
   "id": "ec2d4936",
   "metadata": {},
   "outputs": [],
   "source": [
    "import pandas as pd"
   ]
  },
  {
   "cell_type": "code",
   "execution_count": null,
   "id": "871d7d60",
   "metadata": {},
   "outputs": [],
   "source": [
    "results_file = pd.read_csv(f\"{LOG_PATH}SSL_GAN.csv\")"
   ]
  },
  {
   "cell_type": "code",
   "execution_count": null,
   "id": "6a9475a6",
   "metadata": {},
   "outputs": [],
   "source": [
    "log_file = results_file.iloc[:,1:]\n",
    "log_file"
   ]
  },
  {
   "cell_type": "code",
   "execution_count": null,
   "id": "2a23747a",
   "metadata": {},
   "outputs": [],
   "source": [
    "log_file.iloc[:, [0,1,2,3]].plot(figsize=(12,8))"
   ]
  },
  {
   "cell_type": "code",
   "execution_count": null,
   "id": "2bb08f64",
   "metadata": {},
   "outputs": [],
   "source": [
    "log_file.iloc[:, [5,6]].plot(figsize=(12,8))"
   ]
  },
  {
   "cell_type": "code",
   "execution_count": null,
   "id": "60f0799d",
   "metadata": {},
   "outputs": [],
   "source": [
    "log_file.iloc[:, [7,8]].plot(figsize=(12,8), ylim=(0,100), yticks=range(0,110,10))"
   ]
  }
 ],
 "metadata": {
  "kernelspec": {
   "display_name": "Python 3",
   "language": "python",
   "name": "python3"
  },
  "language_info": {
   "codemirror_mode": {
    "name": "ipython",
    "version": 3
   },
   "file_extension": ".py",
   "mimetype": "text/x-python",
   "name": "python",
   "nbconvert_exporter": "python",
   "pygments_lexer": "ipython3",
   "version": "3.8.10"
  }
 },
 "nbformat": 4,
 "nbformat_minor": 5
}
