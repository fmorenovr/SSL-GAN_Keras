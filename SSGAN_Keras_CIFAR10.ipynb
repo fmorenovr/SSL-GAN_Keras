{
 "cells": [
  {
   "cell_type": "code",
   "execution_count": 1,
   "id": "a09e486c",
   "metadata": {},
   "outputs": [],
   "source": [
    "import numpy as np\n",
    "import os\n",
    "import time"
   ]
  },
  {
   "cell_type": "code",
   "execution_count": 2,
   "id": "a5077c4a",
   "metadata": {},
   "outputs": [],
   "source": [
    "import keras"
   ]
  },
  {
   "cell_type": "code",
   "execution_count": 3,
   "id": "957f15a3",
   "metadata": {},
   "outputs": [
    {
     "data": {
      "text/plain": [
       "'2.4.3'"
      ]
     },
     "execution_count": 3,
     "metadata": {},
     "output_type": "execute_result"
    }
   ],
   "source": [
    "keras.__version__"
   ]
  },
  {
   "cell_type": "code",
   "execution_count": 4,
   "id": "e479c473",
   "metadata": {},
   "outputs": [],
   "source": [
    "# os.environ[\"CUDA_VISIBLE_DEVICES\"]=\"1\""
   ]
  },
  {
   "cell_type": "code",
   "execution_count": 5,
   "id": "3a207473",
   "metadata": {},
   "outputs": [],
   "source": [
    "#!pip install -q -U tensorflow-addons==0.11.2"
   ]
  },
  {
   "cell_type": "markdown",
   "id": "ac806c7a",
   "metadata": {},
   "source": [
    "### Utilities"
   ]
  },
  {
   "cell_type": "code",
   "execution_count": 6,
   "id": "2c569491",
   "metadata": {},
   "outputs": [],
   "source": [
    "from utils import verifyDir\n",
    "from utils.networks import normalize, unnormalize, plot_data"
   ]
  },
  {
   "cell_type": "markdown",
   "id": "9af3c765",
   "metadata": {},
   "source": [
    "### Dataset"
   ]
  },
  {
   "cell_type": "code",
   "execution_count": 7,
   "id": "4e460c23",
   "metadata": {},
   "outputs": [],
   "source": [
    "from utils.CIFAR10 import load_real_samples"
   ]
  },
  {
   "cell_type": "markdown",
   "id": "ffcc42eb",
   "metadata": {},
   "source": [
    "### Discriminator & Generator"
   ]
  },
  {
   "cell_type": "code",
   "execution_count": 8,
   "id": "da029db6",
   "metadata": {},
   "outputs": [],
   "source": [
    "from utils.CIFAR10 import define_discriminator\n",
    "from utils.CIFAR10 import define_generator"
   ]
  },
  {
   "cell_type": "markdown",
   "id": "7417a6ca",
   "metadata": {},
   "source": [
    "### Semi-Supervised GAN"
   ]
  },
  {
   "cell_type": "code",
   "execution_count": 9,
   "id": "0c5cec06",
   "metadata": {},
   "outputs": [],
   "source": [
    "from utils.networks import define_gan"
   ]
  },
  {
   "cell_type": "markdown",
   "id": "e6ea76a5",
   "metadata": {},
   "source": [
    "### Selecting sub-set "
   ]
  },
  {
   "cell_type": "code",
   "execution_count": 10,
   "id": "9fb6580e",
   "metadata": {},
   "outputs": [],
   "source": [
    "from utils.networks import select_supervised_samples, generate_real_samples\n",
    "from utils.networks import generate_fake_samples, generate_latent_points"
   ]
  },
  {
   "cell_type": "markdown",
   "id": "f9408523",
   "metadata": {},
   "source": [
    "### Training"
   ]
  },
  {
   "cell_type": "code",
   "execution_count": 11,
   "id": "7e26395d",
   "metadata": {},
   "outputs": [],
   "source": [
    "# train the generator and discriminator\n",
    "def train(generator_model, unsupervised_model, supervised_model, gan_model, dataset_train, dataset_test, \n",
    "          latent_dim=100, n_epochs=20, n_batch=100, percent_samples=1.0, n_classes=10):\n",
    "    \n",
    "    # select supervised dataset_train\n",
    "    X_sup, y_sup = select_supervised_samples(dataset_train, percent_samples=percent_samples, n_classes=n_classes)\n",
    "    print(\"Sup samples:\", X_sup.shape, y_sup.shape)\n",
    "    \n",
    "    # calculate the number of batches per training epoch\n",
    "    bat_per_epo = int(dataset_train[0].shape[0] / n_batch)\n",
    "    \n",
    "    # calculate the number of training iterations\n",
    "    n_steps = bat_per_epo * n_epochs\n",
    "    print('n_epochs=%d, n_batch=%d, batch/epoch=%d, steps=%d' % (n_epochs, n_batch, bat_per_epo, n_steps))\n",
    "    \n",
    "    # manually enumerate epochs\n",
    "    f_history = open(f\"{LOG_PATH}SSL_GAN.csv\", \"w\")\n",
    "    f_history.write(\"step,generator_loss,unsupervised_real_loss,unsupervised_fake_loss,supervised_loss,supervised_acc,train_loss,test_loss,train_acc,test_acc\\n\")\n",
    "    \n",
    "    #for epoch in n_epochs:\n",
    "    #    for batch in range(bat_per_epo):\n",
    "    for step in range(1,n_steps+1):\n",
    "#         t_start = time.time()\n",
    "        # update supervised discriminator (c)\n",
    "        [Xsup_real, ysup_real], _ = generate_real_samples([X_sup, y_sup], n_batch)\n",
    "        c_loss, c_acc = supervised_model.train_on_batch(Xsup_real, ysup_real)\n",
    "        \n",
    "        # update unsupervised discriminator (d)\n",
    "        [X_real, _], y_real = generate_real_samples(dataset_train, n_batch)\n",
    "        d_loss1, real_acc = unsupervised_model.train_on_batch(X_real, y_real)\n",
    "        \n",
    "        X_fake, y_fake = generate_fake_samples(generator_model, latent_dim, n_batch)\n",
    "        d_loss2, fake_acc = unsupervised_model.train_on_batch(X_fake, y_fake)\n",
    "        \n",
    "        # update generator (g)\n",
    "        X_gan, y_gan = generate_latent_points(latent_dim, n_batch), np.ones((n_batch, 1))\n",
    "        g_loss = gan_model.train_on_batch(X_gan, y_gan)\n",
    "#         t_total = (time.time() - t_start)\n",
    "        # summarize loss on this batch\n",
    "    \n",
    "        # Train - Test\n",
    "        X_train, y_train = dataset_train\n",
    "        loss_train, acc_train = supervised_model.evaluate(X_train, y_train, verbose=0)\n",
    "\n",
    "        # evaluate the test classifier model\n",
    "        X_test, y_test = dataset_test\n",
    "        loss_test, acc_test = supervised_model.evaluate(X_test, y_test, verbose=0)\n",
    "        \n",
    "        # Log\n",
    "        print('epoch: %d | step: %d | Train: G_Loss: %.3f, ' \\\n",
    "              'D_unsup_loss_real: %.3f, D_unsup_acc_real:  %.2f, ' \\\n",
    "              'D_unsup_loss_fake: %.3f, D_unsup_acc_fake: %.2f, ' \\\n",
    "              'D_sup_loss: %.3f, D_sup_acc: %.2f ' \\\n",
    "              'Train acc: %.3f Test acc: %.3f ' %(int(step/bat_per_epo), step, g_loss,\n",
    "                                                d_loss1, real_acc*100,\n",
    "                                                d_loss2, fake_acc*100,\n",
    "                                                c_loss, c_acc*100,\n",
    "                                                 acc_train*100, acc_test*100))#, end = '\\r')\n",
    "        f_history.write(f\"{step},{g_loss},{d_loss1},{d_loss2},{c_loss},{c_acc*100},{loss_train},{loss_test},{acc_train*100},{acc_test*100}\\n\")\n",
    "        \n",
    "        if step==1:\n",
    "            plot_data(unnormalize(X_test).astype(int), 0, \"test\", grid_size = [10, 10], OUT_PATH=LOG_PATH)\n",
    "        # evaluate the model performance every so often\n",
    "        if (step) % (100) == 0 or step == 1:\n",
    "            #summarize_performance(step, generator_model, supervised_model, latent_dim, dataset, dataset_test)\n",
    "            # prepare fake examples\n",
    "            X_generated, _ = generate_fake_samples(generator_model, latent_dim, n_samples=100)\n",
    "            # scale from [-1,1] to [0,255]\n",
    "            plot_data(unnormalize(X_generated).astype(int), step, \"generated\", grid_size = [10, 10], OUT_PATH=LOG_PATH)\n",
    "            \n",
    "            X_train, y_train = dataset_train\n",
    "            _, acc = supervised_model.evaluate(X_train, y_train, verbose=0)\n",
    "            print('Train Classifier Accuracy: %.3f%%\\n' % (acc * 100))\n",
    "            \n",
    "            # evaluate the test classifier model\n",
    "            X_test, y_test = dataset_test\n",
    "            _, acc = supervised_model.evaluate(X_test, y_test, verbose=0)\n",
    "            print('Test Classifier Accuracy: %.3f%%\\n' % (acc * 100))\n",
    "            # save the generator model\n",
    "            filename2 = f'{LOG_PATH}generator_model_{step}.h5'\n",
    "            generator_model.save(filename2)\n",
    "            # save the classifier model\n",
    "            filename3 = f'{LOG_PATH}supervised_model_{step}.h5'\n",
    "            supervised_model.save(filename3)\n",
    "            print('>Saving models Generator: %s and Supervised: %s' % (filename2, filename3))\n",
    "    \n",
    "    f_history.close()"
   ]
  },
  {
   "cell_type": "markdown",
   "id": "bb4d9f44",
   "metadata": {},
   "source": [
    "### Parameters"
   ]
  },
  {
   "cell_type": "code",
   "execution_count": 12,
   "id": "1389eb41",
   "metadata": {},
   "outputs": [],
   "source": [
    "input_shape = (32, 32, 3)\n",
    "num_classes = 10\n",
    "\n",
    "learning_rate =  0.0002\n",
    "latent_dim = 100\n",
    "\n",
    "labeled_rate = 1.0\n",
    "labeled_samples = 50000*labeled_rate"
   ]
  },
  {
   "cell_type": "code",
   "execution_count": 13,
   "id": "45e13f6c",
   "metadata": {},
   "outputs": [],
   "source": [
    "LOG_PATH = f\"Logs/SSGAN_CIFAR10/Classifier_{int(labeled_samples)}/\"\n",
    "verifyDir(LOG_PATH)"
   ]
  },
  {
   "cell_type": "markdown",
   "id": "182bb54a",
   "metadata": {},
   "source": [
    "### Creating models"
   ]
  },
  {
   "cell_type": "code",
   "execution_count": 14,
   "id": "ad0b4edd",
   "metadata": {
    "scrolled": true
   },
   "outputs": [],
   "source": [
    "# create the discriminator models\n",
    "unsupervised_model, supervised_model = define_discriminator(in_shape=input_shape, n_classes=num_classes, learning_rate = learning_rate)\n",
    "# create the generator\n",
    "generator_model = define_generator(latent_dim=latent_dim)"
   ]
  },
  {
   "cell_type": "code",
   "execution_count": 15,
   "id": "a7c16f0d",
   "metadata": {},
   "outputs": [
    {
     "name": "stdout",
     "output_type": "stream",
     "text": [
      "Model: \"model\"\n",
      "_________________________________________________________________\n",
      "Layer (type)                 Output Shape              Param #   \n",
      "=================================================================\n",
      "input_1 (InputLayer)         [(None, 32, 32, 3)]       0         \n",
      "_________________________________________________________________\n",
      "conv2d (Conv2D)              (None, 32, 32, 32)        896       \n",
      "_________________________________________________________________\n",
      "leaky_re_lu (LeakyReLU)      (None, 32, 32, 32)        0         \n",
      "_________________________________________________________________\n",
      "conv2d_1 (Conv2D)            (None, 16, 16, 64)        18496     \n",
      "_________________________________________________________________\n",
      "leaky_re_lu_1 (LeakyReLU)    (None, 16, 16, 64)        0         \n",
      "_________________________________________________________________\n",
      "dropout (Dropout)            (None, 16, 16, 64)        0         \n",
      "_________________________________________________________________\n",
      "conv2d_2 (Conv2D)            (None, 16, 16, 64)        36928     \n",
      "_________________________________________________________________\n",
      "leaky_re_lu_2 (LeakyReLU)    (None, 16, 16, 64)        0         \n",
      "_________________________________________________________________\n",
      "conv2d_3 (Conv2D)            (None, 8, 8, 128)         73856     \n",
      "_________________________________________________________________\n",
      "leaky_re_lu_3 (LeakyReLU)    (None, 8, 8, 128)         0         \n",
      "_________________________________________________________________\n",
      "dropout_1 (Dropout)          (None, 8, 8, 128)         0         \n",
      "_________________________________________________________________\n",
      "conv2d_4 (Conv2D)            (None, 8, 8, 128)         147584    \n",
      "_________________________________________________________________\n",
      "leaky_re_lu_4 (LeakyReLU)    (None, 8, 8, 128)         0         \n",
      "_________________________________________________________________\n",
      "conv2d_5 (Conv2D)            (None, 4, 4, 256)         295168    \n",
      "_________________________________________________________________\n",
      "leaky_re_lu_5 (LeakyReLU)    (None, 4, 4, 256)         0         \n",
      "_________________________________________________________________\n",
      "dropout_2 (Dropout)          (None, 4, 4, 256)         0         \n",
      "_________________________________________________________________\n",
      "flatten (Flatten)            (None, 4096)              0         \n",
      "_________________________________________________________________\n",
      "dense (Dense)                (None, 128)               524416    \n",
      "_________________________________________________________________\n",
      "dropout_3 (Dropout)          (None, 128)               0         \n",
      "_________________________________________________________________\n",
      "dense_1 (Dense)              (None, 10)                1290      \n",
      "_________________________________________________________________\n",
      "activation (Activation)      (None, 10)                0         \n",
      "=================================================================\n",
      "Total params: 1,098,634\n",
      "Trainable params: 1,098,634\n",
      "Non-trainable params: 0\n",
      "_________________________________________________________________\n"
     ]
    }
   ],
   "source": [
    "supervised_model.summary()"
   ]
  },
  {
   "cell_type": "code",
   "execution_count": 16,
   "id": "2e3a9e50",
   "metadata": {},
   "outputs": [
    {
     "name": "stdout",
     "output_type": "stream",
     "text": [
      "Model: \"model_1\"\n",
      "_________________________________________________________________\n",
      "Layer (type)                 Output Shape              Param #   \n",
      "=================================================================\n",
      "input_1 (InputLayer)         [(None, 32, 32, 3)]       0         \n",
      "_________________________________________________________________\n",
      "conv2d (Conv2D)              (None, 32, 32, 32)        896       \n",
      "_________________________________________________________________\n",
      "leaky_re_lu (LeakyReLU)      (None, 32, 32, 32)        0         \n",
      "_________________________________________________________________\n",
      "conv2d_1 (Conv2D)            (None, 16, 16, 64)        18496     \n",
      "_________________________________________________________________\n",
      "leaky_re_lu_1 (LeakyReLU)    (None, 16, 16, 64)        0         \n",
      "_________________________________________________________________\n",
      "dropout (Dropout)            (None, 16, 16, 64)        0         \n",
      "_________________________________________________________________\n",
      "conv2d_2 (Conv2D)            (None, 16, 16, 64)        36928     \n",
      "_________________________________________________________________\n",
      "leaky_re_lu_2 (LeakyReLU)    (None, 16, 16, 64)        0         \n",
      "_________________________________________________________________\n",
      "conv2d_3 (Conv2D)            (None, 8, 8, 128)         73856     \n",
      "_________________________________________________________________\n",
      "leaky_re_lu_3 (LeakyReLU)    (None, 8, 8, 128)         0         \n",
      "_________________________________________________________________\n",
      "dropout_1 (Dropout)          (None, 8, 8, 128)         0         \n",
      "_________________________________________________________________\n",
      "conv2d_4 (Conv2D)            (None, 8, 8, 128)         147584    \n",
      "_________________________________________________________________\n",
      "leaky_re_lu_4 (LeakyReLU)    (None, 8, 8, 128)         0         \n",
      "_________________________________________________________________\n",
      "conv2d_5 (Conv2D)            (None, 4, 4, 256)         295168    \n",
      "_________________________________________________________________\n",
      "leaky_re_lu_5 (LeakyReLU)    (None, 4, 4, 256)         0         \n",
      "_________________________________________________________________\n",
      "dropout_2 (Dropout)          (None, 4, 4, 256)         0         \n",
      "_________________________________________________________________\n",
      "flatten (Flatten)            (None, 4096)              0         \n",
      "_________________________________________________________________\n",
      "dense (Dense)                (None, 128)               524416    \n",
      "_________________________________________________________________\n",
      "dropout_3 (Dropout)          (None, 128)               0         \n",
      "_________________________________________________________________\n",
      "dense_1 (Dense)              (None, 10)                1290      \n",
      "_________________________________________________________________\n",
      "lambda (Lambda)              (None, 1)                 0         \n",
      "=================================================================\n",
      "Total params: 1,098,634\n",
      "Trainable params: 1,098,634\n",
      "Non-trainable params: 0\n",
      "_________________________________________________________________\n"
     ]
    }
   ],
   "source": [
    "unsupervised_model.summary()"
   ]
  },
  {
   "cell_type": "code",
   "execution_count": 17,
   "id": "3a2c913e",
   "metadata": {},
   "outputs": [
    {
     "name": "stdout",
     "output_type": "stream",
     "text": [
      "Model: \"model_2\"\n",
      "_________________________________________________________________\n",
      "Layer (type)                 Output Shape              Param #   \n",
      "=================================================================\n",
      "input_2 (InputLayer)         [(None, 100)]             0         \n",
      "_________________________________________________________________\n",
      "dense_2 (Dense)              (None, 4096)              413696    \n",
      "_________________________________________________________________\n",
      "leaky_re_lu_6 (LeakyReLU)    (None, 4096)              0         \n",
      "_________________________________________________________________\n",
      "reshape (Reshape)            (None, 4, 4, 256)         0         \n",
      "_________________________________________________________________\n",
      "conv2d_transpose (Conv2DTran (None, 8, 8, 128)         524416    \n",
      "_________________________________________________________________\n",
      "leaky_re_lu_7 (LeakyReLU)    (None, 8, 8, 128)         0         \n",
      "_________________________________________________________________\n",
      "conv2d_transpose_1 (Conv2DTr (None, 16, 16, 128)       262272    \n",
      "_________________________________________________________________\n",
      "leaky_re_lu_8 (LeakyReLU)    (None, 16, 16, 128)       0         \n",
      "_________________________________________________________________\n",
      "conv2d_transpose_2 (Conv2DTr (None, 32, 32, 128)       262272    \n",
      "_________________________________________________________________\n",
      "leaky_re_lu_9 (LeakyReLU)    (None, 32, 32, 128)       0         \n",
      "_________________________________________________________________\n",
      "conv2d_6 (Conv2D)            (None, 32, 32, 3)         3459      \n",
      "=================================================================\n",
      "Total params: 1,466,115\n",
      "Trainable params: 1,466,115\n",
      "Non-trainable params: 0\n",
      "_________________________________________________________________\n"
     ]
    }
   ],
   "source": [
    "generator_model.summary()"
   ]
  },
  {
   "cell_type": "code",
   "execution_count": 18,
   "id": "9b591f12",
   "metadata": {},
   "outputs": [],
   "source": [
    "# create the gan\n",
    "gan_model = define_gan(generator_model, unsupervised_model, learning_rate = learning_rate)"
   ]
  },
  {
   "cell_type": "code",
   "execution_count": 19,
   "id": "187649bc",
   "metadata": {
    "scrolled": true
   },
   "outputs": [
    {
     "name": "stdout",
     "output_type": "stream",
     "text": [
      "Model: \"model_3\"\n",
      "_________________________________________________________________\n",
      "Layer (type)                 Output Shape              Param #   \n",
      "=================================================================\n",
      "input_2 (InputLayer)         [(None, 100)]             0         \n",
      "_________________________________________________________________\n",
      "dense_2 (Dense)              (None, 4096)              413696    \n",
      "_________________________________________________________________\n",
      "leaky_re_lu_6 (LeakyReLU)    (None, 4096)              0         \n",
      "_________________________________________________________________\n",
      "reshape (Reshape)            (None, 4, 4, 256)         0         \n",
      "_________________________________________________________________\n",
      "conv2d_transpose (Conv2DTran (None, 8, 8, 128)         524416    \n",
      "_________________________________________________________________\n",
      "leaky_re_lu_7 (LeakyReLU)    (None, 8, 8, 128)         0         \n",
      "_________________________________________________________________\n",
      "conv2d_transpose_1 (Conv2DTr (None, 16, 16, 128)       262272    \n",
      "_________________________________________________________________\n",
      "leaky_re_lu_8 (LeakyReLU)    (None, 16, 16, 128)       0         \n",
      "_________________________________________________________________\n",
      "conv2d_transpose_2 (Conv2DTr (None, 32, 32, 128)       262272    \n",
      "_________________________________________________________________\n",
      "leaky_re_lu_9 (LeakyReLU)    (None, 32, 32, 128)       0         \n",
      "_________________________________________________________________\n",
      "conv2d_6 (Conv2D)            (None, 32, 32, 3)         3459      \n",
      "_________________________________________________________________\n",
      "model_1 (Model)              (None, 1)                 1098634   \n",
      "=================================================================\n",
      "Total params: 2,564,749\n",
      "Trainable params: 1,466,115\n",
      "Non-trainable params: 1,098,634\n",
      "_________________________________________________________________\n"
     ]
    }
   ],
   "source": [
    "gan_model.summary()"
   ]
  },
  {
   "cell_type": "markdown",
   "id": "44673ab8",
   "metadata": {},
   "source": [
    "### Loading Dataset"
   ]
  },
  {
   "cell_type": "code",
   "execution_count": 20,
   "id": "a000953d",
   "metadata": {},
   "outputs": [
    {
     "name": "stdout",
     "output_type": "stream",
     "text": [
      "(50000, 32, 32, 3) (50000,) (10000, 32, 32, 3) (10000,)\n"
     ]
    }
   ],
   "source": [
    "# load image data\n",
    "dataset_train, dataset_test = load_real_samples()"
   ]
  },
  {
   "cell_type": "markdown",
   "id": "a680572f",
   "metadata": {},
   "source": [
    "### Training"
   ]
  },
  {
   "cell_type": "code",
   "execution_count": 21,
   "id": "fd3e7c02",
   "metadata": {},
   "outputs": [],
   "source": [
    "epochs=300\n",
    "batch_size=128"
   ]
  },
  {
   "cell_type": "code",
   "execution_count": null,
   "id": "ec0ab1f9",
   "metadata": {
    "scrolled": true
   },
   "outputs": [
    {
     "name": "stdout",
     "output_type": "stream",
     "text": [
      "Sup samples: (50000, 32, 32, 3) (50000,)\n",
      "n_epochs=300, n_batch=128, batch/epoch=390, steps=117000\n",
      "epoch: 0 | step: 1 | Train: G_Loss: 0.095, D_unsup_loss_real: 0.095, D_unsup_acc_real:  100.00, D_unsup_loss_fake: 2.401, D_unsup_acc_fake: 0.00, D_sup_loss: 2.310, D_sup_acc: 5.47 Train acc: 13.662 Test acc: 13.800 \n",
      "Train Classifier Accuracy: 13.662%\n",
      "\n",
      "Test Classifier Accuracy: 13.800%\n",
      "\n",
      ">Saving models Generator: Logs/SSGAN_CIFAR10/Classifier_50000/generator_model_1.h5 and Supervised: Logs/SSGAN_CIFAR10/Classifier_50000/supervised_model_1.h5\n",
      "epoch: 0 | step: 2 | Train: G_Loss: 0.096, D_unsup_loss_real: 0.089, D_unsup_acc_real:  100.00, D_unsup_loss_fake: 2.398, D_unsup_acc_fake: 0.00, D_sup_loss: 2.299, D_sup_acc: 13.81 Train acc: 15.378 Test acc: 15.230 \n",
      "epoch: 0 | step: 3 | Train: G_Loss: 0.096, D_unsup_loss_real: 0.083, D_unsup_acc_real:  100.00, D_unsup_loss_fake: 2.395, D_unsup_acc_fake: 0.00, D_sup_loss: 2.296, D_sup_acc: 15.16 Train acc: 16.476 Test acc: 16.660 \n",
      "epoch: 0 | step: 4 | Train: G_Loss: 0.097, D_unsup_loss_real: 0.071, D_unsup_acc_real:  100.00, D_unsup_loss_fake: 2.389, D_unsup_acc_fake: 0.00, D_sup_loss: 2.292, D_sup_acc: 16.62 Train acc: 11.778 Test acc: 11.640 \n",
      "epoch: 0 | step: 5 | Train: G_Loss: 0.098, D_unsup_loss_real: 0.056, D_unsup_acc_real:  100.00, D_unsup_loss_fake: 2.379, D_unsup_acc_fake: 0.00, D_sup_loss: 2.287, D_sup_acc: 11.60 Train acc: 11.156 Test acc: 11.000 \n",
      "epoch: 0 | step: 6 | Train: G_Loss: 0.101, D_unsup_loss_real: 0.039, D_unsup_acc_real:  100.00, D_unsup_loss_fake: 2.364, D_unsup_acc_fake: 0.00, D_sup_loss: 2.308, D_sup_acc: 11.01 Train acc: 10.160 Test acc: 10.110 \n",
      "epoch: 0 | step: 7 | Train: G_Loss: 0.107, D_unsup_loss_real: 0.027, D_unsup_acc_real:  100.00, D_unsup_loss_fake: 2.337, D_unsup_acc_fake: 0.00, D_sup_loss: 2.342, D_sup_acc: 10.19 Train acc: 13.098 Test acc: 12.950 \n",
      "epoch: 0 | step: 8 | Train: G_Loss: 0.120, D_unsup_loss_real: 0.023, D_unsup_acc_real:  100.00, D_unsup_loss_fake: 2.283, D_unsup_acc_fake: 0.00, D_sup_loss: 2.327, D_sup_acc: 12.89 Train acc: 13.606 Test acc: 13.700 \n",
      "epoch: 0 | step: 9 | Train: G_Loss: 0.152, D_unsup_loss_real: 0.041, D_unsup_acc_real:  100.00, D_unsup_loss_fake: 2.156, D_unsup_acc_fake: 0.00, D_sup_loss: 2.281, D_sup_acc: 13.63 Train acc: 11.084 Test acc: 11.730 \n",
      "epoch: 0 | step: 10 | Train: G_Loss: 0.196, D_unsup_loss_real: 0.094, D_unsup_acc_real:  100.00, D_unsup_loss_fake: 1.958, D_unsup_acc_fake: 0.00, D_sup_loss: 2.292, D_sup_acc: 11.67 Train acc: 11.068 Test acc: 11.170 \n",
      "epoch: 0 | step: 11 | Train: G_Loss: 0.301, D_unsup_loss_real: 0.107, D_unsup_acc_real:  100.00, D_unsup_loss_fake: 1.652, D_unsup_acc_fake: 0.00, D_sup_loss: 2.293, D_sup_acc: 11.21 Train acc: 15.012 Test acc: 15.050 \n",
      "epoch: 0 | step: 12 | Train: G_Loss: 0.513, D_unsup_loss_real: 0.117, D_unsup_acc_real:  100.00, D_unsup_loss_fake: 1.274, D_unsup_acc_fake: 0.00, D_sup_loss: 2.367, D_sup_acc: 14.98 Train acc: 15.982 Test acc: 15.960 \n",
      "epoch: 0 | step: 13 | Train: G_Loss: 0.904, D_unsup_loss_real: 0.128, D_unsup_acc_real:  98.44, D_unsup_loss_fake: 0.842, D_unsup_acc_fake: 8.59, D_sup_loss: 2.398, D_sup_acc: 15.89 Train acc: 16.624 Test acc: 16.030 \n",
      "epoch: 0 | step: 14 | Train: G_Loss: 1.736, D_unsup_loss_real: 0.057, D_unsup_acc_real:  99.22, D_unsup_loss_fake: 0.413, D_unsup_acc_fake: 96.88, D_sup_loss: 2.353, D_sup_acc: 16.03 Train acc: 16.246 Test acc: 16.260 \n",
      "epoch: 0 | step: 15 | Train: G_Loss: 2.242, D_unsup_loss_real: 0.137, D_unsup_acc_real:  96.09, D_unsup_loss_fake: 0.191, D_unsup_acc_fake: 100.00, D_sup_loss: 2.296, D_sup_acc: 16.21 Train acc: 11.908 Test acc: 12.120 \n",
      "epoch: 0 | step: 16 | Train: G_Loss: 2.766, D_unsup_loss_real: 0.037, D_unsup_acc_real:  98.44, D_unsup_loss_fake: 0.148, D_unsup_acc_fake: 100.00, D_sup_loss: 2.452, D_sup_acc: 12.05 Train acc: 13.774 Test acc: 13.940 \n",
      "epoch: 0 | step: 17 | Train: G_Loss: 2.909, D_unsup_loss_real: 0.189, D_unsup_acc_real:  91.41, D_unsup_loss_fake: 0.268, D_unsup_acc_fake: 100.00, D_sup_loss: 2.304, D_sup_acc: 13.92 Train acc: 15.908 Test acc: 15.940 \n",
      "epoch: 0 | step: 18 | Train: G_Loss: 4.721, D_unsup_loss_real: 0.110, D_unsup_acc_real:  96.88, D_unsup_loss_fake: 0.119, D_unsup_acc_fake: 100.00, D_sup_loss: 2.299, D_sup_acc: 15.90 Train acc: 17.674 Test acc: 17.800 \n",
      "epoch: 0 | step: 19 | Train: G_Loss: 4.494, D_unsup_loss_real: 0.492, D_unsup_acc_real:  79.69, D_unsup_loss_fake: 0.207, D_unsup_acc_fake: 99.22, D_sup_loss: 2.250, D_sup_acc: 17.76 Train acc: 18.206 Test acc: 18.560 \n",
      "epoch: 0 | step: 20 | Train: G_Loss: 4.819, D_unsup_loss_real: 0.107, D_unsup_acc_real:  96.09, D_unsup_loss_fake: 0.027, D_unsup_acc_fake: 100.00, D_sup_loss: 2.329, D_sup_acc: 18.49 Train acc: 19.800 Test acc: 19.700 \n",
      "epoch: 0 | step: 21 | Train: G_Loss: 3.298, D_unsup_loss_real: 0.378, D_unsup_acc_real:  82.81, D_unsup_loss_fake: 0.189, D_unsup_acc_fake: 100.00, D_sup_loss: 2.278, D_sup_acc: 19.64 Train acc: 18.786 Test acc: 18.770 \n",
      "epoch: 0 | step: 22 | Train: G_Loss: 4.012, D_unsup_loss_real: 0.156, D_unsup_acc_real:  91.41, D_unsup_loss_fake: 0.157, D_unsup_acc_fake: 100.00, D_sup_loss: 2.385, D_sup_acc: 18.80 Train acc: 19.862 Test acc: 19.960 \n",
      "epoch: 0 | step: 23 | Train: G_Loss: 3.514, D_unsup_loss_real: 0.396, D_unsup_acc_real:  83.59, D_unsup_loss_fake: 0.113, D_unsup_acc_fake: 100.00, D_sup_loss: 2.328, D_sup_acc: 19.82 Train acc: 19.530 Test acc: 19.560 \n",
      "epoch: 0 | step: 24 | Train: G_Loss: 3.918, D_unsup_loss_real: 0.174, D_unsup_acc_real:  92.97, D_unsup_loss_fake: 0.131, D_unsup_acc_fake: 100.00, D_sup_loss: 2.313, D_sup_acc: 19.53 Train acc: 18.946 Test acc: 19.040 \n",
      "epoch: 0 | step: 25 | Train: G_Loss: 3.653, D_unsup_loss_real: 0.386, D_unsup_acc_real:  84.38, D_unsup_loss_fake: 0.195, D_unsup_acc_fake: 100.00, D_sup_loss: 2.317, D_sup_acc: 19.00 Train acc: 16.082 Test acc: 16.110 \n",
      "epoch: 0 | step: 26 | Train: G_Loss: 3.890, D_unsup_loss_real: 0.202, D_unsup_acc_real:  90.62, D_unsup_loss_fake: 0.056, D_unsup_acc_fake: 100.00, D_sup_loss: 2.554, D_sup_acc: 16.09 Train acc: 18.854 Test acc: 18.990 \n",
      "epoch: 0 | step: 27 | Train: G_Loss: 3.394, D_unsup_loss_real: 0.269, D_unsup_acc_real:  89.06, D_unsup_loss_fake: 0.081, D_unsup_acc_fake: 100.00, D_sup_loss: 2.313, D_sup_acc: 18.91 Train acc: 20.280 Test acc: 20.530 \n",
      "epoch: 0 | step: 28 | Train: G_Loss: 2.931, D_unsup_loss_real: 0.325, D_unsup_acc_real:  86.72, D_unsup_loss_fake: 0.135, D_unsup_acc_fake: 100.00, D_sup_loss: 2.216, D_sup_acc: 20.47 Train acc: 21.144 Test acc: 21.580 \n",
      "epoch: 0 | step: 29 | Train: G_Loss: 2.949, D_unsup_loss_real: 0.193, D_unsup_acc_real:  90.62, D_unsup_loss_fake: 0.156, D_unsup_acc_fake: 100.00, D_sup_loss: 2.190, D_sup_acc: 21.44 Train acc: 20.530 Test acc: 21.220 \n",
      "epoch: 0 | step: 30 | Train: G_Loss: 2.674, D_unsup_loss_real: 0.271, D_unsup_acc_real:  85.94, D_unsup_loss_fake: 0.138, D_unsup_acc_fake: 100.00, D_sup_loss: 2.209, D_sup_acc: 21.08 Train acc: 20.384 Test acc: 20.270 \n",
      "epoch: 0 | step: 31 | Train: G_Loss: 2.449, D_unsup_loss_real: 0.314, D_unsup_acc_real:  86.72, D_unsup_loss_fake: 0.186, D_unsup_acc_fake: 100.00, D_sup_loss: 2.300, D_sup_acc: 20.14 Train acc: 21.930 Test acc: 22.120 \n",
      "epoch: 0 | step: 32 | Train: G_Loss: 2.766, D_unsup_loss_real: 0.262, D_unsup_acc_real:  87.50, D_unsup_loss_fake: 0.183, D_unsup_acc_fake: 100.00, D_sup_loss: 2.344, D_sup_acc: 22.05 Train acc: 22.178 Test acc: 22.390 \n",
      "epoch: 0 | step: 33 | Train: G_Loss: 2.346, D_unsup_loss_real: 0.511, D_unsup_acc_real:  75.78, D_unsup_loss_fake: 0.295, D_unsup_acc_fake: 98.44, D_sup_loss: 2.256, D_sup_acc: 22.34 Train acc: 21.044 Test acc: 21.370 \n",
      "epoch: 0 | step: 34 | Train: G_Loss: 2.789, D_unsup_loss_real: 0.164, D_unsup_acc_real:  92.19, D_unsup_loss_fake: 0.149, D_unsup_acc_fake: 100.00, D_sup_loss: 2.455, D_sup_acc: 21.34 Train acc: 21.042 Test acc: 20.830 \n",
      "epoch: 0 | step: 35 | Train: G_Loss: 2.068, D_unsup_loss_real: 0.555, D_unsup_acc_real:  75.00, D_unsup_loss_fake: 0.406, D_unsup_acc_fake: 93.75, D_sup_loss: 2.416, D_sup_acc: 20.77 Train acc: 21.412 Test acc: 21.370 \n",
      "epoch: 0 | step: 36 | Train: G_Loss: 2.663, D_unsup_loss_real: 0.279, D_unsup_acc_real:  85.16, D_unsup_loss_fake: 0.383, D_unsup_acc_fake: 92.19, D_sup_loss: 2.549, D_sup_acc: 21.27 Train acc: 21.570 Test acc: 21.890 \n"
     ]
    },
    {
     "name": "stdout",
     "output_type": "stream",
     "text": [
      "epoch: 0 | step: 37 | Train: G_Loss: 2.741, D_unsup_loss_real: 0.454, D_unsup_acc_real:  78.91, D_unsup_loss_fake: 0.420, D_unsup_acc_fake: 92.19, D_sup_loss: 2.442, D_sup_acc: 21.90 Train acc: 21.758 Test acc: 22.340 \n",
      "epoch: 0 | step: 38 | Train: G_Loss: 2.899, D_unsup_loss_real: 0.477, D_unsup_acc_real:  78.91, D_unsup_loss_fake: 0.375, D_unsup_acc_fake: 95.31, D_sup_loss: 2.465, D_sup_acc: 22.30 Train acc: 21.946 Test acc: 22.550 \n",
      "epoch: 0 | step: 39 | Train: G_Loss: 2.907, D_unsup_loss_real: 0.479, D_unsup_acc_real:  76.56, D_unsup_loss_fake: 0.254, D_unsup_acc_fake: 97.66, D_sup_loss: 2.607, D_sup_acc: 22.43 Train acc: 22.202 Test acc: 22.820 \n",
      "epoch: 0 | step: 40 | Train: G_Loss: 2.742, D_unsup_loss_real: 0.446, D_unsup_acc_real:  78.12, D_unsup_loss_fake: 0.218, D_unsup_acc_fake: 99.22, D_sup_loss: 2.467, D_sup_acc: 22.74 Train acc: 22.704 Test acc: 23.580 \n",
      "epoch: 0 | step: 41 | Train: G_Loss: 3.143, D_unsup_loss_real: 0.292, D_unsup_acc_real:  85.16, D_unsup_loss_fake: 0.210, D_unsup_acc_fake: 99.22, D_sup_loss: 2.442, D_sup_acc: 23.42 Train acc: 21.576 Test acc: 22.390 \n",
      "epoch: 0 | step: 42 | Train: G_Loss: 3.717, D_unsup_loss_real: 0.772, D_unsup_acc_real:  61.72, D_unsup_loss_fake: 0.639, D_unsup_acc_fake: 68.75, D_sup_loss: 2.459, D_sup_acc: 22.29 Train acc: 18.956 Test acc: 19.400 \n",
      "epoch: 0 | step: 43 | Train: G_Loss: 2.047, D_unsup_loss_real: 1.101, D_unsup_acc_real:  42.19, D_unsup_loss_fake: 0.268, D_unsup_acc_fake: 96.09, D_sup_loss: 2.591, D_sup_acc: 19.34 Train acc: 20.592 Test acc: 20.790 \n",
      "epoch: 0 | step: 44 | Train: G_Loss: 1.635, D_unsup_loss_real: 0.350, D_unsup_acc_real:  80.47, D_unsup_loss_fake: 0.389, D_unsup_acc_fake: 95.31, D_sup_loss: 2.753, D_sup_acc: 20.67 Train acc: 21.526 Test acc: 21.630 \n",
      "epoch: 0 | step: 45 | Train: G_Loss: 2.006, D_unsup_loss_real: 0.367, D_unsup_acc_real:  80.47, D_unsup_loss_fake: 0.636, D_unsup_acc_fake: 64.06, D_sup_loss: 2.571, D_sup_acc: 21.49 Train acc: 18.454 Test acc: 18.770 \n",
      "epoch: 0 | step: 46 | Train: G_Loss: 2.194, D_unsup_loss_real: 0.483, D_unsup_acc_real:  73.44, D_unsup_loss_fake: 0.680, D_unsup_acc_fake: 59.38, D_sup_loss: 2.452, D_sup_acc: 18.69 Train acc: 16.070 Test acc: 16.260 \n",
      "epoch: 0 | step: 47 | Train: G_Loss: 1.482, D_unsup_loss_real: 0.529, D_unsup_acc_real:  70.31, D_unsup_loss_fake: 0.655, D_unsup_acc_fake: 62.50, D_sup_loss: 2.511, D_sup_acc: 16.27 Train acc: 18.174 Test acc: 18.210 \n",
      "epoch: 0 | step: 48 | Train: G_Loss: 1.651, D_unsup_loss_real: 0.364, D_unsup_acc_real:  77.34, D_unsup_loss_fake: 0.976, D_unsup_acc_fake: 13.28, D_sup_loss: 2.404, D_sup_acc: 18.15 Train acc: 18.026 Test acc: 18.030 \n",
      "epoch: 0 | step: 49 | Train: G_Loss: 1.306, D_unsup_loss_real: 0.580, D_unsup_acc_real:  57.03, D_unsup_loss_fake: 0.575, D_unsup_acc_fake: 81.25, D_sup_loss: 2.334, D_sup_acc: 18.02 Train acc: 21.168 Test acc: 21.410 \n",
      "epoch: 0 | step: 50 | Train: G_Loss: 1.501, D_unsup_loss_real: 0.362, D_unsup_acc_real:  78.91, D_unsup_loss_fake: 0.580, D_unsup_acc_fake: 82.03, D_sup_loss: 2.252, D_sup_acc: 21.40 Train acc: 22.168 Test acc: 22.620 \n",
      "epoch: 0 | step: 51 | Train: G_Loss: 1.737, D_unsup_loss_real: 0.303, D_unsup_acc_real:  82.81, D_unsup_loss_fake: 0.414, D_unsup_acc_fake: 97.66, D_sup_loss: 2.238, D_sup_acc: 22.59 Train acc: 23.184 Test acc: 23.160 \n",
      "epoch: 0 | step: 52 | Train: G_Loss: 2.122, D_unsup_loss_real: 0.357, D_unsup_acc_real:  78.12, D_unsup_loss_fake: 0.714, D_unsup_acc_fake: 60.94, D_sup_loss: 2.222, D_sup_acc: 23.13 Train acc: 21.366 Test acc: 21.580 \n",
      "epoch: 0 | step: 53 | Train: G_Loss: 1.626, D_unsup_loss_real: 0.579, D_unsup_acc_real:  65.62, D_unsup_loss_fake: 0.412, D_unsup_acc_fake: 98.44, D_sup_loss: 2.188, D_sup_acc: 21.53 Train acc: 22.410 Test acc: 22.810 \n",
      "epoch: 0 | step: 54 | Train: G_Loss: 1.958, D_unsup_loss_real: 0.317, D_unsup_acc_real:  82.81, D_unsup_loss_fake: 0.796, D_unsup_acc_fake: 48.44, D_sup_loss: 2.189, D_sup_acc: 22.80 Train acc: 18.906 Test acc: 18.890 \n",
      "epoch: 0 | step: 55 | Train: G_Loss: 1.695, D_unsup_loss_real: 0.502, D_unsup_acc_real:  67.19, D_unsup_loss_fake: 0.343, D_unsup_acc_fake: 98.44, D_sup_loss: 2.206, D_sup_acc: 18.89 Train acc: 20.432 Test acc: 21.180 \n",
      "epoch: 0 | step: 56 | Train: G_Loss: 1.148, D_unsup_loss_real: 0.512, D_unsup_acc_real:  63.28, D_unsup_loss_fake: 0.565, D_unsup_acc_fake: 80.47, D_sup_loss: 2.192, D_sup_acc: 21.14 Train acc: 20.238 Test acc: 20.230 \n",
      "epoch: 0 | step: 57 | Train: G_Loss: 1.085, D_unsup_loss_real: 0.529, D_unsup_acc_real:  66.41, D_unsup_loss_fake: 0.644, D_unsup_acc_fake: 70.31, D_sup_loss: 2.151, D_sup_acc: 20.21 Train acc: 20.926 Test acc: 21.290 \n",
      "epoch: 0 | step: 58 | Train: G_Loss: 0.956, D_unsup_loss_real: 0.643, D_unsup_acc_real:  59.38, D_unsup_loss_fake: 0.701, D_unsup_acc_fake: 54.69, D_sup_loss: 2.189, D_sup_acc: 21.20 Train acc: 21.898 Test acc: 22.400 \n",
      "epoch: 0 | step: 59 | Train: G_Loss: 1.041, D_unsup_loss_real: 0.471, D_unsup_acc_real:  67.97, D_unsup_loss_fake: 0.631, D_unsup_acc_fake: 67.19, D_sup_loss: 2.251, D_sup_acc: 22.38 Train acc: 22.330 Test acc: 22.740 \n",
      "epoch: 0 | step: 60 | Train: G_Loss: 1.298, D_unsup_loss_real: 0.437, D_unsup_acc_real:  71.88, D_unsup_loss_fake: 0.484, D_unsup_acc_fake: 92.97, D_sup_loss: 2.218, D_sup_acc: 22.66 Train acc: 23.404 Test acc: 23.980 \n",
      "epoch: 0 | step: 61 | Train: G_Loss: 1.175, D_unsup_loss_real: 0.572, D_unsup_acc_real:  63.28, D_unsup_loss_fake: 0.522, D_unsup_acc_fake: 84.38, D_sup_loss: 2.163, D_sup_acc: 23.95 Train acc: 24.342 Test acc: 25.560 \n",
      "epoch: 0 | step: 62 | Train: G_Loss: 1.256, D_unsup_loss_real: 0.351, D_unsup_acc_real:  80.47, D_unsup_loss_fake: 0.462, D_unsup_acc_fake: 88.28, D_sup_loss: 2.163, D_sup_acc: 25.57 Train acc: 24.882 Test acc: 26.040 \n",
      "epoch: 0 | step: 63 | Train: G_Loss: 1.172, D_unsup_loss_real: 0.531, D_unsup_acc_real:  69.53, D_unsup_loss_fake: 0.477, D_unsup_acc_fake: 89.06, D_sup_loss: 2.152, D_sup_acc: 25.94 Train acc: 24.846 Test acc: 25.450 \n",
      "epoch: 0 | step: 64 | Train: G_Loss: 1.199, D_unsup_loss_real: 0.686, D_unsup_acc_real:  58.59, D_unsup_loss_fake: 0.441, D_unsup_acc_fake: 89.84, D_sup_loss: 2.117, D_sup_acc: 25.39 Train acc: 24.678 Test acc: 25.140 \n",
      "epoch: 0 | step: 65 | Train: G_Loss: 1.098, D_unsup_loss_real: 0.744, D_unsup_acc_real:  60.16, D_unsup_loss_fake: 0.438, D_unsup_acc_fake: 93.75, D_sup_loss: 2.120, D_sup_acc: 25.00 Train acc: 25.130 Test acc: 26.020 \n",
      "epoch: 0 | step: 66 | Train: G_Loss: 1.186, D_unsup_loss_real: 0.578, D_unsup_acc_real:  66.41, D_unsup_loss_fake: 0.430, D_unsup_acc_fake: 92.19, D_sup_loss: 2.122, D_sup_acc: 25.97 Train acc: 24.880 Test acc: 25.300 \n",
      "epoch: 0 | step: 67 | Train: G_Loss: 1.327, D_unsup_loss_real: 0.565, D_unsup_acc_real:  64.06, D_unsup_loss_fake: 0.381, D_unsup_acc_fake: 94.53, D_sup_loss: 2.157, D_sup_acc: 25.23 Train acc: 23.840 Test acc: 24.050 \n",
      "epoch: 0 | step: 68 | Train: G_Loss: 1.279, D_unsup_loss_real: 0.659, D_unsup_acc_real:  61.72, D_unsup_loss_fake: 0.387, D_unsup_acc_fake: 92.19, D_sup_loss: 2.190, D_sup_acc: 23.98 Train acc: 22.568 Test acc: 22.860 \n",
      "epoch: 0 | step: 69 | Train: G_Loss: 1.552, D_unsup_loss_real: 0.375, D_unsup_acc_real:  81.25, D_unsup_loss_fake: 0.400, D_unsup_acc_fake: 93.75, D_sup_loss: 2.210, D_sup_acc: 22.85 Train acc: 20.438 Test acc: 21.010 \n",
      "epoch: 0 | step: 70 | Train: G_Loss: 1.575, D_unsup_loss_real: 0.512, D_unsup_acc_real:  67.97, D_unsup_loss_fake: 0.311, D_unsup_acc_fake: 99.22, D_sup_loss: 2.277, D_sup_acc: 20.92 Train acc: 22.374 Test acc: 22.820 \n",
      "epoch: 0 | step: 71 | Train: G_Loss: 1.564, D_unsup_loss_real: 0.400, D_unsup_acc_real:  74.22, D_unsup_loss_fake: 0.309, D_unsup_acc_fake: 98.44, D_sup_loss: 2.218, D_sup_acc: 22.74 Train acc: 22.622 Test acc: 23.030 \n",
      "epoch: 0 | step: 72 | Train: G_Loss: 1.977, D_unsup_loss_real: 0.398, D_unsup_acc_real:  75.78, D_unsup_loss_fake: 0.342, D_unsup_acc_fake: 95.31, D_sup_loss: 2.280, D_sup_acc: 22.95 Train acc: 22.856 Test acc: 23.060 \n",
      "epoch: 0 | step: 73 | Train: G_Loss: 1.871, D_unsup_loss_real: 0.436, D_unsup_acc_real:  75.78, D_unsup_loss_fake: 0.233, D_unsup_acc_fake: 100.00, D_sup_loss: 2.230, D_sup_acc: 23.12 Train acc: 23.556 Test acc: 24.160 \n",
      "epoch: 0 | step: 74 | Train: G_Loss: 1.840, D_unsup_loss_real: 0.375, D_unsup_acc_real:  80.47, D_unsup_loss_fake: 0.302, D_unsup_acc_fake: 94.53, D_sup_loss: 2.250, D_sup_acc: 24.12 Train acc: 23.502 Test acc: 24.520 \n"
     ]
    },
    {
     "name": "stdout",
     "output_type": "stream",
     "text": [
      "epoch: 0 | step: 75 | Train: G_Loss: 2.004, D_unsup_loss_real: 0.409, D_unsup_acc_real:  78.91, D_unsup_loss_fake: 0.274, D_unsup_acc_fake: 95.31, D_sup_loss: 2.198, D_sup_acc: 24.50 Train acc: 22.692 Test acc: 23.530 \n",
      "epoch: 0 | step: 76 | Train: G_Loss: 1.991, D_unsup_loss_real: 0.461, D_unsup_acc_real:  72.66, D_unsup_loss_fake: 0.318, D_unsup_acc_fake: 92.19, D_sup_loss: 2.210, D_sup_acc: 23.45 Train acc: 22.804 Test acc: 23.410 \n",
      "epoch: 0 | step: 77 | Train: G_Loss: 1.810, D_unsup_loss_real: 0.586, D_unsup_acc_real:  71.88, D_unsup_loss_fake: 0.386, D_unsup_acc_fake: 91.41, D_sup_loss: 2.236, D_sup_acc: 23.33 Train acc: 23.310 Test acc: 23.890 \n",
      "epoch: 0 | step: 78 | Train: G_Loss: 2.224, D_unsup_loss_real: 0.295, D_unsup_acc_real:  85.16, D_unsup_loss_fake: 0.244, D_unsup_acc_fake: 99.22, D_sup_loss: 2.248, D_sup_acc: 23.82 Train acc: 22.776 Test acc: 23.520 \n",
      "epoch: 0 | step: 79 | Train: G_Loss: 1.693, D_unsup_loss_real: 0.592, D_unsup_acc_real:  66.41, D_unsup_loss_fake: 0.353, D_unsup_acc_fake: 94.53, D_sup_loss: 2.272, D_sup_acc: 23.47 Train acc: 23.958 Test acc: 24.600 \n",
      "epoch: 0 | step: 80 | Train: G_Loss: 2.121, D_unsup_loss_real: 0.261, D_unsup_acc_real:  86.72, D_unsup_loss_fake: 0.431, D_unsup_acc_fake: 88.28, D_sup_loss: 2.265, D_sup_acc: 24.58 Train acc: 22.694 Test acc: 23.710 \n",
      "epoch: 0 | step: 81 | Train: G_Loss: 1.631, D_unsup_loss_real: 0.720, D_unsup_acc_real:  59.38, D_unsup_loss_fake: 0.283, D_unsup_acc_fake: 96.88, D_sup_loss: 2.279, D_sup_acc: 23.69 Train acc: 25.258 Test acc: 26.180 \n",
      "epoch: 0 | step: 82 | Train: G_Loss: 1.528, D_unsup_loss_real: 0.487, D_unsup_acc_real:  68.75, D_unsup_loss_fake: 0.476, D_unsup_acc_fake: 85.16, D_sup_loss: 2.216, D_sup_acc: 26.13 Train acc: 25.538 Test acc: 26.030 \n",
      "epoch: 0 | step: 83 | Train: G_Loss: 1.576, D_unsup_loss_real: 0.425, D_unsup_acc_real:  74.22, D_unsup_loss_fake: 0.290, D_unsup_acc_fake: 100.00, D_sup_loss: 2.211, D_sup_acc: 26.02 Train acc: 24.930 Test acc: 25.400 \n",
      "epoch: 0 | step: 84 | Train: G_Loss: 1.502, D_unsup_loss_real: 0.422, D_unsup_acc_real:  77.34, D_unsup_loss_fake: 0.336, D_unsup_acc_fake: 97.66, D_sup_loss: 2.177, D_sup_acc: 25.26 Train acc: 25.580 Test acc: 26.210 \n",
      "epoch: 0 | step: 85 | Train: G_Loss: 1.510, D_unsup_loss_real: 0.312, D_unsup_acc_real:  85.16, D_unsup_loss_fake: 0.347, D_unsup_acc_fake: 98.44, D_sup_loss: 2.170, D_sup_acc: 26.14 Train acc: 26.228 Test acc: 26.430 \n",
      "epoch: 0 | step: 86 | Train: G_Loss: 1.515, D_unsup_loss_real: 0.406, D_unsup_acc_real:  78.12, D_unsup_loss_fake: 0.399, D_unsup_acc_fake: 92.19, D_sup_loss: 2.157, D_sup_acc: 26.30 Train acc: 26.640 Test acc: 26.710 \n",
      "epoch: 0 | step: 87 | Train: G_Loss: 1.673, D_unsup_loss_real: 0.441, D_unsup_acc_real:  71.88, D_unsup_loss_fake: 0.324, D_unsup_acc_fake: 98.44, D_sup_loss: 2.163, D_sup_acc: 26.71 Train acc: 27.102 Test acc: 27.030 \n",
      "epoch: 0 | step: 88 | Train: G_Loss: 1.668, D_unsup_loss_real: 0.482, D_unsup_acc_real:  71.09, D_unsup_loss_fake: 0.294, D_unsup_acc_fake: 96.88, D_sup_loss: 2.198, D_sup_acc: 26.93 Train acc: 24.900 Test acc: 24.250 \n",
      "epoch: 0 | step: 89 | Train: G_Loss: 1.805, D_unsup_loss_real: 0.375, D_unsup_acc_real:  75.78, D_unsup_loss_fake: 0.269, D_unsup_acc_fake: 99.22, D_sup_loss: 2.235, D_sup_acc: 24.21 Train acc: 24.874 Test acc: 24.450 \n",
      "epoch: 0 | step: 90 | Train: G_Loss: 2.015, D_unsup_loss_real: 0.303, D_unsup_acc_real:  85.16, D_unsup_loss_fake: 0.237, D_unsup_acc_fake: 99.22, D_sup_loss: 2.253, D_sup_acc: 24.46 Train acc: 25.220 Test acc: 24.870 \n",
      "epoch: 0 | step: 91 | Train: G_Loss: 1.712, D_unsup_loss_real: 0.768, D_unsup_acc_real:  60.94, D_unsup_loss_fake: 0.267, D_unsup_acc_fake: 100.00, D_sup_loss: 2.231, D_sup_acc: 24.85 Train acc: 25.508 Test acc: 25.310 \n",
      "epoch: 0 | step: 92 | Train: G_Loss: 2.239, D_unsup_loss_real: 0.257, D_unsup_acc_real:  87.50, D_unsup_loss_fake: 0.188, D_unsup_acc_fake: 100.00, D_sup_loss: 2.311, D_sup_acc: 25.28 Train acc: 24.090 Test acc: 24.000 \n",
      "epoch: 0 | step: 93 | Train: G_Loss: 1.965, D_unsup_loss_real: 0.478, D_unsup_acc_real:  75.78, D_unsup_loss_fake: 0.207, D_unsup_acc_fake: 100.00, D_sup_loss: 2.346, D_sup_acc: 24.04 Train acc: 24.818 Test acc: 24.360 \n",
      "epoch: 0 | step: 94 | Train: G_Loss: 1.869, D_unsup_loss_real: 0.482, D_unsup_acc_real:  75.00, D_unsup_loss_fake: 0.269, D_unsup_acc_fake: 96.88, D_sup_loss: 2.289, D_sup_acc: 24.24 Train acc: 24.550 Test acc: 24.380 \n",
      "epoch: 0 | step: 95 | Train: G_Loss: 1.738, D_unsup_loss_real: 0.406, D_unsup_acc_real:  78.91, D_unsup_loss_fake: 0.236, D_unsup_acc_fake: 99.22, D_sup_loss: 2.205, D_sup_acc: 24.30 Train acc: 24.270 Test acc: 24.120 \n",
      "epoch: 0 | step: 96 | Train: G_Loss: 2.020, D_unsup_loss_real: 0.264, D_unsup_acc_real:  89.06, D_unsup_loss_fake: 0.337, D_unsup_acc_fake: 89.84, D_sup_loss: 2.228, D_sup_acc: 24.10 Train acc: 25.848 Test acc: 26.210 \n",
      "epoch: 0 | step: 97 | Train: G_Loss: 2.023, D_unsup_loss_real: 0.436, D_unsup_acc_real:  77.34, D_unsup_loss_fake: 0.255, D_unsup_acc_fake: 95.31, D_sup_loss: 2.124, D_sup_acc: 26.21 Train acc: 25.996 Test acc: 26.180 \n",
      "epoch: 0 | step: 98 | Train: G_Loss: 1.650, D_unsup_loss_real: 0.709, D_unsup_acc_real:  61.72, D_unsup_loss_fake: 0.364, D_unsup_acc_fake: 95.31, D_sup_loss: 2.127, D_sup_acc: 26.10 Train acc: 26.368 Test acc: 26.120 \n",
      "epoch: 0 | step: 99 | Train: G_Loss: 1.841, D_unsup_loss_real: 0.485, D_unsup_acc_real:  73.44, D_unsup_loss_fake: 0.357, D_unsup_acc_fake: 95.31, D_sup_loss: 2.175, D_sup_acc: 26.15 Train acc: 26.372 Test acc: 26.500 \n",
      "epoch: 0 | step: 100 | Train: G_Loss: 1.889, D_unsup_loss_real: 0.391, D_unsup_acc_real:  79.69, D_unsup_loss_fake: 0.333, D_unsup_acc_fake: 94.53, D_sup_loss: 2.154, D_sup_acc: 26.48 Train acc: 26.158 Test acc: 26.500 \n",
      "Train Classifier Accuracy: 26.158%\n",
      "\n",
      "Test Classifier Accuracy: 26.500%\n",
      "\n",
      ">Saving models Generator: Logs/SSGAN_CIFAR10/Classifier_50000/generator_model_100.h5 and Supervised: Logs/SSGAN_CIFAR10/Classifier_50000/supervised_model_100.h5\n",
      "epoch: 0 | step: 101 | Train: G_Loss: 2.115, D_unsup_loss_real: 0.248, D_unsup_acc_real:  87.50, D_unsup_loss_fake: 0.288, D_unsup_acc_fake: 97.66, D_sup_loss: 2.147, D_sup_acc: 26.53 Train acc: 25.804 Test acc: 26.010 \n",
      "epoch: 0 | step: 102 | Train: G_Loss: 1.970, D_unsup_loss_real: 0.419, D_unsup_acc_real:  78.91, D_unsup_loss_fake: 0.289, D_unsup_acc_fake: 98.44, D_sup_loss: 2.214, D_sup_acc: 25.93 Train acc: 26.822 Test acc: 27.680 \n",
      "epoch: 0 | step: 103 | Train: G_Loss: 1.842, D_unsup_loss_real: 0.350, D_unsup_acc_real:  78.91, D_unsup_loss_fake: 0.332, D_unsup_acc_fake: 96.09, D_sup_loss: 2.098, D_sup_acc: 27.59 Train acc: 27.714 Test acc: 28.060 \n",
      "epoch: 0 | step: 104 | Train: G_Loss: 2.069, D_unsup_loss_real: 0.277, D_unsup_acc_real:  84.38, D_unsup_loss_fake: 0.236, D_unsup_acc_fake: 96.09, D_sup_loss: 2.103, D_sup_acc: 27.95 Train acc: 28.482 Test acc: 28.870 \n",
      "epoch: 0 | step: 105 | Train: G_Loss: 2.095, D_unsup_loss_real: 0.514, D_unsup_acc_real:  71.09, D_unsup_loss_fake: 0.293, D_unsup_acc_fake: 97.66, D_sup_loss: 2.065, D_sup_acc: 28.82 Train acc: 29.082 Test acc: 29.040 \n",
      "epoch: 0 | step: 106 | Train: G_Loss: 2.021, D_unsup_loss_real: 0.428, D_unsup_acc_real:  71.88, D_unsup_loss_fake: 0.271, D_unsup_acc_fake: 96.88, D_sup_loss: 2.085, D_sup_acc: 28.98 Train acc: 28.856 Test acc: 28.750 \n",
      "epoch: 0 | step: 107 | Train: G_Loss: 1.697, D_unsup_loss_real: 0.581, D_unsup_acc_real:  67.19, D_unsup_loss_fake: 0.341, D_unsup_acc_fake: 92.97, D_sup_loss: 2.102, D_sup_acc: 28.71 Train acc: 28.268 Test acc: 28.740 \n",
      "epoch: 0 | step: 108 | Train: G_Loss: 1.850, D_unsup_loss_real: 0.407, D_unsup_acc_real:  75.00, D_unsup_loss_fake: 0.337, D_unsup_acc_fake: 98.44, D_sup_loss: 2.113, D_sup_acc: 28.58 Train acc: 28.818 Test acc: 29.220 \n",
      "epoch: 0 | step: 109 | Train: G_Loss: 1.745, D_unsup_loss_real: 0.576, D_unsup_acc_real:  67.97, D_unsup_loss_fake: 0.400, D_unsup_acc_fake: 91.41, D_sup_loss: 2.057, D_sup_acc: 29.19 Train acc: 28.672 Test acc: 29.220 \n",
      "epoch: 0 | step: 110 | Train: G_Loss: 1.796, D_unsup_loss_real: 0.385, D_unsup_acc_real:  75.00, D_unsup_loss_fake: 0.341, D_unsup_acc_fake: 97.66, D_sup_loss: 2.067, D_sup_acc: 29.18 Train acc: 29.792 Test acc: 30.190 \n",
      "epoch: 0 | step: 111 | Train: G_Loss: 1.927, D_unsup_loss_real: 0.530, D_unsup_acc_real:  69.53, D_unsup_loss_fake: 0.510, D_unsup_acc_fake: 79.69, D_sup_loss: 2.030, D_sup_acc: 30.13 Train acc: 26.898 Test acc: 26.990 \n"
     ]
    },
    {
     "name": "stdout",
     "output_type": "stream",
     "text": [
      "epoch: 0 | step: 112 | Train: G_Loss: 1.830, D_unsup_loss_real: 0.420, D_unsup_acc_real:  74.22, D_unsup_loss_fake: 0.294, D_unsup_acc_fake: 96.88, D_sup_loss: 2.078, D_sup_acc: 26.92 Train acc: 28.046 Test acc: 27.540 \n",
      "epoch: 0 | step: 113 | Train: G_Loss: 1.844, D_unsup_loss_real: 0.482, D_unsup_acc_real:  75.00, D_unsup_loss_fake: 0.465, D_unsup_acc_fake: 85.16, D_sup_loss: 2.092, D_sup_acc: 27.43 Train acc: 27.430 Test acc: 27.120 \n",
      "epoch: 0 | step: 114 | Train: G_Loss: 1.879, D_unsup_loss_real: 0.344, D_unsup_acc_real:  82.03, D_unsup_loss_fake: 0.411, D_unsup_acc_fake: 85.16, D_sup_loss: 2.113, D_sup_acc: 27.07 Train acc: 26.982 Test acc: 26.800 \n",
      "epoch: 0 | step: 115 | Train: G_Loss: 1.517, D_unsup_loss_real: 0.772, D_unsup_acc_real:  56.25, D_unsup_loss_fake: 0.459, D_unsup_acc_fake: 82.03, D_sup_loss: 2.121, D_sup_acc: 26.77 Train acc: 24.574 Test acc: 24.860 \n",
      "epoch: 0 | step: 116 | Train: G_Loss: 1.617, D_unsup_loss_real: 0.525, D_unsup_acc_real:  67.97, D_unsup_loss_fake: 0.555, D_unsup_acc_fake: 72.66, D_sup_loss: 2.392, D_sup_acc: 24.87 Train acc: 26.412 Test acc: 26.860 \n",
      "epoch: 0 | step: 117 | Train: G_Loss: 2.082, D_unsup_loss_real: 0.434, D_unsup_acc_real:  76.56, D_unsup_loss_fake: 0.632, D_unsup_acc_fake: 71.88, D_sup_loss: 2.200, D_sup_acc: 26.86 Train acc: 25.984 Test acc: 26.590 \n",
      "epoch: 0 | step: 118 | Train: G_Loss: 2.099, D_unsup_loss_real: 0.492, D_unsup_acc_real:  71.88, D_unsup_loss_fake: 0.369, D_unsup_acc_fake: 92.19, D_sup_loss: 2.197, D_sup_acc: 26.52 Train acc: 27.532 Test acc: 27.660 \n",
      "epoch: 0 | step: 119 | Train: G_Loss: 1.959, D_unsup_loss_real: 0.484, D_unsup_acc_real:  77.34, D_unsup_loss_fake: 0.417, D_unsup_acc_fake: 87.50, D_sup_loss: 2.098, D_sup_acc: 27.64 Train acc: 26.304 Test acc: 26.370 \n",
      "epoch: 0 | step: 120 | Train: G_Loss: 1.840, D_unsup_loss_real: 0.483, D_unsup_acc_real:  74.22, D_unsup_loss_fake: 0.472, D_unsup_acc_fake: 77.34, D_sup_loss: 2.119, D_sup_acc: 26.34 Train acc: 28.064 Test acc: 28.120 \n",
      "epoch: 0 | step: 121 | Train: G_Loss: 1.936, D_unsup_loss_real: 0.427, D_unsup_acc_real:  71.88, D_unsup_loss_fake: 0.417, D_unsup_acc_fake: 89.84, D_sup_loss: 2.077, D_sup_acc: 27.97 Train acc: 26.838 Test acc: 27.460 \n",
      "epoch: 0 | step: 122 | Train: G_Loss: 2.102, D_unsup_loss_real: 0.399, D_unsup_acc_real:  77.34, D_unsup_loss_fake: 0.555, D_unsup_acc_fake: 85.16, D_sup_loss: 2.227, D_sup_acc: 27.44 Train acc: 25.856 Test acc: 26.300 \n",
      "epoch: 0 | step: 123 | Train: G_Loss: 2.310, D_unsup_loss_real: 0.337, D_unsup_acc_real:  81.25, D_unsup_loss_fake: 0.539, D_unsup_acc_fake: 83.59, D_sup_loss: 2.211, D_sup_acc: 26.25 Train acc: 27.546 Test acc: 28.250 \n",
      "epoch: 0 | step: 124 | Train: G_Loss: 2.220, D_unsup_loss_real: 0.442, D_unsup_acc_real:  74.22, D_unsup_loss_fake: 0.418, D_unsup_acc_fake: 91.41, D_sup_loss: 2.038, D_sup_acc: 28.22 Train acc: 30.158 Test acc: 30.530 \n",
      "epoch: 0 | step: 125 | Train: G_Loss: 2.139, D_unsup_loss_real: 0.423, D_unsup_acc_real:  75.78, D_unsup_loss_fake: 0.576, D_unsup_acc_fake: 85.94, D_sup_loss: 1.975, D_sup_acc: 30.48 Train acc: 31.070 Test acc: 31.120 \n",
      "epoch: 0 | step: 126 | Train: G_Loss: 2.249, D_unsup_loss_real: 0.355, D_unsup_acc_real:  82.03, D_unsup_loss_fake: 0.387, D_unsup_acc_fake: 93.75, D_sup_loss: 2.003, D_sup_acc: 30.98 Train acc: 30.178 Test acc: 30.620 \n",
      "epoch: 0 | step: 127 | Train: G_Loss: 1.838, D_unsup_loss_real: 0.400, D_unsup_acc_real:  79.69, D_unsup_loss_fake: 0.319, D_unsup_acc_fake: 95.31, D_sup_loss: 2.038, D_sup_acc: 30.57 Train acc: 28.474 Test acc: 29.020 \n",
      "epoch: 0 | step: 128 | Train: G_Loss: 1.681, D_unsup_loss_real: 0.425, D_unsup_acc_real:  71.09, D_unsup_loss_fake: 0.528, D_unsup_acc_fake: 85.16, D_sup_loss: 2.056, D_sup_acc: 28.96 Train acc: 28.616 Test acc: 29.640 \n",
      "epoch: 0 | step: 129 | Train: G_Loss: 2.253, D_unsup_loss_real: 0.270, D_unsup_acc_real:  88.28, D_unsup_loss_fake: 0.493, D_unsup_acc_fake: 81.25, D_sup_loss: 2.055, D_sup_acc: 29.62 Train acc: 29.664 Test acc: 30.240 \n",
      "epoch: 0 | step: 130 | Train: G_Loss: 2.198, D_unsup_loss_real: 0.507, D_unsup_acc_real:  75.00, D_unsup_loss_fake: 0.501, D_unsup_acc_fake: 79.69, D_sup_loss: 2.031, D_sup_acc: 30.08 Train acc: 28.494 Test acc: 29.230 \n",
      "epoch: 0 | step: 131 | Train: G_Loss: 2.312, D_unsup_loss_real: 0.400, D_unsup_acc_real:  78.12, D_unsup_loss_fake: 0.638, D_unsup_acc_fake: 71.09, D_sup_loss: 2.124, D_sup_acc: 29.16 Train acc: 27.618 Test acc: 28.090 \n",
      "epoch: 0 | step: 132 | Train: G_Loss: 2.350, D_unsup_loss_real: 0.410, D_unsup_acc_real:  76.56, D_unsup_loss_fake: 0.475, D_unsup_acc_fake: 77.34, D_sup_loss: 2.129, D_sup_acc: 28.03 Train acc: 25.838 Test acc: 26.230 \n",
      "epoch: 0 | step: 133 | Train: G_Loss: 1.883, D_unsup_loss_real: 0.546, D_unsup_acc_real:  67.19, D_unsup_loss_fake: 0.456, D_unsup_acc_fake: 84.38, D_sup_loss: 2.162, D_sup_acc: 26.22 Train acc: 25.446 Test acc: 25.630 \n",
      "epoch: 0 | step: 134 | Train: G_Loss: 2.402, D_unsup_loss_real: 0.364, D_unsup_acc_real:  81.25, D_unsup_loss_fake: 0.766, D_unsup_acc_fake: 60.16, D_sup_loss: 2.247, D_sup_acc: 25.59 Train acc: 27.726 Test acc: 27.940 \n",
      "epoch: 0 | step: 135 | Train: G_Loss: 1.858, D_unsup_loss_real: 0.658, D_unsup_acc_real:  61.72, D_unsup_loss_fake: 0.499, D_unsup_acc_fake: 80.47, D_sup_loss: 2.025, D_sup_acc: 27.79 Train acc: 26.646 Test acc: 26.710 \n",
      "epoch: 0 | step: 136 | Train: G_Loss: 1.669, D_unsup_loss_real: 0.517, D_unsup_acc_real:  68.75, D_unsup_loss_fake: 0.640, D_unsup_acc_fake: 66.41, D_sup_loss: 2.028, D_sup_acc: 26.62 Train acc: 26.592 Test acc: 26.630 \n",
      "epoch: 0 | step: 137 | Train: G_Loss: 1.629, D_unsup_loss_real: 0.468, D_unsup_acc_real:  69.53, D_unsup_loss_fake: 0.610, D_unsup_acc_fake: 64.06, D_sup_loss: 2.062, D_sup_acc: 26.50 Train acc: 27.240 Test acc: 27.360 \n",
      "epoch: 0 | step: 138 | Train: G_Loss: 1.579, D_unsup_loss_real: 0.571, D_unsup_acc_real:  63.28, D_unsup_loss_fake: 0.771, D_unsup_acc_fake: 47.66, D_sup_loss: 2.049, D_sup_acc: 27.33 Train acc: 26.742 Test acc: 27.200 \n",
      "epoch: 0 | step: 139 | Train: G_Loss: 1.523, D_unsup_loss_real: 0.518, D_unsup_acc_real:  71.88, D_unsup_loss_fake: 0.576, D_unsup_acc_fake: 79.69, D_sup_loss: 2.038, D_sup_acc: 27.16 Train acc: 26.764 Test acc: 26.950 \n",
      "epoch: 0 | step: 140 | Train: G_Loss: 1.467, D_unsup_loss_real: 0.433, D_unsup_acc_real:  74.22, D_unsup_loss_fake: 0.530, D_unsup_acc_fake: 86.72, D_sup_loss: 2.052, D_sup_acc: 26.89 Train acc: 26.352 Test acc: 26.960 \n",
      "epoch: 0 | step: 141 | Train: G_Loss: 1.592, D_unsup_loss_real: 0.400, D_unsup_acc_real:  78.12, D_unsup_loss_fake: 0.498, D_unsup_acc_fake: 84.38, D_sup_loss: 2.058, D_sup_acc: 26.94 Train acc: 26.838 Test acc: 27.400 \n",
      "epoch: 0 | step: 142 | Train: G_Loss: 1.624, D_unsup_loss_real: 0.483, D_unsup_acc_real:  69.53, D_unsup_loss_fake: 0.679, D_unsup_acc_fake: 78.12, D_sup_loss: 2.053, D_sup_acc: 27.42 Train acc: 25.946 Test acc: 26.560 \n",
      "epoch: 0 | step: 143 | Train: G_Loss: 1.478, D_unsup_loss_real: 0.560, D_unsup_acc_real:  65.62, D_unsup_loss_fake: 0.487, D_unsup_acc_fake: 84.38, D_sup_loss: 2.096, D_sup_acc: 26.55 Train acc: 27.566 Test acc: 28.060 \n",
      "epoch: 0 | step: 144 | Train: G_Loss: 1.597, D_unsup_loss_real: 0.471, D_unsup_acc_real:  70.31, D_unsup_loss_fake: 0.470, D_unsup_acc_fake: 89.06, D_sup_loss: 2.073, D_sup_acc: 28.06 Train acc: 28.848 Test acc: 29.090 \n",
      "epoch: 0 | step: 145 | Train: G_Loss: 1.788, D_unsup_loss_real: 0.369, D_unsup_acc_real:  76.56, D_unsup_loss_fake: 0.557, D_unsup_acc_fake: 89.06, D_sup_loss: 2.053, D_sup_acc: 29.05 Train acc: 27.206 Test acc: 27.600 \n",
      "epoch: 0 | step: 146 | Train: G_Loss: 1.499, D_unsup_loss_real: 0.574, D_unsup_acc_real:  64.84, D_unsup_loss_fake: 0.446, D_unsup_acc_fake: 89.84, D_sup_loss: 2.075, D_sup_acc: 27.66 Train acc: 28.610 Test acc: 28.980 \n",
      "epoch: 0 | step: 147 | Train: G_Loss: 1.522, D_unsup_loss_real: 0.305, D_unsup_acc_real:  85.94, D_unsup_loss_fake: 0.485, D_unsup_acc_fake: 91.41, D_sup_loss: 2.018, D_sup_acc: 28.94 Train acc: 30.124 Test acc: 30.750 \n",
      "epoch: 0 | step: 148 | Train: G_Loss: 2.016, D_unsup_loss_real: 0.260, D_unsup_acc_real:  89.84, D_unsup_loss_fake: 0.516, D_unsup_acc_fake: 86.72, D_sup_loss: 1.982, D_sup_acc: 30.67 Train acc: 28.972 Test acc: 29.240 \n",
      "epoch: 0 | step: 149 | Train: G_Loss: 1.717, D_unsup_loss_real: 0.469, D_unsup_acc_real:  71.88, D_unsup_loss_fake: 0.447, D_unsup_acc_fake: 91.41, D_sup_loss: 1.992, D_sup_acc: 29.20 Train acc: 28.570 Test acc: 29.240 \n"
     ]
    },
    {
     "name": "stdout",
     "output_type": "stream",
     "text": [
      "epoch: 0 | step: 150 | Train: G_Loss: 2.588, D_unsup_loss_real: 0.274, D_unsup_acc_real:  91.41, D_unsup_loss_fake: 0.765, D_unsup_acc_fake: 53.12, D_sup_loss: 1.992, D_sup_acc: 29.09 Train acc: 27.138 Test acc: 27.250 \n",
      "epoch: 0 | step: 151 | Train: G_Loss: 2.281, D_unsup_loss_real: 0.435, D_unsup_acc_real:  82.03, D_unsup_loss_fake: 0.233, D_unsup_acc_fake: 97.66, D_sup_loss: 2.025, D_sup_acc: 27.19 Train acc: 27.284 Test acc: 27.410 \n",
      "epoch: 0 | step: 152 | Train: G_Loss: 1.815, D_unsup_loss_real: 0.260, D_unsup_acc_real:  89.84, D_unsup_loss_fake: 0.323, D_unsup_acc_fake: 96.88, D_sup_loss: 2.036, D_sup_acc: 27.38 Train acc: 29.712 Test acc: 29.780 \n",
      "epoch: 0 | step: 153 | Train: G_Loss: 1.930, D_unsup_loss_real: 0.250, D_unsup_acc_real:  94.53, D_unsup_loss_fake: 0.494, D_unsup_acc_fake: 82.81, D_sup_loss: 1.966, D_sup_acc: 29.71 Train acc: 31.546 Test acc: 31.910 \n",
      "epoch: 0 | step: 154 | Train: G_Loss: 2.217, D_unsup_loss_real: 0.263, D_unsup_acc_real:  93.75, D_unsup_loss_fake: 0.578, D_unsup_acc_fake: 75.78, D_sup_loss: 1.943, D_sup_acc: 31.82 Train acc: 31.418 Test acc: 32.040 \n",
      "epoch: 0 | step: 155 | Train: G_Loss: 2.556, D_unsup_loss_real: 0.275, D_unsup_acc_real:  89.06, D_unsup_loss_fake: 0.426, D_unsup_acc_fake: 84.38, D_sup_loss: 1.944, D_sup_acc: 31.91 Train acc: 30.620 Test acc: 31.250 \n",
      "epoch: 0 | step: 156 | Train: G_Loss: 2.843, D_unsup_loss_real: 0.312, D_unsup_acc_real:  87.50, D_unsup_loss_fake: 0.508, D_unsup_acc_fake: 80.47, D_sup_loss: 1.983, D_sup_acc: 31.11 Train acc: 30.370 Test acc: 30.350 \n",
      "epoch: 0 | step: 157 | Train: G_Loss: 2.558, D_unsup_loss_real: 0.362, D_unsup_acc_real:  81.25, D_unsup_loss_fake: 0.360, D_unsup_acc_fake: 90.62, D_sup_loss: 1.982, D_sup_acc: 30.31 Train acc: 29.646 Test acc: 29.600 \n",
      "epoch: 0 | step: 158 | Train: G_Loss: 2.540, D_unsup_loss_real: 0.370, D_unsup_acc_real:  80.47, D_unsup_loss_fake: 0.396, D_unsup_acc_fake: 86.72, D_sup_loss: 2.005, D_sup_acc: 29.54 Train acc: 29.182 Test acc: 28.920 \n",
      "epoch: 0 | step: 159 | Train: G_Loss: 2.638, D_unsup_loss_real: 0.393, D_unsup_acc_real:  81.25, D_unsup_loss_fake: 0.436, D_unsup_acc_fake: 88.28, D_sup_loss: 2.008, D_sup_acc: 28.88 Train acc: 29.824 Test acc: 29.250 \n",
      "epoch: 0 | step: 160 | Train: G_Loss: 2.680, D_unsup_loss_real: 0.427, D_unsup_acc_real:  78.12, D_unsup_loss_fake: 0.426, D_unsup_acc_fake: 89.06, D_sup_loss: 1.988, D_sup_acc: 29.29 Train acc: 29.148 Test acc: 28.900 \n",
      "epoch: 0 | step: 161 | Train: G_Loss: 2.877, D_unsup_loss_real: 0.534, D_unsup_acc_real:  68.75, D_unsup_loss_fake: 0.647, D_unsup_acc_fake: 67.97, D_sup_loss: 1.967, D_sup_acc: 28.78 Train acc: 29.302 Test acc: 29.180 \n",
      "epoch: 0 | step: 162 | Train: G_Loss: 3.057, D_unsup_loss_real: 0.409, D_unsup_acc_real:  75.78, D_unsup_loss_fake: 0.345, D_unsup_acc_fake: 87.50, D_sup_loss: 1.956, D_sup_acc: 29.08 Train acc: 28.848 Test acc: 29.200 \n",
      "epoch: 0 | step: 163 | Train: G_Loss: 3.052, D_unsup_loss_real: 0.381, D_unsup_acc_real:  79.69, D_unsup_loss_fake: 0.324, D_unsup_acc_fake: 91.41, D_sup_loss: 1.978, D_sup_acc: 29.20 Train acc: 28.676 Test acc: 28.760 \n",
      "epoch: 0 | step: 164 | Train: G_Loss: 2.696, D_unsup_loss_real: 0.479, D_unsup_acc_real:  71.88, D_unsup_loss_fake: 0.311, D_unsup_acc_fake: 93.75, D_sup_loss: 1.980, D_sup_acc: 28.73 Train acc: 29.952 Test acc: 29.620 \n",
      "epoch: 0 | step: 165 | Train: G_Loss: 3.068, D_unsup_loss_real: 0.263, D_unsup_acc_real:  87.50, D_unsup_loss_fake: 0.485, D_unsup_acc_fake: 76.56, D_sup_loss: 1.959, D_sup_acc: 29.59 Train acc: 30.088 Test acc: 30.270 \n",
      "epoch: 0 | step: 166 | Train: G_Loss: 2.616, D_unsup_loss_real: 0.543, D_unsup_acc_real:  73.44, D_unsup_loss_fake: 0.491, D_unsup_acc_fake: 76.56, D_sup_loss: 1.949, D_sup_acc: 30.20 Train acc: 30.780 Test acc: 31.310 \n",
      "epoch: 0 | step: 167 | Train: G_Loss: 3.113, D_unsup_loss_real: 0.763, D_unsup_acc_real:  60.94, D_unsup_loss_fake: 0.946, D_unsup_acc_fake: 42.19, D_sup_loss: 1.913, D_sup_acc: 31.18 Train acc: 28.432 Test acc: 28.630 \n",
      "epoch: 0 | step: 168 | Train: G_Loss: 2.222, D_unsup_loss_real: 0.821, D_unsup_acc_real:  58.59, D_unsup_loss_fake: 0.546, D_unsup_acc_fake: 81.25, D_sup_loss: 1.960, D_sup_acc: 28.59 Train acc: 30.438 Test acc: 31.020 \n",
      "epoch: 0 | step: 169 | Train: G_Loss: 2.299, D_unsup_loss_real: 0.651, D_unsup_acc_real:  61.72, D_unsup_loss_fake: 1.050, D_unsup_acc_fake: 33.59, D_sup_loss: 1.930, D_sup_acc: 30.96 Train acc: 25.684 Test acc: 26.040 \n",
      "epoch: 0 | step: 170 | Train: G_Loss: 1.765, D_unsup_loss_real: 0.642, D_unsup_acc_real:  63.28, D_unsup_loss_fake: 0.463, D_unsup_acc_fake: 85.94, D_sup_loss: 2.049, D_sup_acc: 25.97 Train acc: 27.082 Test acc: 27.520 \n",
      "epoch: 0 | step: 171 | Train: G_Loss: 1.465, D_unsup_loss_real: 0.531, D_unsup_acc_real:  68.75, D_unsup_loss_fake: 0.757, D_unsup_acc_fake: 50.00, D_sup_loss: 2.018, D_sup_acc: 27.52 Train acc: 28.908 Test acc: 28.980 \n",
      "epoch: 0 | step: 172 | Train: G_Loss: 1.448, D_unsup_loss_real: 0.604, D_unsup_acc_real:  63.28, D_unsup_loss_fake: 0.595, D_unsup_acc_fake: 69.53, D_sup_loss: 1.982, D_sup_acc: 29.02 Train acc: 28.544 Test acc: 28.510 \n",
      "epoch: 0 | step: 173 | Train: G_Loss: 1.493, D_unsup_loss_real: 0.484, D_unsup_acc_real:  72.66, D_unsup_loss_fake: 0.671, D_unsup_acc_fake: 66.41, D_sup_loss: 1.988, D_sup_acc: 28.42 Train acc: 28.012 Test acc: 28.480 \n",
      "epoch: 0 | step: 174 | Train: G_Loss: 1.510, D_unsup_loss_real: 0.361, D_unsup_acc_real:  86.72, D_unsup_loss_fake: 0.516, D_unsup_acc_fake: 75.78, D_sup_loss: 2.001, D_sup_acc: 28.41 Train acc: 29.598 Test acc: 29.830 \n",
      "epoch: 0 | step: 175 | Train: G_Loss: 1.499, D_unsup_loss_real: 0.462, D_unsup_acc_real:  73.44, D_unsup_loss_fake: 0.577, D_unsup_acc_fake: 70.31, D_sup_loss: 1.951, D_sup_acc: 29.78 Train acc: 29.452 Test acc: 29.680 \n",
      "epoch: 0 | step: 176 | Train: G_Loss: 1.592, D_unsup_loss_real: 0.305, D_unsup_acc_real:  84.38, D_unsup_loss_fake: 0.505, D_unsup_acc_fake: 77.34, D_sup_loss: 1.953, D_sup_acc: 29.57 Train acc: 29.548 Test acc: 29.290 \n",
      "epoch: 0 | step: 177 | Train: G_Loss: 1.559, D_unsup_loss_real: 0.343, D_unsup_acc_real:  82.81, D_unsup_loss_fake: 0.565, D_unsup_acc_fake: 71.88, D_sup_loss: 1.954, D_sup_acc: 29.22 Train acc: 29.506 Test acc: 29.670 \n",
      "epoch: 0 | step: 178 | Train: G_Loss: 1.671, D_unsup_loss_real: 0.390, D_unsup_acc_real:  80.47, D_unsup_loss_fake: 0.532, D_unsup_acc_fake: 76.56, D_sup_loss: 1.971, D_sup_acc: 29.60 Train acc: 29.922 Test acc: 30.140 \n",
      "epoch: 0 | step: 179 | Train: G_Loss: 1.762, D_unsup_loss_real: 0.326, D_unsup_acc_real:  85.16, D_unsup_loss_fake: 0.575, D_unsup_acc_fake: 72.66, D_sup_loss: 1.955, D_sup_acc: 30.10 Train acc: 30.274 Test acc: 30.610 \n",
      "epoch: 0 | step: 180 | Train: G_Loss: 1.794, D_unsup_loss_real: 0.337, D_unsup_acc_real:  85.94, D_unsup_loss_fake: 0.530, D_unsup_acc_fake: 79.69, D_sup_loss: 1.941, D_sup_acc: 30.57 Train acc: 30.714 Test acc: 31.110 \n",
      "epoch: 0 | step: 181 | Train: G_Loss: 1.732, D_unsup_loss_real: 0.472, D_unsup_acc_real:  75.78, D_unsup_loss_fake: 0.496, D_unsup_acc_fake: 80.47, D_sup_loss: 1.921, D_sup_acc: 31.08 Train acc: 30.208 Test acc: 30.480 \n",
      "epoch: 0 | step: 182 | Train: G_Loss: 1.785, D_unsup_loss_real: 0.370, D_unsup_acc_real:  83.59, D_unsup_loss_fake: 0.512, D_unsup_acc_fake: 78.91, D_sup_loss: 1.936, D_sup_acc: 30.47 Train acc: 30.638 Test acc: 31.170 \n",
      "epoch: 0 | step: 183 | Train: G_Loss: 1.877, D_unsup_loss_real: 0.304, D_unsup_acc_real:  86.72, D_unsup_loss_fake: 0.538, D_unsup_acc_fake: 76.56, D_sup_loss: 1.922, D_sup_acc: 31.18 Train acc: 30.606 Test acc: 31.240 \n",
      "epoch: 0 | step: 184 | Train: G_Loss: 1.968, D_unsup_loss_real: 0.467, D_unsup_acc_real:  75.78, D_unsup_loss_fake: 0.591, D_unsup_acc_fake: 71.09, D_sup_loss: 1.923, D_sup_acc: 31.13 Train acc: 30.384 Test acc: 30.850 \n",
      "epoch: 0 | step: 185 | Train: G_Loss: 1.737, D_unsup_loss_real: 0.452, D_unsup_acc_real:  74.22, D_unsup_loss_fake: 0.453, D_unsup_acc_fake: 81.25, D_sup_loss: 1.931, D_sup_acc: 30.85 Train acc: 29.832 Test acc: 30.160 \n",
      "epoch: 0 | step: 186 | Train: G_Loss: 1.719, D_unsup_loss_real: 0.378, D_unsup_acc_real:  83.59, D_unsup_loss_fake: 0.635, D_unsup_acc_fake: 62.50, D_sup_loss: 1.945, D_sup_acc: 30.14 Train acc: 29.210 Test acc: 30.020 \n",
      "epoch: 0 | step: 187 | Train: G_Loss: 2.079, D_unsup_loss_real: 0.296, D_unsup_acc_real:  88.28, D_unsup_loss_fake: 0.452, D_unsup_acc_fake: 85.16, D_sup_loss: 1.961, D_sup_acc: 29.99 Train acc: 29.148 Test acc: 30.060 \n"
     ]
    },
    {
     "name": "stdout",
     "output_type": "stream",
     "text": [
      "epoch: 0 | step: 188 | Train: G_Loss: 2.103, D_unsup_loss_real: 0.389, D_unsup_acc_real:  75.00, D_unsup_loss_fake: 0.334, D_unsup_acc_fake: 92.19, D_sup_loss: 1.963, D_sup_acc: 30.10 Train acc: 29.132 Test acc: 29.960 \n",
      "epoch: 0 | step: 189 | Train: G_Loss: 1.828, D_unsup_loss_real: 0.506, D_unsup_acc_real:  69.53, D_unsup_loss_fake: 0.495, D_unsup_acc_fake: 82.03, D_sup_loss: 1.962, D_sup_acc: 29.84 Train acc: 29.574 Test acc: 30.120 \n",
      "epoch: 0 | step: 190 | Train: G_Loss: 1.968, D_unsup_loss_real: 0.453, D_unsup_acc_real:  71.88, D_unsup_loss_fake: 0.484, D_unsup_acc_fake: 83.59, D_sup_loss: 1.957, D_sup_acc: 30.09 Train acc: 29.638 Test acc: 30.100 \n",
      "epoch: 0 | step: 191 | Train: G_Loss: 1.793, D_unsup_loss_real: 0.533, D_unsup_acc_real:  71.09, D_unsup_loss_fake: 0.471, D_unsup_acc_fake: 85.16, D_sup_loss: 1.951, D_sup_acc: 30.05 Train acc: 30.184 Test acc: 30.370 \n",
      "epoch: 0 | step: 192 | Train: G_Loss: 1.748, D_unsup_loss_real: 0.500, D_unsup_acc_real:  76.56, D_unsup_loss_fake: 0.619, D_unsup_acc_fake: 62.50, D_sup_loss: 1.938, D_sup_acc: 30.31 Train acc: 30.302 Test acc: 30.610 \n",
      "epoch: 0 | step: 193 | Train: G_Loss: 1.833, D_unsup_loss_real: 0.455, D_unsup_acc_real:  77.34, D_unsup_loss_fake: 0.590, D_unsup_acc_fake: 73.44, D_sup_loss: 1.943, D_sup_acc: 30.58 Train acc: 30.190 Test acc: 30.260 \n",
      "epoch: 0 | step: 194 | Train: G_Loss: 1.729, D_unsup_loss_real: 0.509, D_unsup_acc_real:  70.31, D_unsup_loss_fake: 0.582, D_unsup_acc_fake: 71.09, D_sup_loss: 1.937, D_sup_acc: 30.26 Train acc: 29.996 Test acc: 30.190 \n",
      "epoch: 0 | step: 195 | Train: G_Loss: 1.915, D_unsup_loss_real: 0.456, D_unsup_acc_real:  75.00, D_unsup_loss_fake: 0.656, D_unsup_acc_fake: 63.28, D_sup_loss: 1.950, D_sup_acc: 30.17 Train acc: 29.436 Test acc: 29.750 \n",
      "epoch: 0 | step: 196 | Train: G_Loss: 1.781, D_unsup_loss_real: 0.595, D_unsup_acc_real:  64.84, D_unsup_loss_fake: 0.560, D_unsup_acc_fake: 71.88, D_sup_loss: 1.967, D_sup_acc: 29.70 Train acc: 28.662 Test acc: 29.260 \n",
      "epoch: 0 | step: 197 | Train: G_Loss: 1.849, D_unsup_loss_real: 0.502, D_unsup_acc_real:  69.53, D_unsup_loss_fake: 0.562, D_unsup_acc_fake: 76.56, D_sup_loss: 1.996, D_sup_acc: 29.24 Train acc: 27.830 Test acc: 28.730 \n",
      "epoch: 0 | step: 198 | Train: G_Loss: 1.799, D_unsup_loss_real: 0.556, D_unsup_acc_real:  69.53, D_unsup_loss_fake: 0.537, D_unsup_acc_fake: 73.44, D_sup_loss: 2.050, D_sup_acc: 28.63 Train acc: 28.342 Test acc: 28.810 \n",
      "epoch: 0 | step: 199 | Train: G_Loss: 1.982, D_unsup_loss_real: 0.484, D_unsup_acc_real:  70.31, D_unsup_loss_fake: 0.504, D_unsup_acc_fake: 78.12, D_sup_loss: 2.028, D_sup_acc: 28.76 Train acc: 28.250 Test acc: 28.850 \n",
      "epoch: 0 | step: 200 | Train: G_Loss: 2.017, D_unsup_loss_real: 0.508, D_unsup_acc_real:  65.62, D_unsup_loss_fake: 0.399, D_unsup_acc_fake: 89.06, D_sup_loss: 2.002, D_sup_acc: 28.85 Train acc: 27.926 Test acc: 28.230 \n",
      "Train Classifier Accuracy: 27.926%\n",
      "\n",
      "Test Classifier Accuracy: 28.230%\n",
      "\n",
      ">Saving models Generator: Logs/SSGAN_CIFAR10/Classifier_50000/generator_model_200.h5 and Supervised: Logs/SSGAN_CIFAR10/Classifier_50000/supervised_model_200.h5\n",
      "epoch: 0 | step: 201 | Train: G_Loss: 1.915, D_unsup_loss_real: 0.466, D_unsup_acc_real:  72.66, D_unsup_loss_fake: 0.397, D_unsup_acc_fake: 85.94, D_sup_loss: 1.991, D_sup_acc: 28.17 Train acc: 28.754 Test acc: 29.000 \n",
      "epoch: 0 | step: 202 | Train: G_Loss: 2.193, D_unsup_loss_real: 0.398, D_unsup_acc_real:  77.34, D_unsup_loss_fake: 0.439, D_unsup_acc_fake: 84.38, D_sup_loss: 1.951, D_sup_acc: 28.97 Train acc: 29.586 Test acc: 30.540 \n",
      "epoch: 0 | step: 203 | Train: G_Loss: 2.053, D_unsup_loss_real: 0.435, D_unsup_acc_real:  75.00, D_unsup_loss_fake: 0.459, D_unsup_acc_fake: 80.47, D_sup_loss: 1.949, D_sup_acc: 30.46 Train acc: 30.654 Test acc: 31.310 \n",
      "epoch: 0 | step: 204 | Train: G_Loss: 1.930, D_unsup_loss_real: 0.386, D_unsup_acc_real:  82.03, D_unsup_loss_fake: 0.458, D_unsup_acc_fake: 83.59, D_sup_loss: 1.937, D_sup_acc: 31.35 Train acc: 31.304 Test acc: 31.710 \n",
      "epoch: 0 | step: 205 | Train: G_Loss: 1.872, D_unsup_loss_real: 0.433, D_unsup_acc_real:  78.91, D_unsup_loss_fake: 0.469, D_unsup_acc_fake: 84.38, D_sup_loss: 1.908, D_sup_acc: 31.73 Train acc: 31.398 Test acc: 31.930 \n",
      "epoch: 0 | step: 206 | Train: G_Loss: 1.991, D_unsup_loss_real: 0.446, D_unsup_acc_real:  74.22, D_unsup_loss_fake: 0.413, D_unsup_acc_fake: 89.84, D_sup_loss: 1.903, D_sup_acc: 31.90 Train acc: 30.866 Test acc: 31.600 \n",
      "epoch: 0 | step: 207 | Train: G_Loss: 2.088, D_unsup_loss_real: 0.537, D_unsup_acc_real:  68.75, D_unsup_loss_fake: 0.481, D_unsup_acc_fake: 88.28, D_sup_loss: 1.902, D_sup_acc: 31.49 Train acc: 30.568 Test acc: 30.880 \n",
      "epoch: 0 | step: 208 | Train: G_Loss: 2.268, D_unsup_loss_real: 0.516, D_unsup_acc_real:  71.09, D_unsup_loss_fake: 0.427, D_unsup_acc_fake: 89.84, D_sup_loss: 1.908, D_sup_acc: 30.77 Train acc: 30.822 Test acc: 30.920 \n",
      "epoch: 0 | step: 209 | Train: G_Loss: 2.027, D_unsup_loss_real: 0.611, D_unsup_acc_real:  63.28, D_unsup_loss_fake: 0.406, D_unsup_acc_fake: 91.41, D_sup_loss: 1.918, D_sup_acc: 30.82 Train acc: 30.342 Test acc: 30.760 \n",
      "epoch: 0 | step: 210 | Train: G_Loss: 2.028, D_unsup_loss_real: 0.578, D_unsup_acc_real:  67.97, D_unsup_loss_fake: 0.465, D_unsup_acc_fake: 83.59, D_sup_loss: 1.937, D_sup_acc: 30.73 Train acc: 30.788 Test acc: 31.290 \n",
      "epoch: 0 | step: 211 | Train: G_Loss: 1.818, D_unsup_loss_real: 0.592, D_unsup_acc_real:  64.84, D_unsup_loss_fake: 0.401, D_unsup_acc_fake: 89.84, D_sup_loss: 1.919, D_sup_acc: 31.19 Train acc: 30.658 Test acc: 30.980 \n",
      "epoch: 0 | step: 212 | Train: G_Loss: 1.739, D_unsup_loss_real: 0.554, D_unsup_acc_real:  65.62, D_unsup_loss_fake: 0.474, D_unsup_acc_fake: 86.72, D_sup_loss: 1.923, D_sup_acc: 30.91 Train acc: 30.182 Test acc: 30.440 \n",
      "epoch: 0 | step: 213 | Train: G_Loss: 1.862, D_unsup_loss_real: 0.519, D_unsup_acc_real:  68.75, D_unsup_loss_fake: 0.522, D_unsup_acc_fake: 78.12, D_sup_loss: 1.920, D_sup_acc: 30.36 Train acc: 27.518 Test acc: 28.010 \n",
      "epoch: 0 | step: 214 | Train: G_Loss: 2.137, D_unsup_loss_real: 0.514, D_unsup_acc_real:  68.75, D_unsup_loss_fake: 0.671, D_unsup_acc_fake: 68.75, D_sup_loss: 1.957, D_sup_acc: 27.94 Train acc: 27.830 Test acc: 28.000 \n",
      "epoch: 0 | step: 215 | Train: G_Loss: 2.609, D_unsup_loss_real: 0.523, D_unsup_acc_real:  64.06, D_unsup_loss_fake: 0.736, D_unsup_acc_fake: 67.19, D_sup_loss: 1.947, D_sup_acc: 28.03 Train acc: 20.856 Test acc: 21.190 \n",
      "epoch: 0 | step: 216 | Train: G_Loss: 3.152, D_unsup_loss_real: 0.765, D_unsup_acc_real:  50.00, D_unsup_loss_fake: 0.810, D_unsup_acc_fake: 54.69, D_sup_loss: 2.205, D_sup_acc: 21.24 Train acc: 30.114 Test acc: 30.300 \n",
      "epoch: 0 | step: 217 | Train: G_Loss: 3.257, D_unsup_loss_real: 0.941, D_unsup_acc_real:  48.44, D_unsup_loss_fake: 1.533, D_unsup_acc_fake: 25.00, D_sup_loss: 1.944, D_sup_acc: 30.17 Train acc: 24.996 Test acc: 24.710 \n",
      "epoch: 0 | step: 218 | Train: G_Loss: 1.840, D_unsup_loss_real: 0.990, D_unsup_acc_real:  42.19, D_unsup_loss_fake: 0.282, D_unsup_acc_fake: 96.09, D_sup_loss: 2.078, D_sup_acc: 24.77 Train acc: 23.768 Test acc: 24.120 \n",
      "epoch: 0 | step: 219 | Train: G_Loss: 1.224, D_unsup_loss_real: 0.552, D_unsup_acc_real:  75.78, D_unsup_loss_fake: 0.752, D_unsup_acc_fake: 42.19, D_sup_loss: 2.114, D_sup_acc: 24.05 Train acc: 27.496 Test acc: 27.890 \n",
      "epoch: 0 | step: 220 | Train: G_Loss: 1.343, D_unsup_loss_real: 0.332, D_unsup_acc_real:  92.19, D_unsup_loss_fake: 0.665, D_unsup_acc_fake: 57.81, D_sup_loss: 2.025, D_sup_acc: 27.80 Train acc: 30.198 Test acc: 30.390 \n",
      "epoch: 0 | step: 221 | Train: G_Loss: 1.423, D_unsup_loss_real: 0.365, D_unsup_acc_real:  91.41, D_unsup_loss_fake: 0.613, D_unsup_acc_fake: 62.50, D_sup_loss: 1.989, D_sup_acc: 30.26 Train acc: 30.994 Test acc: 30.980 \n",
      "epoch: 0 | step: 222 | Train: G_Loss: 1.530, D_unsup_loss_real: 0.374, D_unsup_acc_real:  86.72, D_unsup_loss_fake: 0.525, D_unsup_acc_fake: 80.47, D_sup_loss: 1.973, D_sup_acc: 31.03 Train acc: 31.108 Test acc: 30.930 \n",
      "epoch: 0 | step: 223 | Train: G_Loss: 1.591, D_unsup_loss_real: 0.379, D_unsup_acc_real:  90.62, D_unsup_loss_fake: 0.570, D_unsup_acc_fake: 75.78, D_sup_loss: 1.969, D_sup_acc: 30.90 Train acc: 29.990 Test acc: 29.240 \n",
      "epoch: 0 | step: 224 | Train: G_Loss: 1.625, D_unsup_loss_real: 0.305, D_unsup_acc_real:  89.84, D_unsup_loss_fake: 0.495, D_unsup_acc_fake: 82.81, D_sup_loss: 1.987, D_sup_acc: 29.19 Train acc: 29.496 Test acc: 28.720 \n"
     ]
    },
    {
     "name": "stdout",
     "output_type": "stream",
     "text": [
      "epoch: 0 | step: 225 | Train: G_Loss: 1.891, D_unsup_loss_real: 0.362, D_unsup_acc_real:  84.38, D_unsup_loss_fake: 0.617, D_unsup_acc_fake: 73.44, D_sup_loss: 1.995, D_sup_acc: 28.69 Train acc: 30.462 Test acc: 30.100 \n",
      "epoch: 0 | step: 226 | Train: G_Loss: 1.786, D_unsup_loss_real: 0.439, D_unsup_acc_real:  78.91, D_unsup_loss_fake: 0.457, D_unsup_acc_fake: 87.50, D_sup_loss: 1.972, D_sup_acc: 30.02 Train acc: 32.294 Test acc: 31.970 \n",
      "epoch: 0 | step: 227 | Train: G_Loss: 1.947, D_unsup_loss_real: 0.378, D_unsup_acc_real:  82.03, D_unsup_loss_fake: 0.505, D_unsup_acc_fake: 78.12, D_sup_loss: 1.943, D_sup_acc: 31.97 Train acc: 33.260 Test acc: 32.900 \n",
      "epoch: 0 | step: 228 | Train: G_Loss: 1.821, D_unsup_loss_real: 0.468, D_unsup_acc_real:  75.78, D_unsup_loss_fake: 0.475, D_unsup_acc_fake: 83.59, D_sup_loss: 1.920, D_sup_acc: 32.77 Train acc: 33.588 Test acc: 33.200 \n",
      "epoch: 0 | step: 229 | Train: G_Loss: 2.028, D_unsup_loss_real: 0.400, D_unsup_acc_real:  85.94, D_unsup_loss_fake: 0.525, D_unsup_acc_fake: 76.56, D_sup_loss: 1.909, D_sup_acc: 33.25 Train acc: 32.958 Test acc: 32.360 \n",
      "epoch: 0 | step: 230 | Train: G_Loss: 2.059, D_unsup_loss_real: 0.342, D_unsup_acc_real:  83.59, D_unsup_loss_fake: 0.355, D_unsup_acc_fake: 93.75, D_sup_loss: 1.910, D_sup_acc: 32.32 Train acc: 33.238 Test acc: 33.010 \n",
      "epoch: 0 | step: 231 | Train: G_Loss: 2.155, D_unsup_loss_real: 0.347, D_unsup_acc_real:  86.72, D_unsup_loss_fake: 0.449, D_unsup_acc_fake: 85.94, D_sup_loss: 1.912, D_sup_acc: 32.86 Train acc: 33.650 Test acc: 33.730 \n",
      "epoch: 0 | step: 232 | Train: G_Loss: 2.100, D_unsup_loss_real: 0.467, D_unsup_acc_real:  75.00, D_unsup_loss_fake: 0.350, D_unsup_acc_fake: 92.97, D_sup_loss: 1.893, D_sup_acc: 33.59 Train acc: 33.600 Test acc: 33.420 \n",
      "epoch: 0 | step: 233 | Train: G_Loss: 2.342, D_unsup_loss_real: 0.392, D_unsup_acc_real:  82.03, D_unsup_loss_fake: 0.481, D_unsup_acc_fake: 82.81, D_sup_loss: 1.881, D_sup_acc: 33.42 Train acc: 32.826 Test acc: 32.890 \n",
      "epoch: 0 | step: 234 | Train: G_Loss: 2.217, D_unsup_loss_real: 0.433, D_unsup_acc_real:  76.56, D_unsup_loss_fake: 0.335, D_unsup_acc_fake: 92.97, D_sup_loss: 1.886, D_sup_acc: 32.78 Train acc: 33.202 Test acc: 33.220 \n",
      "epoch: 0 | step: 235 | Train: G_Loss: 2.508, D_unsup_loss_real: 0.337, D_unsup_acc_real:  88.28, D_unsup_loss_fake: 0.416, D_unsup_acc_fake: 85.94, D_sup_loss: 1.875, D_sup_acc: 33.18 Train acc: 33.442 Test acc: 33.010 \n",
      "epoch: 0 | step: 236 | Train: G_Loss: 2.138, D_unsup_loss_real: 0.394, D_unsup_acc_real:  81.25, D_unsup_loss_fake: 0.395, D_unsup_acc_fake: 88.28, D_sup_loss: 1.865, D_sup_acc: 33.00 Train acc: 32.926 Test acc: 32.560 \n",
      "epoch: 0 | step: 237 | Train: G_Loss: 2.072, D_unsup_loss_real: 0.449, D_unsup_acc_real:  78.12, D_unsup_loss_fake: 0.612, D_unsup_acc_fake: 64.06, D_sup_loss: 1.891, D_sup_acc: 32.41 Train acc: 33.148 Test acc: 32.520 \n",
      "epoch: 0 | step: 238 | Train: G_Loss: 2.175, D_unsup_loss_real: 0.368, D_unsup_acc_real:  78.91, D_unsup_loss_fake: 0.526, D_unsup_acc_fake: 76.56, D_sup_loss: 1.880, D_sup_acc: 32.45 Train acc: 33.236 Test acc: 32.720 \n",
      "epoch: 0 | step: 239 | Train: G_Loss: 2.154, D_unsup_loss_real: 0.469, D_unsup_acc_real:  75.78, D_unsup_loss_fake: 0.616, D_unsup_acc_fake: 68.75, D_sup_loss: 1.870, D_sup_acc: 32.67 Train acc: 32.430 Test acc: 32.410 \n",
      "epoch: 0 | step: 240 | Train: G_Loss: 1.787, D_unsup_loss_real: 0.686, D_unsup_acc_real:  62.50, D_unsup_loss_fake: 0.599, D_unsup_acc_fake: 66.41, D_sup_loss: 1.891, D_sup_acc: 32.37 Train acc: 32.534 Test acc: 33.170 \n",
      "epoch: 0 | step: 241 | Train: G_Loss: 1.570, D_unsup_loss_real: 0.536, D_unsup_acc_real:  73.44, D_unsup_loss_fake: 0.806, D_unsup_acc_fake: 32.81, D_sup_loss: 1.896, D_sup_acc: 33.20 Train acc: 32.012 Test acc: 32.570 \n",
      "epoch: 0 | step: 242 | Train: G_Loss: 1.663, D_unsup_loss_real: 0.420, D_unsup_acc_real:  78.12, D_unsup_loss_fake: 0.650, D_unsup_acc_fake: 60.94, D_sup_loss: 1.911, D_sup_acc: 32.47 Train acc: 31.702 Test acc: 32.200 \n",
      "epoch: 0 | step: 243 | Train: G_Loss: 1.590, D_unsup_loss_real: 0.485, D_unsup_acc_real:  71.88, D_unsup_loss_fake: 0.760, D_unsup_acc_fake: 38.28, D_sup_loss: 1.916, D_sup_acc: 32.13 Train acc: 31.818 Test acc: 32.160 \n",
      "epoch: 0 | step: 244 | Train: G_Loss: 1.678, D_unsup_loss_real: 0.431, D_unsup_acc_real:  78.91, D_unsup_loss_fake: 0.740, D_unsup_acc_fake: 39.84, D_sup_loss: 1.905, D_sup_acc: 32.16 Train acc: 32.060 Test acc: 32.570 \n",
      "epoch: 0 | step: 245 | Train: G_Loss: 1.539, D_unsup_loss_real: 0.598, D_unsup_acc_real:  62.50, D_unsup_loss_fake: 0.700, D_unsup_acc_fake: 53.91, D_sup_loss: 1.908, D_sup_acc: 32.50 Train acc: 33.320 Test acc: 33.720 \n",
      "epoch: 0 | step: 246 | Train: G_Loss: 1.586, D_unsup_loss_real: 0.480, D_unsup_acc_real:  75.78, D_unsup_loss_fake: 0.666, D_unsup_acc_fake: 60.16, D_sup_loss: 1.892, D_sup_acc: 33.60 Train acc: 32.504 Test acc: 33.080 \n",
      "epoch: 0 | step: 247 | Train: G_Loss: 1.648, D_unsup_loss_real: 0.369, D_unsup_acc_real:  78.91, D_unsup_loss_fake: 0.572, D_unsup_acc_fake: 77.34, D_sup_loss: 1.923, D_sup_acc: 32.98 Train acc: 32.748 Test acc: 33.460 \n",
      "epoch: 0 | step: 248 | Train: G_Loss: 1.708, D_unsup_loss_real: 0.417, D_unsup_acc_real:  76.56, D_unsup_loss_fake: 0.482, D_unsup_acc_fake: 89.84, D_sup_loss: 1.928, D_sup_acc: 33.47 Train acc: 34.748 Test acc: 35.060 \n",
      "epoch: 0 | step: 249 | Train: G_Loss: 1.617, D_unsup_loss_real: 0.507, D_unsup_acc_real:  69.53, D_unsup_loss_fake: 0.489, D_unsup_acc_fake: 86.72, D_sup_loss: 1.840, D_sup_acc: 35.04 Train acc: 34.724 Test acc: 35.280 \n",
      "epoch: 0 | step: 250 | Train: G_Loss: 1.734, D_unsup_loss_real: 0.399, D_unsup_acc_real:  77.34, D_unsup_loss_fake: 0.602, D_unsup_acc_fake: 72.66, D_sup_loss: 1.832, D_sup_acc: 35.24 Train acc: 34.380 Test acc: 35.200 \n",
      "epoch: 0 | step: 251 | Train: G_Loss: 1.854, D_unsup_loss_real: 0.377, D_unsup_acc_real:  81.25, D_unsup_loss_fake: 0.531, D_unsup_acc_fake: 83.59, D_sup_loss: 1.841, D_sup_acc: 35.14 Train acc: 33.362 Test acc: 34.220 \n",
      "epoch: 0 | step: 252 | Train: G_Loss: 1.722, D_unsup_loss_real: 0.417, D_unsup_acc_real:  71.09, D_unsup_loss_fake: 0.410, D_unsup_acc_fake: 94.53, D_sup_loss: 1.884, D_sup_acc: 34.23 Train acc: 32.566 Test acc: 33.400 \n",
      "epoch: 0 | step: 253 | Train: G_Loss: 1.802, D_unsup_loss_real: 0.504, D_unsup_acc_real:  68.75, D_unsup_loss_fake: 0.504, D_unsup_acc_fake: 83.59, D_sup_loss: 1.920, D_sup_acc: 33.39 Train acc: 34.198 Test acc: 34.890 \n",
      "epoch: 0 | step: 254 | Train: G_Loss: 1.862, D_unsup_loss_real: 0.363, D_unsup_acc_real:  85.16, D_unsup_loss_fake: 0.434, D_unsup_acc_fake: 89.84, D_sup_loss: 1.842, D_sup_acc: 34.79 Train acc: 33.478 Test acc: 33.980 \n",
      "epoch: 0 | step: 255 | Train: G_Loss: 1.866, D_unsup_loss_real: 0.431, D_unsup_acc_real:  76.56, D_unsup_loss_fake: 0.437, D_unsup_acc_fake: 89.06, D_sup_loss: 1.864, D_sup_acc: 33.85 Train acc: 32.976 Test acc: 33.770 \n",
      "epoch: 0 | step: 256 | Train: G_Loss: 1.915, D_unsup_loss_real: 0.427, D_unsup_acc_real:  72.66, D_unsup_loss_fake: 0.383, D_unsup_acc_fake: 92.97, D_sup_loss: 1.880, D_sup_acc: 33.69 Train acc: 32.182 Test acc: 32.770 \n",
      "epoch: 0 | step: 257 | Train: G_Loss: 1.955, D_unsup_loss_real: 0.425, D_unsup_acc_real:  76.56, D_unsup_loss_fake: 0.456, D_unsup_acc_fake: 85.94, D_sup_loss: 1.918, D_sup_acc: 32.65 Train acc: 33.084 Test acc: 33.500 \n",
      "epoch: 0 | step: 258 | Train: G_Loss: 2.104, D_unsup_loss_real: 0.459, D_unsup_acc_real:  71.09, D_unsup_loss_fake: 0.495, D_unsup_acc_fake: 79.69, D_sup_loss: 1.901, D_sup_acc: 33.41 Train acc: 33.680 Test acc: 33.950 \n",
      "epoch: 0 | step: 259 | Train: G_Loss: 2.103, D_unsup_loss_real: 0.456, D_unsup_acc_real:  74.22, D_unsup_loss_fake: 0.452, D_unsup_acc_fake: 82.81, D_sup_loss: 1.877, D_sup_acc: 33.89 Train acc: 31.236 Test acc: 31.820 \n",
      "epoch: 0 | step: 260 | Train: G_Loss: 2.039, D_unsup_loss_real: 0.399, D_unsup_acc_real:  77.34, D_unsup_loss_fake: 0.378, D_unsup_acc_fake: 92.97, D_sup_loss: 1.935, D_sup_acc: 31.88 Train acc: 30.384 Test acc: 30.620 \n",
      "epoch: 0 | step: 261 | Train: G_Loss: 2.161, D_unsup_loss_real: 0.347, D_unsup_acc_real:  85.16, D_unsup_loss_fake: 0.518, D_unsup_acc_fake: 78.12, D_sup_loss: 1.953, D_sup_acc: 30.53 Train acc: 28.876 Test acc: 29.590 \n",
      "epoch: 0 | step: 262 | Train: G_Loss: 2.149, D_unsup_loss_real: 0.369, D_unsup_acc_real:  82.81, D_unsup_loss_fake: 0.405, D_unsup_acc_fake: 85.16, D_sup_loss: 1.999, D_sup_acc: 29.55 Train acc: 27.796 Test acc: 27.750 \n"
     ]
    },
    {
     "name": "stdout",
     "output_type": "stream",
     "text": [
      "epoch: 0 | step: 263 | Train: G_Loss: 2.041, D_unsup_loss_real: 0.415, D_unsup_acc_real:  80.47, D_unsup_loss_fake: 0.330, D_unsup_acc_fake: 95.31, D_sup_loss: 2.055, D_sup_acc: 27.68 Train acc: 27.548 Test acc: 27.840 \n",
      "epoch: 0 | step: 264 | Train: G_Loss: 1.936, D_unsup_loss_real: 0.556, D_unsup_acc_real:  67.97, D_unsup_loss_fake: 0.490, D_unsup_acc_fake: 85.16, D_sup_loss: 2.073, D_sup_acc: 27.73 Train acc: 28.900 Test acc: 29.170 \n",
      "epoch: 0 | step: 265 | Train: G_Loss: 2.289, D_unsup_loss_real: 0.327, D_unsup_acc_real:  85.16, D_unsup_loss_fake: 0.495, D_unsup_acc_fake: 79.69, D_sup_loss: 2.015, D_sup_acc: 29.17 Train acc: 30.670 Test acc: 31.170 \n",
      "epoch: 0 | step: 266 | Train: G_Loss: 2.205, D_unsup_loss_real: 0.445, D_unsup_acc_real:  79.69, D_unsup_loss_fake: 0.551, D_unsup_acc_fake: 73.44, D_sup_loss: 1.968, D_sup_acc: 31.14 Train acc: 31.998 Test acc: 32.510 \n",
      "epoch: 0 | step: 267 | Train: G_Loss: 1.925, D_unsup_loss_real: 0.570, D_unsup_acc_real:  66.41, D_unsup_loss_fake: 0.610, D_unsup_acc_fake: 62.50, D_sup_loss: 1.946, D_sup_acc: 32.41 Train acc: 32.204 Test acc: 32.840 \n",
      "epoch: 0 | step: 268 | Train: G_Loss: 1.454, D_unsup_loss_real: 0.664, D_unsup_acc_real:  57.81, D_unsup_loss_fake: 0.693, D_unsup_acc_fake: 57.81, D_sup_loss: 1.939, D_sup_acc: 32.79 Train acc: 32.202 Test acc: 32.950 \n",
      "epoch: 0 | step: 269 | Train: G_Loss: 1.799, D_unsup_loss_real: 0.534, D_unsup_acc_real:  71.88, D_unsup_loss_fake: 0.983, D_unsup_acc_fake: 46.09, D_sup_loss: 1.915, D_sup_acc: 32.95 Train acc: 31.370 Test acc: 31.920 \n",
      "epoch: 0 | step: 270 | Train: G_Loss: 1.724, D_unsup_loss_real: 0.602, D_unsup_acc_real:  64.06, D_unsup_loss_fake: 0.463, D_unsup_acc_fake: 85.16, D_sup_loss: 1.898, D_sup_acc: 31.85 Train acc: 31.964 Test acc: 31.940 \n",
      "epoch: 0 | step: 271 | Train: G_Loss: 1.662, D_unsup_loss_real: 0.542, D_unsup_acc_real:  69.53, D_unsup_loss_fake: 0.562, D_unsup_acc_fake: 67.97, D_sup_loss: 1.874, D_sup_acc: 31.89 Train acc: 31.842 Test acc: 32.290 \n",
      "epoch: 0 | step: 272 | Train: G_Loss: 1.624, D_unsup_loss_real: 0.419, D_unsup_acc_real:  77.34, D_unsup_loss_fake: 0.572, D_unsup_acc_fake: 69.53, D_sup_loss: 1.868, D_sup_acc: 32.22 Train acc: 31.870 Test acc: 32.030 \n",
      "epoch: 0 | step: 273 | Train: G_Loss: 1.799, D_unsup_loss_real: 0.447, D_unsup_acc_real:  78.12, D_unsup_loss_fake: 0.583, D_unsup_acc_fake: 71.09, D_sup_loss: 1.869, D_sup_acc: 32.05 Train acc: 32.740 Test acc: 32.570 \n",
      "epoch: 0 | step: 274 | Train: G_Loss: 1.914, D_unsup_loss_real: 0.465, D_unsup_acc_real:  71.09, D_unsup_loss_fake: 0.531, D_unsup_acc_fake: 71.88, D_sup_loss: 1.849, D_sup_acc: 32.57 Train acc: 32.690 Test acc: 32.760 \n",
      "epoch: 0 | step: 275 | Train: G_Loss: 1.769, D_unsup_loss_real: 0.420, D_unsup_acc_real:  82.81, D_unsup_loss_fake: 0.547, D_unsup_acc_fake: 73.44, D_sup_loss: 1.849, D_sup_acc: 32.71 Train acc: 33.084 Test acc: 33.160 \n",
      "epoch: 0 | step: 276 | Train: G_Loss: 1.781, D_unsup_loss_real: 0.354, D_unsup_acc_real:  86.72, D_unsup_loss_fake: 0.609, D_unsup_acc_fake: 67.97, D_sup_loss: 1.846, D_sup_acc: 33.05 Train acc: 32.346 Test acc: 32.470 \n",
      "epoch: 0 | step: 277 | Train: G_Loss: 1.988, D_unsup_loss_real: 0.398, D_unsup_acc_real:  80.47, D_unsup_loss_fake: 0.680, D_unsup_acc_fake: 57.81, D_sup_loss: 1.856, D_sup_acc: 32.40 Train acc: 31.908 Test acc: 32.170 \n",
      "epoch: 0 | step: 278 | Train: G_Loss: 1.861, D_unsup_loss_real: 0.554, D_unsup_acc_real:  65.62, D_unsup_loss_fake: 0.572, D_unsup_acc_fake: 71.88, D_sup_loss: 1.861, D_sup_acc: 32.08 Train acc: 31.862 Test acc: 32.450 \n",
      "epoch: 0 | step: 279 | Train: G_Loss: 2.132, D_unsup_loss_real: 0.510, D_unsup_acc_real:  74.22, D_unsup_loss_fake: 0.875, D_unsup_acc_fake: 38.28, D_sup_loss: 1.860, D_sup_acc: 32.41 Train acc: 32.162 Test acc: 33.280 \n",
      "epoch: 0 | step: 280 | Train: G_Loss: 2.032, D_unsup_loss_real: 0.555, D_unsup_acc_real:  67.19, D_unsup_loss_fake: 0.480, D_unsup_acc_fake: 82.03, D_sup_loss: 1.863, D_sup_acc: 33.22 Train acc: 33.404 Test acc: 34.360 \n",
      "epoch: 0 | step: 281 | Train: G_Loss: 1.979, D_unsup_loss_real: 0.477, D_unsup_acc_real:  74.22, D_unsup_loss_fake: 0.583, D_unsup_acc_fake: 70.31, D_sup_loss: 1.840, D_sup_acc: 34.40 Train acc: 34.118 Test acc: 34.910 \n",
      "epoch: 0 | step: 282 | Train: G_Loss: 2.528, D_unsup_loss_real: 0.418, D_unsup_acc_real:  79.69, D_unsup_loss_fake: 0.745, D_unsup_acc_fake: 56.25, D_sup_loss: 1.837, D_sup_acc: 34.85 Train acc: 33.888 Test acc: 34.180 \n",
      "epoch: 0 | step: 283 | Train: G_Loss: 2.145, D_unsup_loss_real: 0.679, D_unsup_acc_real:  61.72, D_unsup_loss_fake: 0.447, D_unsup_acc_fake: 84.38, D_sup_loss: 1.844, D_sup_acc: 34.13 Train acc: 33.694 Test acc: 34.050 \n",
      "epoch: 0 | step: 284 | Train: G_Loss: 2.234, D_unsup_loss_real: 0.501, D_unsup_acc_real:  75.00, D_unsup_loss_fake: 0.870, D_unsup_acc_fake: 42.19, D_sup_loss: 1.848, D_sup_acc: 33.87 Train acc: 32.044 Test acc: 32.350 \n",
      "epoch: 0 | step: 285 | Train: G_Loss: 1.852, D_unsup_loss_real: 0.609, D_unsup_acc_real:  64.84, D_unsup_loss_fake: 0.548, D_unsup_acc_fake: 75.00, D_sup_loss: 1.880, D_sup_acc: 32.23 Train acc: 31.840 Test acc: 32.340 \n",
      "epoch: 0 | step: 286 | Train: G_Loss: 1.666, D_unsup_loss_real: 0.552, D_unsup_acc_real:  71.09, D_unsup_loss_fake: 0.646, D_unsup_acc_fake: 66.41, D_sup_loss: 1.875, D_sup_acc: 32.23 Train acc: 33.166 Test acc: 33.950 \n",
      "epoch: 0 | step: 287 | Train: G_Loss: 1.659, D_unsup_loss_real: 0.560, D_unsup_acc_real:  72.66, D_unsup_loss_fake: 0.686, D_unsup_acc_fake: 59.38, D_sup_loss: 1.844, D_sup_acc: 33.88 Train acc: 33.440 Test acc: 34.360 \n",
      "epoch: 0 | step: 288 | Train: G_Loss: 1.687, D_unsup_loss_real: 0.472, D_unsup_acc_real:  76.56, D_unsup_loss_fake: 0.784, D_unsup_acc_fake: 40.62, D_sup_loss: 1.834, D_sup_acc: 34.27 Train acc: 34.376 Test acc: 35.240 \n",
      "epoch: 0 | step: 289 | Train: G_Loss: 1.574, D_unsup_loss_real: 0.527, D_unsup_acc_real:  69.53, D_unsup_loss_fake: 0.694, D_unsup_acc_fake: 53.12, D_sup_loss: 1.809, D_sup_acc: 35.13 Train acc: 33.790 Test acc: 34.570 \n",
      "epoch: 0 | step: 290 | Train: G_Loss: 1.468, D_unsup_loss_real: 0.588, D_unsup_acc_real:  64.84, D_unsup_loss_fake: 0.767, D_unsup_acc_fake: 43.75, D_sup_loss: 1.818, D_sup_acc: 34.62 Train acc: 32.762 Test acc: 33.940 \n",
      "epoch: 0 | step: 291 | Train: G_Loss: 1.580, D_unsup_loss_real: 0.584, D_unsup_acc_real:  67.19, D_unsup_loss_fake: 0.717, D_unsup_acc_fake: 51.56, D_sup_loss: 1.857, D_sup_acc: 33.81 Train acc: 33.216 Test acc: 33.610 \n",
      "epoch: 0 | step: 292 | Train: G_Loss: 1.767, D_unsup_loss_real: 0.494, D_unsup_acc_real:  78.12, D_unsup_loss_fake: 0.548, D_unsup_acc_fake: 77.34, D_sup_loss: 1.847, D_sup_acc: 33.54 Train acc: 33.688 Test acc: 34.020 \n",
      "epoch: 0 | step: 293 | Train: G_Loss: 1.640, D_unsup_loss_real: 0.534, D_unsup_acc_real:  71.88, D_unsup_loss_fake: 0.466, D_unsup_acc_fake: 89.06, D_sup_loss: 1.844, D_sup_acc: 34.01 Train acc: 34.042 Test acc: 34.390 \n",
      "epoch: 0 | step: 294 | Train: G_Loss: 1.750, D_unsup_loss_real: 0.441, D_unsup_acc_real:  79.69, D_unsup_loss_fake: 0.462, D_unsup_acc_fake: 91.41, D_sup_loss: 1.841, D_sup_acc: 34.35 Train acc: 34.112 Test acc: 34.770 \n",
      "epoch: 0 | step: 295 | Train: G_Loss: 1.765, D_unsup_loss_real: 0.323, D_unsup_acc_real:  89.84, D_unsup_loss_fake: 0.457, D_unsup_acc_fake: 89.06, D_sup_loss: 1.844, D_sup_acc: 34.69 Train acc: 34.818 Test acc: 35.910 \n",
      "epoch: 0 | step: 296 | Train: G_Loss: 1.670, D_unsup_loss_real: 0.419, D_unsup_acc_real:  81.25, D_unsup_loss_fake: 0.505, D_unsup_acc_fake: 78.91, D_sup_loss: 1.819, D_sup_acc: 35.84 Train acc: 33.410 Test acc: 33.960 \n",
      "epoch: 0 | step: 297 | Train: G_Loss: 1.796, D_unsup_loss_real: 0.322, D_unsup_acc_real:  83.59, D_unsup_loss_fake: 0.678, D_unsup_acc_fake: 60.16, D_sup_loss: 1.845, D_sup_acc: 33.89 Train acc: 32.498 Test acc: 33.470 \n",
      "epoch: 0 | step: 298 | Train: G_Loss: 2.134, D_unsup_loss_real: 0.271, D_unsup_acc_real:  88.28, D_unsup_loss_fake: 0.878, D_unsup_acc_fake: 56.25, D_sup_loss: 1.873, D_sup_acc: 33.41 Train acc: 32.048 Test acc: 32.760 \n",
      "epoch: 0 | step: 299 | Train: G_Loss: 1.984, D_unsup_loss_real: 0.510, D_unsup_acc_real:  69.53, D_unsup_loss_fake: 0.650, D_unsup_acc_fake: 60.16, D_sup_loss: 1.915, D_sup_acc: 32.71 Train acc: 34.412 Test acc: 34.980 \n",
      "epoch: 0 | step: 300 | Train: G_Loss: 1.819, D_unsup_loss_real: 0.385, D_unsup_acc_real:  84.38, D_unsup_loss_fake: 0.792, D_unsup_acc_fake: 55.47, D_sup_loss: 1.855, D_sup_acc: 34.92 Train acc: 35.580 Test acc: 36.090 \n"
     ]
    },
    {
     "name": "stdout",
     "output_type": "stream",
     "text": [
      "Train Classifier Accuracy: 35.580%\n",
      "\n",
      "Test Classifier Accuracy: 36.090%\n",
      "\n",
      ">Saving models Generator: Logs/SSGAN_CIFAR10/Classifier_50000/generator_model_300.h5 and Supervised: Logs/SSGAN_CIFAR10/Classifier_50000/supervised_model_300.h5\n",
      "epoch: 0 | step: 301 | Train: G_Loss: 2.062, D_unsup_loss_real: 0.282, D_unsup_acc_real:  89.06, D_unsup_loss_fake: 0.517, D_unsup_acc_fake: 71.88, D_sup_loss: 1.820, D_sup_acc: 36.03 Train acc: 34.884 Test acc: 35.410 \n",
      "epoch: 0 | step: 302 | Train: G_Loss: 2.028, D_unsup_loss_real: 0.420, D_unsup_acc_real:  80.47, D_unsup_loss_fake: 0.506, D_unsup_acc_fake: 78.12, D_sup_loss: 1.822, D_sup_acc: 35.35 Train acc: 34.170 Test acc: 34.450 \n",
      "epoch: 0 | step: 303 | Train: G_Loss: 2.063, D_unsup_loss_real: 0.376, D_unsup_acc_real:  84.38, D_unsup_loss_fake: 0.604, D_unsup_acc_fake: 64.84, D_sup_loss: 1.828, D_sup_acc: 34.52 Train acc: 35.108 Test acc: 35.430 \n",
      "epoch: 0 | step: 304 | Train: G_Loss: 2.204, D_unsup_loss_real: 0.412, D_unsup_acc_real:  80.47, D_unsup_loss_fake: 0.466, D_unsup_acc_fake: 82.81, D_sup_loss: 1.810, D_sup_acc: 35.43 Train acc: 34.940 Test acc: 35.090 \n",
      "epoch: 0 | step: 305 | Train: G_Loss: 2.297, D_unsup_loss_real: 0.612, D_unsup_acc_real:  70.31, D_unsup_loss_fake: 0.692, D_unsup_acc_fake: 62.50, D_sup_loss: 1.811, D_sup_acc: 35.02 Train acc: 34.318 Test acc: 34.170 \n",
      "epoch: 0 | step: 306 | Train: G_Loss: 2.118, D_unsup_loss_real: 0.486, D_unsup_acc_real:  72.66, D_unsup_loss_fake: 0.503, D_unsup_acc_fake: 79.69, D_sup_loss: 1.820, D_sup_acc: 34.00 Train acc: 35.432 Test acc: 35.560 \n",
      "epoch: 0 | step: 307 | Train: G_Loss: 1.930, D_unsup_loss_real: 0.698, D_unsup_acc_real:  57.03, D_unsup_loss_fake: 0.670, D_unsup_acc_fake: 61.72, D_sup_loss: 1.799, D_sup_acc: 35.46 Train acc: 35.826 Test acc: 36.510 \n",
      "epoch: 0 | step: 308 | Train: G_Loss: 1.940, D_unsup_loss_real: 0.545, D_unsup_acc_real:  74.22, D_unsup_loss_fake: 0.600, D_unsup_acc_fake: 71.09, D_sup_loss: 1.791, D_sup_acc: 36.43 Train acc: 34.912 Test acc: 35.950 \n",
      "epoch: 0 | step: 309 | Train: G_Loss: 1.770, D_unsup_loss_real: 0.622, D_unsup_acc_real:  65.62, D_unsup_loss_fake: 0.734, D_unsup_acc_fake: 55.47, D_sup_loss: 1.811, D_sup_acc: 35.88 Train acc: 35.056 Test acc: 35.890 \n",
      "epoch: 0 | step: 310 | Train: G_Loss: 1.741, D_unsup_loss_real: 0.713, D_unsup_acc_real:  56.25, D_unsup_loss_fake: 0.755, D_unsup_acc_fake: 42.97, D_sup_loss: 1.804, D_sup_acc: 35.83 Train acc: 34.372 Test acc: 35.090 \n",
      "epoch: 0 | step: 311 | Train: G_Loss: 1.835, D_unsup_loss_real: 0.496, D_unsup_acc_real:  73.44, D_unsup_loss_fake: 0.633, D_unsup_acc_fake: 64.06, D_sup_loss: 1.832, D_sup_acc: 35.02 Train acc: 34.218 Test acc: 34.660 \n",
      "epoch: 0 | step: 312 | Train: G_Loss: 1.911, D_unsup_loss_real: 0.483, D_unsup_acc_real:  78.91, D_unsup_loss_fake: 0.477, D_unsup_acc_fake: 86.72, D_sup_loss: 1.831, D_sup_acc: 34.60 Train acc: 35.374 Test acc: 35.650 \n",
      "epoch: 0 | step: 313 | Train: G_Loss: 2.132, D_unsup_loss_real: 0.330, D_unsup_acc_real:  85.94, D_unsup_loss_fake: 0.364, D_unsup_acc_fake: 96.88, D_sup_loss: 1.802, D_sup_acc: 35.57 Train acc: 34.990 Test acc: 35.610 \n",
      "epoch: 0 | step: 314 | Train: G_Loss: 2.080, D_unsup_loss_real: 0.338, D_unsup_acc_real:  84.38, D_unsup_loss_fake: 0.379, D_unsup_acc_fake: 94.53, D_sup_loss: 1.802, D_sup_acc: 35.54 Train acc: 34.124 Test acc: 35.130 \n",
      "epoch: 0 | step: 315 | Train: G_Loss: 1.967, D_unsup_loss_real: 0.287, D_unsup_acc_real:  87.50, D_unsup_loss_fake: 0.528, D_unsup_acc_fake: 77.34, D_sup_loss: 1.823, D_sup_acc: 35.18 Train acc: 34.400 Test acc: 35.310 \n",
      "epoch: 0 | step: 316 | Train: G_Loss: 2.213, D_unsup_loss_real: 0.365, D_unsup_acc_real:  79.69, D_unsup_loss_fake: 0.691, D_unsup_acc_fake: 58.59, D_sup_loss: 1.811, D_sup_acc: 35.23 Train acc: 34.502 Test acc: 35.480 \n",
      "epoch: 0 | step: 317 | Train: G_Loss: 2.191, D_unsup_loss_real: 0.454, D_unsup_acc_real:  76.56, D_unsup_loss_fake: 0.778, D_unsup_acc_fake: 49.22, D_sup_loss: 1.819, D_sup_acc: 35.38 Train acc: 33.178 Test acc: 33.240 \n",
      "epoch: 0 | step: 318 | Train: G_Loss: 2.366, D_unsup_loss_real: 0.328, D_unsup_acc_real:  85.94, D_unsup_loss_fake: 0.680, D_unsup_acc_fake: 61.72, D_sup_loss: 1.852, D_sup_acc: 33.17 Train acc: 34.072 Test acc: 35.000 \n",
      "epoch: 0 | step: 319 | Train: G_Loss: 2.107, D_unsup_loss_real: 0.462, D_unsup_acc_real:  72.66, D_unsup_loss_fake: 0.754, D_unsup_acc_fake: 53.12, D_sup_loss: 1.826, D_sup_acc: 35.04 Train acc: 34.168 Test acc: 34.700 \n",
      "epoch: 0 | step: 320 | Train: G_Loss: 2.431, D_unsup_loss_real: 0.434, D_unsup_acc_real:  77.34, D_unsup_loss_fake: 0.715, D_unsup_acc_fake: 57.81, D_sup_loss: 1.833, D_sup_acc: 34.62 Train acc: 34.838 Test acc: 35.300 \n",
      "epoch: 0 | step: 321 | Train: G_Loss: 2.570, D_unsup_loss_real: 0.493, D_unsup_acc_real:  72.66, D_unsup_loss_fake: 0.686, D_unsup_acc_fake: 53.12, D_sup_loss: 1.816, D_sup_acc: 35.23 Train acc: 35.160 Test acc: 35.800 \n",
      "epoch: 0 | step: 322 | Train: G_Loss: 2.489, D_unsup_loss_real: 0.403, D_unsup_acc_real:  81.25, D_unsup_loss_fake: 0.753, D_unsup_acc_fake: 54.69, D_sup_loss: 1.804, D_sup_acc: 35.67 Train acc: 35.378 Test acc: 36.010 \n",
      "epoch: 0 | step: 323 | Train: G_Loss: 2.070, D_unsup_loss_real: 0.662, D_unsup_acc_real:  59.38, D_unsup_loss_fake: 0.666, D_unsup_acc_fake: 62.50, D_sup_loss: 1.797, D_sup_acc: 35.96 Train acc: 35.494 Test acc: 35.960 \n",
      "epoch: 0 | step: 324 | Train: G_Loss: 2.313, D_unsup_loss_real: 0.572, D_unsup_acc_real:  70.31, D_unsup_loss_fake: 0.827, D_unsup_acc_fake: 39.06, D_sup_loss: 1.799, D_sup_acc: 35.82 Train acc: 35.492 Test acc: 36.410 \n",
      "epoch: 0 | step: 325 | Train: G_Loss: 2.052, D_unsup_loss_real: 0.523, D_unsup_acc_real:  70.31, D_unsup_loss_fake: 0.421, D_unsup_acc_fake: 92.97, D_sup_loss: 1.793, D_sup_acc: 36.34 Train acc: 31.160 Test acc: 31.910 \n",
      "epoch: 0 | step: 326 | Train: G_Loss: 2.113, D_unsup_loss_real: 0.411, D_unsup_acc_real:  78.91, D_unsup_loss_fake: 0.642, D_unsup_acc_fake: 69.53, D_sup_loss: 1.892, D_sup_acc: 31.82 Train acc: 29.666 Test acc: 30.240 \n",
      "epoch: 0 | step: 327 | Train: G_Loss: 2.348, D_unsup_loss_real: 0.427, D_unsup_acc_real:  78.91, D_unsup_loss_fake: 0.476, D_unsup_acc_fake: 83.59, D_sup_loss: 1.937, D_sup_acc: 30.17 Train acc: 34.750 Test acc: 35.550 \n",
      "epoch: 0 | step: 328 | Train: G_Loss: 2.372, D_unsup_loss_real: 0.465, D_unsup_acc_real:  77.34, D_unsup_loss_fake: 0.725, D_unsup_acc_fake: 54.69, D_sup_loss: 1.806, D_sup_acc: 35.44 Train acc: 35.108 Test acc: 35.860 \n",
      "epoch: 0 | step: 329 | Train: G_Loss: 1.937, D_unsup_loss_real: 0.528, D_unsup_acc_real:  75.78, D_unsup_loss_fake: 0.616, D_unsup_acc_fake: 64.84, D_sup_loss: 1.808, D_sup_acc: 35.77 Train acc: 34.990 Test acc: 35.310 \n",
      "epoch: 0 | step: 330 | Train: G_Loss: 1.909, D_unsup_loss_real: 0.453, D_unsup_acc_real:  75.78, D_unsup_loss_fake: 0.906, D_unsup_acc_fake: 25.78, D_sup_loss: 1.824, D_sup_acc: 35.32 Train acc: 34.792 Test acc: 35.030 \n",
      "epoch: 0 | step: 331 | Train: G_Loss: 1.871, D_unsup_loss_real: 0.374, D_unsup_acc_real:  83.59, D_unsup_loss_fake: 0.573, D_unsup_acc_fake: 72.66, D_sup_loss: 1.829, D_sup_acc: 35.05 Train acc: 34.530 Test acc: 34.770 \n",
      "epoch: 0 | step: 332 | Train: G_Loss: 1.612, D_unsup_loss_real: 0.431, D_unsup_acc_real:  83.59, D_unsup_loss_fake: 0.708, D_unsup_acc_fake: 55.47, D_sup_loss: 1.836, D_sup_acc: 34.70 Train acc: 35.462 Test acc: 35.690 \n",
      "epoch: 0 | step: 333 | Train: G_Loss: 1.774, D_unsup_loss_real: 0.349, D_unsup_acc_real:  85.16, D_unsup_loss_fake: 0.814, D_unsup_acc_fake: 41.41, D_sup_loss: 1.805, D_sup_acc: 35.65 Train acc: 36.364 Test acc: 36.590 \n",
      "epoch: 0 | step: 334 | Train: G_Loss: 1.875, D_unsup_loss_real: 0.306, D_unsup_acc_real:  88.28, D_unsup_loss_fake: 0.584, D_unsup_acc_fake: 71.88, D_sup_loss: 1.787, D_sup_acc: 36.50 Train acc: 37.116 Test acc: 37.650 \n",
      "epoch: 0 | step: 335 | Train: G_Loss: 1.969, D_unsup_loss_real: 0.309, D_unsup_acc_real:  86.72, D_unsup_loss_fake: 0.688, D_unsup_acc_fake: 67.97, D_sup_loss: 1.763, D_sup_acc: 37.54 Train acc: 37.746 Test acc: 37.820 \n",
      "epoch: 0 | step: 336 | Train: G_Loss: 2.126, D_unsup_loss_real: 0.378, D_unsup_acc_real:  80.47, D_unsup_loss_fake: 0.583, D_unsup_acc_fake: 72.66, D_sup_loss: 1.752, D_sup_acc: 37.68 Train acc: 38.026 Test acc: 38.270 \n",
      "epoch: 0 | step: 337 | Train: G_Loss: 2.058, D_unsup_loss_real: 0.455, D_unsup_acc_real:  75.00, D_unsup_loss_fake: 0.556, D_unsup_acc_fake: 75.00, D_sup_loss: 1.752, D_sup_acc: 38.25 Train acc: 37.774 Test acc: 38.100 \n"
     ]
    },
    {
     "name": "stdout",
     "output_type": "stream",
     "text": [
      "epoch: 0 | step: 338 | Train: G_Loss: 2.242, D_unsup_loss_real: 0.506, D_unsup_acc_real:  70.31, D_unsup_loss_fake: 0.895, D_unsup_acc_fake: 51.56, D_sup_loss: 1.761, D_sup_acc: 37.99 Train acc: 38.100 Test acc: 38.600 \n",
      "epoch: 0 | step: 339 | Train: G_Loss: 1.972, D_unsup_loss_real: 0.515, D_unsup_acc_real:  67.19, D_unsup_loss_fake: 0.568, D_unsup_acc_fake: 78.91, D_sup_loss: 1.754, D_sup_acc: 38.60 Train acc: 37.652 Test acc: 38.200 \n",
      "epoch: 0 | step: 340 | Train: G_Loss: 1.998, D_unsup_loss_real: 0.448, D_unsup_acc_real:  72.66, D_unsup_loss_fake: 0.648, D_unsup_acc_fake: 64.06, D_sup_loss: 1.761, D_sup_acc: 38.13 Train acc: 36.970 Test acc: 37.290 \n",
      "epoch: 0 | step: 341 | Train: G_Loss: 2.232, D_unsup_loss_real: 0.358, D_unsup_acc_real:  84.38, D_unsup_loss_fake: 0.712, D_unsup_acc_fake: 55.47, D_sup_loss: 1.775, D_sup_acc: 37.20 Train acc: 37.050 Test acc: 37.230 \n",
      "epoch: 0 | step: 342 | Train: G_Loss: 2.183, D_unsup_loss_real: 0.461, D_unsup_acc_real:  71.88, D_unsup_loss_fake: 0.579, D_unsup_acc_fake: 69.53, D_sup_loss: 1.779, D_sup_acc: 37.11 Train acc: 37.346 Test acc: 37.730 \n",
      "epoch: 0 | step: 343 | Train: G_Loss: 1.989, D_unsup_loss_real: 0.429, D_unsup_acc_real:  72.66, D_unsup_loss_fake: 0.621, D_unsup_acc_fake: 69.53, D_sup_loss: 1.778, D_sup_acc: 37.59 Train acc: 36.718 Test acc: 37.010 \n",
      "epoch: 0 | step: 344 | Train: G_Loss: 2.410, D_unsup_loss_real: 0.311, D_unsup_acc_real:  86.72, D_unsup_loss_fake: 0.690, D_unsup_acc_fake: 59.38, D_sup_loss: 1.808, D_sup_acc: 36.95 Train acc: 37.310 Test acc: 37.840 \n",
      "epoch: 0 | step: 345 | Train: G_Loss: 2.086, D_unsup_loss_real: 0.474, D_unsup_acc_real:  71.88, D_unsup_loss_fake: 0.423, D_unsup_acc_fake: 89.06, D_sup_loss: 1.798, D_sup_acc: 37.73 Train acc: 35.536 Test acc: 35.800 \n",
      "epoch: 0 | step: 346 | Train: G_Loss: 2.142, D_unsup_loss_real: 0.364, D_unsup_acc_real:  81.25, D_unsup_loss_fake: 0.652, D_unsup_acc_fake: 64.84, D_sup_loss: 1.841, D_sup_acc: 35.78 Train acc: 36.400 Test acc: 36.780 \n",
      "epoch: 0 | step: 347 | Train: G_Loss: 2.156, D_unsup_loss_real: 0.460, D_unsup_acc_real:  74.22, D_unsup_loss_fake: 0.437, D_unsup_acc_fake: 83.59, D_sup_loss: 1.820, D_sup_acc: 36.68 Train acc: 36.030 Test acc: 36.330 \n",
      "epoch: 0 | step: 348 | Train: G_Loss: 2.017, D_unsup_loss_real: 0.500, D_unsup_acc_real:  75.78, D_unsup_loss_fake: 0.563, D_unsup_acc_fake: 74.22, D_sup_loss: 1.816, D_sup_acc: 36.31 Train acc: 38.146 Test acc: 38.440 \n",
      "epoch: 0 | step: 349 | Train: G_Loss: 2.093, D_unsup_loss_real: 0.421, D_unsup_acc_real:  78.91, D_unsup_loss_fake: 0.471, D_unsup_acc_fake: 83.59, D_sup_loss: 1.763, D_sup_acc: 38.24 Train acc: 37.936 Test acc: 38.190 \n",
      "epoch: 0 | step: 350 | Train: G_Loss: 2.293, D_unsup_loss_real: 0.502, D_unsup_acc_real:  71.88, D_unsup_loss_fake: 0.505, D_unsup_acc_fake: 84.38, D_sup_loss: 1.759, D_sup_acc: 38.21 Train acc: 37.230 Test acc: 37.520 \n",
      "epoch: 0 | step: 351 | Train: G_Loss: 2.317, D_unsup_loss_real: 0.396, D_unsup_acc_real:  78.91, D_unsup_loss_fake: 0.455, D_unsup_acc_fake: 82.03, D_sup_loss: 1.773, D_sup_acc: 37.55 Train acc: 37.010 Test acc: 37.160 \n",
      "epoch: 0 | step: 352 | Train: G_Loss: 2.191, D_unsup_loss_real: 0.419, D_unsup_acc_real:  84.38, D_unsup_loss_fake: 0.466, D_unsup_acc_fake: 81.25, D_sup_loss: 1.769, D_sup_acc: 36.99 Train acc: 36.682 Test acc: 36.650 \n",
      "epoch: 0 | step: 353 | Train: G_Loss: 2.353, D_unsup_loss_real: 0.446, D_unsup_acc_real:  77.34, D_unsup_loss_fake: 0.654, D_unsup_acc_fake: 64.84, D_sup_loss: 1.780, D_sup_acc: 36.57 Train acc: 37.190 Test acc: 37.270 \n",
      "epoch: 0 | step: 354 | Train: G_Loss: 2.163, D_unsup_loss_real: 0.530, D_unsup_acc_real:  70.31, D_unsup_loss_fake: 0.492, D_unsup_acc_fake: 84.38, D_sup_loss: 1.765, D_sup_acc: 37.20 Train acc: 37.002 Test acc: 37.110 \n",
      "epoch: 0 | step: 355 | Train: G_Loss: 2.213, D_unsup_loss_real: 0.425, D_unsup_acc_real:  79.69, D_unsup_loss_fake: 0.764, D_unsup_acc_fake: 53.12, D_sup_loss: 1.769, D_sup_acc: 37.11 Train acc: 35.442 Test acc: 35.410 \n",
      "epoch: 0 | step: 356 | Train: G_Loss: 2.278, D_unsup_loss_real: 0.463, D_unsup_acc_real:  71.88, D_unsup_loss_fake: 0.633, D_unsup_acc_fake: 64.84, D_sup_loss: 1.801, D_sup_acc: 35.37 Train acc: 35.116 Test acc: 35.200 \n",
      "epoch: 0 | step: 357 | Train: G_Loss: 2.172, D_unsup_loss_real: 0.515, D_unsup_acc_real:  69.53, D_unsup_loss_fake: 0.926, D_unsup_acc_fake: 36.72, D_sup_loss: 1.811, D_sup_acc: 35.12 Train acc: 36.182 Test acc: 36.150 \n",
      "epoch: 0 | step: 358 | Train: G_Loss: 2.441, D_unsup_loss_real: 0.490, D_unsup_acc_real:  75.78, D_unsup_loss_fake: 0.875, D_unsup_acc_fake: 39.06, D_sup_loss: 1.789, D_sup_acc: 36.00 Train acc: 35.028 Test acc: 35.330 \n",
      "epoch: 0 | step: 359 | Train: G_Loss: 2.889, D_unsup_loss_real: 0.395, D_unsup_acc_real:  81.25, D_unsup_loss_fake: 0.721, D_unsup_acc_fake: 60.16, D_sup_loss: 1.822, D_sup_acc: 35.29 Train acc: 37.120 Test acc: 36.960 \n",
      "epoch: 0 | step: 360 | Train: G_Loss: 2.549, D_unsup_loss_real: 0.609, D_unsup_acc_real:  63.28, D_unsup_loss_fake: 0.675, D_unsup_acc_fake: 61.72, D_sup_loss: 1.778, D_sup_acc: 36.88 Train acc: 36.664 Test acc: 36.750 \n",
      "epoch: 0 | step: 361 | Train: G_Loss: 3.183, D_unsup_loss_real: 0.264, D_unsup_acc_real:  92.97, D_unsup_loss_fake: 0.659, D_unsup_acc_fake: 67.97, D_sup_loss: 1.792, D_sup_acc: 36.62 Train acc: 34.250 Test acc: 34.350 \n",
      "epoch: 0 | step: 362 | Train: G_Loss: 3.092, D_unsup_loss_real: 0.248, D_unsup_acc_real:  92.97, D_unsup_loss_fake: 0.491, D_unsup_acc_fake: 78.91, D_sup_loss: 1.843, D_sup_acc: 34.22 Train acc: 34.596 Test acc: 34.520 \n",
      "epoch: 0 | step: 363 | Train: G_Loss: 3.928, D_unsup_loss_real: 0.273, D_unsup_acc_real:  91.41, D_unsup_loss_fake: 0.954, D_unsup_acc_fake: 52.34, D_sup_loss: 1.829, D_sup_acc: 34.41 Train acc: 34.744 Test acc: 34.800 \n",
      "epoch: 0 | step: 364 | Train: G_Loss: 2.749, D_unsup_loss_real: 0.544, D_unsup_acc_real:  67.19, D_unsup_loss_fake: 0.650, D_unsup_acc_fake: 71.88, D_sup_loss: 1.834, D_sup_acc: 34.77 Train acc: 34.928 Test acc: 35.170 \n",
      "epoch: 0 | step: 365 | Train: G_Loss: 2.563, D_unsup_loss_real: 0.342, D_unsup_acc_real:  83.59, D_unsup_loss_fake: 0.714, D_unsup_acc_fake: 60.16, D_sup_loss: 1.832, D_sup_acc: 35.19 Train acc: 37.306 Test acc: 37.100 \n",
      "epoch: 0 | step: 366 | Train: G_Loss: 2.842, D_unsup_loss_real: 0.233, D_unsup_acc_real:  92.19, D_unsup_loss_fake: 0.593, D_unsup_acc_fake: 71.88, D_sup_loss: 1.785, D_sup_acc: 37.01 Train acc: 37.746 Test acc: 38.010 \n",
      "epoch: 0 | step: 367 | Train: G_Loss: 3.384, D_unsup_loss_real: 0.146, D_unsup_acc_real:  96.09, D_unsup_loss_fake: 0.548, D_unsup_acc_fake: 72.66, D_sup_loss: 1.773, D_sup_acc: 37.90 Train acc: 37.684 Test acc: 38.260 \n",
      "epoch: 0 | step: 368 | Train: G_Loss: 3.213, D_unsup_loss_real: 0.211, D_unsup_acc_real:  93.75, D_unsup_loss_fake: 0.379, D_unsup_acc_fake: 86.72, D_sup_loss: 1.771, D_sup_acc: 38.09 Train acc: 37.616 Test acc: 38.010 \n",
      "epoch: 0 | step: 369 | Train: G_Loss: 4.159, D_unsup_loss_real: 0.210, D_unsup_acc_real:  93.75, D_unsup_loss_fake: 0.690, D_unsup_acc_fake: 64.06, D_sup_loss: 1.776, D_sup_acc: 37.91 Train acc: 37.818 Test acc: 38.480 \n",
      "epoch: 0 | step: 370 | Train: G_Loss: 3.483, D_unsup_loss_real: 0.663, D_unsup_acc_real:  64.06, D_unsup_loss_fake: 0.548, D_unsup_acc_fake: 80.47, D_sup_loss: 1.759, D_sup_acc: 38.36 Train acc: 37.566 Test acc: 37.780 \n",
      "epoch: 0 | step: 371 | Train: G_Loss: 4.346, D_unsup_loss_real: 0.204, D_unsup_acc_real:  91.41, D_unsup_loss_fake: 0.530, D_unsup_acc_fake: 77.34, D_sup_loss: 1.775, D_sup_acc: 37.65 Train acc: 36.830 Test acc: 37.320 \n",
      "epoch: 0 | step: 372 | Train: G_Loss: 2.869, D_unsup_loss_real: 0.449, D_unsup_acc_real:  79.69, D_unsup_loss_fake: 0.210, D_unsup_acc_fake: 93.75, D_sup_loss: 1.783, D_sup_acc: 37.26 Train acc: 38.436 Test acc: 39.010 \n",
      "epoch: 0 | step: 373 | Train: G_Loss: 4.007, D_unsup_loss_real: 0.182, D_unsup_acc_real:  93.75, D_unsup_loss_fake: 0.801, D_unsup_acc_fake: 57.03, D_sup_loss: 1.742, D_sup_acc: 38.89 Train acc: 37.092 Test acc: 37.570 \n",
      "epoch: 0 | step: 374 | Train: G_Loss: 3.272, D_unsup_loss_real: 0.268, D_unsup_acc_real:  88.28, D_unsup_loss_fake: 0.215, D_unsup_acc_fake: 98.44, D_sup_loss: 1.774, D_sup_acc: 37.49 Train acc: 38.240 Test acc: 39.010 \n",
      "epoch: 0 | step: 375 | Train: G_Loss: 4.464, D_unsup_loss_real: 0.148, D_unsup_acc_real:  93.75, D_unsup_loss_fake: 0.796, D_unsup_acc_fake: 56.25, D_sup_loss: 1.747, D_sup_acc: 38.89 Train acc: 38.780 Test acc: 39.160 \n"
     ]
    },
    {
     "name": "stdout",
     "output_type": "stream",
     "text": [
      "epoch: 0 | step: 376 | Train: G_Loss: 3.502, D_unsup_loss_real: 0.359, D_unsup_acc_real:  84.38, D_unsup_loss_fake: 0.332, D_unsup_acc_fake: 90.62, D_sup_loss: 1.738, D_sup_acc: 39.06 Train acc: 38.538 Test acc: 39.340 \n",
      "epoch: 0 | step: 377 | Train: G_Loss: 5.182, D_unsup_loss_real: 0.176, D_unsup_acc_real:  93.75, D_unsup_loss_fake: 0.937, D_unsup_acc_fake: 43.75, D_sup_loss: 1.734, D_sup_acc: 39.16 Train acc: 38.878 Test acc: 39.850 \n",
      "epoch: 0 | step: 378 | Train: G_Loss: 3.647, D_unsup_loss_real: 0.590, D_unsup_acc_real:  67.19, D_unsup_loss_fake: 0.430, D_unsup_acc_fake: 83.59, D_sup_loss: 1.722, D_sup_acc: 39.77 Train acc: 38.694 Test acc: 39.950 \n",
      "epoch: 0 | step: 379 | Train: G_Loss: 5.333, D_unsup_loss_real: 0.136, D_unsup_acc_real:  95.31, D_unsup_loss_fake: 0.838, D_unsup_acc_fake: 48.44, D_sup_loss: 1.732, D_sup_acc: 39.78 Train acc: 36.246 Test acc: 37.140 \n",
      "epoch: 0 | step: 380 | Train: G_Loss: 3.805, D_unsup_loss_real: 0.697, D_unsup_acc_real:  61.72, D_unsup_loss_fake: 0.445, D_unsup_acc_fake: 82.81, D_sup_loss: 1.776, D_sup_acc: 37.00 Train acc: 36.878 Test acc: 38.030 \n",
      "epoch: 0 | step: 381 | Train: G_Loss: 4.223, D_unsup_loss_real: 0.219, D_unsup_acc_real:  90.62, D_unsup_loss_fake: 0.566, D_unsup_acc_fake: 72.66, D_sup_loss: 1.770, D_sup_acc: 37.92 Train acc: 38.408 Test acc: 38.730 \n",
      "epoch: 0 | step: 382 | Train: G_Loss: 3.945, D_unsup_loss_real: 0.390, D_unsup_acc_real:  81.25, D_unsup_loss_fake: 0.689, D_unsup_acc_fake: 62.50, D_sup_loss: 1.730, D_sup_acc: 38.57 Train acc: 38.338 Test acc: 38.820 \n",
      "epoch: 0 | step: 383 | Train: G_Loss: 3.928, D_unsup_loss_real: 0.310, D_unsup_acc_real:  85.94, D_unsup_loss_fake: 0.358, D_unsup_acc_fake: 89.84, D_sup_loss: 1.735, D_sup_acc: 38.74 Train acc: 36.574 Test acc: 36.710 \n",
      "epoch: 0 | step: 384 | Train: G_Loss: 6.643, D_unsup_loss_real: 0.160, D_unsup_acc_real:  93.75, D_unsup_loss_fake: 0.814, D_unsup_acc_fake: 51.56, D_sup_loss: 1.794, D_sup_acc: 36.73 Train acc: 36.416 Test acc: 36.950 \n",
      "epoch: 0 | step: 385 | Train: G_Loss: 3.413, D_unsup_loss_real: 0.703, D_unsup_acc_real:  59.38, D_unsup_loss_fake: 0.382, D_unsup_acc_fake: 85.94, D_sup_loss: 1.795, D_sup_acc: 36.84 Train acc: 33.290 Test acc: 33.790 \n",
      "epoch: 0 | step: 386 | Train: G_Loss: 3.930, D_unsup_loss_real: 1.136, D_unsup_acc_real:  41.41, D_unsup_loss_fake: 2.401, D_unsup_acc_fake: 10.16, D_sup_loss: 1.869, D_sup_acc: 33.69 Train acc: 37.454 Test acc: 37.870 \n",
      "epoch: 0 | step: 387 | Train: G_Loss: 2.252, D_unsup_loss_real: 1.450, D_unsup_acc_real:  17.97, D_unsup_loss_fake: 0.219, D_unsup_acc_fake: 98.44, D_sup_loss: 1.778, D_sup_acc: 37.69 Train acc: 36.266 Test acc: 36.480 \n",
      "epoch: 0 | step: 388 | Train: G_Loss: 1.755, D_unsup_loss_real: 0.483, D_unsup_acc_real:  75.00, D_unsup_loss_fake: 0.694, D_unsup_acc_fake: 60.16, D_sup_loss: 1.801, D_sup_acc: 36.42 Train acc: 37.076 Test acc: 37.550 \n",
      "epoch: 0 | step: 389 | Train: G_Loss: 1.947, D_unsup_loss_real: 0.608, D_unsup_acc_real:  67.19, D_unsup_loss_fake: 0.352, D_unsup_acc_fake: 89.84, D_sup_loss: 1.787, D_sup_acc: 37.51 Train acc: 38.672 Test acc: 38.860 \n",
      "epoch: 1 | step: 390 | Train: G_Loss: 1.805, D_unsup_loss_real: 0.535, D_unsup_acc_real:  71.88, D_unsup_loss_fake: 0.396, D_unsup_acc_fake: 89.06, D_sup_loss: 1.746, D_sup_acc: 38.83 Train acc: 38.558 Test acc: 38.630 \n",
      "epoch: 1 | step: 391 | Train: G_Loss: 1.969, D_unsup_loss_real: 0.334, D_unsup_acc_real:  85.16, D_unsup_loss_fake: 0.453, D_unsup_acc_fake: 82.03, D_sup_loss: 1.752, D_sup_acc: 38.53 Train acc: 38.614 Test acc: 38.910 \n",
      "epoch: 1 | step: 392 | Train: G_Loss: 2.042, D_unsup_loss_real: 0.313, D_unsup_acc_real:  88.28, D_unsup_loss_fake: 0.371, D_unsup_acc_fake: 88.28, D_sup_loss: 1.749, D_sup_acc: 38.84 Train acc: 38.700 Test acc: 38.690 \n",
      "epoch: 1 | step: 393 | Train: G_Loss: 2.335, D_unsup_loss_real: 0.318, D_unsup_acc_real:  88.28, D_unsup_loss_fake: 0.622, D_unsup_acc_fake: 67.19, D_sup_loss: 1.741, D_sup_acc: 38.65 Train acc: 38.302 Test acc: 38.190 \n",
      "epoch: 1 | step: 394 | Train: G_Loss: 2.441, D_unsup_loss_real: 0.354, D_unsup_acc_real:  85.94, D_unsup_loss_fake: 0.433, D_unsup_acc_fake: 84.38, D_sup_loss: 1.754, D_sup_acc: 38.03 Train acc: 38.056 Test acc: 38.340 \n",
      "epoch: 1 | step: 395 | Train: G_Loss: 2.586, D_unsup_loss_real: 0.359, D_unsup_acc_real:  83.59, D_unsup_loss_fake: 0.560, D_unsup_acc_fake: 72.66, D_sup_loss: 1.761, D_sup_acc: 38.20 Train acc: 37.758 Test acc: 38.150 \n",
      "epoch: 1 | step: 396 | Train: G_Loss: 2.678, D_unsup_loss_real: 0.443, D_unsup_acc_real:  76.56, D_unsup_loss_fake: 0.408, D_unsup_acc_fake: 82.03, D_sup_loss: 1.754, D_sup_acc: 38.05 Train acc: 37.588 Test acc: 37.650 \n",
      "epoch: 1 | step: 397 | Train: G_Loss: 2.781, D_unsup_loss_real: 0.276, D_unsup_acc_real:  89.06, D_unsup_loss_fake: 0.524, D_unsup_acc_fake: 76.56, D_sup_loss: 1.759, D_sup_acc: 37.57 Train acc: 37.440 Test acc: 37.370 \n",
      "epoch: 1 | step: 398 | Train: G_Loss: 3.577, D_unsup_loss_real: 0.374, D_unsup_acc_real:  84.38, D_unsup_loss_fake: 0.705, D_unsup_acc_fake: 60.94, D_sup_loss: 1.759, D_sup_acc: 37.29 Train acc: 36.932 Test acc: 36.380 \n",
      "epoch: 1 | step: 399 | Train: G_Loss: 2.584, D_unsup_loss_real: 0.759, D_unsup_acc_real:  61.72, D_unsup_loss_fake: 0.360, D_unsup_acc_fake: 89.84, D_sup_loss: 1.763, D_sup_acc: 36.30 Train acc: 36.210 Test acc: 36.090 \n",
      "epoch: 1 | step: 400 | Train: G_Loss: 2.743, D_unsup_loss_real: 0.494, D_unsup_acc_real:  75.78, D_unsup_loss_fake: 0.910, D_unsup_acc_fake: 40.62, D_sup_loss: 1.777, D_sup_acc: 36.04 Train acc: 34.510 Test acc: 34.680 \n",
      "Train Classifier Accuracy: 34.510%\n",
      "\n",
      "Test Classifier Accuracy: 34.680%\n",
      "\n",
      ">Saving models Generator: Logs/SSGAN_CIFAR10/Classifier_50000/generator_model_400.h5 and Supervised: Logs/SSGAN_CIFAR10/Classifier_50000/supervised_model_400.h5\n",
      "epoch: 1 | step: 401 | Train: G_Loss: 2.422, D_unsup_loss_real: 0.546, D_unsup_acc_real:  69.53, D_unsup_loss_fake: 0.340, D_unsup_acc_fake: 93.75, D_sup_loss: 1.809, D_sup_acc: 34.67 Train acc: 37.078 Test acc: 37.460 \n",
      "epoch: 1 | step: 402 | Train: G_Loss: 2.233, D_unsup_loss_real: 0.584, D_unsup_acc_real:  64.84, D_unsup_loss_fake: 0.444, D_unsup_acc_fake: 84.38, D_sup_loss: 1.767, D_sup_acc: 37.39 Train acc: 36.672 Test acc: 36.890 \n",
      "epoch: 1 | step: 403 | Train: G_Loss: 2.410, D_unsup_loss_real: 0.372, D_unsup_acc_real:  84.38, D_unsup_loss_fake: 0.339, D_unsup_acc_fake: 93.75, D_sup_loss: 1.779, D_sup_acc: 36.81 Train acc: 35.542 Test acc: 35.910 \n",
      "epoch: 1 | step: 404 | Train: G_Loss: 2.407, D_unsup_loss_real: 0.414, D_unsup_acc_real:  74.22, D_unsup_loss_fake: 0.303, D_unsup_acc_fake: 95.31, D_sup_loss: 1.816, D_sup_acc: 35.89 Train acc: 35.366 Test acc: 35.430 \n",
      "epoch: 1 | step: 405 | Train: G_Loss: 2.458, D_unsup_loss_real: 0.376, D_unsup_acc_real:  80.47, D_unsup_loss_fake: 0.374, D_unsup_acc_fake: 88.28, D_sup_loss: 1.813, D_sup_acc: 35.37 Train acc: 36.802 Test acc: 37.190 \n",
      "epoch: 1 | step: 406 | Train: G_Loss: 2.252, D_unsup_loss_real: 0.384, D_unsup_acc_real:  83.59, D_unsup_loss_fake: 0.347, D_unsup_acc_fake: 92.97, D_sup_loss: 1.787, D_sup_acc: 37.18 Train acc: 36.232 Test acc: 36.660 \n",
      "epoch: 1 | step: 407 | Train: G_Loss: 2.271, D_unsup_loss_real: 0.316, D_unsup_acc_real:  89.84, D_unsup_loss_fake: 0.643, D_unsup_acc_fake: 75.78, D_sup_loss: 1.797, D_sup_acc: 36.67 Train acc: 37.736 Test acc: 38.490 \n",
      "epoch: 1 | step: 408 | Train: G_Loss: 2.280, D_unsup_loss_real: 0.376, D_unsup_acc_real:  82.81, D_unsup_loss_fake: 0.381, D_unsup_acc_fake: 91.41, D_sup_loss: 1.762, D_sup_acc: 38.43 Train acc: 38.228 Test acc: 38.770 \n",
      "epoch: 1 | step: 409 | Train: G_Loss: 2.206, D_unsup_loss_real: 0.500, D_unsup_acc_real:  73.44, D_unsup_loss_fake: 0.591, D_unsup_acc_fake: 71.09, D_sup_loss: 1.749, D_sup_acc: 38.62 Train acc: 37.892 Test acc: 38.320 \n",
      "epoch: 1 | step: 410 | Train: G_Loss: 2.412, D_unsup_loss_real: 0.255, D_unsup_acc_real:  91.41, D_unsup_loss_fake: 0.508, D_unsup_acc_fake: 78.12, D_sup_loss: 1.763, D_sup_acc: 38.15 Train acc: 38.252 Test acc: 38.460 \n",
      "epoch: 1 | step: 411 | Train: G_Loss: 2.303, D_unsup_loss_real: 0.414, D_unsup_acc_real:  75.78, D_unsup_loss_fake: 0.466, D_unsup_acc_fake: 79.69, D_sup_loss: 1.759, D_sup_acc: 38.43 Train acc: 37.788 Test acc: 37.800 \n",
      "epoch: 1 | step: 412 | Train: G_Loss: 2.617, D_unsup_loss_real: 0.267, D_unsup_acc_real:  89.84, D_unsup_loss_fake: 0.574, D_unsup_acc_fake: 75.00, D_sup_loss: 1.776, D_sup_acc: 37.69 Train acc: 38.856 Test acc: 39.140 \n"
     ]
    },
    {
     "name": "stdout",
     "output_type": "stream",
     "text": [
      "epoch: 1 | step: 413 | Train: G_Loss: 2.941, D_unsup_loss_real: 0.488, D_unsup_acc_real:  73.44, D_unsup_loss_fake: 0.769, D_unsup_acc_fake: 54.69, D_sup_loss: 1.756, D_sup_acc: 39.00 Train acc: 38.240 Test acc: 38.130 \n",
      "epoch: 1 | step: 414 | Train: G_Loss: 3.376, D_unsup_loss_real: 0.622, D_unsup_acc_real:  64.06, D_unsup_loss_fake: 0.966, D_unsup_acc_fake: 46.88, D_sup_loss: 1.751, D_sup_acc: 38.03 Train acc: 35.724 Test acc: 35.740 \n",
      "epoch: 1 | step: 415 | Train: G_Loss: 2.605, D_unsup_loss_real: 0.962, D_unsup_acc_real:  45.31, D_unsup_loss_fake: 0.696, D_unsup_acc_fake: 64.06, D_sup_loss: 1.796, D_sup_acc: 35.67 Train acc: 35.920 Test acc: 35.830 \n",
      "epoch: 1 | step: 416 | Train: G_Loss: 2.618, D_unsup_loss_real: 0.551, D_unsup_acc_real:  68.75, D_unsup_loss_fake: 0.697, D_unsup_acc_fake: 57.81, D_sup_loss: 1.805, D_sup_acc: 35.85 Train acc: 37.124 Test acc: 36.930 \n",
      "epoch: 1 | step: 417 | Train: G_Loss: 2.900, D_unsup_loss_real: 0.405, D_unsup_acc_real:  82.03, D_unsup_loss_fake: 0.549, D_unsup_acc_fake: 73.44, D_sup_loss: 1.782, D_sup_acc: 36.85 Train acc: 39.360 Test acc: 38.950 \n",
      "epoch: 1 | step: 418 | Train: G_Loss: 2.522, D_unsup_loss_real: 0.369, D_unsup_acc_real:  85.16, D_unsup_loss_fake: 0.450, D_unsup_acc_fake: 82.81, D_sup_loss: 1.724, D_sup_acc: 38.95 Train acc: 38.860 Test acc: 38.960 \n",
      "epoch: 1 | step: 419 | Train: G_Loss: 3.033, D_unsup_loss_real: 0.332, D_unsup_acc_real:  87.50, D_unsup_loss_fake: 0.617, D_unsup_acc_fake: 67.97, D_sup_loss: 1.735, D_sup_acc: 38.82 Train acc: 39.562 Test acc: 39.410 \n",
      "epoch: 1 | step: 420 | Train: G_Loss: 2.730, D_unsup_loss_real: 0.510, D_unsup_acc_real:  73.44, D_unsup_loss_fake: 0.399, D_unsup_acc_fake: 85.94, D_sup_loss: 1.717, D_sup_acc: 39.49 Train acc: 38.584 Test acc: 38.390 \n",
      "epoch: 1 | step: 421 | Train: G_Loss: 2.829, D_unsup_loss_real: 0.320, D_unsup_acc_real:  89.06, D_unsup_loss_fake: 0.390, D_unsup_acc_fake: 85.94, D_sup_loss: 1.733, D_sup_acc: 38.37 Train acc: 39.270 Test acc: 39.220 \n",
      "epoch: 1 | step: 422 | Train: G_Loss: 2.830, D_unsup_loss_real: 0.324, D_unsup_acc_real:  87.50, D_unsup_loss_fake: 0.376, D_unsup_acc_fake: 91.41, D_sup_loss: 1.720, D_sup_acc: 39.19 Train acc: 39.746 Test acc: 39.770 \n",
      "epoch: 1 | step: 423 | Train: G_Loss: 3.315, D_unsup_loss_real: 0.285, D_unsup_acc_real:  89.06, D_unsup_loss_fake: 0.587, D_unsup_acc_fake: 71.88, D_sup_loss: 1.715, D_sup_acc: 39.63 Train acc: 39.204 Test acc: 39.240 \n",
      "epoch: 1 | step: 424 | Train: G_Loss: 3.008, D_unsup_loss_real: 0.379, D_unsup_acc_real:  82.03, D_unsup_loss_fake: 0.379, D_unsup_acc_fake: 85.94, D_sup_loss: 1.739, D_sup_acc: 39.10 Train acc: 39.608 Test acc: 39.600 \n",
      "epoch: 1 | step: 425 | Train: G_Loss: 3.879, D_unsup_loss_real: 0.259, D_unsup_acc_real:  91.41, D_unsup_loss_fake: 0.719, D_unsup_acc_fake: 59.38, D_sup_loss: 1.711, D_sup_acc: 39.48 Train acc: 39.122 Test acc: 38.890 \n",
      "epoch: 1 | step: 426 | Train: G_Loss: 2.781, D_unsup_loss_real: 0.741, D_unsup_acc_real:  50.78, D_unsup_loss_fake: 0.465, D_unsup_acc_fake: 82.03, D_sup_loss: 1.723, D_sup_acc: 38.74 Train acc: 39.346 Test acc: 39.360 \n",
      "epoch: 1 | step: 427 | Train: G_Loss: 3.087, D_unsup_loss_real: 0.274, D_unsup_acc_real:  88.28, D_unsup_loss_fake: 0.638, D_unsup_acc_fake: 69.53, D_sup_loss: 1.710, D_sup_acc: 39.38 Train acc: 39.496 Test acc: 39.480 \n",
      "epoch: 1 | step: 428 | Train: G_Loss: 2.838, D_unsup_loss_real: 0.402, D_unsup_acc_real:  78.91, D_unsup_loss_fake: 0.288, D_unsup_acc_fake: 95.31, D_sup_loss: 1.705, D_sup_acc: 39.48 Train acc: 39.296 Test acc: 39.000 \n",
      "epoch: 1 | step: 429 | Train: G_Loss: 2.785, D_unsup_loss_real: 0.464, D_unsup_acc_real:  71.88, D_unsup_loss_fake: 0.553, D_unsup_acc_fake: 73.44, D_sup_loss: 1.713, D_sup_acc: 38.94 Train acc: 38.832 Test acc: 38.510 \n",
      "epoch: 1 | step: 430 | Train: G_Loss: 2.267, D_unsup_loss_real: 0.539, D_unsup_acc_real:  68.75, D_unsup_loss_fake: 0.247, D_unsup_acc_fake: 97.66, D_sup_loss: 1.736, D_sup_acc: 38.44 Train acc: 38.588 Test acc: 38.610 \n",
      "epoch: 1 | step: 431 | Train: G_Loss: 2.227, D_unsup_loss_real: 0.688, D_unsup_acc_real:  65.62, D_unsup_loss_fake: 0.623, D_unsup_acc_fake: 68.75, D_sup_loss: 1.739, D_sup_acc: 38.52 Train acc: 38.428 Test acc: 38.310 \n",
      "epoch: 1 | step: 432 | Train: G_Loss: 1.932, D_unsup_loss_real: 0.730, D_unsup_acc_real:  60.94, D_unsup_loss_fake: 0.427, D_unsup_acc_fake: 81.25, D_sup_loss: 1.737, D_sup_acc: 38.35 Train acc: 39.372 Test acc: 39.220 \n",
      "epoch: 1 | step: 433 | Train: G_Loss: 2.077, D_unsup_loss_real: 0.496, D_unsup_acc_real:  73.44, D_unsup_loss_fake: 0.569, D_unsup_acc_fake: 71.88, D_sup_loss: 1.712, D_sup_acc: 39.13 Train acc: 39.284 Test acc: 39.250 \n",
      "epoch: 1 | step: 434 | Train: G_Loss: 2.257, D_unsup_loss_real: 0.451, D_unsup_acc_real:  79.69, D_unsup_loss_fake: 0.448, D_unsup_acc_fake: 86.72, D_sup_loss: 1.723, D_sup_acc: 39.17 Train acc: 39.454 Test acc: 39.420 \n",
      "epoch: 1 | step: 435 | Train: G_Loss: 2.132, D_unsup_loss_real: 0.615, D_unsup_acc_real:  66.41, D_unsup_loss_fake: 0.577, D_unsup_acc_fake: 70.31, D_sup_loss: 1.728, D_sup_acc: 39.32 Train acc: 39.816 Test acc: 39.920 \n",
      "epoch: 1 | step: 436 | Train: G_Loss: 2.713, D_unsup_loss_real: 0.507, D_unsup_acc_real:  73.44, D_unsup_loss_fake: 0.807, D_unsup_acc_fake: 47.66, D_sup_loss: 1.705, D_sup_acc: 39.82 Train acc: 38.692 Test acc: 39.060 \n",
      "epoch: 1 | step: 437 | Train: G_Loss: 2.119, D_unsup_loss_real: 0.600, D_unsup_acc_real:  63.28, D_unsup_loss_fake: 0.559, D_unsup_acc_fake: 75.00, D_sup_loss: 1.728, D_sup_acc: 38.95 Train acc: 39.696 Test acc: 39.710 \n",
      "epoch: 1 | step: 438 | Train: G_Loss: 2.431, D_unsup_loss_real: 0.436, D_unsup_acc_real:  77.34, D_unsup_loss_fake: 0.925, D_unsup_acc_fake: 38.28, D_sup_loss: 1.705, D_sup_acc: 39.67 Train acc: 39.360 Test acc: 39.420 \n",
      "epoch: 1 | step: 439 | Train: G_Loss: 2.092, D_unsup_loss_real: 0.624, D_unsup_acc_real:  64.84, D_unsup_loss_fake: 0.477, D_unsup_acc_fake: 84.38, D_sup_loss: 1.714, D_sup_acc: 39.42 Train acc: 40.234 Test acc: 40.210 \n",
      "epoch: 1 | step: 440 | Train: G_Loss: 2.078, D_unsup_loss_real: 0.359, D_unsup_acc_real:  82.03, D_unsup_loss_fake: 0.833, D_unsup_acc_fake: 37.50, D_sup_loss: 1.692, D_sup_acc: 40.13 Train acc: 40.180 Test acc: 40.190 \n",
      "epoch: 1 | step: 441 | Train: G_Loss: 2.222, D_unsup_loss_real: 0.358, D_unsup_acc_real:  87.50, D_unsup_loss_fake: 0.519, D_unsup_acc_fake: 82.81, D_sup_loss: 1.692, D_sup_acc: 40.08 Train acc: 39.510 Test acc: 39.620 \n",
      "epoch: 1 | step: 442 | Train: G_Loss: 2.156, D_unsup_loss_real: 0.361, D_unsup_acc_real:  81.25, D_unsup_loss_fake: 0.688, D_unsup_acc_fake: 53.91, D_sup_loss: 1.704, D_sup_acc: 39.54 Train acc: 39.670 Test acc: 40.040 \n",
      "epoch: 1 | step: 443 | Train: G_Loss: 2.218, D_unsup_loss_real: 0.242, D_unsup_acc_real:  92.97, D_unsup_loss_fake: 0.574, D_unsup_acc_fake: 75.00, D_sup_loss: 1.696, D_sup_acc: 39.93 Train acc: 40.288 Test acc: 40.400 \n",
      "epoch: 1 | step: 444 | Train: G_Loss: 2.260, D_unsup_loss_real: 0.414, D_unsup_acc_real:  77.34, D_unsup_loss_fake: 0.758, D_unsup_acc_fake: 49.22, D_sup_loss: 1.687, D_sup_acc: 40.31 Train acc: 39.560 Test acc: 39.620 \n",
      "epoch: 1 | step: 445 | Train: G_Loss: 2.328, D_unsup_loss_real: 0.251, D_unsup_acc_real:  94.53, D_unsup_loss_fake: 0.518, D_unsup_acc_fake: 86.72, D_sup_loss: 1.705, D_sup_acc: 39.53 Train acc: 39.864 Test acc: 39.850 \n",
      "epoch: 1 | step: 446 | Train: G_Loss: 2.270, D_unsup_loss_real: 0.264, D_unsup_acc_real:  89.84, D_unsup_loss_fake: 0.500, D_unsup_acc_fake: 85.94, D_sup_loss: 1.708, D_sup_acc: 39.80 Train acc: 39.594 Test acc: 39.670 \n",
      "epoch: 1 | step: 447 | Train: G_Loss: 2.329, D_unsup_loss_real: 0.233, D_unsup_acc_real:  93.75, D_unsup_loss_fake: 0.512, D_unsup_acc_fake: 80.47, D_sup_loss: 1.710, D_sup_acc: 39.63 Train acc: 39.338 Test acc: 39.160 \n",
      "epoch: 1 | step: 448 | Train: G_Loss: 2.656, D_unsup_loss_real: 0.193, D_unsup_acc_real:  93.75, D_unsup_loss_fake: 0.369, D_unsup_acc_fake: 92.97, D_sup_loss: 1.713, D_sup_acc: 39.11 Train acc: 39.580 Test acc: 39.270 \n",
      "epoch: 1 | step: 449 | Train: G_Loss: 3.118, D_unsup_loss_real: 0.234, D_unsup_acc_real:  95.31, D_unsup_loss_fake: 0.443, D_unsup_acc_fake: 81.25, D_sup_loss: 1.714, D_sup_acc: 39.30 Train acc: 39.782 Test acc: 39.430 \n",
      "epoch: 1 | step: 450 | Train: G_Loss: 2.872, D_unsup_loss_real: 0.253, D_unsup_acc_real:  88.28, D_unsup_loss_fake: 0.261, D_unsup_acc_fake: 96.09, D_sup_loss: 1.708, D_sup_acc: 39.31 Train acc: 40.306 Test acc: 40.210 \n"
     ]
    },
    {
     "name": "stdout",
     "output_type": "stream",
     "text": [
      "epoch: 1 | step: 451 | Train: G_Loss: 2.550, D_unsup_loss_real: 0.529, D_unsup_acc_real:  66.41, D_unsup_loss_fake: 0.604, D_unsup_acc_fake: 68.75, D_sup_loss: 1.700, D_sup_acc: 40.09 Train acc: 40.706 Test acc: 40.680 \n",
      "epoch: 1 | step: 452 | Train: G_Loss: 2.391, D_unsup_loss_real: 0.606, D_unsup_acc_real:  65.62, D_unsup_loss_fake: 0.507, D_unsup_acc_fake: 82.03, D_sup_loss: 1.683, D_sup_acc: 40.66 Train acc: 39.848 Test acc: 40.330 \n",
      "epoch: 1 | step: 453 | Train: G_Loss: 2.714, D_unsup_loss_real: 0.478, D_unsup_acc_real:  74.22, D_unsup_loss_fake: 0.913, D_unsup_acc_fake: 53.12, D_sup_loss: 1.685, D_sup_acc: 40.29 Train acc: 37.542 Test acc: 37.550 \n",
      "epoch: 1 | step: 454 | Train: G_Loss: 2.668, D_unsup_loss_real: 0.424, D_unsup_acc_real:  78.91, D_unsup_loss_fake: 0.554, D_unsup_acc_fake: 72.66, D_sup_loss: 1.737, D_sup_acc: 37.51 Train acc: 34.024 Test acc: 34.030 \n",
      "epoch: 1 | step: 455 | Train: G_Loss: 2.574, D_unsup_loss_real: 0.602, D_unsup_acc_real:  67.19, D_unsup_loss_fake: 0.795, D_unsup_acc_fake: 60.94, D_sup_loss: 1.828, D_sup_acc: 34.08 Train acc: 36.496 Test acc: 36.430 \n",
      "epoch: 1 | step: 456 | Train: G_Loss: 2.880, D_unsup_loss_real: 0.682, D_unsup_acc_real:  57.81, D_unsup_loss_fake: 0.871, D_unsup_acc_fake: 57.81, D_sup_loss: 1.767, D_sup_acc: 36.34 Train acc: 39.150 Test acc: 38.870 \n",
      "epoch: 1 | step: 457 | Train: G_Loss: 2.586, D_unsup_loss_real: 0.583, D_unsup_acc_real:  67.19, D_unsup_loss_fake: 0.652, D_unsup_acc_fake: 71.88, D_sup_loss: 1.708, D_sup_acc: 38.86 Train acc: 40.542 Test acc: 40.760 \n",
      "epoch: 1 | step: 458 | Train: G_Loss: 2.816, D_unsup_loss_real: 0.373, D_unsup_acc_real:  82.03, D_unsup_loss_fake: 0.634, D_unsup_acc_fake: 70.31, D_sup_loss: 1.672, D_sup_acc: 40.68 Train acc: 40.314 Test acc: 40.330 \n",
      "epoch: 1 | step: 459 | Train: G_Loss: 3.614, D_unsup_loss_real: 0.384, D_unsup_acc_real:  86.72, D_unsup_loss_fake: 0.691, D_unsup_acc_fake: 64.84, D_sup_loss: 1.675, D_sup_acc: 40.20 Train acc: 40.700 Test acc: 41.050 \n",
      "epoch: 1 | step: 460 | Train: G_Loss: 2.696, D_unsup_loss_real: 0.653, D_unsup_acc_real:  60.94, D_unsup_loss_fake: 0.576, D_unsup_acc_fake: 77.34, D_sup_loss: 1.663, D_sup_acc: 40.97 Train acc: 40.628 Test acc: 41.270 \n",
      "epoch: 1 | step: 461 | Train: G_Loss: 4.237, D_unsup_loss_real: 0.329, D_unsup_acc_real:  86.72, D_unsup_loss_fake: 1.418, D_unsup_acc_fake: 14.84, D_sup_loss: 1.664, D_sup_acc: 41.13 Train acc: 39.462 Test acc: 39.850 \n",
      "epoch: 1 | step: 462 | Train: G_Loss: 2.177, D_unsup_loss_real: 1.419, D_unsup_acc_real:  21.09, D_unsup_loss_fake: 0.476, D_unsup_acc_fake: 79.69, D_sup_loss: 1.700, D_sup_acc: 39.78 Train acc: 40.982 Test acc: 41.190 \n",
      "epoch: 1 | step: 463 | Train: G_Loss: 2.234, D_unsup_loss_real: 0.370, D_unsup_acc_real:  83.59, D_unsup_loss_fake: 1.380, D_unsup_acc_fake: 10.94, D_sup_loss: 1.664, D_sup_acc: 41.08 Train acc: 39.930 Test acc: 39.930 \n",
      "epoch: 1 | step: 464 | Train: G_Loss: 2.051, D_unsup_loss_real: 0.548, D_unsup_acc_real:  66.41, D_unsup_loss_fake: 0.509, D_unsup_acc_fake: 80.47, D_sup_loss: 1.693, D_sup_acc: 39.82 Train acc: 39.922 Test acc: 40.500 \n",
      "epoch: 1 | step: 465 | Train: G_Loss: 2.138, D_unsup_loss_real: 0.435, D_unsup_acc_real:  80.47, D_unsup_loss_fake: 0.970, D_unsup_acc_fake: 25.78, D_sup_loss: 1.679, D_sup_acc: 40.34 Train acc: 39.646 Test acc: 40.180 \n",
      "epoch: 1 | step: 466 | Train: G_Loss: 2.286, D_unsup_loss_real: 0.379, D_unsup_acc_real:  81.25, D_unsup_loss_fake: 0.599, D_unsup_acc_fake: 75.00, D_sup_loss: 1.685, D_sup_acc: 40.13 Train acc: 40.570 Test acc: 40.850 \n",
      "epoch: 1 | step: 467 | Train: G_Loss: 2.097, D_unsup_loss_real: 0.387, D_unsup_acc_real:  79.69, D_unsup_loss_fake: 0.474, D_unsup_acc_fake: 85.94, D_sup_loss: 1.674, D_sup_acc: 40.75 Train acc: 40.306 Test acc: 40.730 \n",
      "epoch: 1 | step: 468 | Train: G_Loss: 2.522, D_unsup_loss_real: 0.225, D_unsup_acc_real:  91.41, D_unsup_loss_fake: 0.550, D_unsup_acc_fake: 75.78, D_sup_loss: 1.682, D_sup_acc: 40.70 Train acc: 40.022 Test acc: 40.280 \n",
      "epoch: 1 | step: 469 | Train: G_Loss: 2.201, D_unsup_loss_real: 0.384, D_unsup_acc_real:  78.91, D_unsup_loss_fake: 0.546, D_unsup_acc_fake: 75.00, D_sup_loss: 1.689, D_sup_acc: 40.23 Train acc: 40.748 Test acc: 41.040 \n",
      "epoch: 1 | step: 470 | Train: G_Loss: 3.148, D_unsup_loss_real: 0.310, D_unsup_acc_real:  86.72, D_unsup_loss_fake: 0.811, D_unsup_acc_fake: 55.47, D_sup_loss: 1.669, D_sup_acc: 41.09 Train acc: 41.028 Test acc: 41.130 \n",
      "epoch: 1 | step: 471 | Train: G_Loss: 3.160, D_unsup_loss_real: 0.541, D_unsup_acc_real:  67.19, D_unsup_loss_fake: 0.899, D_unsup_acc_fake: 42.97, D_sup_loss: 1.665, D_sup_acc: 41.00 Train acc: 41.196 Test acc: 41.190 \n",
      "epoch: 1 | step: 472 | Train: G_Loss: 2.835, D_unsup_loss_real: 0.772, D_unsup_acc_real:  50.00, D_unsup_loss_fake: 1.107, D_unsup_acc_fake: 35.94, D_sup_loss: 1.664, D_sup_acc: 41.13 Train acc: 40.640 Test acc: 40.840 \n",
      "epoch: 1 | step: 473 | Train: G_Loss: 2.393, D_unsup_loss_real: 0.457, D_unsup_acc_real:  73.44, D_unsup_loss_fake: 0.693, D_unsup_acc_fake: 64.84, D_sup_loss: 1.672, D_sup_acc: 40.75 Train acc: 40.606 Test acc: 40.810 \n",
      "epoch: 1 | step: 474 | Train: G_Loss: 2.707, D_unsup_loss_real: 0.446, D_unsup_acc_real:  72.66, D_unsup_loss_fake: 0.680, D_unsup_acc_fake: 62.50, D_sup_loss: 1.675, D_sup_acc: 40.71 Train acc: 40.528 Test acc: 40.870 \n",
      "epoch: 1 | step: 475 | Train: G_Loss: 2.426, D_unsup_loss_real: 0.398, D_unsup_acc_real:  77.34, D_unsup_loss_fake: 0.549, D_unsup_acc_fake: 73.44, D_sup_loss: 1.689, D_sup_acc: 40.68 Train acc: 40.432 Test acc: 40.560 \n",
      "epoch: 1 | step: 476 | Train: G_Loss: 2.112, D_unsup_loss_real: 0.553, D_unsup_acc_real:  65.62, D_unsup_loss_fake: 0.497, D_unsup_acc_fake: 79.69, D_sup_loss: 1.691, D_sup_acc: 40.53 Train acc: 40.734 Test acc: 40.650 \n",
      "epoch: 1 | step: 477 | Train: G_Loss: 2.007, D_unsup_loss_real: 0.427, D_unsup_acc_real:  79.69, D_unsup_loss_fake: 0.630, D_unsup_acc_fake: 73.44, D_sup_loss: 1.673, D_sup_acc: 40.54 Train acc: 40.938 Test acc: 41.130 \n",
      "epoch: 1 | step: 478 | Train: G_Loss: 2.014, D_unsup_loss_real: 0.436, D_unsup_acc_real:  78.91, D_unsup_loss_fake: 0.554, D_unsup_acc_fake: 75.78, D_sup_loss: 1.663, D_sup_acc: 41.11 Train acc: 40.590 Test acc: 40.890 \n",
      "epoch: 1 | step: 479 | Train: G_Loss: 2.242, D_unsup_loss_real: 0.343, D_unsup_acc_real:  84.38, D_unsup_loss_fake: 0.603, D_unsup_acc_fake: 71.09, D_sup_loss: 1.667, D_sup_acc: 40.86 Train acc: 41.028 Test acc: 41.500 \n",
      "epoch: 1 | step: 480 | Train: G_Loss: 2.517, D_unsup_loss_real: 0.444, D_unsup_acc_real:  78.91, D_unsup_loss_fake: 0.697, D_unsup_acc_fake: 63.28, D_sup_loss: 1.655, D_sup_acc: 41.45 Train acc: 41.092 Test acc: 41.390 \n",
      "epoch: 1 | step: 481 | Train: G_Loss: 2.330, D_unsup_loss_real: 0.380, D_unsup_acc_real:  84.38, D_unsup_loss_fake: 0.436, D_unsup_acc_fake: 85.16, D_sup_loss: 1.654, D_sup_acc: 41.27 Train acc: 40.960 Test acc: 41.550 \n",
      "epoch: 1 | step: 482 | Train: G_Loss: 1.986, D_unsup_loss_real: 0.633, D_unsup_acc_real:  63.28, D_unsup_loss_fake: 0.673, D_unsup_acc_fake: 68.75, D_sup_loss: 1.654, D_sup_acc: 41.44 Train acc: 40.908 Test acc: 41.290 \n",
      "epoch: 1 | step: 483 | Train: G_Loss: 2.311, D_unsup_loss_real: 0.191, D_unsup_acc_real:  92.97, D_unsup_loss_fake: 0.484, D_unsup_acc_fake: 82.81, D_sup_loss: 1.656, D_sup_acc: 41.22 Train acc: 41.254 Test acc: 41.610 \n",
      "epoch: 1 | step: 484 | Train: G_Loss: 2.618, D_unsup_loss_real: 0.277, D_unsup_acc_real:  90.62, D_unsup_loss_fake: 0.641, D_unsup_acc_fake: 69.53, D_sup_loss: 1.655, D_sup_acc: 41.52 Train acc: 41.430 Test acc: 42.560 \n",
      "epoch: 1 | step: 485 | Train: G_Loss: 2.134, D_unsup_loss_real: 0.466, D_unsup_acc_real:  77.34, D_unsup_loss_fake: 0.443, D_unsup_acc_fake: 80.47, D_sup_loss: 1.653, D_sup_acc: 42.42 Train acc: 40.768 Test acc: 41.620 \n",
      "epoch: 1 | step: 486 | Train: G_Loss: 2.247, D_unsup_loss_real: 0.433, D_unsup_acc_real:  76.56, D_unsup_loss_fake: 0.930, D_unsup_acc_fake: 50.00, D_sup_loss: 1.666, D_sup_acc: 41.57 Train acc: 41.686 Test acc: 42.150 \n",
      "epoch: 1 | step: 487 | Train: G_Loss: 2.213, D_unsup_loss_real: 0.614, D_unsup_acc_real:  68.75, D_unsup_loss_fake: 0.557, D_unsup_acc_fake: 74.22, D_sup_loss: 1.645, D_sup_acc: 42.13 Train acc: 41.090 Test acc: 41.340 \n",
      "epoch: 1 | step: 488 | Train: G_Loss: 2.279, D_unsup_loss_real: 0.622, D_unsup_acc_real:  66.41, D_unsup_loss_fake: 0.912, D_unsup_acc_fake: 49.22, D_sup_loss: 1.663, D_sup_acc: 41.26 Train acc: 41.130 Test acc: 41.060 \n"
     ]
    },
    {
     "name": "stdout",
     "output_type": "stream",
     "text": [
      "epoch: 1 | step: 489 | Train: G_Loss: 2.199, D_unsup_loss_real: 0.575, D_unsup_acc_real:  68.75, D_unsup_loss_fake: 0.664, D_unsup_acc_fake: 64.06, D_sup_loss: 1.660, D_sup_acc: 41.01 Train acc: 41.474 Test acc: 41.640 \n",
      "epoch: 1 | step: 490 | Train: G_Loss: 2.246, D_unsup_loss_real: 0.539, D_unsup_acc_real:  68.75, D_unsup_loss_fake: 0.806, D_unsup_acc_fake: 54.69, D_sup_loss: 1.654, D_sup_acc: 41.55 Train acc: 40.636 Test acc: 41.590 \n",
      "epoch: 1 | step: 491 | Train: G_Loss: 2.168, D_unsup_loss_real: 0.615, D_unsup_acc_real:  63.28, D_unsup_loss_fake: 0.582, D_unsup_acc_fake: 71.09, D_sup_loss: 1.672, D_sup_acc: 41.46 Train acc: 40.646 Test acc: 41.210 \n",
      "epoch: 1 | step: 492 | Train: G_Loss: 2.520, D_unsup_loss_real: 0.317, D_unsup_acc_real:  88.28, D_unsup_loss_fake: 0.731, D_unsup_acc_fake: 59.38, D_sup_loss: 1.670, D_sup_acc: 41.11 Train acc: 41.144 Test acc: 41.320 \n",
      "epoch: 1 | step: 493 | Train: G_Loss: 2.944, D_unsup_loss_real: 0.356, D_unsup_acc_real:  85.94, D_unsup_loss_fake: 0.846, D_unsup_acc_fake: 50.00, D_sup_loss: 1.665, D_sup_acc: 41.18 Train acc: 40.562 Test acc: 40.610 \n",
      "epoch: 1 | step: 494 | Train: G_Loss: 2.806, D_unsup_loss_real: 0.673, D_unsup_acc_real:  61.72, D_unsup_loss_fake: 0.860, D_unsup_acc_fake: 47.66, D_sup_loss: 1.685, D_sup_acc: 40.57 Train acc: 40.964 Test acc: 40.990 \n",
      "epoch: 1 | step: 495 | Train: G_Loss: 2.737, D_unsup_loss_real: 0.701, D_unsup_acc_real:  57.03, D_unsup_loss_fake: 0.940, D_unsup_acc_fake: 39.84, D_sup_loss: 1.682, D_sup_acc: 40.87 Train acc: 40.384 Test acc: 40.460 \n",
      "epoch: 1 | step: 496 | Train: G_Loss: 2.323, D_unsup_loss_real: 0.767, D_unsup_acc_real:  51.56, D_unsup_loss_fake: 0.704, D_unsup_acc_fake: 60.16, D_sup_loss: 1.690, D_sup_acc: 40.32 Train acc: 41.832 Test acc: 42.030 \n",
      "epoch: 1 | step: 497 | Train: G_Loss: 2.650, D_unsup_loss_real: 0.496, D_unsup_acc_real:  74.22, D_unsup_loss_fake: 0.749, D_unsup_acc_fake: 60.16, D_sup_loss: 1.659, D_sup_acc: 41.91 Train acc: 41.494 Test acc: 42.140 \n",
      "epoch: 1 | step: 498 | Train: G_Loss: 2.270, D_unsup_loss_real: 0.767, D_unsup_acc_real:  50.78, D_unsup_loss_fake: 0.735, D_unsup_acc_fake: 58.59, D_sup_loss: 1.661, D_sup_acc: 41.99 Train acc: 40.002 Test acc: 40.180 \n",
      "epoch: 1 | step: 499 | Train: G_Loss: 2.104, D_unsup_loss_real: 0.524, D_unsup_acc_real:  67.19, D_unsup_loss_fake: 0.596, D_unsup_acc_fake: 71.09, D_sup_loss: 1.697, D_sup_acc: 39.99 Train acc: 39.720 Test acc: 40.030 \n",
      "epoch: 1 | step: 500 | Train: G_Loss: 2.597, D_unsup_loss_real: 0.223, D_unsup_acc_real:  89.84, D_unsup_loss_fake: 0.777, D_unsup_acc_fake: 60.16, D_sup_loss: 1.700, D_sup_acc: 39.83 Train acc: 39.386 Test acc: 39.850 \n",
      "Train Classifier Accuracy: 39.386%\n",
      "\n",
      "Test Classifier Accuracy: 39.850%\n",
      "\n",
      ">Saving models Generator: Logs/SSGAN_CIFAR10/Classifier_50000/generator_model_500.h5 and Supervised: Logs/SSGAN_CIFAR10/Classifier_50000/supervised_model_500.h5\n",
      "epoch: 1 | step: 501 | Train: G_Loss: 1.955, D_unsup_loss_real: 0.524, D_unsup_acc_real:  72.66, D_unsup_loss_fake: 0.501, D_unsup_acc_fake: 79.69, D_sup_loss: 1.705, D_sup_acc: 39.82 Train acc: 40.320 Test acc: 40.430 \n",
      "epoch: 1 | step: 502 | Train: G_Loss: 2.349, D_unsup_loss_real: 0.481, D_unsup_acc_real:  76.56, D_unsup_loss_fake: 0.985, D_unsup_acc_fake: 32.03, D_sup_loss: 1.693, D_sup_acc: 40.37 Train acc: 40.844 Test acc: 41.140 \n",
      "epoch: 1 | step: 503 | Train: G_Loss: 1.588, D_unsup_loss_real: 0.792, D_unsup_acc_real:  42.19, D_unsup_loss_fake: 0.413, D_unsup_acc_fake: 94.53, D_sup_loss: 1.679, D_sup_acc: 41.06 Train acc: 41.574 Test acc: 41.750 \n",
      "epoch: 1 | step: 504 | Train: G_Loss: 1.539, D_unsup_loss_real: 0.307, D_unsup_acc_real:  88.28, D_unsup_loss_fake: 0.713, D_unsup_acc_fake: 57.03, D_sup_loss: 1.684, D_sup_acc: 41.71 Train acc: 41.984 Test acc: 42.120 \n",
      "epoch: 1 | step: 505 | Train: G_Loss: 1.580, D_unsup_loss_real: 0.349, D_unsup_acc_real:  86.72, D_unsup_loss_fake: 0.521, D_unsup_acc_fake: 80.47, D_sup_loss: 1.670, D_sup_acc: 41.90 Train acc: 41.970 Test acc: 41.900 \n",
      "epoch: 1 | step: 506 | Train: G_Loss: 1.598, D_unsup_loss_real: 0.383, D_unsup_acc_real:  84.38, D_unsup_loss_fake: 0.583, D_unsup_acc_fake: 74.22, D_sup_loss: 1.666, D_sup_acc: 41.83 Train acc: 42.020 Test acc: 42.200 \n",
      "epoch: 1 | step: 507 | Train: G_Loss: 1.597, D_unsup_loss_real: 0.440, D_unsup_acc_real:  78.91, D_unsup_loss_fake: 0.523, D_unsup_acc_fake: 81.25, D_sup_loss: 1.658, D_sup_acc: 42.18 Train acc: 41.774 Test acc: 41.990 \n",
      "epoch: 1 | step: 508 | Train: G_Loss: 1.480, D_unsup_loss_real: 0.640, D_unsup_acc_real:  57.81, D_unsup_loss_fake: 0.490, D_unsup_acc_fake: 82.03, D_sup_loss: 1.656, D_sup_acc: 42.01 Train acc: 40.996 Test acc: 41.650 \n",
      "epoch: 1 | step: 509 | Train: G_Loss: 1.461, D_unsup_loss_real: 0.452, D_unsup_acc_real:  76.56, D_unsup_loss_fake: 0.620, D_unsup_acc_fake: 63.28, D_sup_loss: 1.669, D_sup_acc: 41.64 Train acc: 41.764 Test acc: 42.340 \n",
      "epoch: 1 | step: 510 | Train: G_Loss: 1.794, D_unsup_loss_real: 0.383, D_unsup_acc_real:  80.47, D_unsup_loss_fake: 0.640, D_unsup_acc_fake: 66.41, D_sup_loss: 1.640, D_sup_acc: 42.29 Train acc: 42.054 Test acc: 42.520 \n",
      "epoch: 1 | step: 511 | Train: G_Loss: 1.728, D_unsup_loss_real: 0.475, D_unsup_acc_real:  71.88, D_unsup_loss_fake: 0.506, D_unsup_acc_fake: 81.25, D_sup_loss: 1.634, D_sup_acc: 42.38 Train acc: 41.934 Test acc: 41.900 \n",
      "epoch: 1 | step: 512 | Train: G_Loss: 1.726, D_unsup_loss_real: 0.492, D_unsup_acc_real:  74.22, D_unsup_loss_fake: 0.558, D_unsup_acc_fake: 79.69, D_sup_loss: 1.632, D_sup_acc: 41.88 Train acc: 42.108 Test acc: 41.950 \n",
      "epoch: 1 | step: 513 | Train: G_Loss: 1.805, D_unsup_loss_real: 0.375, D_unsup_acc_real:  85.16, D_unsup_loss_fake: 0.555, D_unsup_acc_fake: 79.69, D_sup_loss: 1.629, D_sup_acc: 41.88 Train acc: 41.592 Test acc: 41.430 \n",
      "epoch: 1 | step: 514 | Train: G_Loss: 1.941, D_unsup_loss_real: 0.410, D_unsup_acc_real:  80.47, D_unsup_loss_fake: 0.530, D_unsup_acc_fake: 83.59, D_sup_loss: 1.642, D_sup_acc: 41.52 Train acc: 41.030 Test acc: 40.880 \n",
      "epoch: 1 | step: 515 | Train: G_Loss: 1.751, D_unsup_loss_real: 0.398, D_unsup_acc_real:  79.69, D_unsup_loss_fake: 0.552, D_unsup_acc_fake: 77.34, D_sup_loss: 1.661, D_sup_acc: 40.75 Train acc: 41.834 Test acc: 41.720 \n",
      "epoch: 1 | step: 516 | Train: G_Loss: 1.782, D_unsup_loss_real: 0.326, D_unsup_acc_real:  85.94, D_unsup_loss_fake: 0.480, D_unsup_acc_fake: 81.25, D_sup_loss: 1.637, D_sup_acc: 41.68 Train acc: 41.830 Test acc: 41.880 \n",
      "epoch: 1 | step: 517 | Train: G_Loss: 1.763, D_unsup_loss_real: 0.349, D_unsup_acc_real:  84.38, D_unsup_loss_fake: 0.509, D_unsup_acc_fake: 84.38, D_sup_loss: 1.631, D_sup_acc: 41.79 Train acc: 41.760 Test acc: 41.910 \n",
      "epoch: 1 | step: 518 | Train: G_Loss: 1.936, D_unsup_loss_real: 0.315, D_unsup_acc_real:  87.50, D_unsup_loss_fake: 0.527, D_unsup_acc_fake: 82.81, D_sup_loss: 1.630, D_sup_acc: 41.82 Train acc: 42.272 Test acc: 42.280 \n",
      "epoch: 1 | step: 519 | Train: G_Loss: 2.048, D_unsup_loss_real: 0.308, D_unsup_acc_real:  87.50, D_unsup_loss_fake: 0.549, D_unsup_acc_fake: 78.12, D_sup_loss: 1.617, D_sup_acc: 42.13 Train acc: 42.736 Test acc: 42.880 \n",
      "epoch: 1 | step: 520 | Train: G_Loss: 1.944, D_unsup_loss_real: 0.347, D_unsup_acc_real:  82.81, D_unsup_loss_fake: 0.353, D_unsup_acc_fake: 93.75, D_sup_loss: 1.608, D_sup_acc: 42.88 Train acc: 42.240 Test acc: 42.630 \n",
      "epoch: 1 | step: 521 | Train: G_Loss: 2.018, D_unsup_loss_real: 0.260, D_unsup_acc_real:  89.84, D_unsup_loss_fake: 0.580, D_unsup_acc_fake: 69.53, D_sup_loss: 1.618, D_sup_acc: 42.56 Train acc: 41.734 Test acc: 42.370 \n",
      "epoch: 1 | step: 522 | Train: G_Loss: 2.095, D_unsup_loss_real: 0.378, D_unsup_acc_real:  82.81, D_unsup_loss_fake: 0.554, D_unsup_acc_fake: 78.12, D_sup_loss: 1.633, D_sup_acc: 42.31 Train acc: 42.754 Test acc: 43.050 \n",
      "epoch: 1 | step: 523 | Train: G_Loss: 2.435, D_unsup_loss_real: 0.324, D_unsup_acc_real:  82.81, D_unsup_loss_fake: 0.526, D_unsup_acc_fake: 79.69, D_sup_loss: 1.618, D_sup_acc: 42.97 Train acc: 42.524 Test acc: 43.130 \n",
      "epoch: 1 | step: 524 | Train: G_Loss: 2.217, D_unsup_loss_real: 0.415, D_unsup_acc_real:  78.12, D_unsup_loss_fake: 0.429, D_unsup_acc_fake: 88.28, D_sup_loss: 1.635, D_sup_acc: 42.97 Train acc: 42.252 Test acc: 42.500 \n",
      "epoch: 1 | step: 525 | Train: G_Loss: 2.553, D_unsup_loss_real: 0.275, D_unsup_acc_real:  89.06, D_unsup_loss_fake: 0.750, D_unsup_acc_fake: 67.97, D_sup_loss: 1.652, D_sup_acc: 42.46 Train acc: 42.584 Test acc: 42.370 \n"
     ]
    },
    {
     "name": "stdout",
     "output_type": "stream",
     "text": [
      "epoch: 1 | step: 526 | Train: G_Loss: 2.413, D_unsup_loss_real: 0.433, D_unsup_acc_real:  75.78, D_unsup_loss_fake: 0.418, D_unsup_acc_fake: 85.16, D_sup_loss: 1.630, D_sup_acc: 42.22 Train acc: 41.604 Test acc: 41.770 \n",
      "epoch: 1 | step: 527 | Train: G_Loss: 2.513, D_unsup_loss_real: 0.341, D_unsup_acc_real:  82.81, D_unsup_loss_fake: 0.733, D_unsup_acc_fake: 53.12, D_sup_loss: 1.651, D_sup_acc: 41.58 Train acc: 41.646 Test acc: 41.940 \n",
      "epoch: 1 | step: 528 | Train: G_Loss: 2.353, D_unsup_loss_real: 0.393, D_unsup_acc_real:  81.25, D_unsup_loss_fake: 0.371, D_unsup_acc_fake: 87.50, D_sup_loss: 1.646, D_sup_acc: 41.90 Train acc: 41.760 Test acc: 41.420 \n",
      "epoch: 1 | step: 529 | Train: G_Loss: 2.225, D_unsup_loss_real: 0.469, D_unsup_acc_real:  74.22, D_unsup_loss_fake: 0.535, D_unsup_acc_fake: 82.03, D_sup_loss: 1.650, D_sup_acc: 41.33 Train acc: 41.346 Test acc: 41.450 \n",
      "epoch: 1 | step: 530 | Train: G_Loss: 2.489, D_unsup_loss_real: 0.419, D_unsup_acc_real:  74.22, D_unsup_loss_fake: 0.641, D_unsup_acc_fake: 64.84, D_sup_loss: 1.646, D_sup_acc: 41.40 Train acc: 41.074 Test acc: 41.260 \n",
      "epoch: 1 | step: 531 | Train: G_Loss: 2.309, D_unsup_loss_real: 0.416, D_unsup_acc_real:  79.69, D_unsup_loss_fake: 0.419, D_unsup_acc_fake: 85.94, D_sup_loss: 1.647, D_sup_acc: 41.32 Train acc: 41.606 Test acc: 42.100 \n",
      "epoch: 1 | step: 532 | Train: G_Loss: 2.438, D_unsup_loss_real: 0.495, D_unsup_acc_real:  71.09, D_unsup_loss_fake: 0.665, D_unsup_acc_fake: 65.62, D_sup_loss: 1.628, D_sup_acc: 42.03 Train acc: 41.890 Test acc: 42.740 \n",
      "epoch: 1 | step: 533 | Train: G_Loss: 2.801, D_unsup_loss_real: 0.380, D_unsup_acc_real:  81.25, D_unsup_loss_fake: 0.596, D_unsup_acc_fake: 70.31, D_sup_loss: 1.621, D_sup_acc: 42.68 Train acc: 42.180 Test acc: 42.820 \n",
      "epoch: 1 | step: 534 | Train: G_Loss: 2.952, D_unsup_loss_real: 0.263, D_unsup_acc_real:  88.28, D_unsup_loss_fake: 0.538, D_unsup_acc_fake: 71.09, D_sup_loss: 1.617, D_sup_acc: 42.71 Train acc: 41.902 Test acc: 42.340 \n",
      "epoch: 1 | step: 535 | Train: G_Loss: 2.749, D_unsup_loss_real: 0.401, D_unsup_acc_real:  77.34, D_unsup_loss_fake: 0.565, D_unsup_acc_fake: 74.22, D_sup_loss: 1.620, D_sup_acc: 42.27 Train acc: 42.528 Test acc: 42.820 \n",
      "epoch: 1 | step: 536 | Train: G_Loss: 3.726, D_unsup_loss_real: 0.365, D_unsup_acc_real:  81.25, D_unsup_loss_fake: 0.912, D_unsup_acc_fake: 42.97, D_sup_loss: 1.608, D_sup_acc: 42.78 Train acc: 42.604 Test acc: 43.120 \n",
      "epoch: 1 | step: 537 | Train: G_Loss: 2.678, D_unsup_loss_real: 0.566, D_unsup_acc_real:  67.97, D_unsup_loss_fake: 0.459, D_unsup_acc_fake: 80.47, D_sup_loss: 1.611, D_sup_acc: 42.91 Train acc: 42.712 Test acc: 43.140 \n",
      "epoch: 1 | step: 538 | Train: G_Loss: 5.218, D_unsup_loss_real: 0.138, D_unsup_acc_real:  94.53, D_unsup_loss_fake: 1.479, D_unsup_acc_fake: 22.66, D_sup_loss: 1.601, D_sup_acc: 43.01 Train acc: 41.716 Test acc: 42.320 \n",
      "epoch: 1 | step: 539 | Train: G_Loss: 2.404, D_unsup_loss_real: 1.195, D_unsup_acc_real:  39.06, D_unsup_loss_fake: 0.250, D_unsup_acc_fake: 95.31, D_sup_loss: 1.630, D_sup_acc: 42.17 Train acc: 39.624 Test acc: 40.120 \n",
      "epoch: 1 | step: 540 | Train: G_Loss: 2.140, D_unsup_loss_real: 0.390, D_unsup_acc_real:  78.91, D_unsup_loss_fake: 1.284, D_unsup_acc_fake: 27.34, D_sup_loss: 1.699, D_sup_acc: 40.09 Train acc: 38.594 Test acc: 38.620 \n",
      "epoch: 1 | step: 541 | Train: G_Loss: 2.043, D_unsup_loss_real: 0.818, D_unsup_acc_real:  50.78, D_unsup_loss_fake: 0.834, D_unsup_acc_fake: 57.03, D_sup_loss: 1.726, D_sup_acc: 38.60 Train acc: 39.058 Test acc: 39.510 \n",
      "epoch: 1 | step: 542 | Train: G_Loss: 1.824, D_unsup_loss_real: 0.862, D_unsup_acc_real:  48.44, D_unsup_loss_fake: 0.944, D_unsup_acc_fake: 46.09, D_sup_loss: 1.688, D_sup_acc: 39.37 Train acc: 39.812 Test acc: 39.930 \n",
      "epoch: 1 | step: 543 | Train: G_Loss: 1.954, D_unsup_loss_real: 0.690, D_unsup_acc_real:  56.25, D_unsup_loss_fake: 0.718, D_unsup_acc_fake: 65.62, D_sup_loss: 1.669, D_sup_acc: 39.87 Train acc: 41.670 Test acc: 42.070 \n",
      "epoch: 1 | step: 544 | Train: G_Loss: 2.533, D_unsup_loss_real: 0.506, D_unsup_acc_real:  71.09, D_unsup_loss_fake: 0.663, D_unsup_acc_fake: 62.50, D_sup_loss: 1.626, D_sup_acc: 42.12 Train acc: 41.836 Test acc: 42.500 \n",
      "epoch: 1 | step: 545 | Train: G_Loss: 2.319, D_unsup_loss_real: 0.490, D_unsup_acc_real:  71.09, D_unsup_loss_fake: 0.503, D_unsup_acc_fake: 82.03, D_sup_loss: 1.621, D_sup_acc: 42.39 Train acc: 40.798 Test acc: 41.640 \n",
      "epoch: 1 | step: 546 | Train: G_Loss: 2.036, D_unsup_loss_real: 0.650, D_unsup_acc_real:  64.84, D_unsup_loss_fake: 0.639, D_unsup_acc_fake: 69.53, D_sup_loss: 1.636, D_sup_acc: 41.49 Train acc: 40.916 Test acc: 41.730 \n",
      "epoch: 1 | step: 547 | Train: G_Loss: 2.441, D_unsup_loss_real: 0.283, D_unsup_acc_real:  86.72, D_unsup_loss_fake: 0.763, D_unsup_acc_fake: 49.22, D_sup_loss: 1.634, D_sup_acc: 41.63 Train acc: 41.198 Test acc: 41.310 \n",
      "epoch: 1 | step: 548 | Train: G_Loss: 1.917, D_unsup_loss_real: 0.620, D_unsup_acc_real:  63.28, D_unsup_loss_fake: 0.531, D_unsup_acc_fake: 85.16, D_sup_loss: 1.632, D_sup_acc: 41.19 Train acc: 41.390 Test acc: 41.750 \n",
      "epoch: 1 | step: 549 | Train: G_Loss: 1.753, D_unsup_loss_real: 0.484, D_unsup_acc_real:  75.00, D_unsup_loss_fake: 0.726, D_unsup_acc_fake: 60.16, D_sup_loss: 1.630, D_sup_acc: 41.72 Train acc: 42.024 Test acc: 42.400 \n",
      "epoch: 1 | step: 550 | Train: G_Loss: 1.976, D_unsup_loss_real: 0.343, D_unsup_acc_real:  81.25, D_unsup_loss_fake: 0.667, D_unsup_acc_fake: 65.62, D_sup_loss: 1.615, D_sup_acc: 42.32 Train acc: 42.462 Test acc: 42.810 \n",
      "epoch: 1 | step: 551 | Train: G_Loss: 1.946, D_unsup_loss_real: 0.347, D_unsup_acc_real:  82.81, D_unsup_loss_fake: 0.548, D_unsup_acc_fake: 82.81, D_sup_loss: 1.613, D_sup_acc: 42.73 Train acc: 42.390 Test acc: 42.460 \n",
      "epoch: 1 | step: 552 | Train: G_Loss: 1.916, D_unsup_loss_real: 0.465, D_unsup_acc_real:  72.66, D_unsup_loss_fake: 0.592, D_unsup_acc_fake: 76.56, D_sup_loss: 1.611, D_sup_acc: 42.34 Train acc: 42.556 Test acc: 43.000 \n",
      "epoch: 1 | step: 553 | Train: G_Loss: 2.170, D_unsup_loss_real: 0.308, D_unsup_acc_real:  85.16, D_unsup_loss_fake: 0.606, D_unsup_acc_fake: 71.88, D_sup_loss: 1.603, D_sup_acc: 42.90 Train acc: 42.104 Test acc: 42.660 \n",
      "epoch: 1 | step: 554 | Train: G_Loss: 2.353, D_unsup_loss_real: 0.338, D_unsup_acc_real:  83.59, D_unsup_loss_fake: 0.604, D_unsup_acc_fake: 71.09, D_sup_loss: 1.610, D_sup_acc: 42.60 Train acc: 42.880 Test acc: 43.340 \n",
      "epoch: 1 | step: 555 | Train: G_Loss: 1.926, D_unsup_loss_real: 0.536, D_unsup_acc_real:  75.00, D_unsup_loss_fake: 0.520, D_unsup_acc_fake: 75.78, D_sup_loss: 1.599, D_sup_acc: 43.21 Train acc: 43.166 Test acc: 43.750 \n",
      "epoch: 1 | step: 556 | Train: G_Loss: 2.045, D_unsup_loss_real: 0.390, D_unsup_acc_real:  82.03, D_unsup_loss_fake: 0.611, D_unsup_acc_fake: 67.97, D_sup_loss: 1.600, D_sup_acc: 43.67 Train acc: 42.958 Test acc: 43.490 \n",
      "epoch: 1 | step: 557 | Train: G_Loss: 2.192, D_unsup_loss_real: 0.365, D_unsup_acc_real:  84.38, D_unsup_loss_fake: 0.600, D_unsup_acc_fake: 74.22, D_sup_loss: 1.604, D_sup_acc: 43.33 Train acc: 42.760 Test acc: 43.210 \n",
      "epoch: 1 | step: 558 | Train: G_Loss: 2.197, D_unsup_loss_real: 0.431, D_unsup_acc_real:  78.91, D_unsup_loss_fake: 0.531, D_unsup_acc_fake: 76.56, D_sup_loss: 1.614, D_sup_acc: 43.12 Train acc: 42.614 Test acc: 43.020 \n",
      "epoch: 1 | step: 559 | Train: G_Loss: 2.170, D_unsup_loss_real: 0.449, D_unsup_acc_real:  78.91, D_unsup_loss_fake: 0.497, D_unsup_acc_fake: 80.47, D_sup_loss: 1.612, D_sup_acc: 42.95 Train acc: 42.300 Test acc: 42.710 \n",
      "epoch: 1 | step: 560 | Train: G_Loss: 2.951, D_unsup_loss_real: 0.382, D_unsup_acc_real:  78.91, D_unsup_loss_fake: 0.860, D_unsup_acc_fake: 46.88, D_sup_loss: 1.617, D_sup_acc: 42.64 Train acc: 41.926 Test acc: 42.200 \n"
     ]
    }
   ],
   "source": [
    "train(generator_model, unsupervised_model, supervised_model, gan_model, \n",
    "      dataset_train, dataset_test, latent_dim=latent_dim, \n",
    "      n_epochs=epochs, n_batch=batch_size, percent_samples=labeled_rate, n_classes=num_classes)"
   ]
  },
  {
   "cell_type": "markdown",
   "id": "dff849fc",
   "metadata": {},
   "source": [
    "### Testing"
   ]
  },
  {
   "cell_type": "code",
   "execution_count": null,
   "id": "8e50d5ee",
   "metadata": {},
   "outputs": [],
   "source": [
    "dataset_train, dataset_test = load_real_samples()"
   ]
  },
  {
   "cell_type": "code",
   "execution_count": null,
   "id": "29ff6e3c",
   "metadata": {},
   "outputs": [],
   "source": [
    "from tensorflow.keras.models import load_model"
   ]
  },
  {
   "cell_type": "code",
   "execution_count": null,
   "id": "b20669ac",
   "metadata": {},
   "outputs": [],
   "source": [
    "last_step = int(dataset_train.shape[0]/batch_size)*epochs"
   ]
  },
  {
   "cell_type": "code",
   "execution_count": null,
   "id": "903b1294",
   "metadata": {},
   "outputs": [],
   "source": [
    "supervised_model = load_model(f'{LOG_PATH}supervised_model_{last_step}.h5')"
   ]
  },
  {
   "cell_type": "code",
   "execution_count": null,
   "id": "1db02aaa",
   "metadata": {},
   "outputs": [],
   "source": [
    "X_train, y_train = dataset_train\n",
    "_, acc = supervised_model.evaluate(X_train, y_train, verbose=0)\n",
    "print('Train Classifier Accuracy: %.3f%%\\n' % (acc * 100))"
   ]
  },
  {
   "cell_type": "code",
   "execution_count": null,
   "id": "6cbae68d",
   "metadata": {},
   "outputs": [],
   "source": [
    "X_test, y_test = dataset_test\n",
    "_, acc = supervised_model.evaluate(X_test, y_test, verbose=0)\n",
    "print('Test Classifier Accuracy: %.3f%%\\n' % (acc * 100))"
   ]
  },
  {
   "cell_type": "markdown",
   "id": "f4af00c9",
   "metadata": {},
   "source": [
    "### Plotting"
   ]
  },
  {
   "cell_type": "code",
   "execution_count": null,
   "id": "ec2d4936",
   "metadata": {},
   "outputs": [],
   "source": [
    "import pandas as pd"
   ]
  },
  {
   "cell_type": "code",
   "execution_count": null,
   "id": "871d7d60",
   "metadata": {},
   "outputs": [],
   "source": [
    "results_file = pd.read_csv(f\"{LOG_PATH}SSL_GAN.csv\")"
   ]
  },
  {
   "cell_type": "code",
   "execution_count": null,
   "id": "6a9475a6",
   "metadata": {},
   "outputs": [],
   "source": [
    "log_file = results_file.iloc[:,1:]\n",
    "log_file"
   ]
  },
  {
   "cell_type": "code",
   "execution_count": null,
   "id": "2a23747a",
   "metadata": {},
   "outputs": [],
   "source": [
    "log_file.iloc[:, [0,1,2,3]].plot(figsize=(12,8))"
   ]
  },
  {
   "cell_type": "code",
   "execution_count": null,
   "id": "2bb08f64",
   "metadata": {},
   "outputs": [],
   "source": [
    "log_file.iloc[:, [5,6]].plot(figsize=(12,8))"
   ]
  },
  {
   "cell_type": "code",
   "execution_count": null,
   "id": "60f0799d",
   "metadata": {},
   "outputs": [],
   "source": [
    "log_file.iloc[:, [7,8]].plot(figsize=(12,8), ylim=(0,100), yticks=range(0,110,10))"
   ]
  }
 ],
 "metadata": {
  "kernelspec": {
   "display_name": "Python 3",
   "language": "python",
   "name": "python3"
  },
  "language_info": {
   "codemirror_mode": {
    "name": "ipython",
    "version": 3
   },
   "file_extension": ".py",
   "mimetype": "text/x-python",
   "name": "python",
   "nbconvert_exporter": "python",
   "pygments_lexer": "ipython3",
   "version": "3.8.10"
  }
 },
 "nbformat": 4,
 "nbformat_minor": 5
}
