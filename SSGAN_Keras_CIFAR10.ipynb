{
 "cells": [
  {
   "cell_type": "code",
   "execution_count": 1,
   "id": "a09e486c",
   "metadata": {},
   "outputs": [],
   "source": [
    "import numpy as np\n",
    "import os\n",
    "import time"
   ]
  },
  {
   "cell_type": "code",
   "execution_count": 2,
   "id": "a5077c4a",
   "metadata": {},
   "outputs": [],
   "source": [
    "import keras"
   ]
  },
  {
   "cell_type": "code",
   "execution_count": 3,
   "id": "957f15a3",
   "metadata": {},
   "outputs": [
    {
     "data": {
      "text/plain": [
       "'2.4.3'"
      ]
     },
     "execution_count": 3,
     "metadata": {},
     "output_type": "execute_result"
    }
   ],
   "source": [
    "keras.__version__"
   ]
  },
  {
   "cell_type": "code",
   "execution_count": 4,
   "id": "e479c473",
   "metadata": {},
   "outputs": [],
   "source": [
    "# os.environ[\"CUDA_VISIBLE_DEVICES\"]=\"1\""
   ]
  },
  {
   "cell_type": "code",
   "execution_count": 5,
   "id": "3a207473",
   "metadata": {},
   "outputs": [],
   "source": [
    "#!pip install -q -U tensorflow-addons==0.11.2"
   ]
  },
  {
   "cell_type": "markdown",
   "id": "ac806c7a",
   "metadata": {},
   "source": [
    "### Utilities"
   ]
  },
  {
   "cell_type": "code",
   "execution_count": 6,
   "id": "2c569491",
   "metadata": {},
   "outputs": [],
   "source": [
    "from utils import verifyDir\n",
    "from utils.networks import normalize, unnormalize, plot_data"
   ]
  },
  {
   "cell_type": "markdown",
   "id": "9af3c765",
   "metadata": {},
   "source": [
    "### Dataset"
   ]
  },
  {
   "cell_type": "code",
   "execution_count": 7,
   "id": "4e460c23",
   "metadata": {},
   "outputs": [],
   "source": [
    "from utils.CIFAR10 import load_real_samples"
   ]
  },
  {
   "cell_type": "markdown",
   "id": "ffcc42eb",
   "metadata": {},
   "source": [
    "### Discriminator & Generator"
   ]
  },
  {
   "cell_type": "code",
   "execution_count": 8,
   "id": "da029db6",
   "metadata": {},
   "outputs": [],
   "source": [
    "from utils.CIFAR10 import define_discriminator\n",
    "from utils.CIFAR10 import define_generator"
   ]
  },
  {
   "cell_type": "markdown",
   "id": "7417a6ca",
   "metadata": {},
   "source": [
    "### Semi-Supervised GAN"
   ]
  },
  {
   "cell_type": "code",
   "execution_count": 9,
   "id": "0c5cec06",
   "metadata": {},
   "outputs": [],
   "source": [
    "from utils.networks import define_gan"
   ]
  },
  {
   "cell_type": "markdown",
   "id": "e6ea76a5",
   "metadata": {},
   "source": [
    "### Selecting sub-set "
   ]
  },
  {
   "cell_type": "code",
   "execution_count": 10,
   "id": "9fb6580e",
   "metadata": {},
   "outputs": [],
   "source": [
    "from utils.networks import select_supervised_samples, generate_real_samples\n",
    "from utils.networks import generate_fake_samples, generate_latent_points"
   ]
  },
  {
   "cell_type": "markdown",
   "id": "f9408523",
   "metadata": {},
   "source": [
    "### Training"
   ]
  },
  {
   "cell_type": "code",
   "execution_count": 11,
   "id": "7e26395d",
   "metadata": {},
   "outputs": [],
   "source": [
    "# train the generator and discriminator\n",
    "def train(generator_model, unsupervised_model, supervised_model, gan_model, dataset_train, dataset_test, \n",
    "          latent_dim=100, n_epochs=20, n_batch=100, percent_samples=1.0, n_classes=10):\n",
    "    \n",
    "    # select supervised dataset_train\n",
    "    X_sup, y_sup = select_supervised_samples(dataset_train, percent_samples=percent_samples, n_classes=n_classes)\n",
    "    print(\"Sup samples:\", X_sup.shape, y_sup.shape)\n",
    "    \n",
    "    # calculate the number of batches per training epoch\n",
    "    bat_per_epo = int(dataset_train[0].shape[0] / n_batch)\n",
    "    \n",
    "    # calculate the number of training iterations\n",
    "    n_steps = bat_per_epo * n_epochs\n",
    "    print('n_epochs=%d, n_batch=%d, batch/epoch=%d, steps=%d' % (n_epochs, n_batch, bat_per_epo, n_steps))\n",
    "    \n",
    "    # manually enumerate epochs\n",
    "    f_history = open(f\"{LOG_PATH}SSL_GAN.csv\", \"w\")\n",
    "    f_history.write(\"step,generator_loss,unsupervised_real_loss,unsupervised_fake_loss,supervised_loss,supervised_acc,train_loss,test_loss,train_acc,test_acc\\n\")\n",
    "    \n",
    "    #for epoch in n_epochs:\n",
    "    #    for batch in range(bat_per_epo):\n",
    "    for step in range(1,n_steps+1):\n",
    "#         t_start = time.time()\n",
    "        # update supervised discriminator (c)\n",
    "        [Xsup_real, ysup_real], _ = generate_real_samples([X_sup, y_sup], n_batch)\n",
    "        c_loss, c_acc = supervised_model.train_on_batch(Xsup_real, ysup_real)\n",
    "        \n",
    "        # update unsupervised discriminator (d)\n",
    "        [X_real, _], y_real = generate_real_samples(dataset_train, n_batch)\n",
    "        d_loss1, real_acc = unsupervised_model.train_on_batch(X_real, y_real)\n",
    "        \n",
    "        X_fake, y_fake = generate_fake_samples(generator_model, latent_dim, n_batch)\n",
    "        d_loss2, fake_acc = unsupervised_model.train_on_batch(X_fake, y_fake)\n",
    "        \n",
    "        # update generator (g)\n",
    "        X_gan, y_gan = generate_latent_points(latent_dim, n_batch), np.ones((n_batch, 1))\n",
    "        g_loss = gan_model.train_on_batch(X_gan, y_gan)\n",
    "#         t_total = (time.time() - t_start)\n",
    "        # summarize loss on this batch\n",
    "    \n",
    "        # Train - Test\n",
    "        X_train, y_train = dataset_train\n",
    "        loss_train, acc_train = supervised_model.evaluate(X_train, y_train, verbose=0)\n",
    "\n",
    "        # evaluate the test classifier model\n",
    "        X_test, y_test = dataset_test\n",
    "        loss_test, acc_test = supervised_model.evaluate(X_test, y_test, verbose=0)\n",
    "        \n",
    "        # Log\n",
    "        print('epoch: %d | step: %d | Train: G_Loss: %.3f, ' \\\n",
    "              'D_unsup_loss_real: %.3f, D_unsup_acc_real:  %.2f, ' \\\n",
    "              'D_unsup_loss_fake: %.3f, D_unsup_acc_fake: %.2f, ' \\\n",
    "              'D_sup_loss: %.3f, D_sup_acc: %.2f ' \\\n",
    "              'Train acc: %.3f Test acc: %.3f ' %(int(step/bat_per_epo), step, g_loss,\n",
    "                                                d_loss1, real_acc*100,\n",
    "                                                d_loss2, fake_acc*100,\n",
    "                                                c_loss, c_acc*100,\n",
    "                                                 acc_train*100, acc_test*100))#, end = '\\r')\n",
    "        f_history.write(f\"{step},{g_loss},{d_loss1},{d_loss2},{c_loss},{c_acc*100},{loss_train},{loss_test},{acc_train*100},{acc_test*100}\\n\")\n",
    "        \n",
    "        if step==1:\n",
    "            plot_data(unnormalize(X_test).astype(int), 0, \"test\", grid_size = [10, 10], OUT_PATH=LOG_PATH)\n",
    "        # evaluate the model performance every so often\n",
    "        if (step) % (100) == 0 or step == 1:\n",
    "            #summarize_performance(step, generator_model, supervised_model, latent_dim, dataset, dataset_test)\n",
    "            # prepare fake examples\n",
    "            X_generated, _ = generate_fake_samples(generator_model, latent_dim, n_samples=100)\n",
    "            # scale from [-1,1] to [0,255]\n",
    "            plot_data(unnormalize(X_generated).astype(int), step, \"generated\", grid_size = [10, 10], OUT_PATH=LOG_PATH)\n",
    "            \n",
    "            X_train, y_train = dataset_train\n",
    "            _, acc = supervised_model.evaluate(X_train, y_train, verbose=0)\n",
    "            print('Train Classifier Accuracy: %.3f%%\\n' % (acc * 100))\n",
    "            \n",
    "            # evaluate the test classifier model\n",
    "            X_test, y_test = dataset_test\n",
    "            _, acc = supervised_model.evaluate(X_test, y_test, verbose=0)\n",
    "            print('Test Classifier Accuracy: %.3f%%\\n' % (acc * 100))\n",
    "            # save the generator model\n",
    "            filename2 = f'{LOG_PATH}generator_model_{step}.h5'\n",
    "            generator_model.save(filename2)\n",
    "            # save the classifier model\n",
    "            filename3 = f'{LOG_PATH}supervised_model_{step}.h5'\n",
    "            supervised_model.save(filename3)\n",
    "            print('>Saving models Generator: %s and Supervised: %s' % (filename2, filename3))\n",
    "    \n",
    "    f_history.close()"
   ]
  },
  {
   "cell_type": "markdown",
   "id": "bb4d9f44",
   "metadata": {},
   "source": [
    "### Parameters"
   ]
  },
  {
   "cell_type": "code",
   "execution_count": 12,
   "id": "1389eb41",
   "metadata": {},
   "outputs": [],
   "source": [
    "input_shape = (32, 32, 3)\n",
    "num_classes = 10\n",
    "\n",
    "learning_rate =  0.0002\n",
    "latent_dim = 100\n",
    "\n",
    "labeled_rate = 1.0\n",
    "labeled_samples = 50000*labeled_rate"
   ]
  },
  {
   "cell_type": "code",
   "execution_count": 13,
   "id": "45e13f6c",
   "metadata": {},
   "outputs": [],
   "source": [
    "LOG_PATH = f\"Logs/SSGAN_CIFAR10/Classifier_{int(labeled_samples)}/\"\n",
    "verifyDir(LOG_PATH)"
   ]
  },
  {
   "cell_type": "markdown",
   "id": "182bb54a",
   "metadata": {},
   "source": [
    "### Creating models"
   ]
  },
  {
   "cell_type": "code",
   "execution_count": 14,
   "id": "ad0b4edd",
   "metadata": {
    "scrolled": true
   },
   "outputs": [],
   "source": [
    "# create the discriminator models\n",
    "unsupervised_model, supervised_model = define_discriminator(in_shape=input_shape, n_classes=num_classes, learning_rate = learning_rate)\n",
    "# create the generator\n",
    "generator_model = define_generator(latent_dim=latent_dim)"
   ]
  },
  {
   "cell_type": "code",
   "execution_count": 15,
   "id": "a7c16f0d",
   "metadata": {},
   "outputs": [
    {
     "name": "stdout",
     "output_type": "stream",
     "text": [
      "Model: \"model\"\n",
      "_________________________________________________________________\n",
      "Layer (type)                 Output Shape              Param #   \n",
      "=================================================================\n",
      "input_1 (InputLayer)         [(None, 32, 32, 3)]       0         \n",
      "_________________________________________________________________\n",
      "conv2d (Conv2D)              (None, 32, 32, 32)        896       \n",
      "_________________________________________________________________\n",
      "leaky_re_lu (LeakyReLU)      (None, 32, 32, 32)        0         \n",
      "_________________________________________________________________\n",
      "conv2d_1 (Conv2D)            (None, 16, 16, 64)        18496     \n",
      "_________________________________________________________________\n",
      "leaky_re_lu_1 (LeakyReLU)    (None, 16, 16, 64)        0         \n",
      "_________________________________________________________________\n",
      "dropout (Dropout)            (None, 16, 16, 64)        0         \n",
      "_________________________________________________________________\n",
      "conv2d_2 (Conv2D)            (None, 16, 16, 64)        36928     \n",
      "_________________________________________________________________\n",
      "leaky_re_lu_2 (LeakyReLU)    (None, 16, 16, 64)        0         \n",
      "_________________________________________________________________\n",
      "conv2d_3 (Conv2D)            (None, 8, 8, 128)         73856     \n",
      "_________________________________________________________________\n",
      "leaky_re_lu_3 (LeakyReLU)    (None, 8, 8, 128)         0         \n",
      "_________________________________________________________________\n",
      "dropout_1 (Dropout)          (None, 8, 8, 128)         0         \n",
      "_________________________________________________________________\n",
      "conv2d_4 (Conv2D)            (None, 8, 8, 128)         147584    \n",
      "_________________________________________________________________\n",
      "leaky_re_lu_4 (LeakyReLU)    (None, 8, 8, 128)         0         \n",
      "_________________________________________________________________\n",
      "conv2d_5 (Conv2D)            (None, 4, 4, 256)         295168    \n",
      "_________________________________________________________________\n",
      "leaky_re_lu_5 (LeakyReLU)    (None, 4, 4, 256)         0         \n",
      "_________________________________________________________________\n",
      "dropout_2 (Dropout)          (None, 4, 4, 256)         0         \n",
      "_________________________________________________________________\n",
      "flatten (Flatten)            (None, 4096)              0         \n",
      "_________________________________________________________________\n",
      "dense (Dense)                (None, 128)               524416    \n",
      "_________________________________________________________________\n",
      "dropout_3 (Dropout)          (None, 128)               0         \n",
      "_________________________________________________________________\n",
      "dense_1 (Dense)              (None, 10)                1290      \n",
      "_________________________________________________________________\n",
      "activation (Activation)      (None, 10)                0         \n",
      "=================================================================\n",
      "Total params: 1,098,634\n",
      "Trainable params: 1,098,634\n",
      "Non-trainable params: 0\n",
      "_________________________________________________________________\n"
     ]
    }
   ],
   "source": [
    "supervised_model.summary()"
   ]
  },
  {
   "cell_type": "code",
   "execution_count": 16,
   "id": "2e3a9e50",
   "metadata": {},
   "outputs": [
    {
     "name": "stdout",
     "output_type": "stream",
     "text": [
      "Model: \"model_1\"\n",
      "_________________________________________________________________\n",
      "Layer (type)                 Output Shape              Param #   \n",
      "=================================================================\n",
      "input_1 (InputLayer)         [(None, 32, 32, 3)]       0         \n",
      "_________________________________________________________________\n",
      "conv2d (Conv2D)              (None, 32, 32, 32)        896       \n",
      "_________________________________________________________________\n",
      "leaky_re_lu (LeakyReLU)      (None, 32, 32, 32)        0         \n",
      "_________________________________________________________________\n",
      "conv2d_1 (Conv2D)            (None, 16, 16, 64)        18496     \n",
      "_________________________________________________________________\n",
      "leaky_re_lu_1 (LeakyReLU)    (None, 16, 16, 64)        0         \n",
      "_________________________________________________________________\n",
      "dropout (Dropout)            (None, 16, 16, 64)        0         \n",
      "_________________________________________________________________\n",
      "conv2d_2 (Conv2D)            (None, 16, 16, 64)        36928     \n",
      "_________________________________________________________________\n",
      "leaky_re_lu_2 (LeakyReLU)    (None, 16, 16, 64)        0         \n",
      "_________________________________________________________________\n",
      "conv2d_3 (Conv2D)            (None, 8, 8, 128)         73856     \n",
      "_________________________________________________________________\n",
      "leaky_re_lu_3 (LeakyReLU)    (None, 8, 8, 128)         0         \n",
      "_________________________________________________________________\n",
      "dropout_1 (Dropout)          (None, 8, 8, 128)         0         \n",
      "_________________________________________________________________\n",
      "conv2d_4 (Conv2D)            (None, 8, 8, 128)         147584    \n",
      "_________________________________________________________________\n",
      "leaky_re_lu_4 (LeakyReLU)    (None, 8, 8, 128)         0         \n",
      "_________________________________________________________________\n",
      "conv2d_5 (Conv2D)            (None, 4, 4, 256)         295168    \n",
      "_________________________________________________________________\n",
      "leaky_re_lu_5 (LeakyReLU)    (None, 4, 4, 256)         0         \n",
      "_________________________________________________________________\n",
      "dropout_2 (Dropout)          (None, 4, 4, 256)         0         \n",
      "_________________________________________________________________\n",
      "flatten (Flatten)            (None, 4096)              0         \n",
      "_________________________________________________________________\n",
      "dense (Dense)                (None, 128)               524416    \n",
      "_________________________________________________________________\n",
      "dropout_3 (Dropout)          (None, 128)               0         \n",
      "_________________________________________________________________\n",
      "dense_1 (Dense)              (None, 10)                1290      \n",
      "_________________________________________________________________\n",
      "lambda (Lambda)              (None, 1)                 0         \n",
      "=================================================================\n",
      "Total params: 1,098,634\n",
      "Trainable params: 1,098,634\n",
      "Non-trainable params: 0\n",
      "_________________________________________________________________\n"
     ]
    }
   ],
   "source": [
    "unsupervised_model.summary()"
   ]
  },
  {
   "cell_type": "code",
   "execution_count": 17,
   "id": "3a2c913e",
   "metadata": {},
   "outputs": [
    {
     "name": "stdout",
     "output_type": "stream",
     "text": [
      "Model: \"model_2\"\n",
      "_________________________________________________________________\n",
      "Layer (type)                 Output Shape              Param #   \n",
      "=================================================================\n",
      "input_2 (InputLayer)         [(None, 100)]             0         \n",
      "_________________________________________________________________\n",
      "dense_2 (Dense)              (None, 4096)              413696    \n",
      "_________________________________________________________________\n",
      "leaky_re_lu_6 (LeakyReLU)    (None, 4096)              0         \n",
      "_________________________________________________________________\n",
      "reshape (Reshape)            (None, 4, 4, 256)         0         \n",
      "_________________________________________________________________\n",
      "conv2d_transpose (Conv2DTran (None, 8, 8, 128)         524416    \n",
      "_________________________________________________________________\n",
      "leaky_re_lu_7 (LeakyReLU)    (None, 8, 8, 128)         0         \n",
      "_________________________________________________________________\n",
      "conv2d_transpose_1 (Conv2DTr (None, 16, 16, 128)       262272    \n",
      "_________________________________________________________________\n",
      "leaky_re_lu_8 (LeakyReLU)    (None, 16, 16, 128)       0         \n",
      "_________________________________________________________________\n",
      "conv2d_transpose_2 (Conv2DTr (None, 32, 32, 128)       262272    \n",
      "_________________________________________________________________\n",
      "leaky_re_lu_9 (LeakyReLU)    (None, 32, 32, 128)       0         \n",
      "_________________________________________________________________\n",
      "conv2d_6 (Conv2D)            (None, 32, 32, 3)         3459      \n",
      "=================================================================\n",
      "Total params: 1,466,115\n",
      "Trainable params: 1,466,115\n",
      "Non-trainable params: 0\n",
      "_________________________________________________________________\n"
     ]
    }
   ],
   "source": [
    "generator_model.summary()"
   ]
  },
  {
   "cell_type": "code",
   "execution_count": 18,
   "id": "9b591f12",
   "metadata": {},
   "outputs": [],
   "source": [
    "# create the gan\n",
    "gan_model = define_gan(generator_model, unsupervised_model, learning_rate = learning_rate)"
   ]
  },
  {
   "cell_type": "code",
   "execution_count": 19,
   "id": "187649bc",
   "metadata": {
    "scrolled": true
   },
   "outputs": [
    {
     "name": "stdout",
     "output_type": "stream",
     "text": [
      "Model: \"model_3\"\n",
      "_________________________________________________________________\n",
      "Layer (type)                 Output Shape              Param #   \n",
      "=================================================================\n",
      "input_2 (InputLayer)         [(None, 100)]             0         \n",
      "_________________________________________________________________\n",
      "dense_2 (Dense)              (None, 4096)              413696    \n",
      "_________________________________________________________________\n",
      "leaky_re_lu_6 (LeakyReLU)    (None, 4096)              0         \n",
      "_________________________________________________________________\n",
      "reshape (Reshape)            (None, 4, 4, 256)         0         \n",
      "_________________________________________________________________\n",
      "conv2d_transpose (Conv2DTran (None, 8, 8, 128)         524416    \n",
      "_________________________________________________________________\n",
      "leaky_re_lu_7 (LeakyReLU)    (None, 8, 8, 128)         0         \n",
      "_________________________________________________________________\n",
      "conv2d_transpose_1 (Conv2DTr (None, 16, 16, 128)       262272    \n",
      "_________________________________________________________________\n",
      "leaky_re_lu_8 (LeakyReLU)    (None, 16, 16, 128)       0         \n",
      "_________________________________________________________________\n",
      "conv2d_transpose_2 (Conv2DTr (None, 32, 32, 128)       262272    \n",
      "_________________________________________________________________\n",
      "leaky_re_lu_9 (LeakyReLU)    (None, 32, 32, 128)       0         \n",
      "_________________________________________________________________\n",
      "conv2d_6 (Conv2D)            (None, 32, 32, 3)         3459      \n",
      "_________________________________________________________________\n",
      "model_1 (Model)              (None, 1)                 1098634   \n",
      "=================================================================\n",
      "Total params: 2,564,749\n",
      "Trainable params: 1,466,115\n",
      "Non-trainable params: 1,098,634\n",
      "_________________________________________________________________\n"
     ]
    }
   ],
   "source": [
    "gan_model.summary()"
   ]
  },
  {
   "cell_type": "markdown",
   "id": "44673ab8",
   "metadata": {},
   "source": [
    "### Loading Dataset"
   ]
  },
  {
   "cell_type": "code",
   "execution_count": 20,
   "id": "a000953d",
   "metadata": {},
   "outputs": [
    {
     "name": "stdout",
     "output_type": "stream",
     "text": [
      "(50000, 32, 32, 3) (50000,) (10000, 32, 32, 3) (10000,)\n"
     ]
    }
   ],
   "source": [
    "# load image data\n",
    "dataset_train, dataset_test = load_real_samples()"
   ]
  },
  {
   "cell_type": "markdown",
   "id": "a680572f",
   "metadata": {},
   "source": [
    "### Training"
   ]
  },
  {
   "cell_type": "code",
   "execution_count": 21,
   "id": "9e0a2d65",
   "metadata": {},
   "outputs": [],
   "source": [
    "epochs=300\n",
    "batch_size=128"
   ]
  },
  {
   "cell_type": "code",
   "execution_count": null,
   "id": "ec0ab1f9",
   "metadata": {
    "scrolled": true
   },
   "outputs": [
    {
     "name": "stdout",
     "output_type": "stream",
     "text": [
      "Sup samples: (50000, 32, 32, 3) (50000,)\n",
      "n_epochs=300, n_batch=128, batch/epoch=390, steps=117000\n",
      "epoch: 0 | step: 1 | Train: G_Loss: 0.095, D_unsup_loss_real: 0.095, D_unsup_acc_real:  100.00, D_unsup_loss_fake: 2.401, D_unsup_acc_fake: 0.00, D_sup_loss: 2.310, D_sup_acc: 5.47 Train acc: 13.662 Test acc: 13.800 \n",
      "Train Classifier Accuracy: 13.662%\n",
      "\n",
      "Test Classifier Accuracy: 13.800%\n",
      "\n",
      ">Saving models Generator: Logs/SSGAN_CIFAR10/Classifier_50000/generator_model_1.h5 and Supervised: Logs/SSGAN_CIFAR10/Classifier_50000/supervised_model_1.h5\n",
      "epoch: 0 | step: 2 | Train: G_Loss: 0.096, D_unsup_loss_real: 0.089, D_unsup_acc_real:  100.00, D_unsup_loss_fake: 2.398, D_unsup_acc_fake: 0.00, D_sup_loss: 2.299, D_sup_acc: 13.81 Train acc: 15.378 Test acc: 15.230 \n",
      "epoch: 0 | step: 3 | Train: G_Loss: 0.096, D_unsup_loss_real: 0.083, D_unsup_acc_real:  100.00, D_unsup_loss_fake: 2.395, D_unsup_acc_fake: 0.00, D_sup_loss: 2.296, D_sup_acc: 15.16 Train acc: 16.476 Test acc: 16.660 \n",
      "epoch: 0 | step: 4 | Train: G_Loss: 0.097, D_unsup_loss_real: 0.071, D_unsup_acc_real:  100.00, D_unsup_loss_fake: 2.389, D_unsup_acc_fake: 0.00, D_sup_loss: 2.292, D_sup_acc: 16.62 Train acc: 11.778 Test acc: 11.640 \n",
      "epoch: 0 | step: 5 | Train: G_Loss: 0.098, D_unsup_loss_real: 0.056, D_unsup_acc_real:  100.00, D_unsup_loss_fake: 2.379, D_unsup_acc_fake: 0.00, D_sup_loss: 2.287, D_sup_acc: 11.60 Train acc: 11.156 Test acc: 11.000 \n",
      "epoch: 0 | step: 6 | Train: G_Loss: 0.101, D_unsup_loss_real: 0.039, D_unsup_acc_real:  100.00, D_unsup_loss_fake: 2.364, D_unsup_acc_fake: 0.00, D_sup_loss: 2.308, D_sup_acc: 11.01 Train acc: 10.160 Test acc: 10.110 \n",
      "epoch: 0 | step: 7 | Train: G_Loss: 0.107, D_unsup_loss_real: 0.027, D_unsup_acc_real:  100.00, D_unsup_loss_fake: 2.337, D_unsup_acc_fake: 0.00, D_sup_loss: 2.342, D_sup_acc: 10.19 Train acc: 13.098 Test acc: 12.950 \n",
      "epoch: 0 | step: 8 | Train: G_Loss: 0.120, D_unsup_loss_real: 0.023, D_unsup_acc_real:  100.00, D_unsup_loss_fake: 2.283, D_unsup_acc_fake: 0.00, D_sup_loss: 2.327, D_sup_acc: 12.89 Train acc: 13.606 Test acc: 13.700 \n",
      "epoch: 0 | step: 9 | Train: G_Loss: 0.152, D_unsup_loss_real: 0.041, D_unsup_acc_real:  100.00, D_unsup_loss_fake: 2.156, D_unsup_acc_fake: 0.00, D_sup_loss: 2.281, D_sup_acc: 13.63 Train acc: 11.084 Test acc: 11.730 \n",
      "epoch: 0 | step: 10 | Train: G_Loss: 0.196, D_unsup_loss_real: 0.094, D_unsup_acc_real:  100.00, D_unsup_loss_fake: 1.958, D_unsup_acc_fake: 0.00, D_sup_loss: 2.292, D_sup_acc: 11.67 Train acc: 11.068 Test acc: 11.170 \n",
      "epoch: 0 | step: 11 | Train: G_Loss: 0.301, D_unsup_loss_real: 0.107, D_unsup_acc_real:  100.00, D_unsup_loss_fake: 1.652, D_unsup_acc_fake: 0.00, D_sup_loss: 2.293, D_sup_acc: 11.21 Train acc: 15.012 Test acc: 15.050 \n",
      "epoch: 0 | step: 12 | Train: G_Loss: 0.513, D_unsup_loss_real: 0.117, D_unsup_acc_real:  100.00, D_unsup_loss_fake: 1.274, D_unsup_acc_fake: 0.00, D_sup_loss: 2.367, D_sup_acc: 14.98 Train acc: 15.982 Test acc: 15.960 \n",
      "epoch: 0 | step: 13 | Train: G_Loss: 0.904, D_unsup_loss_real: 0.128, D_unsup_acc_real:  98.44, D_unsup_loss_fake: 0.842, D_unsup_acc_fake: 8.59, D_sup_loss: 2.398, D_sup_acc: 15.89 Train acc: 16.624 Test acc: 16.030 \n",
      "epoch: 0 | step: 14 | Train: G_Loss: 1.736, D_unsup_loss_real: 0.057, D_unsup_acc_real:  99.22, D_unsup_loss_fake: 0.413, D_unsup_acc_fake: 96.88, D_sup_loss: 2.353, D_sup_acc: 16.03 Train acc: 16.246 Test acc: 16.260 \n",
      "epoch: 0 | step: 15 | Train: G_Loss: 2.242, D_unsup_loss_real: 0.137, D_unsup_acc_real:  96.09, D_unsup_loss_fake: 0.191, D_unsup_acc_fake: 100.00, D_sup_loss: 2.296, D_sup_acc: 16.21 Train acc: 11.908 Test acc: 12.120 \n",
      "epoch: 0 | step: 16 | Train: G_Loss: 2.766, D_unsup_loss_real: 0.037, D_unsup_acc_real:  98.44, D_unsup_loss_fake: 0.148, D_unsup_acc_fake: 100.00, D_sup_loss: 2.452, D_sup_acc: 12.05 Train acc: 13.774 Test acc: 13.940 \n",
      "epoch: 0 | step: 17 | Train: G_Loss: 2.909, D_unsup_loss_real: 0.189, D_unsup_acc_real:  91.41, D_unsup_loss_fake: 0.268, D_unsup_acc_fake: 100.00, D_sup_loss: 2.304, D_sup_acc: 13.92 Train acc: 15.908 Test acc: 15.940 \n",
      "epoch: 0 | step: 18 | Train: G_Loss: 4.721, D_unsup_loss_real: 0.110, D_unsup_acc_real:  96.88, D_unsup_loss_fake: 0.119, D_unsup_acc_fake: 100.00, D_sup_loss: 2.299, D_sup_acc: 15.90 Train acc: 17.674 Test acc: 17.800 \n",
      "epoch: 0 | step: 19 | Train: G_Loss: 4.494, D_unsup_loss_real: 0.492, D_unsup_acc_real:  79.69, D_unsup_loss_fake: 0.207, D_unsup_acc_fake: 99.22, D_sup_loss: 2.250, D_sup_acc: 17.76 Train acc: 18.206 Test acc: 18.560 \n",
      "epoch: 0 | step: 20 | Train: G_Loss: 4.819, D_unsup_loss_real: 0.107, D_unsup_acc_real:  96.09, D_unsup_loss_fake: 0.027, D_unsup_acc_fake: 100.00, D_sup_loss: 2.329, D_sup_acc: 18.49 Train acc: 19.800 Test acc: 19.700 \n",
      "epoch: 0 | step: 21 | Train: G_Loss: 3.298, D_unsup_loss_real: 0.378, D_unsup_acc_real:  82.81, D_unsup_loss_fake: 0.189, D_unsup_acc_fake: 100.00, D_sup_loss: 2.278, D_sup_acc: 19.64 Train acc: 18.786 Test acc: 18.770 \n",
      "epoch: 0 | step: 22 | Train: G_Loss: 4.012, D_unsup_loss_real: 0.156, D_unsup_acc_real:  91.41, D_unsup_loss_fake: 0.157, D_unsup_acc_fake: 100.00, D_sup_loss: 2.385, D_sup_acc: 18.80 Train acc: 19.862 Test acc: 19.960 \n",
      "epoch: 0 | step: 23 | Train: G_Loss: 3.514, D_unsup_loss_real: 0.396, D_unsup_acc_real:  83.59, D_unsup_loss_fake: 0.113, D_unsup_acc_fake: 100.00, D_sup_loss: 2.328, D_sup_acc: 19.82 Train acc: 19.530 Test acc: 19.560 \n",
      "epoch: 0 | step: 24 | Train: G_Loss: 3.918, D_unsup_loss_real: 0.174, D_unsup_acc_real:  92.97, D_unsup_loss_fake: 0.131, D_unsup_acc_fake: 100.00, D_sup_loss: 2.313, D_sup_acc: 19.53 Train acc: 18.946 Test acc: 19.040 \n",
      "epoch: 0 | step: 25 | Train: G_Loss: 3.653, D_unsup_loss_real: 0.386, D_unsup_acc_real:  84.38, D_unsup_loss_fake: 0.195, D_unsup_acc_fake: 100.00, D_sup_loss: 2.317, D_sup_acc: 19.00 Train acc: 16.082 Test acc: 16.110 \n",
      "epoch: 0 | step: 26 | Train: G_Loss: 3.890, D_unsup_loss_real: 0.202, D_unsup_acc_real:  90.62, D_unsup_loss_fake: 0.056, D_unsup_acc_fake: 100.00, D_sup_loss: 2.554, D_sup_acc: 16.09 Train acc: 18.854 Test acc: 18.990 \n",
      "epoch: 0 | step: 27 | Train: G_Loss: 3.394, D_unsup_loss_real: 0.269, D_unsup_acc_real:  89.06, D_unsup_loss_fake: 0.081, D_unsup_acc_fake: 100.00, D_sup_loss: 2.313, D_sup_acc: 18.91 Train acc: 20.280 Test acc: 20.530 \n",
      "epoch: 0 | step: 28 | Train: G_Loss: 2.931, D_unsup_loss_real: 0.325, D_unsup_acc_real:  86.72, D_unsup_loss_fake: 0.135, D_unsup_acc_fake: 100.00, D_sup_loss: 2.216, D_sup_acc: 20.47 Train acc: 21.144 Test acc: 21.580 \n",
      "epoch: 0 | step: 29 | Train: G_Loss: 2.949, D_unsup_loss_real: 0.193, D_unsup_acc_real:  90.62, D_unsup_loss_fake: 0.156, D_unsup_acc_fake: 100.00, D_sup_loss: 2.190, D_sup_acc: 21.44 Train acc: 20.530 Test acc: 21.220 \n",
      "epoch: 0 | step: 30 | Train: G_Loss: 2.674, D_unsup_loss_real: 0.271, D_unsup_acc_real:  85.94, D_unsup_loss_fake: 0.138, D_unsup_acc_fake: 100.00, D_sup_loss: 2.209, D_sup_acc: 21.08 Train acc: 20.384 Test acc: 20.270 \n",
      "epoch: 0 | step: 31 | Train: G_Loss: 2.449, D_unsup_loss_real: 0.314, D_unsup_acc_real:  86.72, D_unsup_loss_fake: 0.186, D_unsup_acc_fake: 100.00, D_sup_loss: 2.300, D_sup_acc: 20.14 Train acc: 21.930 Test acc: 22.120 \n",
      "epoch: 0 | step: 32 | Train: G_Loss: 2.766, D_unsup_loss_real: 0.262, D_unsup_acc_real:  87.50, D_unsup_loss_fake: 0.183, D_unsup_acc_fake: 100.00, D_sup_loss: 2.344, D_sup_acc: 22.05 Train acc: 22.178 Test acc: 22.390 \n",
      "epoch: 0 | step: 33 | Train: G_Loss: 2.346, D_unsup_loss_real: 0.511, D_unsup_acc_real:  75.78, D_unsup_loss_fake: 0.295, D_unsup_acc_fake: 98.44, D_sup_loss: 2.256, D_sup_acc: 22.34 Train acc: 21.044 Test acc: 21.370 \n",
      "epoch: 0 | step: 34 | Train: G_Loss: 2.789, D_unsup_loss_real: 0.164, D_unsup_acc_real:  92.19, D_unsup_loss_fake: 0.149, D_unsup_acc_fake: 100.00, D_sup_loss: 2.455, D_sup_acc: 21.34 Train acc: 21.042 Test acc: 20.830 \n",
      "epoch: 0 | step: 35 | Train: G_Loss: 2.068, D_unsup_loss_real: 0.555, D_unsup_acc_real:  75.00, D_unsup_loss_fake: 0.406, D_unsup_acc_fake: 93.75, D_sup_loss: 2.416, D_sup_acc: 20.77 Train acc: 21.412 Test acc: 21.370 \n",
      "epoch: 0 | step: 36 | Train: G_Loss: 2.663, D_unsup_loss_real: 0.279, D_unsup_acc_real:  85.16, D_unsup_loss_fake: 0.383, D_unsup_acc_fake: 92.19, D_sup_loss: 2.549, D_sup_acc: 21.27 Train acc: 21.570 Test acc: 21.890 \n"
     ]
    },
    {
     "name": "stdout",
     "output_type": "stream",
     "text": [
      "epoch: 0 | step: 37 | Train: G_Loss: 2.741, D_unsup_loss_real: 0.454, D_unsup_acc_real:  78.91, D_unsup_loss_fake: 0.420, D_unsup_acc_fake: 92.19, D_sup_loss: 2.442, D_sup_acc: 21.90 Train acc: 21.758 Test acc: 22.340 \n",
      "epoch: 0 | step: 38 | Train: G_Loss: 2.899, D_unsup_loss_real: 0.477, D_unsup_acc_real:  78.91, D_unsup_loss_fake: 0.375, D_unsup_acc_fake: 95.31, D_sup_loss: 2.465, D_sup_acc: 22.30 Train acc: 21.946 Test acc: 22.550 \n",
      "epoch: 0 | step: 39 | Train: G_Loss: 2.907, D_unsup_loss_real: 0.479, D_unsup_acc_real:  76.56, D_unsup_loss_fake: 0.254, D_unsup_acc_fake: 97.66, D_sup_loss: 2.607, D_sup_acc: 22.43 Train acc: 22.202 Test acc: 22.820 \n",
      "epoch: 0 | step: 40 | Train: G_Loss: 2.742, D_unsup_loss_real: 0.446, D_unsup_acc_real:  78.12, D_unsup_loss_fake: 0.218, D_unsup_acc_fake: 99.22, D_sup_loss: 2.467, D_sup_acc: 22.74 Train acc: 22.704 Test acc: 23.580 \n",
      "epoch: 0 | step: 41 | Train: G_Loss: 3.143, D_unsup_loss_real: 0.292, D_unsup_acc_real:  85.16, D_unsup_loss_fake: 0.210, D_unsup_acc_fake: 99.22, D_sup_loss: 2.442, D_sup_acc: 23.42 Train acc: 21.576 Test acc: 22.390 \n",
      "epoch: 0 | step: 42 | Train: G_Loss: 3.717, D_unsup_loss_real: 0.772, D_unsup_acc_real:  61.72, D_unsup_loss_fake: 0.639, D_unsup_acc_fake: 68.75, D_sup_loss: 2.459, D_sup_acc: 22.29 Train acc: 18.956 Test acc: 19.400 \n",
      "epoch: 0 | step: 43 | Train: G_Loss: 2.047, D_unsup_loss_real: 1.101, D_unsup_acc_real:  42.19, D_unsup_loss_fake: 0.268, D_unsup_acc_fake: 96.09, D_sup_loss: 2.591, D_sup_acc: 19.34 Train acc: 20.592 Test acc: 20.790 \n",
      "epoch: 0 | step: 44 | Train: G_Loss: 1.635, D_unsup_loss_real: 0.350, D_unsup_acc_real:  80.47, D_unsup_loss_fake: 0.389, D_unsup_acc_fake: 95.31, D_sup_loss: 2.753, D_sup_acc: 20.67 Train acc: 21.526 Test acc: 21.630 \n",
      "epoch: 0 | step: 45 | Train: G_Loss: 2.006, D_unsup_loss_real: 0.367, D_unsup_acc_real:  80.47, D_unsup_loss_fake: 0.636, D_unsup_acc_fake: 64.06, D_sup_loss: 2.571, D_sup_acc: 21.49 Train acc: 18.454 Test acc: 18.770 \n",
      "epoch: 0 | step: 46 | Train: G_Loss: 2.194, D_unsup_loss_real: 0.483, D_unsup_acc_real:  73.44, D_unsup_loss_fake: 0.680, D_unsup_acc_fake: 59.38, D_sup_loss: 2.452, D_sup_acc: 18.69 Train acc: 16.070 Test acc: 16.260 \n",
      "epoch: 0 | step: 47 | Train: G_Loss: 1.482, D_unsup_loss_real: 0.529, D_unsup_acc_real:  70.31, D_unsup_loss_fake: 0.655, D_unsup_acc_fake: 62.50, D_sup_loss: 2.511, D_sup_acc: 16.27 Train acc: 18.174 Test acc: 18.210 \n",
      "epoch: 0 | step: 48 | Train: G_Loss: 1.651, D_unsup_loss_real: 0.364, D_unsup_acc_real:  77.34, D_unsup_loss_fake: 0.976, D_unsup_acc_fake: 13.28, D_sup_loss: 2.404, D_sup_acc: 18.15 Train acc: 18.026 Test acc: 18.030 \n",
      "epoch: 0 | step: 49 | Train: G_Loss: 1.306, D_unsup_loss_real: 0.580, D_unsup_acc_real:  57.03, D_unsup_loss_fake: 0.575, D_unsup_acc_fake: 81.25, D_sup_loss: 2.334, D_sup_acc: 18.02 Train acc: 21.168 Test acc: 21.410 \n",
      "epoch: 0 | step: 50 | Train: G_Loss: 1.501, D_unsup_loss_real: 0.362, D_unsup_acc_real:  78.91, D_unsup_loss_fake: 0.580, D_unsup_acc_fake: 82.03, D_sup_loss: 2.252, D_sup_acc: 21.40 Train acc: 22.168 Test acc: 22.620 \n",
      "epoch: 0 | step: 51 | Train: G_Loss: 1.737, D_unsup_loss_real: 0.303, D_unsup_acc_real:  82.81, D_unsup_loss_fake: 0.414, D_unsup_acc_fake: 97.66, D_sup_loss: 2.238, D_sup_acc: 22.59 Train acc: 23.184 Test acc: 23.160 \n",
      "epoch: 0 | step: 52 | Train: G_Loss: 2.122, D_unsup_loss_real: 0.357, D_unsup_acc_real:  78.12, D_unsup_loss_fake: 0.714, D_unsup_acc_fake: 60.94, D_sup_loss: 2.222, D_sup_acc: 23.13 Train acc: 21.366 Test acc: 21.580 \n",
      "epoch: 0 | step: 53 | Train: G_Loss: 1.626, D_unsup_loss_real: 0.579, D_unsup_acc_real:  65.62, D_unsup_loss_fake: 0.412, D_unsup_acc_fake: 98.44, D_sup_loss: 2.188, D_sup_acc: 21.53 Train acc: 22.410 Test acc: 22.810 \n",
      "epoch: 0 | step: 54 | Train: G_Loss: 1.958, D_unsup_loss_real: 0.317, D_unsup_acc_real:  82.81, D_unsup_loss_fake: 0.796, D_unsup_acc_fake: 48.44, D_sup_loss: 2.189, D_sup_acc: 22.80 Train acc: 18.906 Test acc: 18.890 \n",
      "epoch: 0 | step: 55 | Train: G_Loss: 1.695, D_unsup_loss_real: 0.502, D_unsup_acc_real:  67.19, D_unsup_loss_fake: 0.343, D_unsup_acc_fake: 98.44, D_sup_loss: 2.206, D_sup_acc: 18.89 Train acc: 20.432 Test acc: 21.180 \n",
      "epoch: 0 | step: 56 | Train: G_Loss: 1.148, D_unsup_loss_real: 0.512, D_unsup_acc_real:  63.28, D_unsup_loss_fake: 0.565, D_unsup_acc_fake: 80.47, D_sup_loss: 2.192, D_sup_acc: 21.14 Train acc: 20.238 Test acc: 20.230 \n",
      "epoch: 0 | step: 57 | Train: G_Loss: 1.085, D_unsup_loss_real: 0.529, D_unsup_acc_real:  66.41, D_unsup_loss_fake: 0.644, D_unsup_acc_fake: 70.31, D_sup_loss: 2.151, D_sup_acc: 20.21 Train acc: 20.926 Test acc: 21.290 \n",
      "epoch: 0 | step: 58 | Train: G_Loss: 0.956, D_unsup_loss_real: 0.643, D_unsup_acc_real:  59.38, D_unsup_loss_fake: 0.701, D_unsup_acc_fake: 54.69, D_sup_loss: 2.189, D_sup_acc: 21.20 Train acc: 21.898 Test acc: 22.400 \n",
      "epoch: 0 | step: 59 | Train: G_Loss: 1.041, D_unsup_loss_real: 0.471, D_unsup_acc_real:  67.97, D_unsup_loss_fake: 0.631, D_unsup_acc_fake: 67.19, D_sup_loss: 2.251, D_sup_acc: 22.38 Train acc: 22.330 Test acc: 22.740 \n",
      "epoch: 0 | step: 60 | Train: G_Loss: 1.298, D_unsup_loss_real: 0.437, D_unsup_acc_real:  71.88, D_unsup_loss_fake: 0.484, D_unsup_acc_fake: 92.97, D_sup_loss: 2.218, D_sup_acc: 22.66 Train acc: 23.404 Test acc: 23.980 \n",
      "epoch: 0 | step: 61 | Train: G_Loss: 1.175, D_unsup_loss_real: 0.572, D_unsup_acc_real:  63.28, D_unsup_loss_fake: 0.522, D_unsup_acc_fake: 84.38, D_sup_loss: 2.163, D_sup_acc: 23.95 Train acc: 24.342 Test acc: 25.560 \n",
      "epoch: 0 | step: 62 | Train: G_Loss: 1.256, D_unsup_loss_real: 0.351, D_unsup_acc_real:  80.47, D_unsup_loss_fake: 0.462, D_unsup_acc_fake: 88.28, D_sup_loss: 2.163, D_sup_acc: 25.57 Train acc: 24.882 Test acc: 26.040 \n",
      "epoch: 0 | step: 63 | Train: G_Loss: 1.172, D_unsup_loss_real: 0.531, D_unsup_acc_real:  69.53, D_unsup_loss_fake: 0.477, D_unsup_acc_fake: 89.06, D_sup_loss: 2.152, D_sup_acc: 25.94 Train acc: 24.846 Test acc: 25.450 \n",
      "epoch: 0 | step: 64 | Train: G_Loss: 1.199, D_unsup_loss_real: 0.686, D_unsup_acc_real:  58.59, D_unsup_loss_fake: 0.441, D_unsup_acc_fake: 89.84, D_sup_loss: 2.117, D_sup_acc: 25.39 Train acc: 24.678 Test acc: 25.140 \n",
      "epoch: 0 | step: 65 | Train: G_Loss: 1.098, D_unsup_loss_real: 0.744, D_unsup_acc_real:  60.16, D_unsup_loss_fake: 0.438, D_unsup_acc_fake: 93.75, D_sup_loss: 2.120, D_sup_acc: 25.00 Train acc: 25.130 Test acc: 26.020 \n",
      "epoch: 0 | step: 66 | Train: G_Loss: 1.186, D_unsup_loss_real: 0.578, D_unsup_acc_real:  66.41, D_unsup_loss_fake: 0.430, D_unsup_acc_fake: 92.19, D_sup_loss: 2.122, D_sup_acc: 25.97 Train acc: 24.880 Test acc: 25.300 \n",
      "epoch: 0 | step: 67 | Train: G_Loss: 1.327, D_unsup_loss_real: 0.565, D_unsup_acc_real:  64.06, D_unsup_loss_fake: 0.381, D_unsup_acc_fake: 94.53, D_sup_loss: 2.157, D_sup_acc: 25.23 Train acc: 23.840 Test acc: 24.050 \n",
      "epoch: 0 | step: 68 | Train: G_Loss: 1.279, D_unsup_loss_real: 0.659, D_unsup_acc_real:  61.72, D_unsup_loss_fake: 0.387, D_unsup_acc_fake: 92.19, D_sup_loss: 2.190, D_sup_acc: 23.98 Train acc: 22.568 Test acc: 22.860 \n",
      "epoch: 0 | step: 69 | Train: G_Loss: 1.552, D_unsup_loss_real: 0.375, D_unsup_acc_real:  81.25, D_unsup_loss_fake: 0.400, D_unsup_acc_fake: 93.75, D_sup_loss: 2.210, D_sup_acc: 22.85 Train acc: 20.438 Test acc: 21.010 \n",
      "epoch: 0 | step: 70 | Train: G_Loss: 1.575, D_unsup_loss_real: 0.512, D_unsup_acc_real:  67.97, D_unsup_loss_fake: 0.311, D_unsup_acc_fake: 99.22, D_sup_loss: 2.277, D_sup_acc: 20.92 Train acc: 22.374 Test acc: 22.820 \n",
      "epoch: 0 | step: 71 | Train: G_Loss: 1.564, D_unsup_loss_real: 0.400, D_unsup_acc_real:  74.22, D_unsup_loss_fake: 0.309, D_unsup_acc_fake: 98.44, D_sup_loss: 2.218, D_sup_acc: 22.74 Train acc: 22.622 Test acc: 23.030 \n",
      "epoch: 0 | step: 72 | Train: G_Loss: 1.977, D_unsup_loss_real: 0.398, D_unsup_acc_real:  75.78, D_unsup_loss_fake: 0.342, D_unsup_acc_fake: 95.31, D_sup_loss: 2.280, D_sup_acc: 22.95 Train acc: 22.856 Test acc: 23.060 \n",
      "epoch: 0 | step: 73 | Train: G_Loss: 1.871, D_unsup_loss_real: 0.436, D_unsup_acc_real:  75.78, D_unsup_loss_fake: 0.233, D_unsup_acc_fake: 100.00, D_sup_loss: 2.230, D_sup_acc: 23.12 Train acc: 23.556 Test acc: 24.160 \n",
      "epoch: 0 | step: 74 | Train: G_Loss: 1.840, D_unsup_loss_real: 0.375, D_unsup_acc_real:  80.47, D_unsup_loss_fake: 0.302, D_unsup_acc_fake: 94.53, D_sup_loss: 2.250, D_sup_acc: 24.12 Train acc: 23.502 Test acc: 24.520 \n"
     ]
    },
    {
     "name": "stdout",
     "output_type": "stream",
     "text": [
      "epoch: 0 | step: 75 | Train: G_Loss: 2.004, D_unsup_loss_real: 0.409, D_unsup_acc_real:  78.91, D_unsup_loss_fake: 0.274, D_unsup_acc_fake: 95.31, D_sup_loss: 2.198, D_sup_acc: 24.50 Train acc: 22.692 Test acc: 23.530 \n",
      "epoch: 0 | step: 76 | Train: G_Loss: 1.991, D_unsup_loss_real: 0.461, D_unsup_acc_real:  72.66, D_unsup_loss_fake: 0.318, D_unsup_acc_fake: 92.19, D_sup_loss: 2.210, D_sup_acc: 23.45 Train acc: 22.804 Test acc: 23.410 \n",
      "epoch: 0 | step: 77 | Train: G_Loss: 1.810, D_unsup_loss_real: 0.586, D_unsup_acc_real:  71.88, D_unsup_loss_fake: 0.386, D_unsup_acc_fake: 91.41, D_sup_loss: 2.236, D_sup_acc: 23.33 Train acc: 23.310 Test acc: 23.890 \n",
      "epoch: 0 | step: 78 | Train: G_Loss: 2.224, D_unsup_loss_real: 0.295, D_unsup_acc_real:  85.16, D_unsup_loss_fake: 0.244, D_unsup_acc_fake: 99.22, D_sup_loss: 2.248, D_sup_acc: 23.82 Train acc: 22.776 Test acc: 23.520 \n",
      "epoch: 0 | step: 79 | Train: G_Loss: 1.693, D_unsup_loss_real: 0.592, D_unsup_acc_real:  66.41, D_unsup_loss_fake: 0.353, D_unsup_acc_fake: 94.53, D_sup_loss: 2.272, D_sup_acc: 23.47 Train acc: 23.958 Test acc: 24.600 \n",
      "epoch: 0 | step: 80 | Train: G_Loss: 2.121, D_unsup_loss_real: 0.261, D_unsup_acc_real:  86.72, D_unsup_loss_fake: 0.431, D_unsup_acc_fake: 88.28, D_sup_loss: 2.265, D_sup_acc: 24.58 Train acc: 22.694 Test acc: 23.710 \n",
      "epoch: 0 | step: 81 | Train: G_Loss: 1.631, D_unsup_loss_real: 0.720, D_unsup_acc_real:  59.38, D_unsup_loss_fake: 0.283, D_unsup_acc_fake: 96.88, D_sup_loss: 2.279, D_sup_acc: 23.69 Train acc: 25.258 Test acc: 26.180 \n",
      "epoch: 0 | step: 82 | Train: G_Loss: 1.528, D_unsup_loss_real: 0.487, D_unsup_acc_real:  68.75, D_unsup_loss_fake: 0.476, D_unsup_acc_fake: 85.16, D_sup_loss: 2.216, D_sup_acc: 26.13 Train acc: 25.538 Test acc: 26.030 \n",
      "epoch: 0 | step: 83 | Train: G_Loss: 1.576, D_unsup_loss_real: 0.425, D_unsup_acc_real:  74.22, D_unsup_loss_fake: 0.290, D_unsup_acc_fake: 100.00, D_sup_loss: 2.211, D_sup_acc: 26.02 Train acc: 24.930 Test acc: 25.400 \n",
      "epoch: 0 | step: 84 | Train: G_Loss: 1.502, D_unsup_loss_real: 0.422, D_unsup_acc_real:  77.34, D_unsup_loss_fake: 0.336, D_unsup_acc_fake: 97.66, D_sup_loss: 2.177, D_sup_acc: 25.26 Train acc: 25.580 Test acc: 26.210 \n",
      "epoch: 0 | step: 85 | Train: G_Loss: 1.510, D_unsup_loss_real: 0.312, D_unsup_acc_real:  85.16, D_unsup_loss_fake: 0.347, D_unsup_acc_fake: 98.44, D_sup_loss: 2.170, D_sup_acc: 26.14 Train acc: 26.228 Test acc: 26.430 \n",
      "epoch: 0 | step: 86 | Train: G_Loss: 1.515, D_unsup_loss_real: 0.406, D_unsup_acc_real:  78.12, D_unsup_loss_fake: 0.399, D_unsup_acc_fake: 92.19, D_sup_loss: 2.157, D_sup_acc: 26.30 Train acc: 26.640 Test acc: 26.710 \n",
      "epoch: 0 | step: 87 | Train: G_Loss: 1.673, D_unsup_loss_real: 0.441, D_unsup_acc_real:  71.88, D_unsup_loss_fake: 0.324, D_unsup_acc_fake: 98.44, D_sup_loss: 2.163, D_sup_acc: 26.71 Train acc: 27.102 Test acc: 27.030 \n",
      "epoch: 0 | step: 88 | Train: G_Loss: 1.668, D_unsup_loss_real: 0.482, D_unsup_acc_real:  71.09, D_unsup_loss_fake: 0.294, D_unsup_acc_fake: 96.88, D_sup_loss: 2.198, D_sup_acc: 26.93 Train acc: 24.900 Test acc: 24.250 \n",
      "epoch: 0 | step: 89 | Train: G_Loss: 1.805, D_unsup_loss_real: 0.375, D_unsup_acc_real:  75.78, D_unsup_loss_fake: 0.269, D_unsup_acc_fake: 99.22, D_sup_loss: 2.235, D_sup_acc: 24.21 Train acc: 24.874 Test acc: 24.450 \n",
      "epoch: 0 | step: 90 | Train: G_Loss: 2.015, D_unsup_loss_real: 0.303, D_unsup_acc_real:  85.16, D_unsup_loss_fake: 0.237, D_unsup_acc_fake: 99.22, D_sup_loss: 2.253, D_sup_acc: 24.46 Train acc: 25.220 Test acc: 24.870 \n",
      "epoch: 0 | step: 91 | Train: G_Loss: 1.712, D_unsup_loss_real: 0.768, D_unsup_acc_real:  60.94, D_unsup_loss_fake: 0.267, D_unsup_acc_fake: 100.00, D_sup_loss: 2.231, D_sup_acc: 24.85 Train acc: 25.508 Test acc: 25.310 \n",
      "epoch: 0 | step: 92 | Train: G_Loss: 2.239, D_unsup_loss_real: 0.257, D_unsup_acc_real:  87.50, D_unsup_loss_fake: 0.188, D_unsup_acc_fake: 100.00, D_sup_loss: 2.311, D_sup_acc: 25.28 Train acc: 24.090 Test acc: 24.000 \n",
      "epoch: 0 | step: 93 | Train: G_Loss: 1.965, D_unsup_loss_real: 0.478, D_unsup_acc_real:  75.78, D_unsup_loss_fake: 0.207, D_unsup_acc_fake: 100.00, D_sup_loss: 2.346, D_sup_acc: 24.04 Train acc: 24.818 Test acc: 24.360 \n",
      "epoch: 0 | step: 94 | Train: G_Loss: 1.869, D_unsup_loss_real: 0.482, D_unsup_acc_real:  75.00, D_unsup_loss_fake: 0.269, D_unsup_acc_fake: 96.88, D_sup_loss: 2.289, D_sup_acc: 24.24 Train acc: 24.550 Test acc: 24.380 \n",
      "epoch: 0 | step: 95 | Train: G_Loss: 1.738, D_unsup_loss_real: 0.406, D_unsup_acc_real:  78.91, D_unsup_loss_fake: 0.236, D_unsup_acc_fake: 99.22, D_sup_loss: 2.205, D_sup_acc: 24.30 Train acc: 24.270 Test acc: 24.120 \n",
      "epoch: 0 | step: 96 | Train: G_Loss: 2.020, D_unsup_loss_real: 0.264, D_unsup_acc_real:  89.06, D_unsup_loss_fake: 0.337, D_unsup_acc_fake: 89.84, D_sup_loss: 2.228, D_sup_acc: 24.10 Train acc: 25.848 Test acc: 26.210 \n",
      "epoch: 0 | step: 97 | Train: G_Loss: 2.023, D_unsup_loss_real: 0.436, D_unsup_acc_real:  77.34, D_unsup_loss_fake: 0.255, D_unsup_acc_fake: 95.31, D_sup_loss: 2.124, D_sup_acc: 26.21 Train acc: 25.996 Test acc: 26.180 \n",
      "epoch: 0 | step: 98 | Train: G_Loss: 1.650, D_unsup_loss_real: 0.709, D_unsup_acc_real:  61.72, D_unsup_loss_fake: 0.364, D_unsup_acc_fake: 95.31, D_sup_loss: 2.127, D_sup_acc: 26.10 Train acc: 26.368 Test acc: 26.120 \n",
      "epoch: 0 | step: 99 | Train: G_Loss: 1.841, D_unsup_loss_real: 0.485, D_unsup_acc_real:  73.44, D_unsup_loss_fake: 0.357, D_unsup_acc_fake: 95.31, D_sup_loss: 2.175, D_sup_acc: 26.15 Train acc: 26.372 Test acc: 26.500 \n",
      "epoch: 0 | step: 100 | Train: G_Loss: 1.889, D_unsup_loss_real: 0.391, D_unsup_acc_real:  79.69, D_unsup_loss_fake: 0.333, D_unsup_acc_fake: 94.53, D_sup_loss: 2.154, D_sup_acc: 26.48 Train acc: 26.158 Test acc: 26.500 \n",
      "Train Classifier Accuracy: 26.158%\n",
      "\n",
      "Test Classifier Accuracy: 26.500%\n",
      "\n",
      ">Saving models Generator: Logs/SSGAN_CIFAR10/Classifier_50000/generator_model_100.h5 and Supervised: Logs/SSGAN_CIFAR10/Classifier_50000/supervised_model_100.h5\n",
      "epoch: 0 | step: 101 | Train: G_Loss: 2.115, D_unsup_loss_real: 0.248, D_unsup_acc_real:  87.50, D_unsup_loss_fake: 0.288, D_unsup_acc_fake: 97.66, D_sup_loss: 2.147, D_sup_acc: 26.53 Train acc: 25.804 Test acc: 26.010 \n",
      "epoch: 0 | step: 102 | Train: G_Loss: 1.970, D_unsup_loss_real: 0.419, D_unsup_acc_real:  78.91, D_unsup_loss_fake: 0.289, D_unsup_acc_fake: 98.44, D_sup_loss: 2.214, D_sup_acc: 25.93 Train acc: 26.822 Test acc: 27.680 \n",
      "epoch: 0 | step: 103 | Train: G_Loss: 1.842, D_unsup_loss_real: 0.350, D_unsup_acc_real:  78.91, D_unsup_loss_fake: 0.332, D_unsup_acc_fake: 96.09, D_sup_loss: 2.098, D_sup_acc: 27.59 Train acc: 27.714 Test acc: 28.060 \n",
      "epoch: 0 | step: 104 | Train: G_Loss: 2.069, D_unsup_loss_real: 0.277, D_unsup_acc_real:  84.38, D_unsup_loss_fake: 0.236, D_unsup_acc_fake: 96.09, D_sup_loss: 2.103, D_sup_acc: 27.95 Train acc: 28.482 Test acc: 28.870 \n",
      "epoch: 0 | step: 105 | Train: G_Loss: 2.095, D_unsup_loss_real: 0.514, D_unsup_acc_real:  71.09, D_unsup_loss_fake: 0.293, D_unsup_acc_fake: 97.66, D_sup_loss: 2.065, D_sup_acc: 28.82 Train acc: 29.082 Test acc: 29.040 \n",
      "epoch: 0 | step: 106 | Train: G_Loss: 2.021, D_unsup_loss_real: 0.428, D_unsup_acc_real:  71.88, D_unsup_loss_fake: 0.271, D_unsup_acc_fake: 96.88, D_sup_loss: 2.085, D_sup_acc: 28.98 Train acc: 28.856 Test acc: 28.750 \n",
      "epoch: 0 | step: 107 | Train: G_Loss: 1.697, D_unsup_loss_real: 0.581, D_unsup_acc_real:  67.19, D_unsup_loss_fake: 0.341, D_unsup_acc_fake: 92.97, D_sup_loss: 2.102, D_sup_acc: 28.71 Train acc: 28.268 Test acc: 28.740 \n",
      "epoch: 0 | step: 108 | Train: G_Loss: 1.850, D_unsup_loss_real: 0.407, D_unsup_acc_real:  75.00, D_unsup_loss_fake: 0.337, D_unsup_acc_fake: 98.44, D_sup_loss: 2.113, D_sup_acc: 28.58 Train acc: 28.818 Test acc: 29.220 \n",
      "epoch: 0 | step: 109 | Train: G_Loss: 1.745, D_unsup_loss_real: 0.576, D_unsup_acc_real:  67.97, D_unsup_loss_fake: 0.400, D_unsup_acc_fake: 91.41, D_sup_loss: 2.057, D_sup_acc: 29.19 Train acc: 28.672 Test acc: 29.220 \n",
      "epoch: 0 | step: 110 | Train: G_Loss: 1.796, D_unsup_loss_real: 0.385, D_unsup_acc_real:  75.00, D_unsup_loss_fake: 0.341, D_unsup_acc_fake: 97.66, D_sup_loss: 2.067, D_sup_acc: 29.18 Train acc: 29.792 Test acc: 30.190 \n",
      "epoch: 0 | step: 111 | Train: G_Loss: 1.927, D_unsup_loss_real: 0.530, D_unsup_acc_real:  69.53, D_unsup_loss_fake: 0.510, D_unsup_acc_fake: 79.69, D_sup_loss: 2.030, D_sup_acc: 30.13 Train acc: 26.898 Test acc: 26.990 \n"
     ]
    },
    {
     "name": "stdout",
     "output_type": "stream",
     "text": [
      "epoch: 0 | step: 112 | Train: G_Loss: 1.830, D_unsup_loss_real: 0.420, D_unsup_acc_real:  74.22, D_unsup_loss_fake: 0.294, D_unsup_acc_fake: 96.88, D_sup_loss: 2.078, D_sup_acc: 26.92 Train acc: 28.046 Test acc: 27.540 \n",
      "epoch: 0 | step: 113 | Train: G_Loss: 1.844, D_unsup_loss_real: 0.482, D_unsup_acc_real:  75.00, D_unsup_loss_fake: 0.465, D_unsup_acc_fake: 85.16, D_sup_loss: 2.092, D_sup_acc: 27.43 Train acc: 27.430 Test acc: 27.120 \n",
      "epoch: 0 | step: 114 | Train: G_Loss: 1.879, D_unsup_loss_real: 0.344, D_unsup_acc_real:  82.03, D_unsup_loss_fake: 0.411, D_unsup_acc_fake: 85.16, D_sup_loss: 2.113, D_sup_acc: 27.07 Train acc: 26.982 Test acc: 26.800 \n",
      "epoch: 0 | step: 115 | Train: G_Loss: 1.517, D_unsup_loss_real: 0.772, D_unsup_acc_real:  56.25, D_unsup_loss_fake: 0.459, D_unsup_acc_fake: 82.03, D_sup_loss: 2.121, D_sup_acc: 26.77 Train acc: 24.574 Test acc: 24.860 \n",
      "epoch: 0 | step: 116 | Train: G_Loss: 1.617, D_unsup_loss_real: 0.525, D_unsup_acc_real:  67.97, D_unsup_loss_fake: 0.555, D_unsup_acc_fake: 72.66, D_sup_loss: 2.392, D_sup_acc: 24.87 Train acc: 26.412 Test acc: 26.860 \n",
      "epoch: 0 | step: 117 | Train: G_Loss: 2.082, D_unsup_loss_real: 0.434, D_unsup_acc_real:  76.56, D_unsup_loss_fake: 0.632, D_unsup_acc_fake: 71.88, D_sup_loss: 2.200, D_sup_acc: 26.86 Train acc: 25.984 Test acc: 26.590 \n",
      "epoch: 0 | step: 118 | Train: G_Loss: 2.099, D_unsup_loss_real: 0.492, D_unsup_acc_real:  71.88, D_unsup_loss_fake: 0.369, D_unsup_acc_fake: 92.19, D_sup_loss: 2.197, D_sup_acc: 26.52 Train acc: 27.532 Test acc: 27.660 \n",
      "epoch: 0 | step: 119 | Train: G_Loss: 1.959, D_unsup_loss_real: 0.484, D_unsup_acc_real:  77.34, D_unsup_loss_fake: 0.417, D_unsup_acc_fake: 87.50, D_sup_loss: 2.098, D_sup_acc: 27.64 Train acc: 26.304 Test acc: 26.370 \n",
      "epoch: 0 | step: 120 | Train: G_Loss: 1.840, D_unsup_loss_real: 0.483, D_unsup_acc_real:  74.22, D_unsup_loss_fake: 0.472, D_unsup_acc_fake: 77.34, D_sup_loss: 2.119, D_sup_acc: 26.34 Train acc: 28.064 Test acc: 28.120 \n",
      "epoch: 0 | step: 121 | Train: G_Loss: 1.936, D_unsup_loss_real: 0.427, D_unsup_acc_real:  71.88, D_unsup_loss_fake: 0.417, D_unsup_acc_fake: 89.84, D_sup_loss: 2.077, D_sup_acc: 27.97 Train acc: 26.838 Test acc: 27.460 \n",
      "epoch: 0 | step: 122 | Train: G_Loss: 2.102, D_unsup_loss_real: 0.399, D_unsup_acc_real:  77.34, D_unsup_loss_fake: 0.555, D_unsup_acc_fake: 85.16, D_sup_loss: 2.227, D_sup_acc: 27.44 Train acc: 25.856 Test acc: 26.300 \n",
      "epoch: 0 | step: 123 | Train: G_Loss: 2.310, D_unsup_loss_real: 0.337, D_unsup_acc_real:  81.25, D_unsup_loss_fake: 0.539, D_unsup_acc_fake: 83.59, D_sup_loss: 2.211, D_sup_acc: 26.25 Train acc: 27.546 Test acc: 28.250 \n",
      "epoch: 0 | step: 124 | Train: G_Loss: 2.220, D_unsup_loss_real: 0.442, D_unsup_acc_real:  74.22, D_unsup_loss_fake: 0.418, D_unsup_acc_fake: 91.41, D_sup_loss: 2.038, D_sup_acc: 28.22 Train acc: 30.158 Test acc: 30.530 \n",
      "epoch: 0 | step: 125 | Train: G_Loss: 2.139, D_unsup_loss_real: 0.423, D_unsup_acc_real:  75.78, D_unsup_loss_fake: 0.576, D_unsup_acc_fake: 85.94, D_sup_loss: 1.975, D_sup_acc: 30.48 Train acc: 31.070 Test acc: 31.120 \n",
      "epoch: 0 | step: 126 | Train: G_Loss: 2.249, D_unsup_loss_real: 0.355, D_unsup_acc_real:  82.03, D_unsup_loss_fake: 0.387, D_unsup_acc_fake: 93.75, D_sup_loss: 2.003, D_sup_acc: 30.98 Train acc: 30.178 Test acc: 30.620 \n",
      "epoch: 0 | step: 127 | Train: G_Loss: 1.838, D_unsup_loss_real: 0.400, D_unsup_acc_real:  79.69, D_unsup_loss_fake: 0.319, D_unsup_acc_fake: 95.31, D_sup_loss: 2.038, D_sup_acc: 30.57 Train acc: 28.474 Test acc: 29.020 \n",
      "epoch: 0 | step: 128 | Train: G_Loss: 1.681, D_unsup_loss_real: 0.425, D_unsup_acc_real:  71.09, D_unsup_loss_fake: 0.528, D_unsup_acc_fake: 85.16, D_sup_loss: 2.056, D_sup_acc: 28.96 Train acc: 28.616 Test acc: 29.640 \n",
      "epoch: 0 | step: 129 | Train: G_Loss: 2.253, D_unsup_loss_real: 0.270, D_unsup_acc_real:  88.28, D_unsup_loss_fake: 0.493, D_unsup_acc_fake: 81.25, D_sup_loss: 2.055, D_sup_acc: 29.62 Train acc: 29.664 Test acc: 30.240 \n",
      "epoch: 0 | step: 130 | Train: G_Loss: 2.198, D_unsup_loss_real: 0.507, D_unsup_acc_real:  75.00, D_unsup_loss_fake: 0.501, D_unsup_acc_fake: 79.69, D_sup_loss: 2.031, D_sup_acc: 30.08 Train acc: 28.494 Test acc: 29.230 \n",
      "epoch: 0 | step: 131 | Train: G_Loss: 2.312, D_unsup_loss_real: 0.400, D_unsup_acc_real:  78.12, D_unsup_loss_fake: 0.638, D_unsup_acc_fake: 71.09, D_sup_loss: 2.124, D_sup_acc: 29.16 Train acc: 27.618 Test acc: 28.090 \n",
      "epoch: 0 | step: 132 | Train: G_Loss: 2.350, D_unsup_loss_real: 0.410, D_unsup_acc_real:  76.56, D_unsup_loss_fake: 0.475, D_unsup_acc_fake: 77.34, D_sup_loss: 2.129, D_sup_acc: 28.03 Train acc: 25.838 Test acc: 26.230 \n",
      "epoch: 0 | step: 133 | Train: G_Loss: 1.883, D_unsup_loss_real: 0.546, D_unsup_acc_real:  67.19, D_unsup_loss_fake: 0.456, D_unsup_acc_fake: 84.38, D_sup_loss: 2.162, D_sup_acc: 26.22 Train acc: 25.446 Test acc: 25.630 \n",
      "epoch: 0 | step: 134 | Train: G_Loss: 2.402, D_unsup_loss_real: 0.364, D_unsup_acc_real:  81.25, D_unsup_loss_fake: 0.766, D_unsup_acc_fake: 60.16, D_sup_loss: 2.247, D_sup_acc: 25.59 Train acc: 27.726 Test acc: 27.940 \n",
      "epoch: 0 | step: 135 | Train: G_Loss: 1.858, D_unsup_loss_real: 0.658, D_unsup_acc_real:  61.72, D_unsup_loss_fake: 0.499, D_unsup_acc_fake: 80.47, D_sup_loss: 2.025, D_sup_acc: 27.79 Train acc: 26.646 Test acc: 26.710 \n",
      "epoch: 0 | step: 136 | Train: G_Loss: 1.669, D_unsup_loss_real: 0.517, D_unsup_acc_real:  68.75, D_unsup_loss_fake: 0.640, D_unsup_acc_fake: 66.41, D_sup_loss: 2.028, D_sup_acc: 26.62 Train acc: 26.592 Test acc: 26.630 \n",
      "epoch: 0 | step: 137 | Train: G_Loss: 1.629, D_unsup_loss_real: 0.468, D_unsup_acc_real:  69.53, D_unsup_loss_fake: 0.610, D_unsup_acc_fake: 64.06, D_sup_loss: 2.062, D_sup_acc: 26.50 Train acc: 27.240 Test acc: 27.360 \n",
      "epoch: 0 | step: 138 | Train: G_Loss: 1.579, D_unsup_loss_real: 0.571, D_unsup_acc_real:  63.28, D_unsup_loss_fake: 0.771, D_unsup_acc_fake: 47.66, D_sup_loss: 2.049, D_sup_acc: 27.33 Train acc: 26.742 Test acc: 27.200 \n",
      "epoch: 0 | step: 139 | Train: G_Loss: 1.523, D_unsup_loss_real: 0.518, D_unsup_acc_real:  71.88, D_unsup_loss_fake: 0.576, D_unsup_acc_fake: 79.69, D_sup_loss: 2.038, D_sup_acc: 27.16 Train acc: 26.764 Test acc: 26.950 \n",
      "epoch: 0 | step: 140 | Train: G_Loss: 1.467, D_unsup_loss_real: 0.433, D_unsup_acc_real:  74.22, D_unsup_loss_fake: 0.530, D_unsup_acc_fake: 86.72, D_sup_loss: 2.052, D_sup_acc: 26.89 Train acc: 26.352 Test acc: 26.960 \n",
      "epoch: 0 | step: 141 | Train: G_Loss: 1.592, D_unsup_loss_real: 0.400, D_unsup_acc_real:  78.12, D_unsup_loss_fake: 0.498, D_unsup_acc_fake: 84.38, D_sup_loss: 2.058, D_sup_acc: 26.94 Train acc: 26.838 Test acc: 27.400 \n",
      "epoch: 0 | step: 142 | Train: G_Loss: 1.624, D_unsup_loss_real: 0.483, D_unsup_acc_real:  69.53, D_unsup_loss_fake: 0.679, D_unsup_acc_fake: 78.12, D_sup_loss: 2.053, D_sup_acc: 27.42 Train acc: 25.946 Test acc: 26.560 \n",
      "epoch: 0 | step: 143 | Train: G_Loss: 1.478, D_unsup_loss_real: 0.560, D_unsup_acc_real:  65.62, D_unsup_loss_fake: 0.487, D_unsup_acc_fake: 84.38, D_sup_loss: 2.096, D_sup_acc: 26.55 Train acc: 27.566 Test acc: 28.060 \n",
      "epoch: 0 | step: 144 | Train: G_Loss: 1.597, D_unsup_loss_real: 0.471, D_unsup_acc_real:  70.31, D_unsup_loss_fake: 0.470, D_unsup_acc_fake: 89.06, D_sup_loss: 2.073, D_sup_acc: 28.06 Train acc: 28.848 Test acc: 29.090 \n",
      "epoch: 0 | step: 145 | Train: G_Loss: 1.788, D_unsup_loss_real: 0.369, D_unsup_acc_real:  76.56, D_unsup_loss_fake: 0.557, D_unsup_acc_fake: 89.06, D_sup_loss: 2.053, D_sup_acc: 29.05 Train acc: 27.206 Test acc: 27.600 \n",
      "epoch: 0 | step: 146 | Train: G_Loss: 1.499, D_unsup_loss_real: 0.574, D_unsup_acc_real:  64.84, D_unsup_loss_fake: 0.446, D_unsup_acc_fake: 89.84, D_sup_loss: 2.075, D_sup_acc: 27.66 Train acc: 28.610 Test acc: 28.980 \n",
      "epoch: 0 | step: 147 | Train: G_Loss: 1.522, D_unsup_loss_real: 0.305, D_unsup_acc_real:  85.94, D_unsup_loss_fake: 0.485, D_unsup_acc_fake: 91.41, D_sup_loss: 2.018, D_sup_acc: 28.94 Train acc: 30.124 Test acc: 30.750 \n",
      "epoch: 0 | step: 148 | Train: G_Loss: 2.016, D_unsup_loss_real: 0.260, D_unsup_acc_real:  89.84, D_unsup_loss_fake: 0.516, D_unsup_acc_fake: 86.72, D_sup_loss: 1.982, D_sup_acc: 30.67 Train acc: 28.972 Test acc: 29.240 \n",
      "epoch: 0 | step: 149 | Train: G_Loss: 1.717, D_unsup_loss_real: 0.469, D_unsup_acc_real:  71.88, D_unsup_loss_fake: 0.447, D_unsup_acc_fake: 91.41, D_sup_loss: 1.992, D_sup_acc: 29.20 Train acc: 28.570 Test acc: 29.240 \n"
     ]
    },
    {
     "name": "stdout",
     "output_type": "stream",
     "text": [
      "epoch: 0 | step: 150 | Train: G_Loss: 2.588, D_unsup_loss_real: 0.274, D_unsup_acc_real:  91.41, D_unsup_loss_fake: 0.765, D_unsup_acc_fake: 53.12, D_sup_loss: 1.992, D_sup_acc: 29.09 Train acc: 27.138 Test acc: 27.250 \n",
      "epoch: 0 | step: 151 | Train: G_Loss: 2.281, D_unsup_loss_real: 0.435, D_unsup_acc_real:  82.03, D_unsup_loss_fake: 0.233, D_unsup_acc_fake: 97.66, D_sup_loss: 2.025, D_sup_acc: 27.19 Train acc: 27.284 Test acc: 27.410 \n",
      "epoch: 0 | step: 152 | Train: G_Loss: 1.815, D_unsup_loss_real: 0.260, D_unsup_acc_real:  89.84, D_unsup_loss_fake: 0.323, D_unsup_acc_fake: 96.88, D_sup_loss: 2.036, D_sup_acc: 27.38 Train acc: 29.712 Test acc: 29.780 \n",
      "epoch: 0 | step: 153 | Train: G_Loss: 1.930, D_unsup_loss_real: 0.250, D_unsup_acc_real:  94.53, D_unsup_loss_fake: 0.494, D_unsup_acc_fake: 82.81, D_sup_loss: 1.966, D_sup_acc: 29.71 Train acc: 31.546 Test acc: 31.910 \n",
      "epoch: 0 | step: 154 | Train: G_Loss: 2.217, D_unsup_loss_real: 0.263, D_unsup_acc_real:  93.75, D_unsup_loss_fake: 0.578, D_unsup_acc_fake: 75.78, D_sup_loss: 1.943, D_sup_acc: 31.82 Train acc: 31.418 Test acc: 32.040 \n",
      "epoch: 0 | step: 155 | Train: G_Loss: 2.556, D_unsup_loss_real: 0.275, D_unsup_acc_real:  89.06, D_unsup_loss_fake: 0.426, D_unsup_acc_fake: 84.38, D_sup_loss: 1.944, D_sup_acc: 31.91 Train acc: 30.620 Test acc: 31.250 \n",
      "epoch: 0 | step: 156 | Train: G_Loss: 2.843, D_unsup_loss_real: 0.312, D_unsup_acc_real:  87.50, D_unsup_loss_fake: 0.508, D_unsup_acc_fake: 80.47, D_sup_loss: 1.983, D_sup_acc: 31.11 Train acc: 30.370 Test acc: 30.350 \n",
      "epoch: 0 | step: 157 | Train: G_Loss: 2.558, D_unsup_loss_real: 0.362, D_unsup_acc_real:  81.25, D_unsup_loss_fake: 0.360, D_unsup_acc_fake: 90.62, D_sup_loss: 1.982, D_sup_acc: 30.31 Train acc: 29.646 Test acc: 29.600 \n",
      "epoch: 0 | step: 158 | Train: G_Loss: 2.540, D_unsup_loss_real: 0.370, D_unsup_acc_real:  80.47, D_unsup_loss_fake: 0.396, D_unsup_acc_fake: 86.72, D_sup_loss: 2.005, D_sup_acc: 29.54 Train acc: 29.182 Test acc: 28.920 \n",
      "epoch: 0 | step: 159 | Train: G_Loss: 2.638, D_unsup_loss_real: 0.393, D_unsup_acc_real:  81.25, D_unsup_loss_fake: 0.436, D_unsup_acc_fake: 88.28, D_sup_loss: 2.008, D_sup_acc: 28.88 Train acc: 29.824 Test acc: 29.250 \n",
      "epoch: 0 | step: 160 | Train: G_Loss: 2.680, D_unsup_loss_real: 0.427, D_unsup_acc_real:  78.12, D_unsup_loss_fake: 0.426, D_unsup_acc_fake: 89.06, D_sup_loss: 1.988, D_sup_acc: 29.29 Train acc: 29.148 Test acc: 28.900 \n",
      "epoch: 0 | step: 161 | Train: G_Loss: 2.877, D_unsup_loss_real: 0.534, D_unsup_acc_real:  68.75, D_unsup_loss_fake: 0.647, D_unsup_acc_fake: 67.97, D_sup_loss: 1.967, D_sup_acc: 28.78 Train acc: 29.302 Test acc: 29.180 \n",
      "epoch: 0 | step: 162 | Train: G_Loss: 3.057, D_unsup_loss_real: 0.409, D_unsup_acc_real:  75.78, D_unsup_loss_fake: 0.345, D_unsup_acc_fake: 87.50, D_sup_loss: 1.956, D_sup_acc: 29.08 Train acc: 28.848 Test acc: 29.200 \n",
      "epoch: 0 | step: 163 | Train: G_Loss: 3.052, D_unsup_loss_real: 0.381, D_unsup_acc_real:  79.69, D_unsup_loss_fake: 0.324, D_unsup_acc_fake: 91.41, D_sup_loss: 1.978, D_sup_acc: 29.20 Train acc: 28.676 Test acc: 28.760 \n",
      "epoch: 0 | step: 164 | Train: G_Loss: 2.696, D_unsup_loss_real: 0.479, D_unsup_acc_real:  71.88, D_unsup_loss_fake: 0.311, D_unsup_acc_fake: 93.75, D_sup_loss: 1.980, D_sup_acc: 28.73 Train acc: 29.952 Test acc: 29.620 \n",
      "epoch: 0 | step: 165 | Train: G_Loss: 3.068, D_unsup_loss_real: 0.263, D_unsup_acc_real:  87.50, D_unsup_loss_fake: 0.485, D_unsup_acc_fake: 76.56, D_sup_loss: 1.959, D_sup_acc: 29.59 Train acc: 30.088 Test acc: 30.270 \n",
      "epoch: 0 | step: 166 | Train: G_Loss: 2.616, D_unsup_loss_real: 0.543, D_unsup_acc_real:  73.44, D_unsup_loss_fake: 0.491, D_unsup_acc_fake: 76.56, D_sup_loss: 1.949, D_sup_acc: 30.20 Train acc: 30.780 Test acc: 31.310 \n",
      "epoch: 0 | step: 167 | Train: G_Loss: 3.113, D_unsup_loss_real: 0.763, D_unsup_acc_real:  60.94, D_unsup_loss_fake: 0.946, D_unsup_acc_fake: 42.19, D_sup_loss: 1.913, D_sup_acc: 31.18 Train acc: 28.432 Test acc: 28.630 \n",
      "epoch: 0 | step: 168 | Train: G_Loss: 2.222, D_unsup_loss_real: 0.821, D_unsup_acc_real:  58.59, D_unsup_loss_fake: 0.546, D_unsup_acc_fake: 81.25, D_sup_loss: 1.960, D_sup_acc: 28.59 Train acc: 30.438 Test acc: 31.020 \n",
      "epoch: 0 | step: 169 | Train: G_Loss: 2.299, D_unsup_loss_real: 0.651, D_unsup_acc_real:  61.72, D_unsup_loss_fake: 1.050, D_unsup_acc_fake: 33.59, D_sup_loss: 1.930, D_sup_acc: 30.96 Train acc: 25.684 Test acc: 26.040 \n",
      "epoch: 0 | step: 170 | Train: G_Loss: 1.765, D_unsup_loss_real: 0.642, D_unsup_acc_real:  63.28, D_unsup_loss_fake: 0.463, D_unsup_acc_fake: 85.94, D_sup_loss: 2.049, D_sup_acc: 25.97 Train acc: 27.082 Test acc: 27.520 \n",
      "epoch: 0 | step: 171 | Train: G_Loss: 1.465, D_unsup_loss_real: 0.531, D_unsup_acc_real:  68.75, D_unsup_loss_fake: 0.757, D_unsup_acc_fake: 50.00, D_sup_loss: 2.018, D_sup_acc: 27.52 Train acc: 28.908 Test acc: 28.980 \n",
      "epoch: 0 | step: 172 | Train: G_Loss: 1.448, D_unsup_loss_real: 0.604, D_unsup_acc_real:  63.28, D_unsup_loss_fake: 0.595, D_unsup_acc_fake: 69.53, D_sup_loss: 1.982, D_sup_acc: 29.02 Train acc: 28.544 Test acc: 28.510 \n",
      "epoch: 0 | step: 173 | Train: G_Loss: 1.493, D_unsup_loss_real: 0.484, D_unsup_acc_real:  72.66, D_unsup_loss_fake: 0.671, D_unsup_acc_fake: 66.41, D_sup_loss: 1.988, D_sup_acc: 28.42 Train acc: 28.012 Test acc: 28.480 \n",
      "epoch: 0 | step: 174 | Train: G_Loss: 1.510, D_unsup_loss_real: 0.361, D_unsup_acc_real:  86.72, D_unsup_loss_fake: 0.516, D_unsup_acc_fake: 75.78, D_sup_loss: 2.001, D_sup_acc: 28.41 Train acc: 29.598 Test acc: 29.830 \n",
      "epoch: 0 | step: 175 | Train: G_Loss: 1.499, D_unsup_loss_real: 0.462, D_unsup_acc_real:  73.44, D_unsup_loss_fake: 0.577, D_unsup_acc_fake: 70.31, D_sup_loss: 1.951, D_sup_acc: 29.78 Train acc: 29.452 Test acc: 29.680 \n",
      "epoch: 0 | step: 176 | Train: G_Loss: 1.592, D_unsup_loss_real: 0.305, D_unsup_acc_real:  84.38, D_unsup_loss_fake: 0.505, D_unsup_acc_fake: 77.34, D_sup_loss: 1.953, D_sup_acc: 29.57 Train acc: 29.548 Test acc: 29.290 \n",
      "epoch: 0 | step: 177 | Train: G_Loss: 1.559, D_unsup_loss_real: 0.343, D_unsup_acc_real:  82.81, D_unsup_loss_fake: 0.565, D_unsup_acc_fake: 71.88, D_sup_loss: 1.954, D_sup_acc: 29.22 Train acc: 29.506 Test acc: 29.670 \n",
      "epoch: 0 | step: 178 | Train: G_Loss: 1.671, D_unsup_loss_real: 0.390, D_unsup_acc_real:  80.47, D_unsup_loss_fake: 0.532, D_unsup_acc_fake: 76.56, D_sup_loss: 1.971, D_sup_acc: 29.60 Train acc: 29.922 Test acc: 30.140 \n",
      "epoch: 0 | step: 179 | Train: G_Loss: 1.762, D_unsup_loss_real: 0.326, D_unsup_acc_real:  85.16, D_unsup_loss_fake: 0.575, D_unsup_acc_fake: 72.66, D_sup_loss: 1.955, D_sup_acc: 30.10 Train acc: 30.274 Test acc: 30.610 \n",
      "epoch: 0 | step: 180 | Train: G_Loss: 1.794, D_unsup_loss_real: 0.337, D_unsup_acc_real:  85.94, D_unsup_loss_fake: 0.530, D_unsup_acc_fake: 79.69, D_sup_loss: 1.941, D_sup_acc: 30.57 Train acc: 30.714 Test acc: 31.110 \n",
      "epoch: 0 | step: 181 | Train: G_Loss: 1.732, D_unsup_loss_real: 0.472, D_unsup_acc_real:  75.78, D_unsup_loss_fake: 0.496, D_unsup_acc_fake: 80.47, D_sup_loss: 1.921, D_sup_acc: 31.08 Train acc: 30.208 Test acc: 30.480 \n",
      "epoch: 0 | step: 182 | Train: G_Loss: 1.785, D_unsup_loss_real: 0.370, D_unsup_acc_real:  83.59, D_unsup_loss_fake: 0.512, D_unsup_acc_fake: 78.91, D_sup_loss: 1.936, D_sup_acc: 30.47 Train acc: 30.638 Test acc: 31.170 \n",
      "epoch: 0 | step: 183 | Train: G_Loss: 1.877, D_unsup_loss_real: 0.304, D_unsup_acc_real:  86.72, D_unsup_loss_fake: 0.538, D_unsup_acc_fake: 76.56, D_sup_loss: 1.922, D_sup_acc: 31.18 Train acc: 30.606 Test acc: 31.240 \n",
      "epoch: 0 | step: 184 | Train: G_Loss: 1.968, D_unsup_loss_real: 0.467, D_unsup_acc_real:  75.78, D_unsup_loss_fake: 0.591, D_unsup_acc_fake: 71.09, D_sup_loss: 1.923, D_sup_acc: 31.13 Train acc: 30.384 Test acc: 30.850 \n",
      "epoch: 0 | step: 185 | Train: G_Loss: 1.737, D_unsup_loss_real: 0.452, D_unsup_acc_real:  74.22, D_unsup_loss_fake: 0.453, D_unsup_acc_fake: 81.25, D_sup_loss: 1.931, D_sup_acc: 30.85 Train acc: 29.832 Test acc: 30.160 \n",
      "epoch: 0 | step: 186 | Train: G_Loss: 1.719, D_unsup_loss_real: 0.378, D_unsup_acc_real:  83.59, D_unsup_loss_fake: 0.635, D_unsup_acc_fake: 62.50, D_sup_loss: 1.945, D_sup_acc: 30.14 Train acc: 29.210 Test acc: 30.020 \n",
      "epoch: 0 | step: 187 | Train: G_Loss: 2.079, D_unsup_loss_real: 0.296, D_unsup_acc_real:  88.28, D_unsup_loss_fake: 0.452, D_unsup_acc_fake: 85.16, D_sup_loss: 1.961, D_sup_acc: 29.99 Train acc: 29.148 Test acc: 30.060 \n"
     ]
    },
    {
     "name": "stdout",
     "output_type": "stream",
     "text": [
      "epoch: 0 | step: 188 | Train: G_Loss: 2.103, D_unsup_loss_real: 0.389, D_unsup_acc_real:  75.00, D_unsup_loss_fake: 0.334, D_unsup_acc_fake: 92.19, D_sup_loss: 1.963, D_sup_acc: 30.10 Train acc: 29.132 Test acc: 29.960 \n",
      "epoch: 0 | step: 189 | Train: G_Loss: 1.828, D_unsup_loss_real: 0.506, D_unsup_acc_real:  69.53, D_unsup_loss_fake: 0.495, D_unsup_acc_fake: 82.03, D_sup_loss: 1.962, D_sup_acc: 29.84 Train acc: 29.574 Test acc: 30.120 \n",
      "epoch: 0 | step: 190 | Train: G_Loss: 1.968, D_unsup_loss_real: 0.453, D_unsup_acc_real:  71.88, D_unsup_loss_fake: 0.484, D_unsup_acc_fake: 83.59, D_sup_loss: 1.957, D_sup_acc: 30.09 Train acc: 29.638 Test acc: 30.100 \n",
      "epoch: 0 | step: 191 | Train: G_Loss: 1.793, D_unsup_loss_real: 0.533, D_unsup_acc_real:  71.09, D_unsup_loss_fake: 0.471, D_unsup_acc_fake: 85.16, D_sup_loss: 1.951, D_sup_acc: 30.05 Train acc: 30.184 Test acc: 30.370 \n",
      "epoch: 0 | step: 192 | Train: G_Loss: 1.748, D_unsup_loss_real: 0.500, D_unsup_acc_real:  76.56, D_unsup_loss_fake: 0.619, D_unsup_acc_fake: 62.50, D_sup_loss: 1.938, D_sup_acc: 30.31 Train acc: 30.302 Test acc: 30.610 \n",
      "epoch: 0 | step: 193 | Train: G_Loss: 1.833, D_unsup_loss_real: 0.455, D_unsup_acc_real:  77.34, D_unsup_loss_fake: 0.590, D_unsup_acc_fake: 73.44, D_sup_loss: 1.943, D_sup_acc: 30.58 Train acc: 30.190 Test acc: 30.260 \n",
      "epoch: 0 | step: 194 | Train: G_Loss: 1.729, D_unsup_loss_real: 0.509, D_unsup_acc_real:  70.31, D_unsup_loss_fake: 0.582, D_unsup_acc_fake: 71.09, D_sup_loss: 1.937, D_sup_acc: 30.26 Train acc: 29.996 Test acc: 30.190 \n",
      "epoch: 0 | step: 195 | Train: G_Loss: 1.915, D_unsup_loss_real: 0.456, D_unsup_acc_real:  75.00, D_unsup_loss_fake: 0.656, D_unsup_acc_fake: 63.28, D_sup_loss: 1.950, D_sup_acc: 30.17 Train acc: 29.436 Test acc: 29.750 \n",
      "epoch: 0 | step: 196 | Train: G_Loss: 1.781, D_unsup_loss_real: 0.595, D_unsup_acc_real:  64.84, D_unsup_loss_fake: 0.560, D_unsup_acc_fake: 71.88, D_sup_loss: 1.967, D_sup_acc: 29.70 Train acc: 28.662 Test acc: 29.260 \n",
      "epoch: 0 | step: 197 | Train: G_Loss: 1.849, D_unsup_loss_real: 0.502, D_unsup_acc_real:  69.53, D_unsup_loss_fake: 0.562, D_unsup_acc_fake: 76.56, D_sup_loss: 1.996, D_sup_acc: 29.24 Train acc: 27.830 Test acc: 28.730 \n",
      "epoch: 0 | step: 198 | Train: G_Loss: 1.799, D_unsup_loss_real: 0.556, D_unsup_acc_real:  69.53, D_unsup_loss_fake: 0.537, D_unsup_acc_fake: 73.44, D_sup_loss: 2.050, D_sup_acc: 28.63 Train acc: 28.342 Test acc: 28.810 \n",
      "epoch: 0 | step: 199 | Train: G_Loss: 1.982, D_unsup_loss_real: 0.484, D_unsup_acc_real:  70.31, D_unsup_loss_fake: 0.504, D_unsup_acc_fake: 78.12, D_sup_loss: 2.028, D_sup_acc: 28.76 Train acc: 28.250 Test acc: 28.850 \n",
      "epoch: 0 | step: 200 | Train: G_Loss: 2.017, D_unsup_loss_real: 0.508, D_unsup_acc_real:  65.62, D_unsup_loss_fake: 0.399, D_unsup_acc_fake: 89.06, D_sup_loss: 2.002, D_sup_acc: 28.85 Train acc: 27.926 Test acc: 28.230 \n",
      "Train Classifier Accuracy: 27.926%\n",
      "\n",
      "Test Classifier Accuracy: 28.230%\n",
      "\n",
      ">Saving models Generator: Logs/SSGAN_CIFAR10/Classifier_50000/generator_model_200.h5 and Supervised: Logs/SSGAN_CIFAR10/Classifier_50000/supervised_model_200.h5\n",
      "epoch: 0 | step: 201 | Train: G_Loss: 1.915, D_unsup_loss_real: 0.466, D_unsup_acc_real:  72.66, D_unsup_loss_fake: 0.397, D_unsup_acc_fake: 85.94, D_sup_loss: 1.991, D_sup_acc: 28.17 Train acc: 28.754 Test acc: 29.000 \n",
      "epoch: 0 | step: 202 | Train: G_Loss: 2.193, D_unsup_loss_real: 0.398, D_unsup_acc_real:  77.34, D_unsup_loss_fake: 0.439, D_unsup_acc_fake: 84.38, D_sup_loss: 1.951, D_sup_acc: 28.97 Train acc: 29.586 Test acc: 30.540 \n",
      "epoch: 0 | step: 203 | Train: G_Loss: 2.053, D_unsup_loss_real: 0.435, D_unsup_acc_real:  75.00, D_unsup_loss_fake: 0.459, D_unsup_acc_fake: 80.47, D_sup_loss: 1.949, D_sup_acc: 30.46 Train acc: 30.654 Test acc: 31.310 \n",
      "epoch: 0 | step: 204 | Train: G_Loss: 1.930, D_unsup_loss_real: 0.386, D_unsup_acc_real:  82.03, D_unsup_loss_fake: 0.458, D_unsup_acc_fake: 83.59, D_sup_loss: 1.937, D_sup_acc: 31.35 Train acc: 31.304 Test acc: 31.710 \n",
      "epoch: 0 | step: 205 | Train: G_Loss: 1.872, D_unsup_loss_real: 0.433, D_unsup_acc_real:  78.91, D_unsup_loss_fake: 0.469, D_unsup_acc_fake: 84.38, D_sup_loss: 1.908, D_sup_acc: 31.73 Train acc: 31.398 Test acc: 31.930 \n",
      "epoch: 0 | step: 206 | Train: G_Loss: 1.991, D_unsup_loss_real: 0.446, D_unsup_acc_real:  74.22, D_unsup_loss_fake: 0.413, D_unsup_acc_fake: 89.84, D_sup_loss: 1.903, D_sup_acc: 31.90 Train acc: 30.866 Test acc: 31.600 \n",
      "epoch: 0 | step: 207 | Train: G_Loss: 2.088, D_unsup_loss_real: 0.537, D_unsup_acc_real:  68.75, D_unsup_loss_fake: 0.481, D_unsup_acc_fake: 88.28, D_sup_loss: 1.902, D_sup_acc: 31.49 Train acc: 30.568 Test acc: 30.880 \n",
      "epoch: 0 | step: 208 | Train: G_Loss: 2.268, D_unsup_loss_real: 0.516, D_unsup_acc_real:  71.09, D_unsup_loss_fake: 0.427, D_unsup_acc_fake: 89.84, D_sup_loss: 1.908, D_sup_acc: 30.77 Train acc: 30.822 Test acc: 30.920 \n",
      "epoch: 0 | step: 209 | Train: G_Loss: 2.027, D_unsup_loss_real: 0.611, D_unsup_acc_real:  63.28, D_unsup_loss_fake: 0.406, D_unsup_acc_fake: 91.41, D_sup_loss: 1.918, D_sup_acc: 30.82 Train acc: 30.342 Test acc: 30.760 \n",
      "epoch: 0 | step: 210 | Train: G_Loss: 2.028, D_unsup_loss_real: 0.578, D_unsup_acc_real:  67.97, D_unsup_loss_fake: 0.465, D_unsup_acc_fake: 83.59, D_sup_loss: 1.937, D_sup_acc: 30.73 Train acc: 30.788 Test acc: 31.290 \n",
      "epoch: 0 | step: 211 | Train: G_Loss: 1.818, D_unsup_loss_real: 0.592, D_unsup_acc_real:  64.84, D_unsup_loss_fake: 0.401, D_unsup_acc_fake: 89.84, D_sup_loss: 1.919, D_sup_acc: 31.19 Train acc: 30.658 Test acc: 30.980 \n",
      "epoch: 0 | step: 212 | Train: G_Loss: 1.739, D_unsup_loss_real: 0.554, D_unsup_acc_real:  65.62, D_unsup_loss_fake: 0.474, D_unsup_acc_fake: 86.72, D_sup_loss: 1.923, D_sup_acc: 30.91 Train acc: 30.182 Test acc: 30.440 \n",
      "epoch: 0 | step: 213 | Train: G_Loss: 1.862, D_unsup_loss_real: 0.519, D_unsup_acc_real:  68.75, D_unsup_loss_fake: 0.522, D_unsup_acc_fake: 78.12, D_sup_loss: 1.920, D_sup_acc: 30.36 Train acc: 27.518 Test acc: 28.010 \n",
      "epoch: 0 | step: 214 | Train: G_Loss: 2.137, D_unsup_loss_real: 0.514, D_unsup_acc_real:  68.75, D_unsup_loss_fake: 0.671, D_unsup_acc_fake: 68.75, D_sup_loss: 1.957, D_sup_acc: 27.94 Train acc: 27.830 Test acc: 28.000 \n",
      "epoch: 0 | step: 215 | Train: G_Loss: 2.609, D_unsup_loss_real: 0.523, D_unsup_acc_real:  64.06, D_unsup_loss_fake: 0.736, D_unsup_acc_fake: 67.19, D_sup_loss: 1.947, D_sup_acc: 28.03 Train acc: 20.856 Test acc: 21.190 \n",
      "epoch: 0 | step: 216 | Train: G_Loss: 3.152, D_unsup_loss_real: 0.765, D_unsup_acc_real:  50.00, D_unsup_loss_fake: 0.810, D_unsup_acc_fake: 54.69, D_sup_loss: 2.205, D_sup_acc: 21.24 Train acc: 30.114 Test acc: 30.300 \n",
      "epoch: 0 | step: 217 | Train: G_Loss: 3.257, D_unsup_loss_real: 0.941, D_unsup_acc_real:  48.44, D_unsup_loss_fake: 1.533, D_unsup_acc_fake: 25.00, D_sup_loss: 1.944, D_sup_acc: 30.17 Train acc: 24.996 Test acc: 24.710 \n",
      "epoch: 0 | step: 218 | Train: G_Loss: 1.840, D_unsup_loss_real: 0.990, D_unsup_acc_real:  42.19, D_unsup_loss_fake: 0.282, D_unsup_acc_fake: 96.09, D_sup_loss: 2.078, D_sup_acc: 24.77 Train acc: 23.768 Test acc: 24.120 \n",
      "epoch: 0 | step: 219 | Train: G_Loss: 1.224, D_unsup_loss_real: 0.552, D_unsup_acc_real:  75.78, D_unsup_loss_fake: 0.752, D_unsup_acc_fake: 42.19, D_sup_loss: 2.114, D_sup_acc: 24.05 Train acc: 27.496 Test acc: 27.890 \n",
      "epoch: 0 | step: 220 | Train: G_Loss: 1.343, D_unsup_loss_real: 0.332, D_unsup_acc_real:  92.19, D_unsup_loss_fake: 0.665, D_unsup_acc_fake: 57.81, D_sup_loss: 2.025, D_sup_acc: 27.80 Train acc: 30.198 Test acc: 30.390 \n",
      "epoch: 0 | step: 221 | Train: G_Loss: 1.423, D_unsup_loss_real: 0.365, D_unsup_acc_real:  91.41, D_unsup_loss_fake: 0.613, D_unsup_acc_fake: 62.50, D_sup_loss: 1.989, D_sup_acc: 30.26 Train acc: 30.994 Test acc: 30.980 \n",
      "epoch: 0 | step: 222 | Train: G_Loss: 1.530, D_unsup_loss_real: 0.374, D_unsup_acc_real:  86.72, D_unsup_loss_fake: 0.525, D_unsup_acc_fake: 80.47, D_sup_loss: 1.973, D_sup_acc: 31.03 Train acc: 31.108 Test acc: 30.930 \n",
      "epoch: 0 | step: 223 | Train: G_Loss: 1.591, D_unsup_loss_real: 0.379, D_unsup_acc_real:  90.62, D_unsup_loss_fake: 0.570, D_unsup_acc_fake: 75.78, D_sup_loss: 1.969, D_sup_acc: 30.90 Train acc: 29.990 Test acc: 29.240 \n",
      "epoch: 0 | step: 224 | Train: G_Loss: 1.625, D_unsup_loss_real: 0.305, D_unsup_acc_real:  89.84, D_unsup_loss_fake: 0.495, D_unsup_acc_fake: 82.81, D_sup_loss: 1.987, D_sup_acc: 29.19 Train acc: 29.496 Test acc: 28.720 \n"
     ]
    },
    {
     "name": "stdout",
     "output_type": "stream",
     "text": [
      "epoch: 0 | step: 225 | Train: G_Loss: 1.891, D_unsup_loss_real: 0.362, D_unsup_acc_real:  84.38, D_unsup_loss_fake: 0.617, D_unsup_acc_fake: 73.44, D_sup_loss: 1.995, D_sup_acc: 28.69 Train acc: 30.462 Test acc: 30.100 \n",
      "epoch: 0 | step: 226 | Train: G_Loss: 1.786, D_unsup_loss_real: 0.439, D_unsup_acc_real:  78.91, D_unsup_loss_fake: 0.457, D_unsup_acc_fake: 87.50, D_sup_loss: 1.972, D_sup_acc: 30.02 Train acc: 32.294 Test acc: 31.970 \n",
      "epoch: 0 | step: 227 | Train: G_Loss: 1.947, D_unsup_loss_real: 0.378, D_unsup_acc_real:  82.03, D_unsup_loss_fake: 0.505, D_unsup_acc_fake: 78.12, D_sup_loss: 1.943, D_sup_acc: 31.97 Train acc: 33.260 Test acc: 32.900 \n",
      "epoch: 0 | step: 228 | Train: G_Loss: 1.821, D_unsup_loss_real: 0.468, D_unsup_acc_real:  75.78, D_unsup_loss_fake: 0.475, D_unsup_acc_fake: 83.59, D_sup_loss: 1.920, D_sup_acc: 32.77 Train acc: 33.588 Test acc: 33.200 \n",
      "epoch: 0 | step: 229 | Train: G_Loss: 2.028, D_unsup_loss_real: 0.400, D_unsup_acc_real:  85.94, D_unsup_loss_fake: 0.525, D_unsup_acc_fake: 76.56, D_sup_loss: 1.909, D_sup_acc: 33.25 Train acc: 32.958 Test acc: 32.360 \n",
      "epoch: 0 | step: 230 | Train: G_Loss: 2.059, D_unsup_loss_real: 0.342, D_unsup_acc_real:  83.59, D_unsup_loss_fake: 0.355, D_unsup_acc_fake: 93.75, D_sup_loss: 1.910, D_sup_acc: 32.32 Train acc: 33.238 Test acc: 33.010 \n",
      "epoch: 0 | step: 231 | Train: G_Loss: 2.155, D_unsup_loss_real: 0.347, D_unsup_acc_real:  86.72, D_unsup_loss_fake: 0.449, D_unsup_acc_fake: 85.94, D_sup_loss: 1.912, D_sup_acc: 32.86 Train acc: 33.650 Test acc: 33.730 \n",
      "epoch: 0 | step: 232 | Train: G_Loss: 2.100, D_unsup_loss_real: 0.467, D_unsup_acc_real:  75.00, D_unsup_loss_fake: 0.350, D_unsup_acc_fake: 92.97, D_sup_loss: 1.893, D_sup_acc: 33.59 Train acc: 33.600 Test acc: 33.420 \n",
      "epoch: 0 | step: 233 | Train: G_Loss: 2.342, D_unsup_loss_real: 0.392, D_unsup_acc_real:  82.03, D_unsup_loss_fake: 0.481, D_unsup_acc_fake: 82.81, D_sup_loss: 1.881, D_sup_acc: 33.42 Train acc: 32.826 Test acc: 32.890 \n",
      "epoch: 0 | step: 234 | Train: G_Loss: 2.217, D_unsup_loss_real: 0.433, D_unsup_acc_real:  76.56, D_unsup_loss_fake: 0.335, D_unsup_acc_fake: 92.97, D_sup_loss: 1.886, D_sup_acc: 32.78 Train acc: 33.202 Test acc: 33.220 \n",
      "epoch: 0 | step: 235 | Train: G_Loss: 2.508, D_unsup_loss_real: 0.337, D_unsup_acc_real:  88.28, D_unsup_loss_fake: 0.416, D_unsup_acc_fake: 85.94, D_sup_loss: 1.875, D_sup_acc: 33.18 Train acc: 33.442 Test acc: 33.010 \n",
      "epoch: 0 | step: 236 | Train: G_Loss: 2.138, D_unsup_loss_real: 0.394, D_unsup_acc_real:  81.25, D_unsup_loss_fake: 0.395, D_unsup_acc_fake: 88.28, D_sup_loss: 1.865, D_sup_acc: 33.00 Train acc: 32.926 Test acc: 32.560 \n",
      "epoch: 0 | step: 237 | Train: G_Loss: 2.072, D_unsup_loss_real: 0.449, D_unsup_acc_real:  78.12, D_unsup_loss_fake: 0.612, D_unsup_acc_fake: 64.06, D_sup_loss: 1.891, D_sup_acc: 32.41 Train acc: 33.148 Test acc: 32.520 \n",
      "epoch: 0 | step: 238 | Train: G_Loss: 2.175, D_unsup_loss_real: 0.368, D_unsup_acc_real:  78.91, D_unsup_loss_fake: 0.526, D_unsup_acc_fake: 76.56, D_sup_loss: 1.880, D_sup_acc: 32.45 Train acc: 33.236 Test acc: 32.720 \n"
     ]
    }
   ],
   "source": [
    "train(generator_model, unsupervised_model, supervised_model, gan_model, \n",
    "      dataset_train, dataset_test, latent_dim=latent_dim, \n",
    "      n_epochs=epochs, n_batch=batch_size, percent_samples=labeled_rate, n_classes=num_classes)"
   ]
  },
  {
   "cell_type": "markdown",
   "id": "dff849fc",
   "metadata": {},
   "source": [
    "### Testing"
   ]
  },
  {
   "cell_type": "code",
   "execution_count": null,
   "id": "8e50d5ee",
   "metadata": {},
   "outputs": [],
   "source": [
    "dataset_train, dataset_test = load_real_samples()"
   ]
  },
  {
   "cell_type": "code",
   "execution_count": null,
   "id": "bb960a49",
   "metadata": {},
   "outputs": [],
   "source": [
    "from tensorflow.keras.models import load_model"
   ]
  },
  {
   "cell_type": "code",
   "execution_count": null,
   "id": "7753f09f",
   "metadata": {},
   "outputs": [],
   "source": [
    "last_step = int(dataset_train.shape[0]/batch_size)*epochs"
   ]
  },
  {
   "cell_type": "code",
   "execution_count": null,
   "id": "ac0b748a",
   "metadata": {},
   "outputs": [],
   "source": [
    "supervised_model = load_model(f'{LOG_PATH}supervised_model_{last_step}.h5')"
   ]
  },
  {
   "cell_type": "code",
   "execution_count": null,
   "id": "1db02aaa",
   "metadata": {},
   "outputs": [],
   "source": [
    "X_train, y_train = dataset_train\n",
    "_, acc = supervised_model.evaluate(X_train, y_train, verbose=0)\n",
    "print('Train Classifier Accuracy: %.3f%%\\n' % (acc * 100))"
   ]
  },
  {
   "cell_type": "code",
   "execution_count": null,
   "id": "6cbae68d",
   "metadata": {},
   "outputs": [],
   "source": [
    "X_test, y_test = dataset_test\n",
    "_, acc = supervised_model.evaluate(X_test, y_test, verbose=0)\n",
    "print('Test Classifier Accuracy: %.3f%%\\n' % (acc * 100))"
   ]
  },
  {
   "cell_type": "markdown",
   "id": "f4af00c9",
   "metadata": {},
   "source": [
    "### Plotting"
   ]
  },
  {
   "cell_type": "code",
   "execution_count": null,
   "id": "ec2d4936",
   "metadata": {},
   "outputs": [],
   "source": [
    "import pandas as pd"
   ]
  },
  {
   "cell_type": "code",
   "execution_count": null,
   "id": "871d7d60",
   "metadata": {},
   "outputs": [],
   "source": [
    "results_file = pd.read_csv(f\"{LOG_PATH}SSL_GAN.csv\")"
   ]
  },
  {
   "cell_type": "code",
   "execution_count": null,
   "id": "6a9475a6",
   "metadata": {},
   "outputs": [],
   "source": [
    "log_file = results_file.iloc[:,1:]\n",
    "log_file"
   ]
  },
  {
   "cell_type": "code",
   "execution_count": null,
   "id": "2a23747a",
   "metadata": {},
   "outputs": [],
   "source": [
    "log_file.iloc[:, [0,1,2,3]].plot(figsize=(12,8))"
   ]
  },
  {
   "cell_type": "code",
   "execution_count": null,
   "id": "2bb08f64",
   "metadata": {},
   "outputs": [],
   "source": [
    "log_file.iloc[:, [5,6]].plot(figsize=(12,8))"
   ]
  },
  {
   "cell_type": "code",
   "execution_count": null,
   "id": "60f0799d",
   "metadata": {},
   "outputs": [],
   "source": [
    "log_file.iloc[:, [7,8]].plot(figsize=(12,8), ylim=(0,100), yticks=range(0,110,10))"
   ]
  }
 ],
 "metadata": {
  "kernelspec": {
   "display_name": "Python 3",
   "language": "python",
   "name": "python3"
  },
  "language_info": {
   "codemirror_mode": {
    "name": "ipython",
    "version": 3
   },
   "file_extension": ".py",
   "mimetype": "text/x-python",
   "name": "python",
   "nbconvert_exporter": "python",
   "pygments_lexer": "ipython3",
   "version": "3.8.10"
  }
 },
 "nbformat": 4,
 "nbformat_minor": 5
}
