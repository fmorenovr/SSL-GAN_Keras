{
 "cells": [
  {
   "cell_type": "code",
   "execution_count": null,
   "id": "a09e486c",
   "metadata": {},
   "outputs": [],
   "source": [
    "import numpy as np\n",
    "import os\n",
    "import time"
   ]
  },
  {
   "cell_type": "code",
   "execution_count": null,
   "id": "a5077c4a",
   "metadata": {},
   "outputs": [],
   "source": [
    "import keras"
   ]
  },
  {
   "cell_type": "code",
   "execution_count": null,
   "id": "722a62c4",
   "metadata": {},
   "outputs": [],
   "source": [
    "keras.__version__"
   ]
  },
  {
   "cell_type": "code",
   "execution_count": null,
   "id": "e479c473",
   "metadata": {},
   "outputs": [],
   "source": [
    "# os.environ[\"CUDA_VISIBLE_DEVICES\"]=\"1\""
   ]
  },
  {
   "cell_type": "code",
   "execution_count": null,
   "id": "846f9e55",
   "metadata": {},
   "outputs": [],
   "source": [
    "#!pip install -q -U tensorflow-addons==0.11.2"
   ]
  },
  {
   "cell_type": "markdown",
   "id": "1d1847d7",
   "metadata": {},
   "source": [
    "### Utilities"
   ]
  },
  {
   "cell_type": "code",
   "execution_count": null,
   "id": "2c569491",
   "metadata": {},
   "outputs": [],
   "source": [
    "from utils import verifyDir\n",
    "from utils.networks import normalize, unnormalize, plot_data"
   ]
  },
  {
   "cell_type": "markdown",
   "id": "a01ef1bc",
   "metadata": {},
   "source": [
    "### Dataset"
   ]
  },
  {
   "cell_type": "code",
   "execution_count": null,
   "id": "9387fc88",
   "metadata": {},
   "outputs": [],
   "source": [
    "from utils.MNIST import load_real_samples"
   ]
  },
  {
   "cell_type": "markdown",
   "id": "ffcc42eb",
   "metadata": {},
   "source": [
    "### Discriminator & Generator"
   ]
  },
  {
   "cell_type": "code",
   "execution_count": null,
   "id": "a66d0498",
   "metadata": {},
   "outputs": [],
   "source": [
    "from utils.MNIST import define_discriminator\n",
    "from utils.MNIST import define_generator"
   ]
  },
  {
   "cell_type": "markdown",
   "id": "7417a6ca",
   "metadata": {},
   "source": [
    "### Semi-Supervised GAN"
   ]
  },
  {
   "cell_type": "code",
   "execution_count": null,
   "id": "1a00d8c1",
   "metadata": {},
   "outputs": [],
   "source": [
    "from utils.networks import define_gan"
   ]
  },
  {
   "cell_type": "markdown",
   "id": "f1b1de47",
   "metadata": {},
   "source": [
    "### Selecting sub-set "
   ]
  },
  {
   "cell_type": "code",
   "execution_count": null,
   "id": "6eb80e06",
   "metadata": {},
   "outputs": [],
   "source": [
    "from utils.networks import select_supervised_samples, generate_real_samples\n",
    "from utils.networks import generate_fake_samples, generate_latent_points"
   ]
  },
  {
   "cell_type": "markdown",
   "id": "b2003354",
   "metadata": {},
   "source": [
    "### Loading Dataset"
   ]
  },
  {
   "cell_type": "code",
   "execution_count": null,
   "id": "2e690741",
   "metadata": {},
   "outputs": [],
   "source": [
    "# load image data\n",
    "dataset_train, dataset_test = load_real_samples()"
   ]
  },
  {
   "cell_type": "markdown",
   "id": "3c2dd749",
   "metadata": {},
   "source": [
    "### Parameters"
   ]
  },
  {
   "cell_type": "code",
   "execution_count": null,
   "id": "675d0275",
   "metadata": {},
   "outputs": [],
   "source": [
    "input_shape = (28, 28, 1)\n",
    "num_classes = 10\n",
    "\n",
    "learning_rate = 15e-5\n",
    "latent_dim = 100\n",
    "\n",
    "epochs=30\n",
    "batch_size=128\n",
    "\n",
    "labeled_rate = 1/600\n",
    "labeled_samples = int(dataset_train[0].shape[0]*labeled_rate)"
   ]
  },
  {
   "cell_type": "code",
   "execution_count": null,
   "id": "50879c26",
   "metadata": {},
   "outputs": [],
   "source": [
    "LOG_PATH = f\"Logs/SSGAN_MNIST/Classifier_{labeled_samples}/\"\n",
    "verifyDir(LOG_PATH)"
   ]
  },
  {
   "cell_type": "markdown",
   "id": "bad872b8",
   "metadata": {},
   "source": [
    "### Creating Models"
   ]
  },
  {
   "cell_type": "code",
   "execution_count": null,
   "id": "12975e03",
   "metadata": {},
   "outputs": [],
   "source": [
    "from utils.networks import f1_score, auc_pr, precision_score, recall_score"
   ]
  },
  {
   "cell_type": "code",
   "execution_count": null,
   "id": "e6e3ff70",
   "metadata": {},
   "outputs": [],
   "source": [
    "metrics_list=[\"accuracy\", \"mse\"]"
   ]
  },
  {
   "cell_type": "code",
   "execution_count": null,
   "id": "ad0b4edd",
   "metadata": {
    "scrolled": true
   },
   "outputs": [],
   "source": [
    "# create the discriminator models\n",
    "unsupervised_model, supervised_model = define_discriminator(in_shape=input_shape, \n",
    "                                                            n_classes=num_classes, \n",
    "                                                            learning_rate = learning_rate,\n",
    "                                                            metrics_list=metrics_list)\n",
    "# create the generator\n",
    "generator_model = define_generator(latent_dim=latent_dim)"
   ]
  },
  {
   "cell_type": "code",
   "execution_count": null,
   "id": "15bff699",
   "metadata": {
    "scrolled": true
   },
   "outputs": [],
   "source": [
    "supervised_model.summary()"
   ]
  },
  {
   "cell_type": "code",
   "execution_count": null,
   "id": "08087b67",
   "metadata": {},
   "outputs": [],
   "source": [
    "unsupervised_model.summary()"
   ]
  },
  {
   "cell_type": "code",
   "execution_count": null,
   "id": "8b92daf6",
   "metadata": {
    "scrolled": true
   },
   "outputs": [],
   "source": [
    "generator_model.summary()"
   ]
  },
  {
   "cell_type": "code",
   "execution_count": null,
   "id": "a83f8ddb",
   "metadata": {},
   "outputs": [],
   "source": [
    "# create the gan\n",
    "from keras.optimizers import Adam\n",
    "opt_gan = Adam(lr=learning_rate, beta_1=0.15)\n",
    "\n",
    "gan_model = define_gan(generator_model, unsupervised_model, optimizer_grad = opt_gan)"
   ]
  },
  {
   "cell_type": "code",
   "execution_count": null,
   "id": "d77be472",
   "metadata": {
    "scrolled": true
   },
   "outputs": [],
   "source": [
    "gan_model.summary()"
   ]
  },
  {
   "cell_type": "markdown",
   "id": "991f6198",
   "metadata": {},
   "source": [
    "### Training"
   ]
  },
  {
   "cell_type": "code",
   "execution_count": null,
   "id": "d4bc4a1e",
   "metadata": {},
   "outputs": [],
   "source": [
    "from utils.networks import train_gan"
   ]
  },
  {
   "cell_type": "code",
   "execution_count": null,
   "id": "9d0e06c6",
   "metadata": {
    "scrolled": true
   },
   "outputs": [],
   "source": [
    "train_gan(generator_model, unsupervised_model, supervised_model, gan_model, \n",
    "      dataset_train, dataset_test, latent_dim=latent_dim, \n",
    "      n_epochs=epochs, n_batch=batch_size, n_classes=num_classes, \n",
    "      # n_samples=labeled_samples)\n",
    "      label_rate=labeled_rate, LOG_PATH=LOG_PATH,\n",
    "      unnormalize_image=False)"
   ]
  },
  {
   "cell_type": "markdown",
   "id": "4aaaf366",
   "metadata": {},
   "source": [
    "### Testing"
   ]
  },
  {
   "cell_type": "code",
   "execution_count": null,
   "id": "209c440b",
   "metadata": {},
   "outputs": [],
   "source": [
    "dataset_train, dataset_test = load_real_samples()"
   ]
  },
  {
   "cell_type": "code",
   "execution_count": null,
   "id": "540b0d40",
   "metadata": {},
   "outputs": [],
   "source": [
    "from tensorflow.keras.models import load_model"
   ]
  },
  {
   "cell_type": "code",
   "execution_count": null,
   "id": "a0b0c9e5",
   "metadata": {},
   "outputs": [],
   "source": [
    "last_step = int(dataset_train[0].shape[0]/batch_size)*epochs\n",
    "last_step"
   ]
  },
  {
   "cell_type": "code",
   "execution_count": null,
   "id": "08fceaa9",
   "metadata": {
    "scrolled": true
   },
   "outputs": [],
   "source": [
    "supervised_model = load_model(f'{LOG_PATH}supervised_model_{last_step}.h5')"
   ]
  },
  {
   "cell_type": "code",
   "execution_count": null,
   "id": "1db02aaa",
   "metadata": {},
   "outputs": [],
   "source": [
    "X_train, y_train = dataset_train\n",
    "train_results = supervised_model.evaluate(X_train, y_train, verbose=0)\n",
    "print('Train Classifier Accuracy: %.3f%%\\n' % (train_results[1] * 100))"
   ]
  },
  {
   "cell_type": "code",
   "execution_count": null,
   "id": "6cbae68d",
   "metadata": {
    "scrolled": true
   },
   "outputs": [],
   "source": [
    "X_test, y_test = dataset_test\n",
    "test_results = supervised_model.evaluate(X_test, y_test, verbose=0)\n",
    "print('Test Classifier Accuracy: %.3f%%\\n' % (test_results[1] * 100))"
   ]
  }
 ],
 "metadata": {
  "kernelspec": {
   "display_name": "Python 3",
   "language": "python",
   "name": "python3"
  },
  "language_info": {
   "codemirror_mode": {
    "name": "ipython",
    "version": 3
   },
   "file_extension": ".py",
   "mimetype": "text/x-python",
   "name": "python",
   "nbconvert_exporter": "python",
   "pygments_lexer": "ipython3",
   "version": "3.7.10"
  }
 },
 "nbformat": 4,
 "nbformat_minor": 5
}
